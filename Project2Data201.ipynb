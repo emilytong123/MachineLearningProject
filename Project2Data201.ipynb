{
  "nbformat": 4,
  "nbformat_minor": 0,
  "metadata": {
    "colab": {
      "name": "Project2Data201.ipynb",
      "provenance": [],
      "collapsed_sections": [],
      "toc_visible": true,
      "include_colab_link": true
    },
    "kernelspec": {
      "display_name": "Python 3",
      "name": "python3"
    }
  },
  "cells": [
    {
      "cell_type": "markdown",
      "metadata": {
        "id": "view-in-github",
        "colab_type": "text"
      },
      "source": [
        "<a href=\"https://colab.research.google.com/github/emilytong123/MachineLearningProject/blob/main/Project2Data201.ipynb\" target=\"_parent\"><img src=\"https://colab.research.google.com/assets/colab-badge.svg\" alt=\"Open In Colab\"/></a>"
      ]
    },
    {
      "cell_type": "markdown",
      "metadata": {
        "id": "Nl4jQisJ37mO"
      },
      "source": [
        "# Project 2: Classification using Machine Learning Algorithms"
      ]
    },
    {
      "cell_type": "code",
      "metadata": {
        "id": "YUC5OmtdTZSa"
      },
      "source": [
        "import pandas as pd, numpy as np, matplotlib.pyplot as plt, seaborn as sns\n",
        "import re"
      ],
      "execution_count": 10,
      "outputs": []
    },
    {
      "cell_type": "markdown",
      "metadata": {
        "id": "QjV1YVRi4OKg"
      },
      "source": [
        "**About our dataset:**\n",
        "\n",
        "The dataset we will be working on is from Kaggle: https://www.kaggle.com/cnic92/200-financial-indicators-of-us-stocks-20142018?select=2018_Financial_Data.csv\n",
        "We hope to classify the data into two categories:\n",
        "- Class 1: value of the stock will increase in 2019\n",
        "- Class 0: value of the stock will decrease in 2019\n",
        "\n",
        "**Defining important columns:**\n",
        "- 2019 PRICE VAR [%} - \n",
        "- 3Y Net Income Growth (Per Share) - Net Income of company in 3 years divided by number of shares\n",
        "- 5Y Net Income Growth (Per Share) - Net Income of company in 5 years divided by number of shares\n",
        "- 10Y Net Income Growth (Per Share) - Net Income of company in 10 years divided by number of shares\n",
        "- Sector - Sectors constitute a method of sorting publicly traded companies into 11 groups based on primary business activity.\n",
        "\n",
        "**Questions we are interested in answering:**\n",
        "\n",
        "- Which Sector experienced the most stocks that increased?\n",
        "- How do the 3yr Net Income Growth and 10yr Net Income Growth compare for each sector?\n",
        "- What are frequencies of stocks in each sector that increased or decreased?"
      ]
    },
    {
      "cell_type": "code",
      "metadata": {
        "id": "_ZfL8_8nSXAr"
      },
      "source": [
        "df = pd.read_csv('2018_Financial_Data.csv')"
      ],
      "execution_count": 11,
      "outputs": []
    },
    {
      "cell_type": "code",
      "metadata": {
        "id": "RrdPfTGiScHR",
        "colab": {
          "base_uri": "https://localhost:8080/",
          "height": 377
        },
        "outputId": "f7a0fce3-c50b-444b-dc62-9eddc835b50a"
      },
      "source": [
        "df.head()"
      ],
      "execution_count": 12,
      "outputs": [
        {
          "output_type": "execute_result",
          "data": {
            "text/html": [
              "<div>\n",
              "<style scoped>\n",
              "    .dataframe tbody tr th:only-of-type {\n",
              "        vertical-align: middle;\n",
              "    }\n",
              "\n",
              "    .dataframe tbody tr th {\n",
              "        vertical-align: top;\n",
              "    }\n",
              "\n",
              "    .dataframe thead th {\n",
              "        text-align: right;\n",
              "    }\n",
              "</style>\n",
              "<table border=\"1\" class=\"dataframe\">\n",
              "  <thead>\n",
              "    <tr style=\"text-align: right;\">\n",
              "      <th></th>\n",
              "      <th>Unnamed: 0</th>\n",
              "      <th>Revenue</th>\n",
              "      <th>Revenue Growth</th>\n",
              "      <th>Cost of Revenue</th>\n",
              "      <th>Gross Profit</th>\n",
              "      <th>R&amp;D Expenses</th>\n",
              "      <th>SG&amp;A Expense</th>\n",
              "      <th>Operating Expenses</th>\n",
              "      <th>Operating Income</th>\n",
              "      <th>Interest Expense</th>\n",
              "      <th>Earnings before Tax</th>\n",
              "      <th>Income Tax Expense</th>\n",
              "      <th>Net Income - Non-Controlling int</th>\n",
              "      <th>Net Income - Discontinued ops</th>\n",
              "      <th>Net Income</th>\n",
              "      <th>Preferred Dividends</th>\n",
              "      <th>Net Income Com</th>\n",
              "      <th>EPS</th>\n",
              "      <th>EPS Diluted</th>\n",
              "      <th>Weighted Average Shs Out</th>\n",
              "      <th>Weighted Average Shs Out (Dil)</th>\n",
              "      <th>Dividend per Share</th>\n",
              "      <th>Gross Margin</th>\n",
              "      <th>EBITDA Margin</th>\n",
              "      <th>EBIT Margin</th>\n",
              "      <th>Profit Margin</th>\n",
              "      <th>Free Cash Flow margin</th>\n",
              "      <th>EBITDA</th>\n",
              "      <th>EBIT</th>\n",
              "      <th>Consolidated Income</th>\n",
              "      <th>Earnings Before Tax Margin</th>\n",
              "      <th>Net Profit Margin</th>\n",
              "      <th>Cash and cash equivalents</th>\n",
              "      <th>Short-term investments</th>\n",
              "      <th>Cash and short-term investments</th>\n",
              "      <th>Receivables</th>\n",
              "      <th>Inventories</th>\n",
              "      <th>Total current assets</th>\n",
              "      <th>Property, Plant &amp; Equipment Net</th>\n",
              "      <th>Goodwill and Intangible Assets</th>\n",
              "      <th>...</th>\n",
              "      <th>Payables Turnover</th>\n",
              "      <th>Inventory Turnover</th>\n",
              "      <th>ROE</th>\n",
              "      <th>Capex per Share</th>\n",
              "      <th>Gross Profit Growth</th>\n",
              "      <th>EBIT Growth</th>\n",
              "      <th>Operating Income Growth</th>\n",
              "      <th>Net Income Growth</th>\n",
              "      <th>EPS Growth</th>\n",
              "      <th>EPS Diluted Growth</th>\n",
              "      <th>Weighted Average Shares Growth</th>\n",
              "      <th>Weighted Average Shares Diluted Growth</th>\n",
              "      <th>Dividends per Share Growth</th>\n",
              "      <th>Operating Cash Flow growth</th>\n",
              "      <th>Free Cash Flow growth</th>\n",
              "      <th>10Y Revenue Growth (per Share)</th>\n",
              "      <th>5Y Revenue Growth (per Share)</th>\n",
              "      <th>3Y Revenue Growth (per Share)</th>\n",
              "      <th>10Y Operating CF Growth (per Share)</th>\n",
              "      <th>5Y Operating CF Growth (per Share)</th>\n",
              "      <th>3Y Operating CF Growth (per Share)</th>\n",
              "      <th>10Y Net Income Growth (per Share)</th>\n",
              "      <th>5Y Net Income Growth (per Share)</th>\n",
              "      <th>3Y Net Income Growth (per Share)</th>\n",
              "      <th>10Y Shareholders Equity Growth (per Share)</th>\n",
              "      <th>5Y Shareholders Equity Growth (per Share)</th>\n",
              "      <th>3Y Shareholders Equity Growth (per Share)</th>\n",
              "      <th>10Y Dividend per Share Growth (per Share)</th>\n",
              "      <th>5Y Dividend per Share Growth (per Share)</th>\n",
              "      <th>3Y Dividend per Share Growth (per Share)</th>\n",
              "      <th>Receivables growth</th>\n",
              "      <th>Inventory Growth</th>\n",
              "      <th>Asset Growth</th>\n",
              "      <th>Book Value per Share Growth</th>\n",
              "      <th>Debt Growth</th>\n",
              "      <th>R&amp;D Expense Growth</th>\n",
              "      <th>SG&amp;A Expenses Growth</th>\n",
              "      <th>Sector</th>\n",
              "      <th>2019 PRICE VAR [%]</th>\n",
              "      <th>Class</th>\n",
              "    </tr>\n",
              "  </thead>\n",
              "  <tbody>\n",
              "    <tr>\n",
              "      <th>0</th>\n",
              "      <td>CMCSA</td>\n",
              "      <td>9.450700e+10</td>\n",
              "      <td>0.1115</td>\n",
              "      <td>0.000000e+00</td>\n",
              "      <td>9.450700e+10</td>\n",
              "      <td>0.000000e+00</td>\n",
              "      <td>6.482200e+10</td>\n",
              "      <td>7.549800e+10</td>\n",
              "      <td>1.900900e+10</td>\n",
              "      <td>3.542000e+09</td>\n",
              "      <td>1.511100e+10</td>\n",
              "      <td>3.380000e+09</td>\n",
              "      <td>131000000.0</td>\n",
              "      <td>0.000000e+00</td>\n",
              "      <td>1.173100e+10</td>\n",
              "      <td>0.0</td>\n",
              "      <td>1.173100e+10</td>\n",
              "      <td>2.56</td>\n",
              "      <td>2.53</td>\n",
              "      <td>4.549505e+09</td>\n",
              "      <td>4.549505e+09</td>\n",
              "      <td>0.917</td>\n",
              "      <td>1.0000</td>\n",
              "      <td>0.310</td>\n",
              "      <td>0.1974</td>\n",
              "      <td>0.124</td>\n",
              "      <td>0.1268</td>\n",
              "      <td>2.932900e+10</td>\n",
              "      <td>1.865300e+10</td>\n",
              "      <td>1.186200e+10</td>\n",
              "      <td>0.1599</td>\n",
              "      <td>0.1241</td>\n",
              "      <td>3.814000e+09</td>\n",
              "      <td>0.000000e+00</td>\n",
              "      <td>3.814000e+09</td>\n",
              "      <td>1.110400e+10</td>\n",
              "      <td>0.000000e+00</td>\n",
              "      <td>2.184800e+10</td>\n",
              "      <td>4.443700e+10</td>\n",
              "      <td>1.676230e+11</td>\n",
              "      <td>...</td>\n",
              "      <td>3.6159</td>\n",
              "      <td>0.0000</td>\n",
              "      <td>0.1638</td>\n",
              "      <td>-2.7062</td>\n",
              "      <td>0.1115</td>\n",
              "      <td>0.0220</td>\n",
              "      <td>0.0550</td>\n",
              "      <td>-0.4840</td>\n",
              "      <td>-0.4700</td>\n",
              "      <td>-0.4674</td>\n",
              "      <td>-0.0266</td>\n",
              "      <td>-0.0305</td>\n",
              "      <td>0.9387</td>\n",
              "      <td>0.1428</td>\n",
              "      <td>0.2462</td>\n",
              "      <td>0.1327</td>\n",
              "      <td>0.1094</td>\n",
              "      <td>0.1107</td>\n",
              "      <td>0.1164</td>\n",
              "      <td>0.1456</td>\n",
              "      <td>0.1044</td>\n",
              "      <td>0.1928</td>\n",
              "      <td>0.1463</td>\n",
              "      <td>0.1579</td>\n",
              "      <td>0.0841</td>\n",
              "      <td>0.1019</td>\n",
              "      <td>0.1396</td>\n",
              "      <td>0.2558</td>\n",
              "      <td>0.1865</td>\n",
              "      <td>0.2348</td>\n",
              "      <td>0.2570</td>\n",
              "      <td>0.0000</td>\n",
              "      <td>0.3426</td>\n",
              "      <td>0.0722</td>\n",
              "      <td>0.7309</td>\n",
              "      <td>0.0000</td>\n",
              "      <td>0.1308</td>\n",
              "      <td>Consumer Cyclical</td>\n",
              "      <td>32.794573</td>\n",
              "      <td>1</td>\n",
              "    </tr>\n",
              "    <tr>\n",
              "      <th>1</th>\n",
              "      <td>KMI</td>\n",
              "      <td>1.414400e+10</td>\n",
              "      <td>0.0320</td>\n",
              "      <td>7.288000e+09</td>\n",
              "      <td>6.856000e+09</td>\n",
              "      <td>0.000000e+00</td>\n",
              "      <td>6.010000e+08</td>\n",
              "      <td>3.062000e+09</td>\n",
              "      <td>3.794000e+09</td>\n",
              "      <td>1.917000e+09</td>\n",
              "      <td>2.196000e+09</td>\n",
              "      <td>5.870000e+08</td>\n",
              "      <td>310000000.0</td>\n",
              "      <td>0.000000e+00</td>\n",
              "      <td>1.609000e+09</td>\n",
              "      <td>128000000.0</td>\n",
              "      <td>1.481000e+09</td>\n",
              "      <td>0.66</td>\n",
              "      <td>0.66</td>\n",
              "      <td>2.207018e+09</td>\n",
              "      <td>2.216000e+09</td>\n",
              "      <td>0.725</td>\n",
              "      <td>0.4847</td>\n",
              "      <td>0.453</td>\n",
              "      <td>0.2908</td>\n",
              "      <td>0.105</td>\n",
              "      <td>0.1498</td>\n",
              "      <td>6.410000e+09</td>\n",
              "      <td>4.113000e+09</td>\n",
              "      <td>1.919000e+09</td>\n",
              "      <td>0.1553</td>\n",
              "      <td>0.1138</td>\n",
              "      <td>3.280000e+09</td>\n",
              "      <td>0.000000e+00</td>\n",
              "      <td>3.280000e+09</td>\n",
              "      <td>1.498000e+09</td>\n",
              "      <td>3.850000e+08</td>\n",
              "      <td>5.722000e+09</td>\n",
              "      <td>3.789700e+10</td>\n",
              "      <td>2.484500e+10</td>\n",
              "      <td>...</td>\n",
              "      <td>2.8248</td>\n",
              "      <td>34.9666</td>\n",
              "      <td>0.0478</td>\n",
              "      <td>-1.3195</td>\n",
              "      <td>0.0564</td>\n",
              "      <td>0.0405</td>\n",
              "      <td>0.0751</td>\n",
              "      <td>53.8519</td>\n",
              "      <td>65.0000</td>\n",
              "      <td>65.0000</td>\n",
              "      <td>-0.0063</td>\n",
              "      <td>-0.0063</td>\n",
              "      <td>0.4500</td>\n",
              "      <td>0.0961</td>\n",
              "      <td>0.3841</td>\n",
              "      <td>NaN</td>\n",
              "      <td>-0.1402</td>\n",
              "      <td>-0.0104</td>\n",
              "      <td>NaN</td>\n",
              "      <td>-0.1057</td>\n",
              "      <td>-0.0215</td>\n",
              "      <td>NaN</td>\n",
              "      <td>-0.0881</td>\n",
              "      <td>0.8445</td>\n",
              "      <td>NaN</td>\n",
              "      <td>0.0376</td>\n",
              "      <td>-0.0182</td>\n",
              "      <td>0.0000</td>\n",
              "      <td>-0.1421</td>\n",
              "      <td>-0.2785</td>\n",
              "      <td>0.0345</td>\n",
              "      <td>-0.0920</td>\n",
              "      <td>-0.0024</td>\n",
              "      <td>0.0076</td>\n",
              "      <td>-0.0137</td>\n",
              "      <td>0.0000</td>\n",
              "      <td>-0.1265</td>\n",
              "      <td>Energy</td>\n",
              "      <td>40.588068</td>\n",
              "      <td>1</td>\n",
              "    </tr>\n",
              "    <tr>\n",
              "      <th>2</th>\n",
              "      <td>INTC</td>\n",
              "      <td>7.084800e+10</td>\n",
              "      <td>0.1289</td>\n",
              "      <td>2.711100e+10</td>\n",
              "      <td>4.373700e+10</td>\n",
              "      <td>1.354300e+10</td>\n",
              "      <td>6.750000e+09</td>\n",
              "      <td>2.042100e+10</td>\n",
              "      <td>2.331600e+10</td>\n",
              "      <td>-1.260000e+08</td>\n",
              "      <td>2.331700e+10</td>\n",
              "      <td>2.264000e+09</td>\n",
              "      <td>0.0</td>\n",
              "      <td>0.000000e+00</td>\n",
              "      <td>2.105300e+10</td>\n",
              "      <td>0.0</td>\n",
              "      <td>2.105300e+10</td>\n",
              "      <td>4.57</td>\n",
              "      <td>4.48</td>\n",
              "      <td>4.564000e+09</td>\n",
              "      <td>4.611000e+09</td>\n",
              "      <td>1.200</td>\n",
              "      <td>0.6173</td>\n",
              "      <td>0.456</td>\n",
              "      <td>0.3273</td>\n",
              "      <td>0.297</td>\n",
              "      <td>0.2011</td>\n",
              "      <td>3.227600e+10</td>\n",
              "      <td>2.319100e+10</td>\n",
              "      <td>2.105300e+10</td>\n",
              "      <td>0.3291</td>\n",
              "      <td>0.2972</td>\n",
              "      <td>3.019000e+09</td>\n",
              "      <td>8.631000e+09</td>\n",
              "      <td>1.165000e+10</td>\n",
              "      <td>6.722000e+09</td>\n",
              "      <td>7.253000e+09</td>\n",
              "      <td>2.878700e+10</td>\n",
              "      <td>4.897600e+10</td>\n",
              "      <td>3.634900e+10</td>\n",
              "      <td>...</td>\n",
              "      <td>5.5264</td>\n",
              "      <td>9.9534</td>\n",
              "      <td>0.2824</td>\n",
              "      <td>-3.2923</td>\n",
              "      <td>0.1187</td>\n",
              "      <td>0.1203</td>\n",
              "      <td>0.2917</td>\n",
              "      <td>1.1928</td>\n",
              "      <td>1.2402</td>\n",
              "      <td>1.2513</td>\n",
              "      <td>-0.0191</td>\n",
              "      <td>-0.0277</td>\n",
              "      <td>0.1132</td>\n",
              "      <td>0.3312</td>\n",
              "      <td>0.3793</td>\n",
              "      <td>0.0876</td>\n",
              "      <td>0.0770</td>\n",
              "      <td>0.0959</td>\n",
              "      <td>0.1271</td>\n",
              "      <td>0.0883</td>\n",
              "      <td>0.1675</td>\n",
              "      <td>0.1719</td>\n",
              "      <td>0.1872</td>\n",
              "      <td>0.2377</td>\n",
              "      <td>0.0876</td>\n",
              "      <td>0.0665</td>\n",
              "      <td>0.0787</td>\n",
              "      <td>0.0815</td>\n",
              "      <td>0.0592</td>\n",
              "      <td>0.0772</td>\n",
              "      <td>0.1989</td>\n",
              "      <td>0.0387</td>\n",
              "      <td>0.0382</td>\n",
              "      <td>0.1014</td>\n",
              "      <td>-0.0169</td>\n",
              "      <td>0.0390</td>\n",
              "      <td>-0.0942</td>\n",
              "      <td>Technology</td>\n",
              "      <td>30.295514</td>\n",
              "      <td>1</td>\n",
              "    </tr>\n",
              "    <tr>\n",
              "      <th>3</th>\n",
              "      <td>MU</td>\n",
              "      <td>3.039100e+10</td>\n",
              "      <td>0.4955</td>\n",
              "      <td>1.250000e+10</td>\n",
              "      <td>1.789100e+10</td>\n",
              "      <td>2.141000e+09</td>\n",
              "      <td>8.130000e+08</td>\n",
              "      <td>2.897000e+09</td>\n",
              "      <td>1.499400e+10</td>\n",
              "      <td>3.420000e+08</td>\n",
              "      <td>1.430300e+10</td>\n",
              "      <td>1.680000e+08</td>\n",
              "      <td>3000000.0</td>\n",
              "      <td>0.000000e+00</td>\n",
              "      <td>1.413500e+10</td>\n",
              "      <td>0.0</td>\n",
              "      <td>1.413500e+10</td>\n",
              "      <td>12.27</td>\n",
              "      <td>11.51</td>\n",
              "      <td>1.159811e+09</td>\n",
              "      <td>1.152000e+09</td>\n",
              "      <td>0.000</td>\n",
              "      <td>0.5887</td>\n",
              "      <td>0.638</td>\n",
              "      <td>0.4819</td>\n",
              "      <td>0.465</td>\n",
              "      <td>0.2804</td>\n",
              "      <td>1.940400e+10</td>\n",
              "      <td>1.464500e+10</td>\n",
              "      <td>1.413800e+10</td>\n",
              "      <td>0.4706</td>\n",
              "      <td>0.4651</td>\n",
              "      <td>6.506000e+09</td>\n",
              "      <td>2.960000e+08</td>\n",
              "      <td>6.802000e+09</td>\n",
              "      <td>5.478000e+09</td>\n",
              "      <td>3.595000e+09</td>\n",
              "      <td>1.603900e+10</td>\n",
              "      <td>2.367200e+10</td>\n",
              "      <td>1.559000e+09</td>\n",
              "      <td>...</td>\n",
              "      <td>2.1000</td>\n",
              "      <td>9.0476</td>\n",
              "      <td>0.4377</td>\n",
              "      <td>-7.7075</td>\n",
              "      <td>1.1208</td>\n",
              "      <td>1.5233</td>\n",
              "      <td>1.5552</td>\n",
              "      <td>1.7776</td>\n",
              "      <td>1.6274</td>\n",
              "      <td>1.6100</td>\n",
              "      <td>0.0579</td>\n",
              "      <td>0.0650</td>\n",
              "      <td>0.0000</td>\n",
              "      <td>1.1342</td>\n",
              "      <td>1.4922</td>\n",
              "      <td>0.1331</td>\n",
              "      <td>0.2434</td>\n",
              "      <td>0.2035</td>\n",
              "      <td>0.2762</td>\n",
              "      <td>0.5351</td>\n",
              "      <td>0.4586</td>\n",
              "      <td>0.0000</td>\n",
              "      <td>0.6016</td>\n",
              "      <td>0.6545</td>\n",
              "      <td>0.1336</td>\n",
              "      <td>0.2567</td>\n",
              "      <td>0.3459</td>\n",
              "      <td>0.0000</td>\n",
              "      <td>0.0000</td>\n",
              "      <td>0.0000</td>\n",
              "      <td>0.4573</td>\n",
              "      <td>0.1511</td>\n",
              "      <td>0.2275</td>\n",
              "      <td>0.6395</td>\n",
              "      <td>-0.5841</td>\n",
              "      <td>0.1738</td>\n",
              "      <td>0.0942</td>\n",
              "      <td>Technology</td>\n",
              "      <td>64.213737</td>\n",
              "      <td>1</td>\n",
              "    </tr>\n",
              "    <tr>\n",
              "      <th>4</th>\n",
              "      <td>GE</td>\n",
              "      <td>1.216150e+11</td>\n",
              "      <td>0.0285</td>\n",
              "      <td>9.546100e+10</td>\n",
              "      <td>2.615400e+10</td>\n",
              "      <td>0.000000e+00</td>\n",
              "      <td>1.811100e+10</td>\n",
              "      <td>4.071100e+10</td>\n",
              "      <td>-1.455700e+10</td>\n",
              "      <td>5.059000e+09</td>\n",
              "      <td>-2.177200e+10</td>\n",
              "      <td>5.830000e+08</td>\n",
              "      <td>-178000000.0</td>\n",
              "      <td>1.726000e+09</td>\n",
              "      <td>-2.235500e+10</td>\n",
              "      <td>894000000.0</td>\n",
              "      <td>-2.280200e+10</td>\n",
              "      <td>-2.62</td>\n",
              "      <td>-2.62</td>\n",
              "      <td>8.698115e+09</td>\n",
              "      <td>8.698115e+09</td>\n",
              "      <td>0.370</td>\n",
              "      <td>0.2151</td>\n",
              "      <td>-0.070</td>\n",
              "      <td>-0.1374</td>\n",
              "      <td>-0.187</td>\n",
              "      <td>0.0058</td>\n",
              "      <td>-8.489000e+09</td>\n",
              "      <td>-1.671300e+10</td>\n",
              "      <td>-2.244300e+10</td>\n",
              "      <td>-0.1790</td>\n",
              "      <td>-0.1838</td>\n",
              "      <td>3.112400e+10</td>\n",
              "      <td>3.383500e+10</td>\n",
              "      <td>6.495900e+10</td>\n",
              "      <td>2.948700e+10</td>\n",
              "      <td>1.380300e+10</td>\n",
              "      <td>1.156990e+11</td>\n",
              "      <td>4.361100e+10</td>\n",
              "      <td>4.615200e+10</td>\n",
              "      <td>...</td>\n",
              "      <td>2.2616</td>\n",
              "      <td>7.3214</td>\n",
              "      <td>-0.7216</td>\n",
              "      <td>-0.4066</td>\n",
              "      <td>0.7216</td>\n",
              "      <td>-1.6844</td>\n",
              "      <td>-1.4225</td>\n",
              "      <td>-1.5563</td>\n",
              "      <td>-1.5437</td>\n",
              "      <td>-1.5437</td>\n",
              "      <td>0.0030</td>\n",
              "      <td>0.0005</td>\n",
              "      <td>-0.5595</td>\n",
              "      <td>-0.2961</td>\n",
              "      <td>-0.8162</td>\n",
              "      <td>-0.0262</td>\n",
              "      <td>0.0455</td>\n",
              "      <td>0.0639</td>\n",
              "      <td>-0.2058</td>\n",
              "      <td>-0.2957</td>\n",
              "      <td>-0.3716</td>\n",
              "      <td>0.0000</td>\n",
              "      <td>0.0000</td>\n",
              "      <td>0.0000</td>\n",
              "      <td>-0.1026</td>\n",
              "      <td>-0.2270</td>\n",
              "      <td>-0.2844</td>\n",
              "      <td>-0.1139</td>\n",
              "      <td>-0.1408</td>\n",
              "      <td>-0.2619</td>\n",
              "      <td>-0.2781</td>\n",
              "      <td>-0.2892</td>\n",
              "      <td>-0.1575</td>\n",
              "      <td>-0.4487</td>\n",
              "      <td>-0.2297</td>\n",
              "      <td>0.0000</td>\n",
              "      <td>0.0308</td>\n",
              "      <td>Industrials</td>\n",
              "      <td>44.757840</td>\n",
              "      <td>1</td>\n",
              "    </tr>\n",
              "  </tbody>\n",
              "</table>\n",
              "<p>5 rows × 225 columns</p>\n",
              "</div>"
            ],
            "text/plain": [
              "  Unnamed: 0       Revenue  ...  2019 PRICE VAR [%]  Class\n",
              "0      CMCSA  9.450700e+10  ...           32.794573      1\n",
              "1        KMI  1.414400e+10  ...           40.588068      1\n",
              "2       INTC  7.084800e+10  ...           30.295514      1\n",
              "3         MU  3.039100e+10  ...           64.213737      1\n",
              "4         GE  1.216150e+11  ...           44.757840      1\n",
              "\n",
              "[5 rows x 225 columns]"
            ]
          },
          "metadata": {
            "tags": []
          },
          "execution_count": 12
        }
      ]
    },
    {
      "cell_type": "code",
      "metadata": {
        "id": "qjU3axtHT50h",
        "colab": {
          "base_uri": "https://localhost:8080/"
        },
        "outputId": "dd5b5150-cbc2-44b7-887c-949d77fa1470"
      },
      "source": [
        "df.shape"
      ],
      "execution_count": 13,
      "outputs": [
        {
          "output_type": "execute_result",
          "data": {
            "text/plain": [
              "(4392, 225)"
            ]
          },
          "metadata": {
            "tags": []
          },
          "execution_count": 13
        }
      ]
    },
    {
      "cell_type": "code",
      "metadata": {
        "id": "8pEB2Tt-QiUs",
        "colab": {
          "base_uri": "https://localhost:8080/"
        },
        "outputId": "0d417f54-43c3-49fc-ca90-cc3bb015a92e"
      },
      "source": [
        "df.Class.value_counts()"
      ],
      "execution_count": 14,
      "outputs": [
        {
          "output_type": "execute_result",
          "data": {
            "text/plain": [
              "1    3046\n",
              "0    1346\n",
              "Name: Class, dtype: int64"
            ]
          },
          "metadata": {
            "tags": []
          },
          "execution_count": 14
        }
      ]
    },
    {
      "cell_type": "markdown",
      "metadata": {
        "id": "XPCA6VivQlrV"
      },
      "source": [
        "3046 of the stocks increased in value and 1346 of the stocks decreased in value"
      ]
    },
    {
      "cell_type": "code",
      "metadata": {
        "id": "koyPqwOjATBs",
        "colab": {
          "base_uri": "https://localhost:8080/",
          "height": 312
        },
        "outputId": "96b990ff-cde3-48e6-bb11-88788ab364c0"
      },
      "source": [
        "sns.countplot(x = df.Class)\n",
        "plt.title('Number of Stocks that Decreased in Value vs. Number of Stocks that Increased')"
      ],
      "execution_count": 15,
      "outputs": [
        {
          "output_type": "execute_result",
          "data": {
            "text/plain": [
              "Text(0.5, 1.0, 'Number of Stocks that Decreased in Value vs. Number of Stocks that Increased')"
            ]
          },
          "metadata": {
            "tags": []
          },
          "execution_count": 15
        },
        {
          "output_type": "display_data",
          "data": {
            "image/png": "[encoded data removed]",
            "text/plain": [
              "<Figure size 432x288 with 1 Axes>"
            ]
          },
          "metadata": {
            "tags": [],
            "needs_background": "light"
          }
        }
      ]
    },
    {
      "cell_type": "code",
      "metadata": {
        "id": "W2Gja1kSB3Dd",
        "colab": {
          "base_uri": "https://localhost:8080/"
        },
        "outputId": "9cfb6c7d-dcb3-4227-e99a-a59e567b74e5"
      },
      "source": [
        "df['2019 PRICE VAR [%]'].max()"
      ],
      "execution_count": 16,
      "outputs": [
        {
          "output_type": "execute_result",
          "data": {
            "text/plain": [
              "3756.7163446162563"
            ]
          },
          "metadata": {
            "tags": []
          },
          "execution_count": 16
        }
      ]
    },
    {
      "cell_type": "code",
      "metadata": {
        "id": "VYAJpB1cB7Ui",
        "colab": {
          "base_uri": "https://localhost:8080/"
        },
        "outputId": "224d30e4-02c5-4b6f-ae3b-1758e7473c4b"
      },
      "source": [
        "df['2019 PRICE VAR [%]'].min()"
      ],
      "execution_count": 17,
      "outputs": [
        {
          "output_type": "execute_result",
          "data": {
            "text/plain": [
              "-99.86477876342505"
            ]
          },
          "metadata": {
            "tags": []
          },
          "execution_count": 17
        }
      ]
    },
    {
      "cell_type": "markdown",
      "metadata": {
        "id": "vv3qEJPdVfi_"
      },
      "source": [
        "**Handling missing data**"
      ]
    },
    {
      "cell_type": "code",
      "metadata": {
        "id": "GX1xTCREUOsC",
        "colab": {
          "base_uri": "https://localhost:8080/"
        },
        "outputId": "df914a54-ca25-46e4-9191-dc33ffae6436"
      },
      "source": [
        "df.isnull().sum()"
      ],
      "execution_count": 18,
      "outputs": [
        {
          "output_type": "execute_result",
          "data": {
            "text/plain": [
              "Unnamed: 0                0\n",
              "Revenue                  46\n",
              "Revenue Growth          139\n",
              "Cost of Revenue         185\n",
              "Gross Profit             64\n",
              "                       ... \n",
              "R&D Expense Growth      259\n",
              "SG&A Expenses Growth    248\n",
              "Sector                    0\n",
              "2019 PRICE VAR [%]        0\n",
              "Class                     0\n",
              "Length: 225, dtype: int64"
            ]
          },
          "metadata": {
            "tags": []
          },
          "execution_count": 18
        }
      ]
    },
    {
      "cell_type": "code",
      "metadata": {
        "id": "GrNExGRn4fCy",
        "colab": {
          "base_uri": "https://localhost:8080/",
          "height": 723
        },
        "outputId": "0cd337dd-31b4-4980-84d9-bec273e68c9e"
      },
      "source": [
        "plt.figure(figsize = (10,10))\n",
        "sns.boxplot(x = 'Sector', y = 'Revenue Growth', data = df)\n",
        "plt.xticks(rotation = 45)\n",
        "plt.title('Revenue Growth per Sector')"
      ],
      "execution_count": 19,
      "outputs": [
        {
          "output_type": "execute_result",
          "data": {
            "text/plain": [
              "Text(0.5, 1.0, 'Revenue Growth per Sector')"
            ]
          },
          "metadata": {
            "tags": []
          },
          "execution_count": 19
        },
        {
          "output_type": "display_data",
          "data": {
            "image/png": "[encoded data removed]",
            "text/plain": [
              "<Figure size 720x720 with 1 Axes>"
            ]
          },
          "metadata": {
            "tags": [],
            "needs_background": "light"
          }
        }
      ]
    },
    {
      "cell_type": "code",
      "metadata": {
        "id": "4ANAmMREAx6_",
        "colab": {
          "base_uri": "https://localhost:8080/",
          "height": 723
        },
        "outputId": "875bba84-963c-42b6-800c-9aff725626fc"
      },
      "source": [
        "plt.figure(figsize = (10,10))\n",
        "sns.boxplot(x = 'Sector', y = 'SG&A Expenses Growth', data = df)\n",
        "plt.xticks(rotation = 45)\n",
        "plt.title('SG&A Expenses Growth per Sector')"
      ],
      "execution_count": 20,
      "outputs": [
        {
          "output_type": "execute_result",
          "data": {
            "text/plain": [
              "Text(0.5, 1.0, 'SG&A Expenses Growth per Sector')"
            ]
          },
          "metadata": {
            "tags": []
          },
          "execution_count": 20
        },
        {
          "output_type": "display_data",
          "data": {
            "image/png": "[encoded data removed]",
            "text/plain": [
              "<Figure size 720x720 with 1 Axes>"
            ]
          },
          "metadata": {
            "tags": [],
            "needs_background": "light"
          }
        }
      ]
    },
    {
      "cell_type": "code",
      "metadata": {
        "id": "2U7bTaVV5bIj",
        "colab": {
          "base_uri": "https://localhost:8080/",
          "height": 723
        },
        "outputId": "0b5a4426-239a-4dd7-8e4e-a21940906913"
      },
      "source": [
        "plt.figure(figsize = (10,10))\n",
        "sns.boxplot(x = 'Sector', y = 'R&D Expense Growth', data = df)\n",
        "plt.xticks(rotation = 45)\n",
        "plt.title('R&D Expense Growth per Sector')"
      ],
      "execution_count": 21,
      "outputs": [
        {
          "output_type": "execute_result",
          "data": {
            "text/plain": [
              "Text(0.5, 1.0, 'R&D Expense Growth per Sector')"
            ]
          },
          "metadata": {
            "tags": []
          },
          "execution_count": 21
        },
        {
          "output_type": "display_data",
          "data": {
            "image/png": "[encoded data removed]",
            "text/plain": [
              "<Figure size 720x720 with 1 Axes>"
            ]
          },
          "metadata": {
            "tags": [],
            "needs_background": "light"
          }
        }
      ]
    },
    {
      "cell_type": "code",
      "metadata": {
        "id": "bLl_wmU_WHcg"
      },
      "source": [
        "#list of columns where there are missing values\n",
        "miss = [col for col in df.columns if df[col].isnull().any()]"
      ],
      "execution_count": 22,
      "outputs": []
    },
    {
      "cell_type": "code",
      "metadata": {
        "id": "4cm_zWfRWqQT"
      },
      "source": [
        "#Fill missing values with median \n",
        "for val in miss:\n",
        "  df[val] = df[val].fillna(df[val].median())"
      ],
      "execution_count": 23,
      "outputs": []
    },
    {
      "cell_type": "markdown",
      "metadata": {
        "id": "aDLXvfLS5wXU"
      },
      "source": [
        "Since there are outliers in many of the columns of this data set that have missing values, we are replacing the missing values with the median of each column instead of with the mean of each column. (The mean will be thrown off by outliers.)"
      ]
    },
    {
      "cell_type": "code",
      "metadata": {
        "id": "BVutKMHGXHRJ",
        "colab": {
          "base_uri": "https://localhost:8080/"
        },
        "outputId": "4cb99db5-aa94-4635-d704-1322b042b29c"
      },
      "source": [
        "df.isnull().sum()"
      ],
      "execution_count": 24,
      "outputs": [
        {
          "output_type": "execute_result",
          "data": {
            "text/plain": [
              "Unnamed: 0              0\n",
              "Revenue                 0\n",
              "Revenue Growth          0\n",
              "Cost of Revenue         0\n",
              "Gross Profit            0\n",
              "                       ..\n",
              "R&D Expense Growth      0\n",
              "SG&A Expenses Growth    0\n",
              "Sector                  0\n",
              "2019 PRICE VAR [%]      0\n",
              "Class                   0\n",
              "Length: 225, dtype: int64"
            ]
          },
          "metadata": {
            "tags": []
          },
          "execution_count": 24
        }
      ]
    },
    {
      "cell_type": "markdown",
      "metadata": {
        "id": "GkZ_YwrfS8tr"
      },
      "source": [
        "# Exploratory Data Analysis"
      ]
    },
    {
      "cell_type": "code",
      "metadata": {
        "id": "k1_SRFrDjQF7",
        "colab": {
          "base_uri": "https://localhost:8080/",
          "height": 458
        },
        "outputId": "5ead0de7-62e1-42e5-9111-e25131bda7a5"
      },
      "source": [
        "countryregion = sns.catplot(x='Sector', y = '2019 PRICE VAR [%]', jitter = False, data=df, height = 4, aspect = 3)\n",
        "countryregion.set_xticklabels(rotation = 90)\n",
        "plt.title('Price Change in Sectors %')"
      ],
      "execution_count": 25,
      "outputs": [
        {
          "output_type": "execute_result",
          "data": {
            "text/plain": [
              "Text(0.5, 1.0, 'Price Change in Sectors %')"
            ]
          },
          "metadata": {
            "tags": []
          },
          "execution_count": 25
        },
        {
          "output_type": "display_data",
          "data": {
            "image/png": "[encoded data removed]",
            "text/plain": [
              "<Figure size 864x288 with 1 Axes>"
            ]
          },
          "metadata": {
            "tags": [],
            "needs_background": "light"
          }
        }
      ]
    },
    {
      "cell_type": "code",
      "metadata": {
        "id": "hRA9EQpPjZgI",
        "colab": {
          "base_uri": "https://localhost:8080/",
          "height": 411
        },
        "outputId": "f0109714-8866-40d8-97eb-ee2f60a99882"
      },
      "source": [
        "sectors = df.groupby(['Sector']).mean()\n",
        "sns.barplot( x= sectors.index, y = '3Y Net Income Growth (per Share)', data = sectors)\n",
        "plt.xticks(fontsize = 10, rotation = 90)\n",
        "plt.yticks(fontsize = 10)\n",
        "plt.title('Average 3Y Net Income Growth (per Share) for each Sector', fontsize = 15)\n",
        "plt.ylabel('3Y Net Income Growth (per Share) $', fontsize = 10)\n",
        "plt.xlabel('Sector', fontsize = 10)\n",
        "plt.show()"
      ],
      "execution_count": 26,
      "outputs": [
        {
          "output_type": "display_data",
          "data": {
            "image/png": "[encoded data removed]",
            "text/plain": [
              "<Figure size 432x288 with 1 Axes>"
            ]
          },
          "metadata": {
            "tags": [],
            "needs_background": "light"
          }
        }
      ]
    },
    {
      "cell_type": "code",
      "metadata": {
        "id": "UDyNyOzEjam6",
        "colab": {
          "base_uri": "https://localhost:8080/",
          "height": 418
        },
        "outputId": "06d821b7-15bb-4714-b2bd-91f47610a458"
      },
      "source": [
        "sectors = df.groupby(['Sector']).mean()\n",
        "sns.barplot( x= sectors.index, y = '10Y Net Income Growth (per Share)', data = sectors)\n",
        "plt.xticks(fontsize = 10, rotation = 90)\n",
        "plt.yticks(fontsize = 10)\n",
        "plt.title('Average 10Y Net Income Growth (per Share) for each Sector', fontsize = 25)\n",
        "plt.ylabel('10Y Net Income Growth (per Share) $', fontsize = 10)\n",
        "plt.xlabel('Sector', fontsize = 10)\n",
        "plt.show()"
      ],
      "execution_count": 27,
      "outputs": [
        {
          "output_type": "display_data",
          "data": {
            "image/png": "[encoded data removed]",
            "text/plain": [
              "<Figure size 432x288 with 1 Axes>"
            ]
          },
          "metadata": {
            "tags": [],
            "needs_background": "light"
          }
        }
      ]
    },
    {
      "cell_type": "code",
      "metadata": {
        "id": "_cHYnDxCjcNO",
        "colab": {
          "base_uri": "https://localhost:8080/",
          "height": 428
        },
        "outputId": "1aed40fd-75bf-4b57-b563-320b8eeb607c"
      },
      "source": [
        "sns.countplot(x=\"Sector\", hue=\"Class\", data=df, palette=\"Set1\")\n",
        "plt.xticks(rotation = 90)"
      ],
      "execution_count": 28,
      "outputs": [
        {
          "output_type": "execute_result",
          "data": {
            "text/plain": [
              "(array([ 0,  1,  2,  3,  4,  5,  6,  7,  8,  9, 10]),\n",
              " <a list of 11 Text major ticklabel objects>)"
            ]
          },
          "metadata": {
            "tags": []
          },
          "execution_count": 28
        },
        {
          "output_type": "display_data",
          "data": {
            "image/png": "[encoded data removed]",
            "text/plain": [
              "<Figure size 432x288 with 1 Axes>"
            ]
          },
          "metadata": {
            "tags": [],
            "needs_background": "light"
          }
        }
      ]
    },
    {
      "cell_type": "markdown",
      "metadata": {
        "id": "d8sPkz514aed"
      },
      "source": [
        "# Logistic Regression"
      ]
    },
    {
      "cell_type": "code",
      "metadata": {
        "id": "7tOzAi2XNl-O"
      },
      "source": [
        "from sklearn.linear_model import LogisticRegression\n",
        "from sklearn.model_selection import train_test_split, cross_val_score, cross_val_predict\n",
        "from sklearn.metrics import classification_report, confusion_matrix\n",
        "from sklearn.metrics import roc_auc_score, roc_curve, accuracy_score\n",
        "from sklearn.metrics import precision_score, recall_score\n",
        "from sklearn import preprocessing"
      ],
      "execution_count": 29,
      "outputs": []
    },
    {
      "cell_type": "code",
      "metadata": {
        "id": "pveneyobUyzn",
        "colab": {
          "base_uri": "https://localhost:8080/"
        },
        "outputId": "5e2735e3-514d-4eb6-c482-fbe92aa83e55"
      },
      "source": [
        "df.dtypes"
      ],
      "execution_count": 30,
      "outputs": [
        {
          "output_type": "execute_result",
          "data": {
            "text/plain": [
              "Unnamed: 0               object\n",
              "Revenue                 float64\n",
              "Revenue Growth          float64\n",
              "Cost of Revenue         float64\n",
              "Gross Profit            float64\n",
              "                         ...   \n",
              "R&D Expense Growth      float64\n",
              "SG&A Expenses Growth    float64\n",
              "Sector                   object\n",
              "2019 PRICE VAR [%]      float64\n",
              "Class                     int64\n",
              "Length: 225, dtype: object"
            ]
          },
          "metadata": {
            "tags": []
          },
          "execution_count": 30
        }
      ]
    },
    {
      "cell_type": "code",
      "metadata": {
        "id": "oP9b3GkrUYZl",
        "colab": {
          "base_uri": "https://localhost:8080/",
          "height": 359
        },
        "outputId": "69fd3e40-6d94-4a7d-963d-42241d0bcd24"
      },
      "source": [
        "#Going to exclude the first column, which says the name of the stock and the Sector of the stock for the Logistic Regression portion of this \n",
        "dfLR = df.select_dtypes(exclude = [object])\n",
        "dfLR.head()"
      ],
      "execution_count": 31,
      "outputs": [
        {
          "output_type": "execute_result",
          "data": {
            "text/html": [
              "<div>\n",
              "<style scoped>\n",
              "    .dataframe tbody tr th:only-of-type {\n",
              "        vertical-align: middle;\n",
              "    }\n",
              "\n",
              "    .dataframe tbody tr th {\n",
              "        vertical-align: top;\n",
              "    }\n",
              "\n",
              "    .dataframe thead th {\n",
              "        text-align: right;\n",
              "    }\n",
              "</style>\n",
              "<table border=\"1\" class=\"dataframe\">\n",
              "  <thead>\n",
              "    <tr style=\"text-align: right;\">\n",
              "      <th></th>\n",
              "      <th>Revenue</th>\n",
              "      <th>Revenue Growth</th>\n",
              "      <th>Cost of Revenue</th>\n",
              "      <th>Gross Profit</th>\n",
              "      <th>R&amp;D Expenses</th>\n",
              "      <th>SG&amp;A Expense</th>\n",
              "      <th>Operating Expenses</th>\n",
              "      <th>Operating Income</th>\n",
              "      <th>Interest Expense</th>\n",
              "      <th>Earnings before Tax</th>\n",
              "      <th>Income Tax Expense</th>\n",
              "      <th>Net Income - Non-Controlling int</th>\n",
              "      <th>Net Income - Discontinued ops</th>\n",
              "      <th>Net Income</th>\n",
              "      <th>Preferred Dividends</th>\n",
              "      <th>Net Income Com</th>\n",
              "      <th>EPS</th>\n",
              "      <th>EPS Diluted</th>\n",
              "      <th>Weighted Average Shs Out</th>\n",
              "      <th>Weighted Average Shs Out (Dil)</th>\n",
              "      <th>Dividend per Share</th>\n",
              "      <th>Gross Margin</th>\n",
              "      <th>EBITDA Margin</th>\n",
              "      <th>EBIT Margin</th>\n",
              "      <th>Profit Margin</th>\n",
              "      <th>Free Cash Flow margin</th>\n",
              "      <th>EBITDA</th>\n",
              "      <th>EBIT</th>\n",
              "      <th>Consolidated Income</th>\n",
              "      <th>Earnings Before Tax Margin</th>\n",
              "      <th>Net Profit Margin</th>\n",
              "      <th>Cash and cash equivalents</th>\n",
              "      <th>Short-term investments</th>\n",
              "      <th>Cash and short-term investments</th>\n",
              "      <th>Receivables</th>\n",
              "      <th>Inventories</th>\n",
              "      <th>Total current assets</th>\n",
              "      <th>Property, Plant &amp; Equipment Net</th>\n",
              "      <th>Goodwill and Intangible Assets</th>\n",
              "      <th>Long-term investments</th>\n",
              "      <th>...</th>\n",
              "      <th>Receivables Turnover</th>\n",
              "      <th>Payables Turnover</th>\n",
              "      <th>Inventory Turnover</th>\n",
              "      <th>ROE</th>\n",
              "      <th>Capex per Share</th>\n",
              "      <th>Gross Profit Growth</th>\n",
              "      <th>EBIT Growth</th>\n",
              "      <th>Operating Income Growth</th>\n",
              "      <th>Net Income Growth</th>\n",
              "      <th>EPS Growth</th>\n",
              "      <th>EPS Diluted Growth</th>\n",
              "      <th>Weighted Average Shares Growth</th>\n",
              "      <th>Weighted Average Shares Diluted Growth</th>\n",
              "      <th>Dividends per Share Growth</th>\n",
              "      <th>Operating Cash Flow growth</th>\n",
              "      <th>Free Cash Flow growth</th>\n",
              "      <th>10Y Revenue Growth (per Share)</th>\n",
              "      <th>5Y Revenue Growth (per Share)</th>\n",
              "      <th>3Y Revenue Growth (per Share)</th>\n",
              "      <th>10Y Operating CF Growth (per Share)</th>\n",
              "      <th>5Y Operating CF Growth (per Share)</th>\n",
              "      <th>3Y Operating CF Growth (per Share)</th>\n",
              "      <th>10Y Net Income Growth (per Share)</th>\n",
              "      <th>5Y Net Income Growth (per Share)</th>\n",
              "      <th>3Y Net Income Growth (per Share)</th>\n",
              "      <th>10Y Shareholders Equity Growth (per Share)</th>\n",
              "      <th>5Y Shareholders Equity Growth (per Share)</th>\n",
              "      <th>3Y Shareholders Equity Growth (per Share)</th>\n",
              "      <th>10Y Dividend per Share Growth (per Share)</th>\n",
              "      <th>5Y Dividend per Share Growth (per Share)</th>\n",
              "      <th>3Y Dividend per Share Growth (per Share)</th>\n",
              "      <th>Receivables growth</th>\n",
              "      <th>Inventory Growth</th>\n",
              "      <th>Asset Growth</th>\n",
              "      <th>Book Value per Share Growth</th>\n",
              "      <th>Debt Growth</th>\n",
              "      <th>R&amp;D Expense Growth</th>\n",
              "      <th>SG&amp;A Expenses Growth</th>\n",
              "      <th>2019 PRICE VAR [%]</th>\n",
              "      <th>Class</th>\n",
              "    </tr>\n",
              "  </thead>\n",
              "  <tbody>\n",
              "    <tr>\n",
              "      <th>0</th>\n",
              "      <td>9.450700e+10</td>\n",
              "      <td>0.1115</td>\n",
              "      <td>0.000000e+00</td>\n",
              "      <td>9.450700e+10</td>\n",
              "      <td>0.000000e+00</td>\n",
              "      <td>6.482200e+10</td>\n",
              "      <td>7.549800e+10</td>\n",
              "      <td>1.900900e+10</td>\n",
              "      <td>3.542000e+09</td>\n",
              "      <td>1.511100e+10</td>\n",
              "      <td>3.380000e+09</td>\n",
              "      <td>131000000.0</td>\n",
              "      <td>0.000000e+00</td>\n",
              "      <td>1.173100e+10</td>\n",
              "      <td>0.0</td>\n",
              "      <td>1.173100e+10</td>\n",
              "      <td>2.56</td>\n",
              "      <td>2.53</td>\n",
              "      <td>4.549505e+09</td>\n",
              "      <td>4.549505e+09</td>\n",
              "      <td>0.917</td>\n",
              "      <td>1.0000</td>\n",
              "      <td>0.310</td>\n",
              "      <td>0.1974</td>\n",
              "      <td>0.124</td>\n",
              "      <td>0.1268</td>\n",
              "      <td>2.932900e+10</td>\n",
              "      <td>1.865300e+10</td>\n",
              "      <td>1.186200e+10</td>\n",
              "      <td>0.1599</td>\n",
              "      <td>0.1241</td>\n",
              "      <td>3.814000e+09</td>\n",
              "      <td>0.000000e+00</td>\n",
              "      <td>3.814000e+09</td>\n",
              "      <td>1.110400e+10</td>\n",
              "      <td>0.000000e+00</td>\n",
              "      <td>2.184800e+10</td>\n",
              "      <td>4.443700e+10</td>\n",
              "      <td>1.676230e+11</td>\n",
              "      <td>7.883000e+09</td>\n",
              "      <td>...</td>\n",
              "      <td>9.4801</td>\n",
              "      <td>3.6159</td>\n",
              "      <td>0.0000</td>\n",
              "      <td>0.1638</td>\n",
              "      <td>-2.7062</td>\n",
              "      <td>0.1115</td>\n",
              "      <td>0.0220</td>\n",
              "      <td>0.0550</td>\n",
              "      <td>-0.4840</td>\n",
              "      <td>-0.4700</td>\n",
              "      <td>-0.4674</td>\n",
              "      <td>-0.0266</td>\n",
              "      <td>-0.0305</td>\n",
              "      <td>0.9387</td>\n",
              "      <td>0.1428</td>\n",
              "      <td>0.2462</td>\n",
              "      <td>0.1327</td>\n",
              "      <td>0.1094</td>\n",
              "      <td>0.1107</td>\n",
              "      <td>0.11640</td>\n",
              "      <td>0.1456</td>\n",
              "      <td>0.1044</td>\n",
              "      <td>0.1928</td>\n",
              "      <td>0.1463</td>\n",
              "      <td>0.1579</td>\n",
              "      <td>0.0841</td>\n",
              "      <td>0.1019</td>\n",
              "      <td>0.1396</td>\n",
              "      <td>0.2558</td>\n",
              "      <td>0.1865</td>\n",
              "      <td>0.2348</td>\n",
              "      <td>0.2570</td>\n",
              "      <td>0.0000</td>\n",
              "      <td>0.3426</td>\n",
              "      <td>0.0722</td>\n",
              "      <td>0.7309</td>\n",
              "      <td>0.0000</td>\n",
              "      <td>0.1308</td>\n",
              "      <td>32.794573</td>\n",
              "      <td>1</td>\n",
              "    </tr>\n",
              "    <tr>\n",
              "      <th>1</th>\n",
              "      <td>1.414400e+10</td>\n",
              "      <td>0.0320</td>\n",
              "      <td>7.288000e+09</td>\n",
              "      <td>6.856000e+09</td>\n",
              "      <td>0.000000e+00</td>\n",
              "      <td>6.010000e+08</td>\n",
              "      <td>3.062000e+09</td>\n",
              "      <td>3.794000e+09</td>\n",
              "      <td>1.917000e+09</td>\n",
              "      <td>2.196000e+09</td>\n",
              "      <td>5.870000e+08</td>\n",
              "      <td>310000000.0</td>\n",
              "      <td>0.000000e+00</td>\n",
              "      <td>1.609000e+09</td>\n",
              "      <td>128000000.0</td>\n",
              "      <td>1.481000e+09</td>\n",
              "      <td>0.66</td>\n",
              "      <td>0.66</td>\n",
              "      <td>2.207018e+09</td>\n",
              "      <td>2.216000e+09</td>\n",
              "      <td>0.725</td>\n",
              "      <td>0.4847</td>\n",
              "      <td>0.453</td>\n",
              "      <td>0.2908</td>\n",
              "      <td>0.105</td>\n",
              "      <td>0.1498</td>\n",
              "      <td>6.410000e+09</td>\n",
              "      <td>4.113000e+09</td>\n",
              "      <td>1.919000e+09</td>\n",
              "      <td>0.1553</td>\n",
              "      <td>0.1138</td>\n",
              "      <td>3.280000e+09</td>\n",
              "      <td>0.000000e+00</td>\n",
              "      <td>3.280000e+09</td>\n",
              "      <td>1.498000e+09</td>\n",
              "      <td>3.850000e+08</td>\n",
              "      <td>5.722000e+09</td>\n",
              "      <td>3.789700e+10</td>\n",
              "      <td>2.484500e+10</td>\n",
              "      <td>7.481000e+09</td>\n",
              "      <td>...</td>\n",
              "      <td>9.6022</td>\n",
              "      <td>2.8248</td>\n",
              "      <td>34.9666</td>\n",
              "      <td>0.0478</td>\n",
              "      <td>-1.3195</td>\n",
              "      <td>0.0564</td>\n",
              "      <td>0.0405</td>\n",
              "      <td>0.0751</td>\n",
              "      <td>53.8519</td>\n",
              "      <td>65.0000</td>\n",
              "      <td>65.0000</td>\n",
              "      <td>-0.0063</td>\n",
              "      <td>-0.0063</td>\n",
              "      <td>0.4500</td>\n",
              "      <td>0.0961</td>\n",
              "      <td>0.3841</td>\n",
              "      <td>0.0295</td>\n",
              "      <td>-0.1402</td>\n",
              "      <td>-0.0104</td>\n",
              "      <td>0.00965</td>\n",
              "      <td>-0.1057</td>\n",
              "      <td>-0.0215</td>\n",
              "      <td>0.0000</td>\n",
              "      <td>-0.0881</td>\n",
              "      <td>0.8445</td>\n",
              "      <td>0.0345</td>\n",
              "      <td>0.0376</td>\n",
              "      <td>-0.0182</td>\n",
              "      <td>0.0000</td>\n",
              "      <td>-0.1421</td>\n",
              "      <td>-0.2785</td>\n",
              "      <td>0.0345</td>\n",
              "      <td>-0.0920</td>\n",
              "      <td>-0.0024</td>\n",
              "      <td>0.0076</td>\n",
              "      <td>-0.0137</td>\n",
              "      <td>0.0000</td>\n",
              "      <td>-0.1265</td>\n",
              "      <td>40.588068</td>\n",
              "      <td>1</td>\n",
              "    </tr>\n",
              "    <tr>\n",
              "      <th>2</th>\n",
              "      <td>7.084800e+10</td>\n",
              "      <td>0.1289</td>\n",
              "      <td>2.711100e+10</td>\n",
              "      <td>4.373700e+10</td>\n",
              "      <td>1.354300e+10</td>\n",
              "      <td>6.750000e+09</td>\n",
              "      <td>2.042100e+10</td>\n",
              "      <td>2.331600e+10</td>\n",
              "      <td>-1.260000e+08</td>\n",
              "      <td>2.331700e+10</td>\n",
              "      <td>2.264000e+09</td>\n",
              "      <td>0.0</td>\n",
              "      <td>0.000000e+00</td>\n",
              "      <td>2.105300e+10</td>\n",
              "      <td>0.0</td>\n",
              "      <td>2.105300e+10</td>\n",
              "      <td>4.57</td>\n",
              "      <td>4.48</td>\n",
              "      <td>4.564000e+09</td>\n",
              "      <td>4.611000e+09</td>\n",
              "      <td>1.200</td>\n",
              "      <td>0.6173</td>\n",
              "      <td>0.456</td>\n",
              "      <td>0.3273</td>\n",
              "      <td>0.297</td>\n",
              "      <td>0.2011</td>\n",
              "      <td>3.227600e+10</td>\n",
              "      <td>2.319100e+10</td>\n",
              "      <td>2.105300e+10</td>\n",
              "      <td>0.3291</td>\n",
              "      <td>0.2972</td>\n",
              "      <td>3.019000e+09</td>\n",
              "      <td>8.631000e+09</td>\n",
              "      <td>1.165000e+10</td>\n",
              "      <td>6.722000e+09</td>\n",
              "      <td>7.253000e+09</td>\n",
              "      <td>2.878700e+10</td>\n",
              "      <td>4.897600e+10</td>\n",
              "      <td>3.634900e+10</td>\n",
              "      <td>9.430000e+09</td>\n",
              "      <td>...</td>\n",
              "      <td>11.4929</td>\n",
              "      <td>5.5264</td>\n",
              "      <td>9.9534</td>\n",
              "      <td>0.2824</td>\n",
              "      <td>-3.2923</td>\n",
              "      <td>0.1187</td>\n",
              "      <td>0.1203</td>\n",
              "      <td>0.2917</td>\n",
              "      <td>1.1928</td>\n",
              "      <td>1.2402</td>\n",
              "      <td>1.2513</td>\n",
              "      <td>-0.0191</td>\n",
              "      <td>-0.0277</td>\n",
              "      <td>0.1132</td>\n",
              "      <td>0.3312</td>\n",
              "      <td>0.3793</td>\n",
              "      <td>0.0876</td>\n",
              "      <td>0.0770</td>\n",
              "      <td>0.0959</td>\n",
              "      <td>0.12710</td>\n",
              "      <td>0.0883</td>\n",
              "      <td>0.1675</td>\n",
              "      <td>0.1719</td>\n",
              "      <td>0.1872</td>\n",
              "      <td>0.2377</td>\n",
              "      <td>0.0876</td>\n",
              "      <td>0.0665</td>\n",
              "      <td>0.0787</td>\n",
              "      <td>0.0815</td>\n",
              "      <td>0.0592</td>\n",
              "      <td>0.0772</td>\n",
              "      <td>0.1989</td>\n",
              "      <td>0.0387</td>\n",
              "      <td>0.0382</td>\n",
              "      <td>0.1014</td>\n",
              "      <td>-0.0169</td>\n",
              "      <td>0.0390</td>\n",
              "      <td>-0.0942</td>\n",
              "      <td>30.295514</td>\n",
              "      <td>1</td>\n",
              "    </tr>\n",
              "    <tr>\n",
              "      <th>3</th>\n",
              "      <td>3.039100e+10</td>\n",
              "      <td>0.4955</td>\n",
              "      <td>1.250000e+10</td>\n",
              "      <td>1.789100e+10</td>\n",
              "      <td>2.141000e+09</td>\n",
              "      <td>8.130000e+08</td>\n",
              "      <td>2.897000e+09</td>\n",
              "      <td>1.499400e+10</td>\n",
              "      <td>3.420000e+08</td>\n",
              "      <td>1.430300e+10</td>\n",
              "      <td>1.680000e+08</td>\n",
              "      <td>3000000.0</td>\n",
              "      <td>0.000000e+00</td>\n",
              "      <td>1.413500e+10</td>\n",
              "      <td>0.0</td>\n",
              "      <td>1.413500e+10</td>\n",
              "      <td>12.27</td>\n",
              "      <td>11.51</td>\n",
              "      <td>1.159811e+09</td>\n",
              "      <td>1.152000e+09</td>\n",
              "      <td>0.000</td>\n",
              "      <td>0.5887</td>\n",
              "      <td>0.638</td>\n",
              "      <td>0.4819</td>\n",
              "      <td>0.465</td>\n",
              "      <td>0.2804</td>\n",
              "      <td>1.940400e+10</td>\n",
              "      <td>1.464500e+10</td>\n",
              "      <td>1.413800e+10</td>\n",
              "      <td>0.4706</td>\n",
              "      <td>0.4651</td>\n",
              "      <td>6.506000e+09</td>\n",
              "      <td>2.960000e+08</td>\n",
              "      <td>6.802000e+09</td>\n",
              "      <td>5.478000e+09</td>\n",
              "      <td>3.595000e+09</td>\n",
              "      <td>1.603900e+10</td>\n",
              "      <td>2.367200e+10</td>\n",
              "      <td>1.559000e+09</td>\n",
              "      <td>4.730000e+08</td>\n",
              "      <td>...</td>\n",
              "      <td>6.5803</td>\n",
              "      <td>2.1000</td>\n",
              "      <td>9.0476</td>\n",
              "      <td>0.4377</td>\n",
              "      <td>-7.7075</td>\n",
              "      <td>1.1208</td>\n",
              "      <td>1.5233</td>\n",
              "      <td>1.5552</td>\n",
              "      <td>1.7776</td>\n",
              "      <td>1.6274</td>\n",
              "      <td>1.6100</td>\n",
              "      <td>0.0579</td>\n",
              "      <td>0.0650</td>\n",
              "      <td>0.0000</td>\n",
              "      <td>1.1342</td>\n",
              "      <td>1.4922</td>\n",
              "      <td>0.1331</td>\n",
              "      <td>0.2434</td>\n",
              "      <td>0.2035</td>\n",
              "      <td>0.27620</td>\n",
              "      <td>0.5351</td>\n",
              "      <td>0.4586</td>\n",
              "      <td>0.0000</td>\n",
              "      <td>0.6016</td>\n",
              "      <td>0.6545</td>\n",
              "      <td>0.1336</td>\n",
              "      <td>0.2567</td>\n",
              "      <td>0.3459</td>\n",
              "      <td>0.0000</td>\n",
              "      <td>0.0000</td>\n",
              "      <td>0.0000</td>\n",
              "      <td>0.4573</td>\n",
              "      <td>0.1511</td>\n",
              "      <td>0.2275</td>\n",
              "      <td>0.6395</td>\n",
              "      <td>-0.5841</td>\n",
              "      <td>0.1738</td>\n",
              "      <td>0.0942</td>\n",
              "      <td>64.213737</td>\n",
              "      <td>1</td>\n",
              "    </tr>\n",
              "    <tr>\n",
              "      <th>4</th>\n",
              "      <td>1.216150e+11</td>\n",
              "      <td>0.0285</td>\n",
              "      <td>9.546100e+10</td>\n",
              "      <td>2.615400e+10</td>\n",
              "      <td>0.000000e+00</td>\n",
              "      <td>1.811100e+10</td>\n",
              "      <td>4.071100e+10</td>\n",
              "      <td>-1.455700e+10</td>\n",
              "      <td>5.059000e+09</td>\n",
              "      <td>-2.177200e+10</td>\n",
              "      <td>5.830000e+08</td>\n",
              "      <td>-178000000.0</td>\n",
              "      <td>1.726000e+09</td>\n",
              "      <td>-2.235500e+10</td>\n",
              "      <td>894000000.0</td>\n",
              "      <td>-2.280200e+10</td>\n",
              "      <td>-2.62</td>\n",
              "      <td>-2.62</td>\n",
              "      <td>8.698115e+09</td>\n",
              "      <td>8.698115e+09</td>\n",
              "      <td>0.370</td>\n",
              "      <td>0.2151</td>\n",
              "      <td>-0.070</td>\n",
              "      <td>-0.1374</td>\n",
              "      <td>-0.187</td>\n",
              "      <td>0.0058</td>\n",
              "      <td>-8.489000e+09</td>\n",
              "      <td>-1.671300e+10</td>\n",
              "      <td>-2.244300e+10</td>\n",
              "      <td>-0.1790</td>\n",
              "      <td>-0.1838</td>\n",
              "      <td>3.112400e+10</td>\n",
              "      <td>3.383500e+10</td>\n",
              "      <td>6.495900e+10</td>\n",
              "      <td>2.948700e+10</td>\n",
              "      <td>1.380300e+10</td>\n",
              "      <td>1.156990e+11</td>\n",
              "      <td>4.361100e+10</td>\n",
              "      <td>4.615200e+10</td>\n",
              "      <td>3.010000e+08</td>\n",
              "      <td>...</td>\n",
              "      <td>3.4583</td>\n",
              "      <td>2.2616</td>\n",
              "      <td>7.3214</td>\n",
              "      <td>-0.7216</td>\n",
              "      <td>-0.4066</td>\n",
              "      <td>0.7216</td>\n",
              "      <td>-1.6844</td>\n",
              "      <td>-1.4225</td>\n",
              "      <td>-1.5563</td>\n",
              "      <td>-1.5437</td>\n",
              "      <td>-1.5437</td>\n",
              "      <td>0.0030</td>\n",
              "      <td>0.0005</td>\n",
              "      <td>-0.5595</td>\n",
              "      <td>-0.2961</td>\n",
              "      <td>-0.8162</td>\n",
              "      <td>-0.0262</td>\n",
              "      <td>0.0455</td>\n",
              "      <td>0.0639</td>\n",
              "      <td>-0.20580</td>\n",
              "      <td>-0.2957</td>\n",
              "      <td>-0.3716</td>\n",
              "      <td>0.0000</td>\n",
              "      <td>0.0000</td>\n",
              "      <td>0.0000</td>\n",
              "      <td>-0.1026</td>\n",
              "      <td>-0.2270</td>\n",
              "      <td>-0.2844</td>\n",
              "      <td>-0.1139</td>\n",
              "      <td>-0.1408</td>\n",
              "      <td>-0.2619</td>\n",
              "      <td>-0.2781</td>\n",
              "      <td>-0.2892</td>\n",
              "      <td>-0.1575</td>\n",
              "      <td>-0.4487</td>\n",
              "      <td>-0.2297</td>\n",
              "      <td>0.0000</td>\n",
              "      <td>0.0308</td>\n",
              "      <td>44.757840</td>\n",
              "      <td>1</td>\n",
              "    </tr>\n",
              "  </tbody>\n",
              "</table>\n",
              "<p>5 rows × 223 columns</p>\n",
              "</div>"
            ],
            "text/plain": [
              "        Revenue  Revenue Growth  ...  2019 PRICE VAR [%]  Class\n",
              "0  9.450700e+10          0.1115  ...           32.794573      1\n",
              "1  1.414400e+10          0.0320  ...           40.588068      1\n",
              "2  7.084800e+10          0.1289  ...           30.295514      1\n",
              "3  3.039100e+10          0.4955  ...           64.213737      1\n",
              "4  1.216150e+11          0.0285  ...           44.757840      1\n",
              "\n",
              "[5 rows x 223 columns]"
            ]
          },
          "metadata": {
            "tags": []
          },
          "execution_count": 31
        }
      ]
    },
    {
      "cell_type": "markdown",
      "metadata": {
        "id": "rTP3UwVcODjK"
      },
      "source": [
        "- The features of interest will be all of the columns except for the first column, which gives an abbreviation for which stock it is\n",
        "- The target will be the Class\n",
        "-Stocks classified as 0 were stocks that decreased in value (bad to buy)\n",
        "-Stocks classified as 1 were stocks that increased in value (good to buy)"
      ]
    },
    {
      "cell_type": "code",
      "metadata": {
        "id": "T_TKBxtPNztW"
      },
      "source": [
        "#X (features) contains all the rows and all the columns except for: \n",
        "#the column with the name of stock, the column with the sector names, and the class \n",
        "#also deleting the column with the price increase in percentage because that makes it too obvious (positive percentage menas increase and vice versa)\n",
        "#y (target) contains the class \n",
        "X = dfLR.iloc[:,1:221]\n",
        "y = dfLR.Class"
      ],
      "execution_count": 32,
      "outputs": []
    },
    {
      "cell_type": "code",
      "metadata": {
        "id": "v6KIXwUhYLoS",
        "colab": {
          "base_uri": "https://localhost:8080/",
          "height": 359
        },
        "outputId": "8415dfa7-1263-4734-de98-c5c8cb1da800"
      },
      "source": [
        "X.head()"
      ],
      "execution_count": 33,
      "outputs": [
        {
          "output_type": "execute_result",
          "data": {
            "text/html": [
              "<div>\n",
              "<style scoped>\n",
              "    .dataframe tbody tr th:only-of-type {\n",
              "        vertical-align: middle;\n",
              "    }\n",
              "\n",
              "    .dataframe tbody tr th {\n",
              "        vertical-align: top;\n",
              "    }\n",
              "\n",
              "    .dataframe thead th {\n",
              "        text-align: right;\n",
              "    }\n",
              "</style>\n",
              "<table border=\"1\" class=\"dataframe\">\n",
              "  <thead>\n",
              "    <tr style=\"text-align: right;\">\n",
              "      <th></th>\n",
              "      <th>Revenue Growth</th>\n",
              "      <th>Cost of Revenue</th>\n",
              "      <th>Gross Profit</th>\n",
              "      <th>R&amp;D Expenses</th>\n",
              "      <th>SG&amp;A Expense</th>\n",
              "      <th>Operating Expenses</th>\n",
              "      <th>Operating Income</th>\n",
              "      <th>Interest Expense</th>\n",
              "      <th>Earnings before Tax</th>\n",
              "      <th>Income Tax Expense</th>\n",
              "      <th>Net Income - Non-Controlling int</th>\n",
              "      <th>Net Income - Discontinued ops</th>\n",
              "      <th>Net Income</th>\n",
              "      <th>Preferred Dividends</th>\n",
              "      <th>Net Income Com</th>\n",
              "      <th>EPS</th>\n",
              "      <th>EPS Diluted</th>\n",
              "      <th>Weighted Average Shs Out</th>\n",
              "      <th>Weighted Average Shs Out (Dil)</th>\n",
              "      <th>Dividend per Share</th>\n",
              "      <th>Gross Margin</th>\n",
              "      <th>EBITDA Margin</th>\n",
              "      <th>EBIT Margin</th>\n",
              "      <th>Profit Margin</th>\n",
              "      <th>Free Cash Flow margin</th>\n",
              "      <th>EBITDA</th>\n",
              "      <th>EBIT</th>\n",
              "      <th>Consolidated Income</th>\n",
              "      <th>Earnings Before Tax Margin</th>\n",
              "      <th>Net Profit Margin</th>\n",
              "      <th>Cash and cash equivalents</th>\n",
              "      <th>Short-term investments</th>\n",
              "      <th>Cash and short-term investments</th>\n",
              "      <th>Receivables</th>\n",
              "      <th>Inventories</th>\n",
              "      <th>Total current assets</th>\n",
              "      <th>Property, Plant &amp; Equipment Net</th>\n",
              "      <th>Goodwill and Intangible Assets</th>\n",
              "      <th>Long-term investments</th>\n",
              "      <th>Tax assets</th>\n",
              "      <th>...</th>\n",
              "      <th>Days Payables Outstanding</th>\n",
              "      <th>Days of Inventory on Hand</th>\n",
              "      <th>Receivables Turnover</th>\n",
              "      <th>Payables Turnover</th>\n",
              "      <th>Inventory Turnover</th>\n",
              "      <th>ROE</th>\n",
              "      <th>Capex per Share</th>\n",
              "      <th>Gross Profit Growth</th>\n",
              "      <th>EBIT Growth</th>\n",
              "      <th>Operating Income Growth</th>\n",
              "      <th>Net Income Growth</th>\n",
              "      <th>EPS Growth</th>\n",
              "      <th>EPS Diluted Growth</th>\n",
              "      <th>Weighted Average Shares Growth</th>\n",
              "      <th>Weighted Average Shares Diluted Growth</th>\n",
              "      <th>Dividends per Share Growth</th>\n",
              "      <th>Operating Cash Flow growth</th>\n",
              "      <th>Free Cash Flow growth</th>\n",
              "      <th>10Y Revenue Growth (per Share)</th>\n",
              "      <th>5Y Revenue Growth (per Share)</th>\n",
              "      <th>3Y Revenue Growth (per Share)</th>\n",
              "      <th>10Y Operating CF Growth (per Share)</th>\n",
              "      <th>5Y Operating CF Growth (per Share)</th>\n",
              "      <th>3Y Operating CF Growth (per Share)</th>\n",
              "      <th>10Y Net Income Growth (per Share)</th>\n",
              "      <th>5Y Net Income Growth (per Share)</th>\n",
              "      <th>3Y Net Income Growth (per Share)</th>\n",
              "      <th>10Y Shareholders Equity Growth (per Share)</th>\n",
              "      <th>5Y Shareholders Equity Growth (per Share)</th>\n",
              "      <th>3Y Shareholders Equity Growth (per Share)</th>\n",
              "      <th>10Y Dividend per Share Growth (per Share)</th>\n",
              "      <th>5Y Dividend per Share Growth (per Share)</th>\n",
              "      <th>3Y Dividend per Share Growth (per Share)</th>\n",
              "      <th>Receivables growth</th>\n",
              "      <th>Inventory Growth</th>\n",
              "      <th>Asset Growth</th>\n",
              "      <th>Book Value per Share Growth</th>\n",
              "      <th>Debt Growth</th>\n",
              "      <th>R&amp;D Expense Growth</th>\n",
              "      <th>SG&amp;A Expenses Growth</th>\n",
              "    </tr>\n",
              "  </thead>\n",
              "  <tbody>\n",
              "    <tr>\n",
              "      <th>0</th>\n",
              "      <td>0.1115</td>\n",
              "      <td>0.000000e+00</td>\n",
              "      <td>9.450700e+10</td>\n",
              "      <td>0.000000e+00</td>\n",
              "      <td>6.482200e+10</td>\n",
              "      <td>7.549800e+10</td>\n",
              "      <td>1.900900e+10</td>\n",
              "      <td>3.542000e+09</td>\n",
              "      <td>1.511100e+10</td>\n",
              "      <td>3.380000e+09</td>\n",
              "      <td>131000000.0</td>\n",
              "      <td>0.000000e+00</td>\n",
              "      <td>1.173100e+10</td>\n",
              "      <td>0.0</td>\n",
              "      <td>1.173100e+10</td>\n",
              "      <td>2.56</td>\n",
              "      <td>2.53</td>\n",
              "      <td>4.549505e+09</td>\n",
              "      <td>4.549505e+09</td>\n",
              "      <td>0.917</td>\n",
              "      <td>1.0000</td>\n",
              "      <td>0.310</td>\n",
              "      <td>0.1974</td>\n",
              "      <td>0.124</td>\n",
              "      <td>0.1268</td>\n",
              "      <td>2.932900e+10</td>\n",
              "      <td>1.865300e+10</td>\n",
              "      <td>1.186200e+10</td>\n",
              "      <td>0.1599</td>\n",
              "      <td>0.1241</td>\n",
              "      <td>3.814000e+09</td>\n",
              "      <td>0.000000e+00</td>\n",
              "      <td>3.814000e+09</td>\n",
              "      <td>1.110400e+10</td>\n",
              "      <td>0.000000e+00</td>\n",
              "      <td>2.184800e+10</td>\n",
              "      <td>4.443700e+10</td>\n",
              "      <td>1.676230e+11</td>\n",
              "      <td>7.883000e+09</td>\n",
              "      <td>0.000000e+00</td>\n",
              "      <td>...</td>\n",
              "      <td>32.8051</td>\n",
              "      <td>0.0000</td>\n",
              "      <td>9.4801</td>\n",
              "      <td>3.6159</td>\n",
              "      <td>0.0000</td>\n",
              "      <td>0.1638</td>\n",
              "      <td>-2.7062</td>\n",
              "      <td>0.1115</td>\n",
              "      <td>0.0220</td>\n",
              "      <td>0.0550</td>\n",
              "      <td>-0.4840</td>\n",
              "      <td>-0.4700</td>\n",
              "      <td>-0.4674</td>\n",
              "      <td>-0.0266</td>\n",
              "      <td>-0.0305</td>\n",
              "      <td>0.9387</td>\n",
              "      <td>0.1428</td>\n",
              "      <td>0.2462</td>\n",
              "      <td>0.1327</td>\n",
              "      <td>0.1094</td>\n",
              "      <td>0.1107</td>\n",
              "      <td>0.11640</td>\n",
              "      <td>0.1456</td>\n",
              "      <td>0.1044</td>\n",
              "      <td>0.1928</td>\n",
              "      <td>0.1463</td>\n",
              "      <td>0.1579</td>\n",
              "      <td>0.0841</td>\n",
              "      <td>0.1019</td>\n",
              "      <td>0.1396</td>\n",
              "      <td>0.2558</td>\n",
              "      <td>0.1865</td>\n",
              "      <td>0.2348</td>\n",
              "      <td>0.2570</td>\n",
              "      <td>0.0000</td>\n",
              "      <td>0.3426</td>\n",
              "      <td>0.0722</td>\n",
              "      <td>0.7309</td>\n",
              "      <td>0.0000</td>\n",
              "      <td>0.1308</td>\n",
              "    </tr>\n",
              "    <tr>\n",
              "      <th>1</th>\n",
              "      <td>0.0320</td>\n",
              "      <td>7.288000e+09</td>\n",
              "      <td>6.856000e+09</td>\n",
              "      <td>0.000000e+00</td>\n",
              "      <td>6.010000e+08</td>\n",
              "      <td>3.062000e+09</td>\n",
              "      <td>3.794000e+09</td>\n",
              "      <td>1.917000e+09</td>\n",
              "      <td>2.196000e+09</td>\n",
              "      <td>5.870000e+08</td>\n",
              "      <td>310000000.0</td>\n",
              "      <td>0.000000e+00</td>\n",
              "      <td>1.609000e+09</td>\n",
              "      <td>128000000.0</td>\n",
              "      <td>1.481000e+09</td>\n",
              "      <td>0.66</td>\n",
              "      <td>0.66</td>\n",
              "      <td>2.207018e+09</td>\n",
              "      <td>2.216000e+09</td>\n",
              "      <td>0.725</td>\n",
              "      <td>0.4847</td>\n",
              "      <td>0.453</td>\n",
              "      <td>0.2908</td>\n",
              "      <td>0.105</td>\n",
              "      <td>0.1498</td>\n",
              "      <td>6.410000e+09</td>\n",
              "      <td>4.113000e+09</td>\n",
              "      <td>1.919000e+09</td>\n",
              "      <td>0.1553</td>\n",
              "      <td>0.1138</td>\n",
              "      <td>3.280000e+09</td>\n",
              "      <td>0.000000e+00</td>\n",
              "      <td>3.280000e+09</td>\n",
              "      <td>1.498000e+09</td>\n",
              "      <td>3.850000e+08</td>\n",
              "      <td>5.722000e+09</td>\n",
              "      <td>3.789700e+10</td>\n",
              "      <td>2.484500e+10</td>\n",
              "      <td>7.481000e+09</td>\n",
              "      <td>1.566000e+09</td>\n",
              "      <td>...</td>\n",
              "      <td>34.5026</td>\n",
              "      <td>-19.2817</td>\n",
              "      <td>9.6022</td>\n",
              "      <td>2.8248</td>\n",
              "      <td>34.9666</td>\n",
              "      <td>0.0478</td>\n",
              "      <td>-1.3195</td>\n",
              "      <td>0.0564</td>\n",
              "      <td>0.0405</td>\n",
              "      <td>0.0751</td>\n",
              "      <td>53.8519</td>\n",
              "      <td>65.0000</td>\n",
              "      <td>65.0000</td>\n",
              "      <td>-0.0063</td>\n",
              "      <td>-0.0063</td>\n",
              "      <td>0.4500</td>\n",
              "      <td>0.0961</td>\n",
              "      <td>0.3841</td>\n",
              "      <td>0.0295</td>\n",
              "      <td>-0.1402</td>\n",
              "      <td>-0.0104</td>\n",
              "      <td>0.00965</td>\n",
              "      <td>-0.1057</td>\n",
              "      <td>-0.0215</td>\n",
              "      <td>0.0000</td>\n",
              "      <td>-0.0881</td>\n",
              "      <td>0.8445</td>\n",
              "      <td>0.0345</td>\n",
              "      <td>0.0376</td>\n",
              "      <td>-0.0182</td>\n",
              "      <td>0.0000</td>\n",
              "      <td>-0.1421</td>\n",
              "      <td>-0.2785</td>\n",
              "      <td>0.0345</td>\n",
              "      <td>-0.0920</td>\n",
              "      <td>-0.0024</td>\n",
              "      <td>0.0076</td>\n",
              "      <td>-0.0137</td>\n",
              "      <td>0.0000</td>\n",
              "      <td>-0.1265</td>\n",
              "    </tr>\n",
              "    <tr>\n",
              "      <th>2</th>\n",
              "      <td>0.1289</td>\n",
              "      <td>2.711100e+10</td>\n",
              "      <td>4.373700e+10</td>\n",
              "      <td>1.354300e+10</td>\n",
              "      <td>6.750000e+09</td>\n",
              "      <td>2.042100e+10</td>\n",
              "      <td>2.331600e+10</td>\n",
              "      <td>-1.260000e+08</td>\n",
              "      <td>2.331700e+10</td>\n",
              "      <td>2.264000e+09</td>\n",
              "      <td>0.0</td>\n",
              "      <td>0.000000e+00</td>\n",
              "      <td>2.105300e+10</td>\n",
              "      <td>0.0</td>\n",
              "      <td>2.105300e+10</td>\n",
              "      <td>4.57</td>\n",
              "      <td>4.48</td>\n",
              "      <td>4.564000e+09</td>\n",
              "      <td>4.611000e+09</td>\n",
              "      <td>1.200</td>\n",
              "      <td>0.6173</td>\n",
              "      <td>0.456</td>\n",
              "      <td>0.3273</td>\n",
              "      <td>0.297</td>\n",
              "      <td>0.2011</td>\n",
              "      <td>3.227600e+10</td>\n",
              "      <td>2.319100e+10</td>\n",
              "      <td>2.105300e+10</td>\n",
              "      <td>0.3291</td>\n",
              "      <td>0.2972</td>\n",
              "      <td>3.019000e+09</td>\n",
              "      <td>8.631000e+09</td>\n",
              "      <td>1.165000e+10</td>\n",
              "      <td>6.722000e+09</td>\n",
              "      <td>7.253000e+09</td>\n",
              "      <td>2.878700e+10</td>\n",
              "      <td>4.897600e+10</td>\n",
              "      <td>3.634900e+10</td>\n",
              "      <td>9.430000e+09</td>\n",
              "      <td>0.000000e+00</td>\n",
              "      <td>...</td>\n",
              "      <td>19.7008</td>\n",
              "      <td>-97.6484</td>\n",
              "      <td>11.4929</td>\n",
              "      <td>5.5264</td>\n",
              "      <td>9.9534</td>\n",
              "      <td>0.2824</td>\n",
              "      <td>-3.2923</td>\n",
              "      <td>0.1187</td>\n",
              "      <td>0.1203</td>\n",
              "      <td>0.2917</td>\n",
              "      <td>1.1928</td>\n",
              "      <td>1.2402</td>\n",
              "      <td>1.2513</td>\n",
              "      <td>-0.0191</td>\n",
              "      <td>-0.0277</td>\n",
              "      <td>0.1132</td>\n",
              "      <td>0.3312</td>\n",
              "      <td>0.3793</td>\n",
              "      <td>0.0876</td>\n",
              "      <td>0.0770</td>\n",
              "      <td>0.0959</td>\n",
              "      <td>0.12710</td>\n",
              "      <td>0.0883</td>\n",
              "      <td>0.1675</td>\n",
              "      <td>0.1719</td>\n",
              "      <td>0.1872</td>\n",
              "      <td>0.2377</td>\n",
              "      <td>0.0876</td>\n",
              "      <td>0.0665</td>\n",
              "      <td>0.0787</td>\n",
              "      <td>0.0815</td>\n",
              "      <td>0.0592</td>\n",
              "      <td>0.0772</td>\n",
              "      <td>0.1989</td>\n",
              "      <td>0.0387</td>\n",
              "      <td>0.0382</td>\n",
              "      <td>0.1014</td>\n",
              "      <td>-0.0169</td>\n",
              "      <td>0.0390</td>\n",
              "      <td>-0.0942</td>\n",
              "    </tr>\n",
              "    <tr>\n",
              "      <th>3</th>\n",
              "      <td>0.4955</td>\n",
              "      <td>1.250000e+10</td>\n",
              "      <td>1.789100e+10</td>\n",
              "      <td>2.141000e+09</td>\n",
              "      <td>8.130000e+08</td>\n",
              "      <td>2.897000e+09</td>\n",
              "      <td>1.499400e+10</td>\n",
              "      <td>3.420000e+08</td>\n",
              "      <td>1.430300e+10</td>\n",
              "      <td>1.680000e+08</td>\n",
              "      <td>3000000.0</td>\n",
              "      <td>0.000000e+00</td>\n",
              "      <td>1.413500e+10</td>\n",
              "      <td>0.0</td>\n",
              "      <td>1.413500e+10</td>\n",
              "      <td>12.27</td>\n",
              "      <td>11.51</td>\n",
              "      <td>1.159811e+09</td>\n",
              "      <td>1.152000e+09</td>\n",
              "      <td>0.000</td>\n",
              "      <td>0.5887</td>\n",
              "      <td>0.638</td>\n",
              "      <td>0.4819</td>\n",
              "      <td>0.465</td>\n",
              "      <td>0.2804</td>\n",
              "      <td>1.940400e+10</td>\n",
              "      <td>1.464500e+10</td>\n",
              "      <td>1.413800e+10</td>\n",
              "      <td>0.4706</td>\n",
              "      <td>0.4651</td>\n",
              "      <td>6.506000e+09</td>\n",
              "      <td>2.960000e+08</td>\n",
              "      <td>6.802000e+09</td>\n",
              "      <td>5.478000e+09</td>\n",
              "      <td>3.595000e+09</td>\n",
              "      <td>1.603900e+10</td>\n",
              "      <td>2.367200e+10</td>\n",
              "      <td>1.559000e+09</td>\n",
              "      <td>4.730000e+08</td>\n",
              "      <td>1.022000e+09</td>\n",
              "      <td>...</td>\n",
              "      <td>52.5323</td>\n",
              "      <td>-104.9740</td>\n",
              "      <td>6.5803</td>\n",
              "      <td>2.1000</td>\n",
              "      <td>9.0476</td>\n",
              "      <td>0.4377</td>\n",
              "      <td>-7.7075</td>\n",
              "      <td>1.1208</td>\n",
              "      <td>1.5233</td>\n",
              "      <td>1.5552</td>\n",
              "      <td>1.7776</td>\n",
              "      <td>1.6274</td>\n",
              "      <td>1.6100</td>\n",
              "      <td>0.0579</td>\n",
              "      <td>0.0650</td>\n",
              "      <td>0.0000</td>\n",
              "      <td>1.1342</td>\n",
              "      <td>1.4922</td>\n",
              "      <td>0.1331</td>\n",
              "      <td>0.2434</td>\n",
              "      <td>0.2035</td>\n",
              "      <td>0.27620</td>\n",
              "      <td>0.5351</td>\n",
              "      <td>0.4586</td>\n",
              "      <td>0.0000</td>\n",
              "      <td>0.6016</td>\n",
              "      <td>0.6545</td>\n",
              "      <td>0.1336</td>\n",
              "      <td>0.2567</td>\n",
              "      <td>0.3459</td>\n",
              "      <td>0.0000</td>\n",
              "      <td>0.0000</td>\n",
              "      <td>0.0000</td>\n",
              "      <td>0.4573</td>\n",
              "      <td>0.1511</td>\n",
              "      <td>0.2275</td>\n",
              "      <td>0.6395</td>\n",
              "      <td>-0.5841</td>\n",
              "      <td>0.1738</td>\n",
              "      <td>0.0942</td>\n",
              "    </tr>\n",
              "    <tr>\n",
              "      <th>4</th>\n",
              "      <td>0.0285</td>\n",
              "      <td>9.546100e+10</td>\n",
              "      <td>2.615400e+10</td>\n",
              "      <td>0.000000e+00</td>\n",
              "      <td>1.811100e+10</td>\n",
              "      <td>4.071100e+10</td>\n",
              "      <td>-1.455700e+10</td>\n",
              "      <td>5.059000e+09</td>\n",
              "      <td>-2.177200e+10</td>\n",
              "      <td>5.830000e+08</td>\n",
              "      <td>-178000000.0</td>\n",
              "      <td>1.726000e+09</td>\n",
              "      <td>-2.235500e+10</td>\n",
              "      <td>894000000.0</td>\n",
              "      <td>-2.280200e+10</td>\n",
              "      <td>-2.62</td>\n",
              "      <td>-2.62</td>\n",
              "      <td>8.698115e+09</td>\n",
              "      <td>8.698115e+09</td>\n",
              "      <td>0.370</td>\n",
              "      <td>0.2151</td>\n",
              "      <td>-0.070</td>\n",
              "      <td>-0.1374</td>\n",
              "      <td>-0.187</td>\n",
              "      <td>0.0058</td>\n",
              "      <td>-8.489000e+09</td>\n",
              "      <td>-1.671300e+10</td>\n",
              "      <td>-2.244300e+10</td>\n",
              "      <td>-0.1790</td>\n",
              "      <td>-0.1838</td>\n",
              "      <td>3.112400e+10</td>\n",
              "      <td>3.383500e+10</td>\n",
              "      <td>6.495900e+10</td>\n",
              "      <td>2.948700e+10</td>\n",
              "      <td>1.380300e+10</td>\n",
              "      <td>1.156990e+11</td>\n",
              "      <td>4.361100e+10</td>\n",
              "      <td>4.615200e+10</td>\n",
              "      <td>3.010000e+08</td>\n",
              "      <td>1.211700e+10</td>\n",
              "      <td>...</td>\n",
              "      <td>42.7892</td>\n",
              "      <td>-52.7765</td>\n",
              "      <td>3.4583</td>\n",
              "      <td>2.2616</td>\n",
              "      <td>7.3214</td>\n",
              "      <td>-0.7216</td>\n",
              "      <td>-0.4066</td>\n",
              "      <td>0.7216</td>\n",
              "      <td>-1.6844</td>\n",
              "      <td>-1.4225</td>\n",
              "      <td>-1.5563</td>\n",
              "      <td>-1.5437</td>\n",
              "      <td>-1.5437</td>\n",
              "      <td>0.0030</td>\n",
              "      <td>0.0005</td>\n",
              "      <td>-0.5595</td>\n",
              "      <td>-0.2961</td>\n",
              "      <td>-0.8162</td>\n",
              "      <td>-0.0262</td>\n",
              "      <td>0.0455</td>\n",
              "      <td>0.0639</td>\n",
              "      <td>-0.20580</td>\n",
              "      <td>-0.2957</td>\n",
              "      <td>-0.3716</td>\n",
              "      <td>0.0000</td>\n",
              "      <td>0.0000</td>\n",
              "      <td>0.0000</td>\n",
              "      <td>-0.1026</td>\n",
              "      <td>-0.2270</td>\n",
              "      <td>-0.2844</td>\n",
              "      <td>-0.1139</td>\n",
              "      <td>-0.1408</td>\n",
              "      <td>-0.2619</td>\n",
              "      <td>-0.2781</td>\n",
              "      <td>-0.2892</td>\n",
              "      <td>-0.1575</td>\n",
              "      <td>-0.4487</td>\n",
              "      <td>-0.2297</td>\n",
              "      <td>0.0000</td>\n",
              "      <td>0.0308</td>\n",
              "    </tr>\n",
              "  </tbody>\n",
              "</table>\n",
              "<p>5 rows × 220 columns</p>\n",
              "</div>"
            ],
            "text/plain": [
              "   Revenue Growth  Cost of Revenue  ...  R&D Expense Growth  SG&A Expenses Growth\n",
              "0          0.1115     0.000000e+00  ...              0.0000                0.1308\n",
              "1          0.0320     7.288000e+09  ...              0.0000               -0.1265\n",
              "2          0.1289     2.711100e+10  ...              0.0390               -0.0942\n",
              "3          0.4955     1.250000e+10  ...              0.1738                0.0942\n",
              "4          0.0285     9.546100e+10  ...              0.0000                0.0308\n",
              "\n",
              "[5 rows x 220 columns]"
            ]
          },
          "metadata": {
            "tags": []
          },
          "execution_count": 33
        }
      ]
    },
    {
      "cell_type": "code",
      "metadata": {
        "id": "ZiATTsjgYmaB",
        "colab": {
          "base_uri": "https://localhost:8080/"
        },
        "outputId": "4c8f7faa-6877-4f8a-cbaf-5478703bd23d"
      },
      "source": [
        "y.head()"
      ],
      "execution_count": 34,
      "outputs": [
        {
          "output_type": "execute_result",
          "data": {
            "text/plain": [
              "0    1\n",
              "1    1\n",
              "2    1\n",
              "3    1\n",
              "4    1\n",
              "Name: Class, dtype: int64"
            ]
          },
          "metadata": {
            "tags": []
          },
          "execution_count": 34
        }
      ]
    },
    {
      "cell_type": "code",
      "metadata": {
        "id": "XcqoCoLgQwmd"
      },
      "source": [
        "#splitting data into training and testing data\n",
        "X_train, X_test, y_train, y_test = train_test_split(X,y,test_size = 0.25, random_state = 42)"
      ],
      "execution_count": 35,
      "outputs": []
    },
    {
      "cell_type": "code",
      "metadata": {
        "id": "hm83R5N0RMkv"
      },
      "source": [
        "#Instantiate\n",
        "LogReg = LogisticRegression(max_iter = 500)"
      ],
      "execution_count": 36,
      "outputs": []
    },
    {
      "cell_type": "code",
      "metadata": {
        "id": "Dv3dzgKsRR8d"
      },
      "source": [
        "#Preprocessing using standard scalar\n",
        "scal = preprocessing.StandardScaler()\n",
        "X_train = scal.fit_transform(X_train)\n",
        "X_test = scal.transform(X_test)"
      ],
      "execution_count": 37,
      "outputs": []
    },
    {
      "cell_type": "code",
      "metadata": {
        "id": "HrcMBnplRcOc",
        "colab": {
          "base_uri": "https://localhost:8080/"
        },
        "outputId": "1715375a-0deb-4bf8-9569-cb393aca7944"
      },
      "source": [
        "#fitting to the training data\n",
        "LogReg.fit(X_train,y_train)"
      ],
      "execution_count": 38,
      "outputs": [
        {
          "output_type": "execute_result",
          "data": {
            "text/plain": [
              "LogisticRegression(C=1.0, class_weight=None, dual=False, fit_intercept=True,\n",
              "                   intercept_scaling=1, l1_ratio=None, max_iter=500,\n",
              "                   multi_class='auto', n_jobs=None, penalty='l2',\n",
              "                   random_state=None, solver='lbfgs', tol=0.0001, verbose=0,\n",
              "                   warm_start=False)"
            ]
          },
          "metadata": {
            "tags": []
          },
          "execution_count": 38
        }
      ]
    },
    {
      "cell_type": "markdown",
      "metadata": {
        "id": "HIv0a-cExIdR"
      },
      "source": [
        "# Predicting Using the Logistic Regression Model"
      ]
    },
    {
      "cell_type": "code",
      "metadata": {
        "id": "1CoqoEPJRpiQ"
      },
      "source": [
        "#making prediction on X_test\n",
        "y_pred = LogReg.predict(X_test)"
      ],
      "execution_count": 93,
      "outputs": []
    },
    {
      "cell_type": "code",
      "metadata": {
        "id": "Py09EiWPb8PP",
        "colab": {
          "base_uri": "https://localhost:8080/"
        },
        "outputId": "1939e420-12d0-4bfd-9403-9888296f9cca"
      },
      "source": [
        "y_pred_proba = LogReg.predict_proba(X_test)\n",
        "y_pred_proba"
      ],
      "execution_count": 94,
      "outputs": [
        {
          "output_type": "execute_result",
          "data": {
            "text/plain": [
              "array([[0.50383409, 0.49616591],\n",
              "       [0.40381274, 0.59618726],\n",
              "       [0.32731449, 0.67268551],\n",
              "       ...,\n",
              "       [0.13998816, 0.86001184],\n",
              "       [0.32593033, 0.67406967],\n",
              "       [0.35170614, 0.64829386]])"
            ]
          },
          "metadata": {
            "tags": []
          },
          "execution_count": 94
        }
      ]
    },
    {
      "cell_type": "code",
      "metadata": {
        "id": "9VC97-Ddnbrm",
        "colab": {
          "base_uri": "https://localhost:8080/"
        },
        "outputId": "c89d5896-0ca6-4733-8535-e93fd9f8a985"
      },
      "source": [
        "#For the first instance/first stock in the X_test data, the logistic regression model\n",
        "#predicts that there is a 50% chance it will decrease and a 49.8% chance it will increase\n",
        "y_pred_proba[0]"
      ],
      "execution_count": 95,
      "outputs": [
        {
          "output_type": "execute_result",
          "data": {
            "text/plain": [
              "array([0.50383409, 0.49616591])"
            ]
          },
          "metadata": {
            "tags": []
          },
          "execution_count": 95
        }
      ]
    },
    {
      "cell_type": "code",
      "metadata": {
        "id": "er7oeycavw1d",
        "colab": {
          "base_uri": "https://localhost:8080/"
        },
        "outputId": "857b06c8-db04-44fa-ab57-b04ef3f6a7ea"
      },
      "source": [
        "X_test[0] "
      ],
      "execution_count": 96,
      "outputs": [
        {
          "output_type": "execute_result",
          "data": {
            "text/plain": [
              "array([-1.98262962e-02, -2.05147620e-01, -2.43368188e-01, -1.17076483e-01,\n",
              "       -2.19591081e-01, -2.27345563e-01, -2.10925279e-01, -2.50109645e-01,\n",
              "       -2.02493860e-01, -1.52863560e-01, -9.33701340e-02,  2.55160291e-02,\n",
              "       -2.00350627e-01, -8.95012975e-02, -2.01487784e-01, -9.73659644e-03,\n",
              "       -9.18782588e-03, -1.23015419e-01, -1.22338770e-01,  4.45391442e-01,\n",
              "        4.83042684e-01,  4.60636524e-02,  6.30368854e-02,  4.64447950e-02,\n",
              "        6.50420588e-02, -2.41344054e-01, -2.29409542e-01, -2.04573867e-01,\n",
              "        6.27988330e-02,  6.22548735e-02, -7.91811151e-02, -7.62081657e-02,\n",
              "       -9.30829934e-02, -1.89195819e-01, -4.31721813e-02, -1.17843884e-01,\n",
              "       -2.22706697e-01, -1.94481136e-01, -8.28238740e-02, -1.45363236e-01,\n",
              "       -2.40016909e-01, -1.66190780e-01, -1.38793377e-01, -1.03540066e-01,\n",
              "       -1.00047840e-01, -1.57988277e-01, -1.84570908e-01, -1.01302252e-01,\n",
              "       -1.71994521e-01, -8.25597813e-02, -2.39570444e-01, -1.44095516e-01,\n",
              "        8.53325777e-02, -1.71885075e-01, -2.53979333e-01, -1.05260308e-01,\n",
              "       -6.16494343e-02, -5.11647039e-02, -8.78552953e-02, -2.15299339e-01,\n",
              "       -1.21074282e-01, -8.16875520e-02,  2.14427357e-01,  9.20689445e-02,\n",
              "        6.33548923e-02,  1.87038971e-01,  1.53676855e-03,  9.96932882e-02,\n",
              "        2.17090147e-01,  2.30071622e-02,  2.48229585e-02, -1.02197561e-02,\n",
              "       -1.67133133e-01,  1.84442851e-01, -1.74425933e-02, -1.74286363e-02,\n",
              "       -8.52998404e-02, -2.13889309e-01, -1.54235343e-01, -2.34461591e-01,\n",
              "       -3.93573879e-02, -8.59656931e-02, -7.98198893e-02, -2.51860492e-02,\n",
              "       -1.10925915e-02, -1.74457675e-02,  6.37202284e-02,  9.29121382e-02,\n",
              "       -2.99119355e+00,  1.89759696e-01,  0.00000000e+00,  6.73303872e-02,\n",
              "        6.41512086e-02,  2.99261027e+00, -4.29088700e-02, -1.73715110e-02,\n",
              "        6.84809802e-02, -2.99119355e+00,  9.29121382e-02,  6.37202284e-02,\n",
              "       -3.37877449e-02, -5.73726978e-02, -1.96341689e-02,  2.88799286e+00,\n",
              "       -4.66652921e-02, -4.68171546e-02, -1.54692091e-01,  1.88644756e-02,\n",
              "       -3.11890107e-02, -7.57868220e-03, -5.81780977e-02,  1.54627056e-02,\n",
              "       -4.57163103e-01, -4.79151043e-02, -4.15806003e-01, -6.48299860e-01,\n",
              "        4.82250717e-03, -9.74075476e-04, -1.75087098e-02, -1.31901250e-02,\n",
              "       -1.06429634e-02, -2.84019087e-02, -2.51709493e-01, -3.53112229e-03,\n",
              "        8.90825566e-02, -9.74075476e-04, -4.92163303e-02,  7.94604077e-02,\n",
              "        8.90206076e-02, -4.50877949e-02, -3.90570118e-02, -3.39176669e-02,\n",
              "       -1.31901250e-02, -1.06429634e-02, -2.84019087e-02, -1.02444837e-01,\n",
              "       -9.69236744e-02, -3.77511030e-02, -3.67646353e-02, -2.72867961e-02,\n",
              "       -2.02998147e-01, -2.13889309e-01, -8.52998404e-02, -2.34461591e-01,\n",
              "       -1.54235343e-01, -1.74425933e-02, -1.74286363e-02, -8.28260155e-02,\n",
              "       -5.14351022e-02, -2.35512938e-01, -6.89763554e-02, -2.26645027e-03,\n",
              "        7.03388266e-03, -4.79151043e-02, -4.57163103e-01, -3.75105681e-02,\n",
              "       -3.51473170e-01,  4.82250717e-03, -4.22211998e-02,  3.78137546e-01,\n",
              "       -2.51709493e-01, -6.29676466e-02, -6.05638849e-02, -7.42219926e-01,\n",
              "       -8.01396878e-02, -2.84261763e-02,  3.35533118e-02, -5.50886051e-02,\n",
              "       -3.36729669e-01,  6.84809802e-02, -4.29088700e-02,  2.45574517e-01,\n",
              "       -2.38778629e-02, -1.44917061e-01,  1.37261529e-01, -1.49540787e-01,\n",
              "       -1.82344802e-01, -7.27115256e-02, -6.27426291e-02, -3.12151614e-02,\n",
              "       -5.81780977e-02,  1.88644756e-02,  2.77485230e+00, -3.37877449e-02,\n",
              "       -5.73726978e-02, -1.73715110e-02,  3.94396649e-02, -1.92510103e-02,\n",
              "        9.73787622e-03, -8.76899873e-02, -4.16181143e-02, -1.38558284e-01,\n",
              "       -1.74287797e-02, -1.75755819e-02, -4.95930447e-02,  5.27724109e-01,\n",
              "        7.03144762e-03, -4.54599518e-02, -6.26630876e-01, -9.45949738e-02,\n",
              "       -9.87672069e-02, -2.80991570e-01, -2.11898671e-01, -2.14993815e-01,\n",
              "       -2.68343765e-01, -2.46735685e-01, -2.11286800e-01, -1.16436318e+00,\n",
              "       -1.44165320e-02, -3.31264402e-01, -1.89720215e-01,  5.48663283e-02,\n",
              "       -1.62774433e-02, -1.03881845e-01,  2.09773145e-01, -4.25116059e-02,\n",
              "       -1.90835058e-01, -2.90085406e-02, -1.01512811e-01, -2.22557020e-01])"
            ]
          },
          "metadata": {
            "tags": []
          },
          "execution_count": 96
        }
      ]
    },
    {
      "cell_type": "code",
      "metadata": {
        "id": "R5jsqIr3n60h",
        "colab": {
          "base_uri": "https://localhost:8080/"
        },
        "outputId": "6bfb6ce8-3fd8-47ac-b576-aca586fdf0ee"
      },
      "source": [
        "#Array that the gives the probability that the stock will decrease\n",
        "y_pred_proba[:,0]"
      ],
      "execution_count": 97,
      "outputs": [
        {
          "output_type": "execute_result",
          "data": {
            "text/plain": [
              "array([0.50383409, 0.40381274, 0.32731449, ..., 0.13998816, 0.32593033,\n",
              "       0.35170614])"
            ]
          },
          "metadata": {
            "tags": []
          },
          "execution_count": 97
        }
      ]
    },
    {
      "cell_type": "code",
      "metadata": {
        "id": "9mKPRT5RoQiS",
        "colab": {
          "base_uri": "https://localhost:8080/"
        },
        "outputId": "25a4bc82-3b8e-4e1c-d21a-3087b9a6a35e"
      },
      "source": [
        "#Array that gives the probability that the stock will increase\n",
        "probInc = y_pred_proba[:,1]\n",
        "probInc"
      ],
      "execution_count": 98,
      "outputs": [
        {
          "output_type": "execute_result",
          "data": {
            "text/plain": [
              "array([0.49616591, 0.59618726, 0.67268551, ..., 0.86001184, 0.67406967,\n",
              "       0.64829386])"
            ]
          },
          "metadata": {
            "tags": []
          },
          "execution_count": 98
        }
      ]
    },
    {
      "cell_type": "code",
      "metadata": {
        "id": "5Pd9yDDPoYvg",
        "colab": {
          "base_uri": "https://localhost:8080/"
        },
        "outputId": "737d120c-0e1b-4ff4-c850-6d3eaf0920f2"
      },
      "source": [
        "#Array with the predicted class of each instance of the Test data \n",
        "predClasses = (y_pred_proba[:,1]>0.5).astype(np.int64)\n",
        "predClasses"
      ],
      "execution_count": 99,
      "outputs": [
        {
          "output_type": "execute_result",
          "data": {
            "text/plain": [
              "array([0, 1, 1, ..., 1, 1, 1])"
            ]
          },
          "metadata": {
            "tags": []
          },
          "execution_count": 99
        }
      ]
    },
    {
      "cell_type": "code",
      "metadata": {
        "id": "GZ1LQSsuv_1z",
        "colab": {
          "base_uri": "https://localhost:8080/"
        },
        "outputId": "09ad44ab-9069-4507-c12c-ee0d8871d891"
      },
      "source": [
        "X_test[250]"
      ],
      "execution_count": 100,
      "outputs": [
        {
          "output_type": "execute_result",
          "data": {
            "text/plain": [
              "array([ 3.98309047e-02, -2.07575909e-01, -2.60460788e-01, -2.38983247e-02,\n",
              "       -2.22244864e-01, -2.26058808e-01, -2.56509145e-01, -2.50001974e-01,\n",
              "       -2.53673983e-01, -1.54656927e-01, -9.33701340e-02,  2.55160291e-02,\n",
              "       -2.64679998e-01, -8.95012975e-02, -2.66319161e-01, -1.09981419e-02,\n",
              "       -1.05212855e-02, -1.07072103e-01, -1.06803390e-01, -3.92435298e-01,\n",
              "        7.96425780e-01, -1.75406079e-01, -5.92193037e-01, -1.78098696e-01,\n",
              "       -5.95811101e-01, -2.76476808e-01, -2.78355403e-01, -2.68095445e-01,\n",
              "       -5.94164955e-01, -6.09582571e-01, -7.73692611e-02, -6.89916927e-02,\n",
              "       -8.84673085e-02, -1.83148891e-01, -4.39564929e-02, -1.14184154e-01,\n",
              "       -2.22056000e-01, -1.94481136e-01, -8.30175094e-02, -1.48188317e-01,\n",
              "       -2.40085658e-01, -1.64634065e-01, -1.40661379e-01, -1.03665084e-01,\n",
              "       -1.00068677e-01, -1.58032344e-01, -1.84652734e-01, -6.76354472e-02,\n",
              "       -1.73276150e-01, -8.25597813e-02, -2.35577904e-01, -1.43636176e-01,\n",
              "        8.31999452e-02, -2.25771644e-01, -2.45141914e-01, -1.04014953e-01,\n",
              "       -6.89849735e-02, -5.12237920e-02, -8.77247331e-02, -2.15531922e-01,\n",
              "       -7.14103640e-02, -9.15780990e-02,  2.12577950e-01,  9.20689445e-02,\n",
              "        3.44228519e-02,  1.55823328e-01,  1.81012707e-03,  1.07392613e-01,\n",
              "        2.20742040e-01,  2.43426404e-02,  2.50050354e-02, -1.48841482e-02,\n",
              "       -2.05613994e-01,  1.45043156e-01, -1.74408696e-02, -1.74269126e-02,\n",
              "        9.03990870e-01, -2.13889309e-01, -1.54235343e-01, -4.19060597e-02,\n",
              "       -3.93573879e-02, -8.59656931e-02,  8.94479272e-01, -3.46369982e-02,\n",
              "       -3.10496524e-02, -1.74438642e-02, -5.91711528e-01,  6.68131135e-02,\n",
              "       -2.98287574e-02,  3.08971376e-01,  0.00000000e+00, -5.99231816e-01,\n",
              "       -6.10733618e-01,  3.36196102e-02, -1.25733208e-01, -1.73757642e-02,\n",
              "       -8.43681555e-01, -2.98287574e-02,  6.68131135e-02, -5.91711528e-01,\n",
              "       -5.01899963e-02, -1.64972448e-01, -3.09729052e-02, -8.72706285e-01,\n",
              "        4.72302515e-02,  5.59182878e-02,  2.67168787e-01,  2.03550663e-02,\n",
              "        4.07557060e-01, -7.57868220e-03,  1.55535151e-01,  1.54627056e-02,\n",
              "       -5.10435404e-01, -5.29073983e-02, -4.61196228e-01, -7.73797298e-01,\n",
              "       -4.43167064e-01, -3.39825710e-04, -1.75146316e-02, -1.31929632e-02,\n",
              "       -1.06738483e-02, -2.84038665e-02, -7.98306180e-02, -9.63134517e-03,\n",
              "        8.90825566e-02, -3.39825710e-04, -4.64638343e-02,  3.44752274e-02,\n",
              "        4.34997927e-02, -4.50877949e-02, -3.90838758e-02, -3.39219818e-02,\n",
              "       -1.31929632e-02, -1.06738483e-02, -2.84038665e-02, -1.89014136e-01,\n",
              "       -1.43420727e-01, -3.77521748e-02, -3.67646957e-02, -2.63854549e-02,\n",
              "       -1.88835388e-01, -2.13889309e-01,  9.03990870e-01, -4.19060597e-02,\n",
              "       -1.54235343e-01, -1.74408696e-02, -1.74269126e-02,  1.21524207e+00,\n",
              "       -1.07214851e-01, -5.57275357e-02, -5.51995969e-02, -2.67285474e-03,\n",
              "       -2.92803508e-02, -5.29073983e-02, -5.10435404e-01, -1.59810350e-02,\n",
              "        8.21546517e-01, -4.43167064e-01, -2.05883649e-02, -1.79575349e-01,\n",
              "       -7.98306180e-02,  5.59167031e-01,  6.23421775e-01, -7.42219926e-01,\n",
              "       -8.01396878e-02,  1.72499035e-01, -1.11599704e-01,  3.67766300e-01,\n",
              "       -3.36729669e-01, -8.43681555e-01, -1.25733208e-01,  2.53906359e-01,\n",
              "       -2.29192715e-02, -1.43320766e-01,  1.39349527e-01, -1.48482142e-01,\n",
              "       -1.79219098e-01, -7.33795523e-02, -6.40555784e-02,  4.07530863e-01,\n",
              "        1.55535151e-01,  2.03550663e-02, -6.64736346e-02, -5.01899963e-02,\n",
              "       -1.64972448e-01, -1.73757642e-02,  3.94425248e-02,  4.03971842e-02,\n",
              "        1.26700411e-02, -4.87393769e-02, -2.75659158e-02, -4.00760638e-02,\n",
              "       -1.74268474e-02, -1.75078079e-02, -2.75593755e-02, -5.55327587e-02,\n",
              "        2.01961945e-02, -2.86908134e-02,  6.96495365e-02, -1.89412213e+00,\n",
              "        2.15803261e+00, -1.80936320e-01, -2.11898671e-01, -2.14993815e-01,\n",
              "       -2.68343765e-01, -2.46735685e-01, -2.11286800e-01,  2.69201118e-02,\n",
              "       -1.38369826e-01, -6.64396362e-01,  1.08680990e-01,  5.48663283e-02,\n",
              "       -1.62774433e-02,  4.14746941e+01, -9.28685494e-02, -4.39389994e-02,\n",
              "       -2.77494684e-01, -3.25929337e-02,  6.52223913e-02,  5.62302195e-01])"
            ]
          },
          "metadata": {
            "tags": []
          },
          "execution_count": 100
        }
      ]
    },
    {
      "cell_type": "code",
      "metadata": {
        "id": "E-JYsqzgwDKT",
        "colab": {
          "base_uri": "https://localhost:8080/"
        },
        "outputId": "66794717-4b61-4851-9617-6ed3b122a5ad"
      },
      "source": [
        "y_pred_proba[250]"
      ],
      "execution_count": 101,
      "outputs": [
        {
          "output_type": "execute_result",
          "data": {
            "text/plain": [
              "array([0.14700321, 0.85299679])"
            ]
          },
          "metadata": {
            "tags": []
          },
          "execution_count": 101
        }
      ]
    },
    {
      "cell_type": "code",
      "metadata": {
        "id": "nYGE_KfLwqsw",
        "colab": {
          "base_uri": "https://localhost:8080/"
        },
        "outputId": "dafed73c-eb00-4800-f582-646717f67c2f"
      },
      "source": [
        "probInc[250]"
      ],
      "execution_count": 102,
      "outputs": [
        {
          "output_type": "execute_result",
          "data": {
            "text/plain": [
              "0.8529967851440687"
            ]
          },
          "metadata": {
            "tags": []
          },
          "execution_count": 102
        }
      ]
    },
    {
      "cell_type": "code",
      "metadata": {
        "id": "ZE4VOzYfwmZ2",
        "colab": {
          "base_uri": "https://localhost:8080/"
        },
        "outputId": "461619bd-5ee4-4592-9c2f-c76d1dcdef59"
      },
      "source": [
        "predClasses[250]"
      ],
      "execution_count": 103,
      "outputs": [
        {
          "output_type": "execute_result",
          "data": {
            "text/plain": [
              "1"
            ]
          },
          "metadata": {
            "tags": []
          },
          "execution_count": 103
        }
      ]
    },
    {
      "cell_type": "markdown",
      "metadata": {
        "id": "Ra5_Fc3swVb8"
      },
      "source": [
        "For the 250th stock in the X_test data, the Logistic Regression Model predicts that there is a 14% chance the stock will decrease and a 86% chance the stock will increase. The model classifies this stock as Class 1, increase."
      ]
    },
    {
      "cell_type": "markdown",
      "metadata": {
        "id": "N35BCozqximm"
      },
      "source": [
        "# **Interpreting Results of the Logistic Regression Prediction**"
      ]
    },
    {
      "cell_type": "code",
      "metadata": {
        "id": "jUYzK_BYTH78",
        "colab": {
          "base_uri": "https://localhost:8080/"
        },
        "outputId": "d13afb56-1ea4-4551-cc4c-94cefddb9c17"
      },
      "source": [
        "#Accuracy Predicting on the Test Data\n",
        "print('Accuracy: ', LogReg.score(X_test,y_test))"
      ],
      "execution_count": 104,
      "outputs": [
        {
          "output_type": "stream",
          "text": [
            "Accuracy:  0.697632058287796\n"
          ],
          "name": "stdout"
        }
      ]
    },
    {
      "cell_type": "markdown",
      "metadata": {
        "id": "OdZC8HIFo8rF"
      },
      "source": [
        "This Logistic Regression Model has an Accuracy of about 70%"
      ]
    },
    {
      "cell_type": "code",
      "metadata": {
        "id": "iZp8TOhCX9mn",
        "colab": {
          "base_uri": "https://localhost:8080/"
        },
        "outputId": "d57f8030-49d2-4267-a030-512848748842"
      },
      "source": [
        "#Classification Report\n",
        "print(classification_report(y_test, y_pred))"
      ],
      "execution_count": 105,
      "outputs": [
        {
          "output_type": "stream",
          "text": [
            "              precision    recall  f1-score   support\n",
            "\n",
            "           0       0.53      0.18      0.27       339\n",
            "           1       0.72      0.93      0.81       759\n",
            "\n",
            "    accuracy                           0.70      1098\n",
            "   macro avg       0.62      0.56      0.54      1098\n",
            "weighted avg       0.66      0.70      0.64      1098\n",
            "\n"
          ],
          "name": "stdout"
        }
      ]
    },
    {
      "cell_type": "code",
      "metadata": {
        "id": "Wc0cpFmYzPRx"
      },
      "source": [
        "from sklearn.metrics import precision_recall_curve, plot_precision_recall_curve\n",
        "from sklearn.metrics import f1_score"
      ],
      "execution_count": 106,
      "outputs": []
    },
    {
      "cell_type": "code",
      "metadata": {
        "id": "C8UjkHlp1H8Q",
        "colab": {
          "base_uri": "https://localhost:8080/",
          "height": 279
        },
        "outputId": "ab0ff979-03cf-490b-ffd9-947fbc69194a"
      },
      "source": [
        "PRC = plot_precision_recall_curve(LogReg,X_test,y_test)"
      ],
      "execution_count": 53,
      "outputs": [
        {
          "output_type": "display_data",
          "data": {
            "image/png": "[encoded data removed]",
            "text/plain": [
              "<Figure size 432x288 with 1 Axes>"
            ]
          },
          "metadata": {
            "tags": [],
            "needs_background": "light"
          }
        }
      ]
    },
    {
      "cell_type": "markdown",
      "metadata": {
        "id": "tYDBhlYY5j9Z"
      },
      "source": [
        "**Interpretation of Precision and Recall Scores**"
      ]
    },
    {
      "cell_type": "markdown",
      "metadata": {
        "id": "SvqCtF0k_BfS"
      },
      "source": [
        "The precision is the ratio of the correctly predicted positive values (class 0) to all of the values that were predicted positive.\n",
        "- Precision = TP/ TP + FP\n",
        "- With our precision score of about 71%, we know that 71% of the times the model predicted a stock would decrease, it actually decreased. \n"
      ]
    },
    {
      "cell_type": "code",
      "metadata": {
        "id": "qXxAK-O5gPht",
        "colab": {
          "base_uri": "https://localhost:8080/"
        },
        "outputId": "fc299015-a99c-4d59-a444-53166b7cddbf"
      },
      "source": [
        "print(precision_score(y_test,y_pred))"
      ],
      "execution_count": 107,
      "outputs": [
        {
          "output_type": "stream",
          "text": [
            "0.7176350662589195\n"
          ],
          "name": "stdout"
        }
      ]
    },
    {
      "cell_type": "markdown",
      "metadata": {
        "id": "puys_ujNA5IL"
      },
      "source": [
        "The recall is the ratio of correctly predicted positive values (class 0) to all of the values that were actually positive (whether or not they were predicted positive).\n",
        "- Recall = TP/TP+FN\n",
        "- With our recall score of about 92%, we know that about 92% of the stocks that decreased (class 0) were correctly predicted to decrease."
      ]
    },
    {
      "cell_type": "code",
      "metadata": {
        "id": "0tfhm4aHgXde",
        "colab": {
          "base_uri": "https://localhost:8080/"
        },
        "outputId": "42746eee-e57f-49be-ddf8-069de679c1b5"
      },
      "source": [
        "print(recall_score(y_test,y_pred))"
      ],
      "execution_count": 108,
      "outputs": [
        {
          "output_type": "stream",
          "text": [
            "0.927536231884058\n"
          ],
          "name": "stdout"
        }
      ]
    },
    {
      "cell_type": "markdown",
      "metadata": {
        "id": "Ftg-iamB9yoy"
      },
      "source": [
        "P = Precision\n",
        "R = Recall\n",
        "\n",
        "\n",
        "**f1 score = 2 (PR/P+R)**"
      ]
    },
    {
      "cell_type": "code",
      "metadata": {
        "colab": {
          "base_uri": "https://localhost:8080/"
        },
        "id": "MH8UPTDJ9S4c",
        "outputId": "e2c9a2b0-0640-4932-87cc-af2ee6f22216"
      },
      "source": [
        "print(f1_score(y_test, y_pred))"
      ],
      "execution_count": 109,
      "outputs": [
        {
          "output_type": "stream",
          "text": [
            "0.8091954022988506\n"
          ],
          "name": "stdout"
        }
      ]
    },
    {
      "cell_type": "code",
      "metadata": {
        "id": "ht3p9R7-Yw03",
        "colab": {
          "base_uri": "https://localhost:8080/",
          "height": 312
        },
        "outputId": "59f0fcda-5bba-436e-d0d0-fa4a88888673"
      },
      "source": [
        "#Confusion Matrix \n",
        "#TP FP\n",
        "#FN TN\n",
        "\n",
        "CM = confusion_matrix(y_test, y_pred)\n",
        "categories = [0,1]\n",
        "sns.heatmap(pd.DataFrame(CM), annot = True)\n",
        "plt.title('Confusion Matrix')\n",
        "plt.ylabel('Actual')\n",
        "plt.xlabel('Predicted')"
      ],
      "execution_count": 56,
      "outputs": [
        {
          "output_type": "execute_result",
          "data": {
            "text/plain": [
              "Text(0.5, 15.0, 'Predicted')"
            ]
          },
          "metadata": {
            "tags": []
          },
          "execution_count": 56
        },
        {
          "output_type": "display_data",
          "data": {
            "image/png": "[encoded data removed]",
            "text/plain": [
              "<Figure size 432x288 with 2 Axes>"
            ]
          },
          "metadata": {
            "tags": [],
            "needs_background": "light"
          }
        }
      ]
    },
    {
      "cell_type": "markdown",
      "metadata": {
        "id": "WwqBHxrBgqmY"
      },
      "source": [
        "Reminder: 0 represents Class 0 (stocks that dec in value); 1 represents Class 1 (stocks that inc in value)\n",
        "- 1101 stocks that are part of the test data (25% of full data set)\n",
        "- 62 True Positives (predicted Class 0 , is Class 0 )\n",
        "- 700 True Negatives (predicted Class 1, is Class 1)\n",
        "- 280 False Positives (predicted Class 1, is Class 0)\n",
        "- 56 False Negatives (predicted Class 0, is Class 1)\n",
        "\n",
        "Since 700 of the stocks in the test set were true negatives, we can predict that there is a 64% chance any stock will be increasing.\n",
        "700/1100 = 64%"
      ]
    },
    {
      "cell_type": "code",
      "metadata": {
        "id": "IVpnW3GgznuS",
        "colab": {
          "base_uri": "https://localhost:8080/",
          "height": 367
        },
        "outputId": "55e0afda-11ee-4f23-fdbe-3156022b1a4c"
      },
      "source": [
        "plt.figure(figsize = (20,5))\n",
        "plt.scatter(x= X_test[:,19], y = y_test)\n",
        "plt.title('Graph for Actual Classes')\n",
        "plt.xlabel('Dividends per Share')\n",
        "plt.ylabel('Class')"
      ],
      "execution_count": 57,
      "outputs": [
        {
          "output_type": "execute_result",
          "data": {
            "text/plain": [
              "Text(0, 0.5, 'Class')"
            ]
          },
          "metadata": {
            "tags": []
          },
          "execution_count": 57
        },
        {
          "output_type": "display_data",
          "data": {
            "image/png": "[encoded data removed]",
            "text/plain": [
              "<Figure size 1440x360 with 1 Axes>"
            ]
          },
          "metadata": {
            "tags": [],
            "needs_background": "light"
          }
        }
      ]
    },
    {
      "cell_type": "code",
      "metadata": {
        "id": "iSfX6b1o1EaT",
        "colab": {
          "base_uri": "https://localhost:8080/",
          "height": 367
        },
        "outputId": "6cf122d9-f1f1-479e-db82-e4432438c841"
      },
      "source": [
        "plt.figure(figsize = (20,5))\n",
        "plt.scatter(x= X_test[:,19], y = y_pred)\n",
        "plt.title('Graph for Predicted Classes')\n",
        "plt.xlabel('Dividends per Share')\n",
        "plt.ylabel('Class')"
      ],
      "execution_count": 58,
      "outputs": [
        {
          "output_type": "execute_result",
          "data": {
            "text/plain": [
              "Text(0, 0.5, 'Class')"
            ]
          },
          "metadata": {
            "tags": []
          },
          "execution_count": 58
        },
        {
          "output_type": "display_data",
          "data": {
            "image/png": "[encoded data removed]",
            "text/plain": [
              "<Figure size 1440x360 with 1 Axes>"
            ]
          },
          "metadata": {
            "tags": [],
            "needs_background": "light"
          }
        }
      ]
    },
    {
      "cell_type": "markdown",
      "metadata": {
        "id": "HzlmntGq2tVX"
      },
      "source": [
        "After looking at the confusion matrix of our logistic regression model as well as these graphs, we have come to this interpretation of the Logistic Regression Model: \n",
        "- In terms of incorrectly predicting, the model encounters more false positives. The model thinks that the stock will increase when it really does not.\n",
        "-This is shown in the graphs above as well as the confusion matrix. If you look at the bottom of the graphs,there are more points in Class 0 for the actual test class graph on top than the predicted test class graph on the bottom."
      ]
    },
    {
      "cell_type": "markdown",
      "metadata": {
        "id": "4b0ordnA4w68"
      },
      "source": [
        "# Neural Networks"
      ]
    },
    {
      "cell_type": "code",
      "metadata": {
        "id": "F14BJOhAC2Zw"
      },
      "source": [
        "from keras.models import Sequential, load_model \n",
        "from keras.layers import Dense, BatchNormalization\n",
        "from numpy import random\n",
        "from keras.callbacks import EarlyStopping, ModelCheckpoint"
      ],
      "execution_count": 59,
      "outputs": []
    },
    {
      "cell_type": "code",
      "metadata": {
        "id": "vI5Y7Z6-DFK0",
        "colab": {
          "base_uri": "https://localhost:8080/"
        },
        "outputId": "cb5afb9f-efbb-40ff-c6b3-56e058f4386d"
      },
      "source": [
        "#Starting a sequential model \n",
        "random.seed(11)\n",
        "nnmodel = Sequential()\n",
        "#Creating an input layer and a middle layer\n",
        "nnmodel.add(Dense(40, input_shape = (220,),activation = 'relu'))\n",
        "#For some reason this model is very inconsistent (sometimes when I run it the accuracy is about 70%, sometimes 30%, a few times near 94%)\n",
        "#adding batch normalization to see if that will help\n",
        "nnmodel.add(BatchNormalization())\n",
        "#The final layer is an output layer with 1 neuron\n",
        "nnmodel.add(Dense(1, activation = 'sigmoid'))\n",
        "#We are creating a binary classification model \n",
        "nnmodel.compile(loss = 'binary_crossentropy', optimizer = \"sgd\",metrics = ['accuracy'])\n",
        "nnmodel.summary()"
      ],
      "execution_count": 60,
      "outputs": [
        {
          "output_type": "stream",
          "text": [
            "Model: \"sequential\"\n",
            "_________________________________________________________________\n",
            "Layer (type)                 Output Shape              Param #   \n",
            "=================================================================\n",
            "dense (Dense)                (None, 40)                8840      \n",
            "_________________________________________________________________\n",
            "batch_normalization (BatchNo (None, 40)                160       \n",
            "_________________________________________________________________\n",
            "dense_1 (Dense)              (None, 1)                 41        \n",
            "=================================================================\n",
            "Total params: 9,041\n",
            "Trainable params: 8,961\n",
            "Non-trainable params: 80\n",
            "_________________________________________________________________\n"
          ],
          "name": "stdout"
        }
      ]
    },
    {
      "cell_type": "code",
      "metadata": {
        "id": "JFVQ70UHDqOs",
        "colab": {
          "base_uri": "https://localhost:8080/"
        },
        "outputId": "3c8585ca-12b2-432a-b740-90a24dd51fbc"
      },
      "source": [
        "#Using the same train and test data that we used for Logistic Regression\n",
        "#training model for 20 epochs\n",
        "hist1 = nnmodel.fit(X_train,y_train,epochs = 20, validation_data = (X_test, y_test))\n",
        "#Seeing how accurate the neural networks model is on the testing data set \n",
        "accuracy = nnmodel.evaluate(X_test,y_test)\n",
        "print(accuracy)"
      ],
      "execution_count": 61,
      "outputs": [
        {
          "output_type": "stream",
          "text": [
            "Epoch 1/20\n",
            "103/103 [==============================] - 0s 3ms/step - loss: 0.7603 - accuracy: 0.5571 - val_loss: 1.7419 - val_accuracy: 0.6721\n",
            "Epoch 2/20\n",
            "103/103 [==============================] - 0s 1ms/step - loss: 0.6512 - accuracy: 0.6615 - val_loss: 2.4331 - val_accuracy: 0.6849\n",
            "Epoch 3/20\n",
            "103/103 [==============================] - 0s 1ms/step - loss: 0.6005 - accuracy: 0.6910 - val_loss: 2.6104 - val_accuracy: 0.6913\n",
            "Epoch 4/20\n",
            "103/103 [==============================] - 0s 1ms/step - loss: 0.5844 - accuracy: 0.6988 - val_loss: 2.6067 - val_accuracy: 0.6913\n",
            "Epoch 5/20\n",
            "103/103 [==============================] - 0s 1ms/step - loss: 0.5728 - accuracy: 0.7022 - val_loss: 2.5309 - val_accuracy: 0.6913\n",
            "Epoch 6/20\n",
            "103/103 [==============================] - 0s 1ms/step - loss: 0.5667 - accuracy: 0.6995 - val_loss: 2.5852 - val_accuracy: 0.6876\n",
            "Epoch 7/20\n",
            "103/103 [==============================] - 0s 1ms/step - loss: 0.5554 - accuracy: 0.7168 - val_loss: 2.5606 - val_accuracy: 0.6931\n",
            "Epoch 8/20\n",
            "103/103 [==============================] - 0s 1ms/step - loss: 0.5488 - accuracy: 0.7155 - val_loss: 2.5376 - val_accuracy: 0.6931\n",
            "Epoch 9/20\n",
            "103/103 [==============================] - 0s 1ms/step - loss: 0.5447 - accuracy: 0.7186 - val_loss: 2.3916 - val_accuracy: 0.6940\n",
            "Epoch 10/20\n",
            "103/103 [==============================] - 0s 1ms/step - loss: 0.5354 - accuracy: 0.7225 - val_loss: 2.4650 - val_accuracy: 0.6949\n",
            "Epoch 11/20\n",
            "103/103 [==============================] - 0s 1ms/step - loss: 0.5370 - accuracy: 0.7231 - val_loss: 2.4939 - val_accuracy: 0.6931\n",
            "Epoch 12/20\n",
            "103/103 [==============================] - 0s 1ms/step - loss: 0.5391 - accuracy: 0.7253 - val_loss: 2.3662 - val_accuracy: 0.6931\n",
            "Epoch 13/20\n",
            "103/103 [==============================] - 0s 2ms/step - loss: 0.5288 - accuracy: 0.7298 - val_loss: 2.2287 - val_accuracy: 0.6940\n",
            "Epoch 14/20\n",
            "103/103 [==============================] - 0s 1ms/step - loss: 0.5235 - accuracy: 0.7377 - val_loss: 2.1620 - val_accuracy: 0.6949\n",
            "Epoch 15/20\n",
            "103/103 [==============================] - 0s 1ms/step - loss: 0.5242 - accuracy: 0.7304 - val_loss: 2.0450 - val_accuracy: 0.6931\n",
            "Epoch 16/20\n",
            "103/103 [==============================] - 0s 1ms/step - loss: 0.5215 - accuracy: 0.7365 - val_loss: 1.9949 - val_accuracy: 0.6949\n",
            "Epoch 17/20\n",
            "103/103 [==============================] - 0s 1ms/step - loss: 0.5133 - accuracy: 0.7380 - val_loss: 1.9735 - val_accuracy: 0.6976\n",
            "Epoch 18/20\n",
            "103/103 [==============================] - 0s 1ms/step - loss: 0.5129 - accuracy: 0.7417 - val_loss: 1.8779 - val_accuracy: 0.6967\n",
            "Epoch 19/20\n",
            "103/103 [==============================] - 0s 1ms/step - loss: 0.5097 - accuracy: 0.7389 - val_loss: 1.8599 - val_accuracy: 0.6995\n",
            "Epoch 20/20\n",
            "103/103 [==============================] - 0s 1ms/step - loss: 0.5132 - accuracy: 0.7389 - val_loss: 1.7564 - val_accuracy: 0.6949\n",
            "35/35 [==============================] - 0s 818us/step - loss: 1.7564 - accuracy: 0.6949\n",
            "[1.756393313407898, 0.6948997974395752]\n"
          ],
          "name": "stdout"
        }
      ]
    },
    {
      "cell_type": "markdown",
      "metadata": {
        "id": "biaLk-tYpW7B"
      },
      "source": [
        "The model's accuracy varies every time to due an element of randomization in the initial weights, but the highest training accuracy is about 75% and the highest testing accuracy is about 69%"
      ]
    },
    {
      "cell_type": "code",
      "metadata": {
        "id": "tT4_Jl6tjRn-",
        "colab": {
          "base_uri": "https://localhost:8080/",
          "height": 295
        },
        "outputId": "35720c0d-b2c8-4131-ad6c-e43e81dc91ac"
      },
      "source": [
        "#graphing accuracy for this \n",
        "accTrain1 = hist1.history['accuracy']\n",
        "accVal1 = hist1.history['val_accuracy']\n",
        "epochs = range(1,21)\n",
        "plt.plot(epochs,accTrain1, 'g', label = 'accuracy on train data')\n",
        "plt.plot(epochs,accVal1, 'b', label = 'accuracy on test data')\n",
        "plt.title('Epoch vs. Accuracy (relu activation + sigmoid activation)')\n",
        "plt.xlabel('Epoch')\n",
        "plt.ylabel('Accuracy')\n",
        "plt.legend()\n",
        "plt.show()"
      ],
      "execution_count": 62,
      "outputs": [
        {
          "output_type": "display_data",
          "data": {
            "image/png": "[encoded data removed]",
            "text/plain": [
              "<Figure size 432x288 with 1 Axes>"
            ]
          },
          "metadata": {
            "tags": [],
            "needs_background": "light"
          }
        }
      ]
    },
    {
      "cell_type": "code",
      "metadata": {
        "id": "bfNx0_n1DwNJ",
        "colab": {
          "base_uri": "https://localhost:8080/"
        },
        "outputId": "ae2deb41-f4ba-4dfa-87ae-a2c2020e0b8f"
      },
      "source": [
        "#Doing it again with the EarlyStopping and ModelCheckpoint callbacks \n",
        "monitor_val_acc = EarlyStopping(monitor = 'val_acc', patience = 3)\n",
        "modelCheckpoint = ModelCheckpoint('best_NN_Model.hdf5', save_best_only = True)\n",
        "histCB = nnmodel.fit(X_train,y_train, epochs = 100, callbacks = [monitor_val_acc, modelCheckpoint], validation_data = (X_test, y_test))\n",
        "accuracy2 = nnmodel.evaluate(X_test, y_test)"
      ],
      "execution_count": 63,
      "outputs": [
        {
          "output_type": "stream",
          "text": [
            "Epoch 1/100\n",
            " 55/103 [===============>..............] - ETA: 0s - loss: 0.5101 - accuracy: 0.7335WARNING:tensorflow:Early stopping conditioned on metric `val_acc` which is not available. Available metrics are: loss,accuracy,val_loss,val_accuracy\n",
            "103/103 [==============================] - 0s 2ms/step - loss: 0.5115 - accuracy: 0.7359 - val_loss: 1.8032 - val_accuracy: 0.6931\n",
            "Epoch 2/100\n",
            " 87/103 [========================>.....] - ETA: 0s - loss: 0.5067 - accuracy: 0.7428WARNING:tensorflow:Early stopping conditioned on metric `val_acc` which is not available. Available metrics are: loss,accuracy,val_loss,val_accuracy\n",
            "103/103 [==============================] - 0s 2ms/step - loss: 0.5119 - accuracy: 0.7380 - val_loss: 1.6196 - val_accuracy: 0.6958\n",
            "Epoch 3/100\n",
            " 72/103 [===================>..........] - ETA: 0s - loss: 0.5236 - accuracy: 0.7344WARNING:tensorflow:Early stopping conditioned on metric `val_acc` which is not available. Available metrics are: loss,accuracy,val_loss,val_accuracy\n",
            "103/103 [==============================] - 0s 1ms/step - loss: 0.5104 - accuracy: 0.7447 - val_loss: 1.3864 - val_accuracy: 0.6976\n",
            "Epoch 4/100\n",
            "102/103 [============================>.] - ETA: 0s - loss: 0.5099 - accuracy: 0.7371WARNING:tensorflow:Early stopping conditioned on metric `val_acc` which is not available. Available metrics are: loss,accuracy,val_loss,val_accuracy\n",
            "103/103 [==============================] - 0s 1ms/step - loss: 0.5090 - accuracy: 0.7380 - val_loss: 1.4607 - val_accuracy: 0.6976\n",
            "Epoch 5/100\n",
            " 52/103 [==============>...............] - ETA: 0s - loss: 0.4939 - accuracy: 0.7572WARNING:tensorflow:Early stopping conditioned on metric `val_acc` which is not available. Available metrics are: loss,accuracy,val_loss,val_accuracy\n",
            "103/103 [==============================] - 0s 1ms/step - loss: 0.5012 - accuracy: 0.7474 - val_loss: 1.3481 - val_accuracy: 0.6958\n",
            "Epoch 6/100\n",
            " 55/103 [===============>..............] - ETA: 0s - loss: 0.5019 - accuracy: 0.7477WARNING:tensorflow:Early stopping conditioned on metric `val_acc` which is not available. Available metrics are: loss,accuracy,val_loss,val_accuracy\n",
            "103/103 [==============================] - 0s 1ms/step - loss: 0.4964 - accuracy: 0.7489 - val_loss: 1.1868 - val_accuracy: 0.6958\n",
            "Epoch 7/100\n",
            "103/103 [==============================] - ETA: 0s - loss: 0.4970 - accuracy: 0.7477WARNING:tensorflow:Early stopping conditioned on metric `val_acc` which is not available. Available metrics are: loss,accuracy,val_loss,val_accuracy\n",
            "103/103 [==============================] - 0s 2ms/step - loss: 0.4970 - accuracy: 0.7477 - val_loss: 0.9752 - val_accuracy: 0.6958\n",
            "Epoch 8/100\n",
            " 99/103 [===========================>..] - ETA: 0s - loss: 0.5020 - accuracy: 0.7472WARNING:tensorflow:Early stopping conditioned on metric `val_acc` which is not available. Available metrics are: loss,accuracy,val_loss,val_accuracy\n",
            "103/103 [==============================] - 0s 2ms/step - loss: 0.5010 - accuracy: 0.7483 - val_loss: 0.8012 - val_accuracy: 0.6940\n",
            "Epoch 9/100\n",
            " 77/103 [=====================>........] - ETA: 0s - loss: 0.5024 - accuracy: 0.7484WARNING:tensorflow:Early stopping conditioned on metric `val_acc` which is not available. Available metrics are: loss,accuracy,val_loss,val_accuracy\n",
            "103/103 [==============================] - 0s 2ms/step - loss: 0.5000 - accuracy: 0.7450 - val_loss: 0.7167 - val_accuracy: 0.6922\n",
            "Epoch 10/100\n",
            "103/103 [==============================] - ETA: 0s - loss: 0.4957 - accuracy: 0.7480WARNING:tensorflow:Early stopping conditioned on metric `val_acc` which is not available. Available metrics are: loss,accuracy,val_loss,val_accuracy\n",
            "103/103 [==============================] - 0s 2ms/step - loss: 0.4957 - accuracy: 0.7480 - val_loss: 0.6675 - val_accuracy: 0.6967\n",
            "Epoch 11/100\n",
            "102/103 [============================>.] - ETA: 0s - loss: 0.4934 - accuracy: 0.7549WARNING:tensorflow:Early stopping conditioned on metric `val_acc` which is not available. Available metrics are: loss,accuracy,val_loss,val_accuracy\n",
            "103/103 [==============================] - 0s 1ms/step - loss: 0.4938 - accuracy: 0.7547 - val_loss: 0.7242 - val_accuracy: 0.6958\n",
            "Epoch 12/100\n",
            "102/103 [============================>.] - ETA: 0s - loss: 0.4926 - accuracy: 0.7552WARNING:tensorflow:Early stopping conditioned on metric `val_acc` which is not available. Available metrics are: loss,accuracy,val_loss,val_accuracy\n",
            "103/103 [==============================] - 0s 1ms/step - loss: 0.4917 - accuracy: 0.7556 - val_loss: 0.6875 - val_accuracy: 0.6940\n",
            "Epoch 13/100\n",
            " 51/103 [=============>................] - ETA: 0s - loss: 0.4897 - accuracy: 0.7531WARNING:tensorflow:Early stopping conditioned on metric `val_acc` which is not available. Available metrics are: loss,accuracy,val_loss,val_accuracy\n",
            "103/103 [==============================] - 0s 1ms/step - loss: 0.4921 - accuracy: 0.7532 - val_loss: 0.6744 - val_accuracy: 0.6949\n",
            "Epoch 14/100\n",
            " 77/103 [=====================>........] - ETA: 0s - loss: 0.4795 - accuracy: 0.7589WARNING:tensorflow:Early stopping conditioned on metric `val_acc` which is not available. Available metrics are: loss,accuracy,val_loss,val_accuracy\n",
            "103/103 [==============================] - 0s 985us/step - loss: 0.4844 - accuracy: 0.7550 - val_loss: 0.7889 - val_accuracy: 0.6958\n",
            "Epoch 15/100\n",
            " 77/103 [=====================>........] - ETA: 0s - loss: 0.4876 - accuracy: 0.7581WARNING:tensorflow:Early stopping conditioned on metric `val_acc` which is not available. Available metrics are: loss,accuracy,val_loss,val_accuracy\n",
            "103/103 [==============================] - 0s 1ms/step - loss: 0.4857 - accuracy: 0.7583 - val_loss: 0.7904 - val_accuracy: 0.6940\n",
            "Epoch 16/100\n",
            " 92/103 [=========================>....] - ETA: 0s - loss: 0.4782 - accuracy: 0.7578WARNING:tensorflow:Early stopping conditioned on metric `val_acc` which is not available. Available metrics are: loss,accuracy,val_loss,val_accuracy\n",
            "103/103 [==============================] - 0s 1ms/step - loss: 0.4785 - accuracy: 0.7587 - val_loss: 0.7582 - val_accuracy: 0.6940\n",
            "Epoch 17/100\n",
            " 93/103 [==========================>...] - ETA: 0s - loss: 0.4725 - accuracy: 0.7661WARNING:tensorflow:Early stopping conditioned on metric `val_acc` which is not available. Available metrics are: loss,accuracy,val_loss,val_accuracy\n",
            "103/103 [==============================] - 0s 1ms/step - loss: 0.4753 - accuracy: 0.7641 - val_loss: 0.7656 - val_accuracy: 0.6967\n",
            "Epoch 18/100\n",
            " 52/103 [==============>...............] - ETA: 0s - loss: 0.4646 - accuracy: 0.7728WARNING:tensorflow:Early stopping conditioned on metric `val_acc` which is not available. Available metrics are: loss,accuracy,val_loss,val_accuracy\n",
            "103/103 [==============================] - 0s 1ms/step - loss: 0.4778 - accuracy: 0.7577 - val_loss: 0.7085 - val_accuracy: 0.6913\n",
            "Epoch 19/100\n",
            " 46/103 [============>.................] - ETA: 0s - loss: 0.4702 - accuracy: 0.7717WARNING:tensorflow:Early stopping conditioned on metric `val_acc` which is not available. Available metrics are: loss,accuracy,val_loss,val_accuracy\n",
            "103/103 [==============================] - 0s 1ms/step - loss: 0.4824 - accuracy: 0.7568 - val_loss: 0.8841 - val_accuracy: 0.6949\n",
            "Epoch 20/100\n",
            " 75/103 [====================>.........] - ETA: 0s - loss: 0.4828 - accuracy: 0.7546WARNING:tensorflow:Early stopping conditioned on metric `val_acc` which is not available. Available metrics are: loss,accuracy,val_loss,val_accuracy\n",
            "103/103 [==============================] - 0s 938us/step - loss: 0.4853 - accuracy: 0.7535 - val_loss: 0.8562 - val_accuracy: 0.6931\n",
            "Epoch 21/100\n",
            " 73/103 [====================>.........] - ETA: 0s - loss: 0.4673 - accuracy: 0.7654WARNING:tensorflow:Early stopping conditioned on metric `val_acc` which is not available. Available metrics are: loss,accuracy,val_loss,val_accuracy\n",
            "103/103 [==============================] - 0s 1ms/step - loss: 0.4735 - accuracy: 0.7626 - val_loss: 0.8939 - val_accuracy: 0.6958\n",
            "Epoch 22/100\n",
            " 53/103 [==============>...............] - ETA: 0s - loss: 0.4637 - accuracy: 0.7836WARNING:tensorflow:Early stopping conditioned on metric `val_acc` which is not available. Available metrics are: loss,accuracy,val_loss,val_accuracy\n",
            "103/103 [==============================] - 0s 1ms/step - loss: 0.4702 - accuracy: 0.7720 - val_loss: 0.8951 - val_accuracy: 0.6949\n",
            "Epoch 23/100\n",
            " 57/103 [===============>..............] - ETA: 0s - loss: 0.4683 - accuracy: 0.7823WARNING:tensorflow:Early stopping conditioned on metric `val_acc` which is not available. Available metrics are: loss,accuracy,val_loss,val_accuracy\n",
            "103/103 [==============================] - 0s 1ms/step - loss: 0.4700 - accuracy: 0.7717 - val_loss: 0.8582 - val_accuracy: 0.6967\n",
            "Epoch 24/100\n",
            " 76/103 [=====================>........] - ETA: 0s - loss: 0.4800 - accuracy: 0.7660WARNING:tensorflow:Early stopping conditioned on metric `val_acc` which is not available. Available metrics are: loss,accuracy,val_loss,val_accuracy\n",
            "103/103 [==============================] - 0s 1ms/step - loss: 0.4802 - accuracy: 0.7678 - val_loss: 0.8621 - val_accuracy: 0.6967\n",
            "Epoch 25/100\n",
            "102/103 [============================>.] - ETA: 0s - loss: 0.4728 - accuracy: 0.7659WARNING:tensorflow:Early stopping conditioned on metric `val_acc` which is not available. Available metrics are: loss,accuracy,val_loss,val_accuracy\n",
            "103/103 [==============================] - 0s 1ms/step - loss: 0.4736 - accuracy: 0.7653 - val_loss: 0.9003 - val_accuracy: 0.6958\n",
            "Epoch 26/100\n",
            " 52/103 [==============>...............] - ETA: 0s - loss: 0.4658 - accuracy: 0.7728WARNING:tensorflow:Early stopping conditioned on metric `val_acc` which is not available. Available metrics are: loss,accuracy,val_loss,val_accuracy\n",
            "103/103 [==============================] - 0s 1ms/step - loss: 0.4673 - accuracy: 0.7720 - val_loss: 0.8697 - val_accuracy: 0.6976\n",
            "Epoch 27/100\n",
            " 68/103 [==================>...........] - ETA: 0s - loss: 0.4581 - accuracy: 0.7780WARNING:tensorflow:Early stopping conditioned on metric `val_acc` which is not available. Available metrics are: loss,accuracy,val_loss,val_accuracy\n",
            "103/103 [==============================] - 0s 1ms/step - loss: 0.4697 - accuracy: 0.7708 - val_loss: 0.7711 - val_accuracy: 0.6958\n",
            "Epoch 28/100\n",
            "100/103 [============================>.] - ETA: 0s - loss: 0.4736 - accuracy: 0.7672WARNING:tensorflow:Early stopping conditioned on metric `val_acc` which is not available. Available metrics are: loss,accuracy,val_loss,val_accuracy\n",
            "103/103 [==============================] - 0s 1ms/step - loss: 0.4720 - accuracy: 0.7693 - val_loss: 0.8006 - val_accuracy: 0.6995\n",
            "Epoch 29/100\n",
            " 98/103 [===========================>..] - ETA: 0s - loss: 0.4667 - accuracy: 0.7663WARNING:tensorflow:Early stopping conditioned on metric `val_acc` which is not available. Available metrics are: loss,accuracy,val_loss,val_accuracy\n",
            "103/103 [==============================] - 0s 1ms/step - loss: 0.4682 - accuracy: 0.7650 - val_loss: 0.8026 - val_accuracy: 0.6985\n",
            "Epoch 30/100\n",
            "102/103 [============================>.] - ETA: 0s - loss: 0.4636 - accuracy: 0.7742WARNING:tensorflow:Early stopping conditioned on metric `val_acc` which is not available. Available metrics are: loss,accuracy,val_loss,val_accuracy\n",
            "103/103 [==============================] - 0s 1ms/step - loss: 0.4635 - accuracy: 0.7741 - val_loss: 0.7406 - val_accuracy: 0.7013\n",
            "Epoch 31/100\n",
            " 83/103 [=======================>......] - ETA: 0s - loss: 0.4677 - accuracy: 0.7669WARNING:tensorflow:Early stopping conditioned on metric `val_acc` which is not available. Available metrics are: loss,accuracy,val_loss,val_accuracy\n",
            "103/103 [==============================] - 0s 2ms/step - loss: 0.4673 - accuracy: 0.7693 - val_loss: 0.6554 - val_accuracy: 0.6976\n",
            "Epoch 32/100\n",
            " 90/103 [=========================>....] - ETA: 0s - loss: 0.4675 - accuracy: 0.7691WARNING:tensorflow:Early stopping conditioned on metric `val_acc` which is not available. Available metrics are: loss,accuracy,val_loss,val_accuracy\n",
            "103/103 [==============================] - 0s 2ms/step - loss: 0.4673 - accuracy: 0.7675 - val_loss: 0.6474 - val_accuracy: 0.6958\n",
            "Epoch 33/100\n",
            "101/103 [============================>.] - ETA: 0s - loss: 0.4636 - accuracy: 0.7701WARNING:tensorflow:Early stopping conditioned on metric `val_acc` which is not available. Available metrics are: loss,accuracy,val_loss,val_accuracy\n",
            "103/103 [==============================] - 0s 1ms/step - loss: 0.4648 - accuracy: 0.7696 - val_loss: 0.6665 - val_accuracy: 0.7022\n",
            "Epoch 34/100\n",
            "102/103 [============================>.] - ETA: 0s - loss: 0.4575 - accuracy: 0.7736WARNING:tensorflow:Early stopping conditioned on metric `val_acc` which is not available. Available metrics are: loss,accuracy,val_loss,val_accuracy\n",
            "103/103 [==============================] - 0s 1ms/step - loss: 0.4578 - accuracy: 0.7732 - val_loss: 0.7107 - val_accuracy: 0.6995\n",
            "Epoch 35/100\n",
            "100/103 [============================>.] - ETA: 0s - loss: 0.4547 - accuracy: 0.7775WARNING:tensorflow:Early stopping conditioned on metric `val_acc` which is not available. Available metrics are: loss,accuracy,val_loss,val_accuracy\n",
            "103/103 [==============================] - 0s 1ms/step - loss: 0.4567 - accuracy: 0.7757 - val_loss: 0.7089 - val_accuracy: 0.6995\n",
            "Epoch 36/100\n",
            "103/103 [==============================] - ETA: 0s - loss: 0.4599 - accuracy: 0.7769WARNING:tensorflow:Early stopping conditioned on metric `val_acc` which is not available. Available metrics are: loss,accuracy,val_loss,val_accuracy\n",
            "103/103 [==============================] - 0s 1ms/step - loss: 0.4599 - accuracy: 0.7769 - val_loss: 0.7265 - val_accuracy: 0.6995\n",
            "Epoch 37/100\n",
            " 88/103 [========================>.....] - ETA: 0s - loss: 0.4537 - accuracy: 0.7816WARNING:tensorflow:Early stopping conditioned on metric `val_acc` which is not available. Available metrics are: loss,accuracy,val_loss,val_accuracy\n",
            "103/103 [==============================] - 0s 2ms/step - loss: 0.4610 - accuracy: 0.7781 - val_loss: 0.7523 - val_accuracy: 0.6958\n",
            "Epoch 38/100\n",
            "102/103 [============================>.] - ETA: 0s - loss: 0.4635 - accuracy: 0.7650WARNING:tensorflow:Early stopping conditioned on metric `val_acc` which is not available. Available metrics are: loss,accuracy,val_loss,val_accuracy\n",
            "103/103 [==============================] - 0s 1ms/step - loss: 0.4636 - accuracy: 0.7647 - val_loss: 0.7803 - val_accuracy: 0.6958\n",
            "Epoch 39/100\n",
            " 98/103 [===========================>..] - ETA: 0s - loss: 0.4586 - accuracy: 0.7777WARNING:tensorflow:Early stopping conditioned on metric `val_acc` which is not available. Available metrics are: loss,accuracy,val_loss,val_accuracy\n",
            "103/103 [==============================] - 0s 1ms/step - loss: 0.4576 - accuracy: 0.7793 - val_loss: 0.8161 - val_accuracy: 0.6949\n",
            "Epoch 40/100\n",
            " 79/103 [======================>.......] - ETA: 0s - loss: 0.4485 - accuracy: 0.7832WARNING:tensorflow:Early stopping conditioned on metric `val_acc` which is not available. Available metrics are: loss,accuracy,val_loss,val_accuracy\n",
            "103/103 [==============================] - 0s 2ms/step - loss: 0.4495 - accuracy: 0.7805 - val_loss: 0.7500 - val_accuracy: 0.6995\n",
            "Epoch 41/100\n",
            " 52/103 [==============>...............] - ETA: 0s - loss: 0.4537 - accuracy: 0.7680WARNING:tensorflow:Early stopping conditioned on metric `val_acc` which is not available. Available metrics are: loss,accuracy,val_loss,val_accuracy\n",
            "103/103 [==============================] - 0s 1ms/step - loss: 0.4494 - accuracy: 0.7769 - val_loss: 0.7471 - val_accuracy: 0.6967\n",
            "Epoch 42/100\n",
            "103/103 [==============================] - ETA: 0s - loss: 0.4562 - accuracy: 0.7772WARNING:tensorflow:Early stopping conditioned on metric `val_acc` which is not available. Available metrics are: loss,accuracy,val_loss,val_accuracy\n",
            "103/103 [==============================] - 0s 1ms/step - loss: 0.4562 - accuracy: 0.7772 - val_loss: 0.7918 - val_accuracy: 0.6995\n",
            "Epoch 43/100\n",
            "100/103 [============================>.] - ETA: 0s - loss: 0.4594 - accuracy: 0.7772WARNING:tensorflow:Early stopping conditioned on metric `val_acc` which is not available. Available metrics are: loss,accuracy,val_loss,val_accuracy\n",
            "103/103 [==============================] - 0s 1ms/step - loss: 0.4583 - accuracy: 0.7778 - val_loss: 0.8083 - val_accuracy: 0.6949\n",
            "Epoch 44/100\n",
            " 91/103 [=========================>....] - ETA: 0s - loss: 0.4385 - accuracy: 0.7871WARNING:tensorflow:Early stopping conditioned on metric `val_acc` which is not available. Available metrics are: loss,accuracy,val_loss,val_accuracy\n",
            "103/103 [==============================] - 0s 2ms/step - loss: 0.4418 - accuracy: 0.7845 - val_loss: 0.8275 - val_accuracy: 0.6985\n",
            "Epoch 45/100\n",
            " 99/103 [===========================>..] - ETA: 0s - loss: 0.4549 - accuracy: 0.7737WARNING:tensorflow:Early stopping conditioned on metric `val_acc` which is not available. Available metrics are: loss,accuracy,val_loss,val_accuracy\n",
            "103/103 [==============================] - 0s 1ms/step - loss: 0.4526 - accuracy: 0.7750 - val_loss: 0.6636 - val_accuracy: 0.7004\n",
            "Epoch 46/100\n",
            "102/103 [============================>.] - ETA: 0s - loss: 0.4587 - accuracy: 0.7708WARNING:tensorflow:Early stopping conditioned on metric `val_acc` which is not available. Available metrics are: loss,accuracy,val_loss,val_accuracy\n",
            "103/103 [==============================] - 0s 1ms/step - loss: 0.4578 - accuracy: 0.7717 - val_loss: 0.6870 - val_accuracy: 0.6976\n",
            "Epoch 47/100\n",
            " 98/103 [===========================>..] - ETA: 0s - loss: 0.4451 - accuracy: 0.7886WARNING:tensorflow:Early stopping conditioned on metric `val_acc` which is not available. Available metrics are: loss,accuracy,val_loss,val_accuracy\n",
            "103/103 [==============================] - 0s 1ms/step - loss: 0.4468 - accuracy: 0.7872 - val_loss: 0.6766 - val_accuracy: 0.6940\n",
            "Epoch 48/100\n",
            " 98/103 [===========================>..] - ETA: 0s - loss: 0.4438 - accuracy: 0.7844WARNING:tensorflow:Early stopping conditioned on metric `val_acc` which is not available. Available metrics are: loss,accuracy,val_loss,val_accuracy\n",
            "103/103 [==============================] - 0s 1ms/step - loss: 0.4449 - accuracy: 0.7845 - val_loss: 0.6567 - val_accuracy: 0.6949\n",
            "Epoch 49/100\n",
            " 97/103 [===========================>..] - ETA: 0s - loss: 0.4363 - accuracy: 0.7909WARNING:tensorflow:Early stopping conditioned on metric `val_acc` which is not available. Available metrics are: loss,accuracy,val_loss,val_accuracy\n",
            "103/103 [==============================] - 0s 1ms/step - loss: 0.4405 - accuracy: 0.7881 - val_loss: 0.8534 - val_accuracy: 0.6995\n",
            "Epoch 50/100\n",
            " 91/103 [=========================>....] - ETA: 0s - loss: 0.4476 - accuracy: 0.7874WARNING:tensorflow:Early stopping conditioned on metric `val_acc` which is not available. Available metrics are: loss,accuracy,val_loss,val_accuracy\n",
            "103/103 [==============================] - 0s 2ms/step - loss: 0.4509 - accuracy: 0.7854 - val_loss: 0.9551 - val_accuracy: 0.6976\n",
            "Epoch 51/100\n",
            " 96/103 [==========================>...] - ETA: 0s - loss: 0.4408 - accuracy: 0.7900WARNING:tensorflow:Early stopping conditioned on metric `val_acc` which is not available. Available metrics are: loss,accuracy,val_loss,val_accuracy\n",
            "103/103 [==============================] - 0s 1ms/step - loss: 0.4403 - accuracy: 0.7902 - val_loss: 0.9246 - val_accuracy: 0.6985\n",
            "Epoch 52/100\n",
            " 57/103 [===============>..............] - ETA: 0s - loss: 0.4463 - accuracy: 0.7741WARNING:tensorflow:Early stopping conditioned on metric `val_acc` which is not available. Available metrics are: loss,accuracy,val_loss,val_accuracy\n",
            "103/103 [==============================] - 0s 1ms/step - loss: 0.4359 - accuracy: 0.7896 - val_loss: 0.8599 - val_accuracy: 0.6958\n",
            "Epoch 53/100\n",
            " 74/103 [====================>.........] - ETA: 0s - loss: 0.4301 - accuracy: 0.7918WARNING:tensorflow:Early stopping conditioned on metric `val_acc` which is not available. Available metrics are: loss,accuracy,val_loss,val_accuracy\n",
            "103/103 [==============================] - 0s 956us/step - loss: 0.4337 - accuracy: 0.7866 - val_loss: 0.8070 - val_accuracy: 0.6949\n",
            "Epoch 54/100\n",
            " 66/103 [==================>...........] - ETA: 0s - loss: 0.4293 - accuracy: 0.7940WARNING:tensorflow:Early stopping conditioned on metric `val_acc` which is not available. Available metrics are: loss,accuracy,val_loss,val_accuracy\n",
            "103/103 [==============================] - 0s 1ms/step - loss: 0.4315 - accuracy: 0.7905 - val_loss: 0.8297 - val_accuracy: 0.6985\n",
            "Epoch 55/100\n",
            " 98/103 [===========================>..] - ETA: 0s - loss: 0.4416 - accuracy: 0.7848WARNING:tensorflow:Early stopping conditioned on metric `val_acc` which is not available. Available metrics are: loss,accuracy,val_loss,val_accuracy\n",
            "103/103 [==============================] - 0s 1ms/step - loss: 0.4413 - accuracy: 0.7869 - val_loss: 0.6918 - val_accuracy: 0.6967\n",
            "Epoch 56/100\n",
            "100/103 [============================>.] - ETA: 0s - loss: 0.4382 - accuracy: 0.7837WARNING:tensorflow:Early stopping conditioned on metric `val_acc` which is not available. Available metrics are: loss,accuracy,val_loss,val_accuracy\n",
            "103/103 [==============================] - 0s 1ms/step - loss: 0.4383 - accuracy: 0.7832 - val_loss: 0.7605 - val_accuracy: 0.6958\n",
            "Epoch 57/100\n",
            " 91/103 [=========================>....] - ETA: 0s - loss: 0.4433 - accuracy: 0.7761WARNING:tensorflow:Early stopping conditioned on metric `val_acc` which is not available. Available metrics are: loss,accuracy,val_loss,val_accuracy\n",
            "103/103 [==============================] - 0s 2ms/step - loss: 0.4381 - accuracy: 0.7811 - val_loss: 0.8575 - val_accuracy: 0.6976\n",
            "Epoch 58/100\n",
            " 90/103 [=========================>....] - ETA: 0s - loss: 0.4307 - accuracy: 0.7924WARNING:tensorflow:Early stopping conditioned on metric `val_acc` which is not available. Available metrics are: loss,accuracy,val_loss,val_accuracy\n",
            "103/103 [==============================] - 0s 2ms/step - loss: 0.4346 - accuracy: 0.7893 - val_loss: 0.7297 - val_accuracy: 0.6922\n",
            "Epoch 59/100\n",
            " 90/103 [=========================>....] - ETA: 0s - loss: 0.4252 - accuracy: 0.7969WARNING:tensorflow:Early stopping conditioned on metric `val_acc` which is not available. Available metrics are: loss,accuracy,val_loss,val_accuracy\n",
            "103/103 [==============================] - 0s 2ms/step - loss: 0.4315 - accuracy: 0.7936 - val_loss: 0.7881 - val_accuracy: 0.6940\n",
            "Epoch 60/100\n",
            " 85/103 [=======================>......] - ETA: 0s - loss: 0.4288 - accuracy: 0.7893WARNING:tensorflow:Early stopping conditioned on metric `val_acc` which is not available. Available metrics are: loss,accuracy,val_loss,val_accuracy\n",
            "103/103 [==============================] - 0s 2ms/step - loss: 0.4297 - accuracy: 0.7893 - val_loss: 0.7085 - val_accuracy: 0.6976\n",
            "Epoch 61/100\n",
            "101/103 [============================>.] - ETA: 0s - loss: 0.4287 - accuracy: 0.7983WARNING:tensorflow:Early stopping conditioned on metric `val_acc` which is not available. Available metrics are: loss,accuracy,val_loss,val_accuracy\n",
            "103/103 [==============================] - 0s 1ms/step - loss: 0.4312 - accuracy: 0.7963 - val_loss: 0.6861 - val_accuracy: 0.6922\n",
            "Epoch 62/100\n",
            " 97/103 [===========================>..] - ETA: 0s - loss: 0.4349 - accuracy: 0.7870WARNING:tensorflow:Early stopping conditioned on metric `val_acc` which is not available. Available metrics are: loss,accuracy,val_loss,val_accuracy\n",
            "103/103 [==============================] - 0s 1ms/step - loss: 0.4330 - accuracy: 0.7890 - val_loss: 0.7234 - val_accuracy: 0.6985\n",
            "Epoch 63/100\n",
            " 97/103 [===========================>..] - ETA: 0s - loss: 0.4363 - accuracy: 0.7874WARNING:tensorflow:Early stopping conditioned on metric `val_acc` which is not available. Available metrics are: loss,accuracy,val_loss,val_accuracy\n",
            "103/103 [==============================] - 0s 2ms/step - loss: 0.4333 - accuracy: 0.7884 - val_loss: 0.6446 - val_accuracy: 0.6940\n",
            "Epoch 64/100\n",
            " 95/103 [==========================>...] - ETA: 0s - loss: 0.4297 - accuracy: 0.7970WARNING:tensorflow:Early stopping conditioned on metric `val_acc` which is not available. Available metrics are: loss,accuracy,val_loss,val_accuracy\n",
            "103/103 [==============================] - 0s 2ms/step - loss: 0.4303 - accuracy: 0.7963 - val_loss: 0.6957 - val_accuracy: 0.6931\n",
            "Epoch 65/100\n",
            " 99/103 [===========================>..] - ETA: 0s - loss: 0.4193 - accuracy: 0.7958WARNING:tensorflow:Early stopping conditioned on metric `val_acc` which is not available. Available metrics are: loss,accuracy,val_loss,val_accuracy\n",
            "103/103 [==============================] - 0s 1ms/step - loss: 0.4222 - accuracy: 0.7963 - val_loss: 0.7226 - val_accuracy: 0.6967\n",
            "Epoch 66/100\n",
            " 91/103 [=========================>....] - ETA: 0s - loss: 0.4266 - accuracy: 0.7926WARNING:tensorflow:Early stopping conditioned on metric `val_acc` which is not available. Available metrics are: loss,accuracy,val_loss,val_accuracy\n",
            "103/103 [==============================] - 0s 2ms/step - loss: 0.4289 - accuracy: 0.7911 - val_loss: 0.7391 - val_accuracy: 0.6949\n",
            "Epoch 67/100\n",
            " 92/103 [=========================>....] - ETA: 0s - loss: 0.4212 - accuracy: 0.7962WARNING:tensorflow:Early stopping conditioned on metric `val_acc` which is not available. Available metrics are: loss,accuracy,val_loss,val_accuracy\n",
            "103/103 [==============================] - 0s 1ms/step - loss: 0.4237 - accuracy: 0.7954 - val_loss: 0.8073 - val_accuracy: 0.6949\n",
            "Epoch 68/100\n",
            " 97/103 [===========================>..] - ETA: 0s - loss: 0.4295 - accuracy: 0.7890WARNING:tensorflow:Early stopping conditioned on metric `val_acc` which is not available. Available metrics are: loss,accuracy,val_loss,val_accuracy\n",
            "103/103 [==============================] - 0s 2ms/step - loss: 0.4312 - accuracy: 0.7878 - val_loss: 0.6288 - val_accuracy: 0.6940\n",
            "Epoch 69/100\n",
            " 92/103 [=========================>....] - ETA: 0s - loss: 0.4267 - accuracy: 0.7993WARNING:tensorflow:Early stopping conditioned on metric `val_acc` which is not available. Available metrics are: loss,accuracy,val_loss,val_accuracy\n",
            "103/103 [==============================] - 0s 2ms/step - loss: 0.4274 - accuracy: 0.7978 - val_loss: 0.6236 - val_accuracy: 0.6931\n",
            "Epoch 70/100\n",
            " 91/103 [=========================>....] - ETA: 0s - loss: 0.4257 - accuracy: 0.7964WARNING:tensorflow:Early stopping conditioned on metric `val_acc` which is not available. Available metrics are: loss,accuracy,val_loss,val_accuracy\n",
            "103/103 [==============================] - 0s 2ms/step - loss: 0.4284 - accuracy: 0.7939 - val_loss: 0.7713 - val_accuracy: 0.6976\n",
            "Epoch 71/100\n",
            "101/103 [============================>.] - ETA: 0s - loss: 0.4244 - accuracy: 0.7942WARNING:tensorflow:Early stopping conditioned on metric `val_acc` which is not available. Available metrics are: loss,accuracy,val_loss,val_accuracy\n",
            "103/103 [==============================] - 0s 1ms/step - loss: 0.4238 - accuracy: 0.7942 - val_loss: 0.8912 - val_accuracy: 0.6985\n",
            "Epoch 72/100\n",
            " 91/103 [=========================>....] - ETA: 0s - loss: 0.4349 - accuracy: 0.7881WARNING:tensorflow:Early stopping conditioned on metric `val_acc` which is not available. Available metrics are: loss,accuracy,val_loss,val_accuracy\n",
            "103/103 [==============================] - 0s 2ms/step - loss: 0.4298 - accuracy: 0.7911 - val_loss: 0.8043 - val_accuracy: 0.6894\n",
            "Epoch 73/100\n",
            "101/103 [============================>.] - ETA: 0s - loss: 0.4235 - accuracy: 0.7905WARNING:tensorflow:Early stopping conditioned on metric `val_acc` which is not available. Available metrics are: loss,accuracy,val_loss,val_accuracy\n",
            "103/103 [==============================] - 0s 1ms/step - loss: 0.4225 - accuracy: 0.7908 - val_loss: 0.7833 - val_accuracy: 0.7004\n",
            "Epoch 74/100\n",
            " 84/103 [=======================>......] - ETA: 0s - loss: 0.4173 - accuracy: 0.8021WARNING:tensorflow:Early stopping conditioned on metric `val_acc` which is not available. Available metrics are: loss,accuracy,val_loss,val_accuracy\n",
            "103/103 [==============================] - 0s 2ms/step - loss: 0.4189 - accuracy: 0.7972 - val_loss: 0.6413 - val_accuracy: 0.6985\n",
            "Epoch 75/100\n",
            " 96/103 [==========================>...] - ETA: 0s - loss: 0.4089 - accuracy: 0.8086WARNING:tensorflow:Early stopping conditioned on metric `val_acc` which is not available. Available metrics are: loss,accuracy,val_loss,val_accuracy\n",
            "103/103 [==============================] - 0s 2ms/step - loss: 0.4128 - accuracy: 0.8051 - val_loss: 0.7493 - val_accuracy: 0.6995\n",
            "Epoch 76/100\n",
            " 80/103 [======================>.......] - ETA: 0s - loss: 0.4201 - accuracy: 0.8023WARNING:tensorflow:Early stopping conditioned on metric `val_acc` which is not available. Available metrics are: loss,accuracy,val_loss,val_accuracy\n",
            "103/103 [==============================] - 0s 2ms/step - loss: 0.4229 - accuracy: 0.8005 - val_loss: 0.8959 - val_accuracy: 0.6976\n",
            "Epoch 77/100\n",
            " 91/103 [=========================>....] - ETA: 0s - loss: 0.4130 - accuracy: 0.8049WARNING:tensorflow:Early stopping conditioned on metric `val_acc` which is not available. Available metrics are: loss,accuracy,val_loss,val_accuracy\n",
            "103/103 [==============================] - 0s 2ms/step - loss: 0.4151 - accuracy: 0.8015 - val_loss: 0.6497 - val_accuracy: 0.6949\n",
            "Epoch 78/100\n",
            " 95/103 [==========================>...] - ETA: 0s - loss: 0.4198 - accuracy: 0.7984WARNING:tensorflow:Early stopping conditioned on metric `val_acc` which is not available. Available metrics are: loss,accuracy,val_loss,val_accuracy\n",
            "103/103 [==============================] - 0s 1ms/step - loss: 0.4215 - accuracy: 0.7984 - val_loss: 0.8055 - val_accuracy: 0.6995\n",
            "Epoch 79/100\n",
            " 92/103 [=========================>....] - ETA: 0s - loss: 0.4152 - accuracy: 0.8047WARNING:tensorflow:Early stopping conditioned on metric `val_acc` which is not available. Available metrics are: loss,accuracy,val_loss,val_accuracy\n",
            "103/103 [==============================] - 0s 2ms/step - loss: 0.4146 - accuracy: 0.8048 - val_loss: 0.7643 - val_accuracy: 0.6931\n",
            "Epoch 80/100\n",
            " 90/103 [=========================>....] - ETA: 0s - loss: 0.4212 - accuracy: 0.7896WARNING:tensorflow:Early stopping conditioned on metric `val_acc` which is not available. Available metrics are: loss,accuracy,val_loss,val_accuracy\n",
            "103/103 [==============================] - 0s 2ms/step - loss: 0.4223 - accuracy: 0.7914 - val_loss: 0.9090 - val_accuracy: 0.7004\n",
            "Epoch 81/100\n",
            " 89/103 [========================>.....] - ETA: 0s - loss: 0.4319 - accuracy: 0.7904WARNING:tensorflow:Early stopping conditioned on metric `val_acc` which is not available. Available metrics are: loss,accuracy,val_loss,val_accuracy\n",
            "103/103 [==============================] - 0s 2ms/step - loss: 0.4244 - accuracy: 0.7963 - val_loss: 1.0180 - val_accuracy: 0.6985\n",
            "Epoch 82/100\n",
            "100/103 [============================>.] - ETA: 0s - loss: 0.4234 - accuracy: 0.7972WARNING:tensorflow:Early stopping conditioned on metric `val_acc` which is not available. Available metrics are: loss,accuracy,val_loss,val_accuracy\n",
            "103/103 [==============================] - 0s 1ms/step - loss: 0.4221 - accuracy: 0.7969 - val_loss: 1.0949 - val_accuracy: 0.6995\n",
            "Epoch 83/100\n",
            " 92/103 [=========================>....] - ETA: 0s - loss: 0.4250 - accuracy: 0.7914WARNING:tensorflow:Early stopping conditioned on metric `val_acc` which is not available. Available metrics are: loss,accuracy,val_loss,val_accuracy\n",
            "103/103 [==============================] - 0s 2ms/step - loss: 0.4195 - accuracy: 0.7960 - val_loss: 1.0796 - val_accuracy: 0.6958\n",
            "Epoch 84/100\n",
            " 93/103 [==========================>...] - ETA: 0s - loss: 0.4121 - accuracy: 0.7964WARNING:tensorflow:Early stopping conditioned on metric `val_acc` which is not available. Available metrics are: loss,accuracy,val_loss,val_accuracy\n",
            "103/103 [==============================] - 0s 2ms/step - loss: 0.4121 - accuracy: 0.7969 - val_loss: 0.8629 - val_accuracy: 0.6967\n",
            "Epoch 85/100\n",
            "100/103 [============================>.] - ETA: 0s - loss: 0.4219 - accuracy: 0.7900WARNING:tensorflow:Early stopping conditioned on metric `val_acc` which is not available. Available metrics are: loss,accuracy,val_loss,val_accuracy\n",
            "103/103 [==============================] - 0s 1ms/step - loss: 0.4228 - accuracy: 0.7896 - val_loss: 0.6991 - val_accuracy: 0.6967\n",
            "Epoch 86/100\n",
            "100/103 [============================>.] - ETA: 0s - loss: 0.4123 - accuracy: 0.8028WARNING:tensorflow:Early stopping conditioned on metric `val_acc` which is not available. Available metrics are: loss,accuracy,val_loss,val_accuracy\n",
            "103/103 [==============================] - 0s 1ms/step - loss: 0.4129 - accuracy: 0.8027 - val_loss: 0.8298 - val_accuracy: 0.7004\n",
            "Epoch 87/100\n",
            "102/103 [============================>.] - ETA: 0s - loss: 0.4125 - accuracy: 0.8027WARNING:tensorflow:Early stopping conditioned on metric `val_acc` which is not available. Available metrics are: loss,accuracy,val_loss,val_accuracy\n",
            "103/103 [==============================] - 0s 1ms/step - loss: 0.4131 - accuracy: 0.8030 - val_loss: 0.8020 - val_accuracy: 0.6958\n",
            "Epoch 88/100\n",
            " 75/103 [====================>.........] - ETA: 0s - loss: 0.4204 - accuracy: 0.7992WARNING:tensorflow:Early stopping conditioned on metric `val_acc` which is not available. Available metrics are: loss,accuracy,val_loss,val_accuracy\n",
            "103/103 [==============================] - 0s 2ms/step - loss: 0.4109 - accuracy: 0.8036 - val_loss: 0.8724 - val_accuracy: 0.7031\n",
            "Epoch 89/100\n",
            " 89/103 [========================>.....] - ETA: 0s - loss: 0.4051 - accuracy: 0.8104WARNING:tensorflow:Early stopping conditioned on metric `val_acc` which is not available. Available metrics are: loss,accuracy,val_loss,val_accuracy\n",
            "103/103 [==============================] - 0s 2ms/step - loss: 0.4055 - accuracy: 0.8087 - val_loss: 0.8452 - val_accuracy: 0.6995\n",
            "Epoch 90/100\n",
            " 85/103 [=======================>......] - ETA: 0s - loss: 0.4014 - accuracy: 0.8132WARNING:tensorflow:Early stopping conditioned on metric `val_acc` which is not available. Available metrics are: loss,accuracy,val_loss,val_accuracy\n",
            "103/103 [==============================] - 0s 2ms/step - loss: 0.4067 - accuracy: 0.8081 - val_loss: 0.8078 - val_accuracy: 0.7004\n",
            "Epoch 91/100\n",
            " 97/103 [===========================>..] - ETA: 0s - loss: 0.3980 - accuracy: 0.8106WARNING:tensorflow:Early stopping conditioned on metric `val_acc` which is not available. Available metrics are: loss,accuracy,val_loss,val_accuracy\n",
            "103/103 [==============================] - 0s 2ms/step - loss: 0.3989 - accuracy: 0.8090 - val_loss: 0.8521 - val_accuracy: 0.6976\n",
            "Epoch 92/100\n",
            " 97/103 [===========================>..] - ETA: 0s - loss: 0.4136 - accuracy: 0.8003WARNING:tensorflow:Early stopping conditioned on metric `val_acc` which is not available. Available metrics are: loss,accuracy,val_loss,val_accuracy\n",
            "103/103 [==============================] - 0s 1ms/step - loss: 0.4122 - accuracy: 0.8021 - val_loss: 1.0615 - val_accuracy: 0.6922\n",
            "Epoch 93/100\n",
            " 81/103 [======================>.......] - ETA: 0s - loss: 0.4136 - accuracy: 0.8002WARNING:tensorflow:Early stopping conditioned on metric `val_acc` which is not available. Available metrics are: loss,accuracy,val_loss,val_accuracy\n",
            "103/103 [==============================] - 0s 2ms/step - loss: 0.4157 - accuracy: 0.7999 - val_loss: 0.8624 - val_accuracy: 0.7013\n",
            "Epoch 94/100\n",
            " 86/103 [========================>.....] - ETA: 0s - loss: 0.4098 - accuracy: 0.8031WARNING:tensorflow:Early stopping conditioned on metric `val_acc` which is not available. Available metrics are: loss,accuracy,val_loss,val_accuracy\n",
            "103/103 [==============================] - 0s 2ms/step - loss: 0.4051 - accuracy: 0.8057 - val_loss: 0.6416 - val_accuracy: 0.6958\n",
            "Epoch 95/100\n",
            "100/103 [============================>.] - ETA: 0s - loss: 0.4073 - accuracy: 0.8075WARNING:tensorflow:Early stopping conditioned on metric `val_acc` which is not available. Available metrics are: loss,accuracy,val_loss,val_accuracy\n",
            "103/103 [==============================] - 0s 1ms/step - loss: 0.4063 - accuracy: 0.8081 - val_loss: 0.6442 - val_accuracy: 0.6995\n",
            "Epoch 96/100\n",
            " 46/103 [============>.................] - ETA: 0s - loss: 0.4075 - accuracy: 0.8071WARNING:tensorflow:Early stopping conditioned on metric `val_acc` which is not available. Available metrics are: loss,accuracy,val_loss,val_accuracy\n",
            "103/103 [==============================] - 0s 1ms/step - loss: 0.4126 - accuracy: 0.8075 - val_loss: 0.8004 - val_accuracy: 0.6985\n",
            "Epoch 97/100\n",
            " 90/103 [=========================>....] - ETA: 0s - loss: 0.4153 - accuracy: 0.7990WARNING:tensorflow:Early stopping conditioned on metric `val_acc` which is not available. Available metrics are: loss,accuracy,val_loss,val_accuracy\n",
            "103/103 [==============================] - 0s 2ms/step - loss: 0.4089 - accuracy: 0.8033 - val_loss: 0.7609 - val_accuracy: 0.6922\n",
            "Epoch 98/100\n",
            " 95/103 [==========================>...] - ETA: 0s - loss: 0.4096 - accuracy: 0.8010WARNING:tensorflow:Early stopping conditioned on metric `val_acc` which is not available. Available metrics are: loss,accuracy,val_loss,val_accuracy\n",
            "103/103 [==============================] - 0s 2ms/step - loss: 0.4107 - accuracy: 0.8002 - val_loss: 0.9427 - val_accuracy: 0.6976\n",
            "Epoch 99/100\n",
            " 90/103 [=========================>....] - ETA: 0s - loss: 0.4001 - accuracy: 0.8167WARNING:tensorflow:Early stopping conditioned on metric `val_acc` which is not available. Available metrics are: loss,accuracy,val_loss,val_accuracy\n",
            "103/103 [==============================] - 0s 2ms/step - loss: 0.4014 - accuracy: 0.8163 - val_loss: 0.8541 - val_accuracy: 0.6949\n",
            "Epoch 100/100\n",
            " 83/103 [=======================>......] - ETA: 0s - loss: 0.4034 - accuracy: 0.8117WARNING:tensorflow:Early stopping conditioned on metric `val_acc` which is not available. Available metrics are: loss,accuracy,val_loss,val_accuracy\n",
            "103/103 [==============================] - 0s 2ms/step - loss: 0.4038 - accuracy: 0.8103 - val_loss: 1.0448 - val_accuracy: 0.7004\n",
            "35/35 [==============================] - 0s 941us/step - loss: 1.0448 - accuracy: 0.7004\n"
          ],
          "name": "stdout"
        }
      ]
    },
    {
      "cell_type": "code",
      "metadata": {
        "id": "2tdEFnMaE7vA",
        "colab": {
          "base_uri": "https://localhost:8080/",
          "height": 295
        },
        "outputId": "71a4b8cb-6106-487c-d5b9-013923aeb929"
      },
      "source": [
        "plt.figure()\n",
        "plt.plot(histCB.history['accuracy'])\n",
        "plt.plot(histCB.history['val_accuracy'])\n",
        "plt.title('Accuracy of the Neural Networks Model')\n",
        "plt.ylabel('Accuracy')\n",
        "plt.xlabel('Epoch')\n",
        "plt.legend(['Train', 'Test'])\n",
        "plt.show()\n",
        "#this represents a model that is starting to overfit as the training accuracy is going up while the test accuracy is not improving"
      ],
      "execution_count": 64,
      "outputs": [
        {
          "output_type": "display_data",
          "data": {
            "image/png": "[encoded data removed]",
            "text/plain": [
              "<Figure size 432x288 with 1 Axes>"
            ]
          },
          "metadata": {
            "tags": [],
            "needs_background": "light"
          }
        }
      ]
    },
    {
      "cell_type": "code",
      "metadata": {
        "id": "GLnBpv6Eqo2L"
      },
      "source": [
        "from keras.models import load_model"
      ],
      "execution_count": 65,
      "outputs": []
    },
    {
      "cell_type": "code",
      "metadata": {
        "id": "Yawiy-Mzp8O_",
        "colab": {
          "base_uri": "https://localhost:8080/"
        },
        "outputId": "bb74f7c9-3a3c-4661-972a-69c52b22a536"
      },
      "source": [
        "#Using the model that was saved from the modelCheckpoint Callback\n",
        "best_model = load_model('best_NN_Model.hdf5')\n",
        "best_model.evaluate(X_test, y_test)"
      ],
      "execution_count": 66,
      "outputs": [
        {
          "output_type": "stream",
          "text": [
            "35/35 [==============================] - 0s 773us/step - loss: 0.6236 - accuracy: 0.6931\n"
          ],
          "name": "stdout"
        },
        {
          "output_type": "execute_result",
          "data": {
            "text/plain": [
              "[0.6236174702644348, 0.693078339099884]"
            ]
          },
          "metadata": {
            "tags": []
          },
          "execution_count": 66
        }
      ]
    },
    {
      "cell_type": "markdown",
      "metadata": {
        "id": "kFyPmHl3q7xs"
      },
      "source": [
        "Highest validation accuracy (accuracy predicting on test set) is about 70%"
      ]
    },
    {
      "cell_type": "markdown",
      "metadata": {
        "id": "VnCTZ6PjamHR"
      },
      "source": [
        "**Comparing loss and accuracy of different activation functions **"
      ]
    },
    {
      "cell_type": "code",
      "metadata": {
        "id": "Z6MZFT3WauFV"
      },
      "source": [
        "np.random.seed(21)\n",
        "def get_model(act_function):\n",
        "  model = Sequential()\n",
        "  model.add(Dense(40, input_shape = (220,), activation = act_function))\n",
        "  model.add(Dense(1, activation = 'sigmoid'))\n",
        "  return model "
      ],
      "execution_count": 67,
      "outputs": []
    },
    {
      "cell_type": "code",
      "metadata": {
        "id": "gKmrIPsbbFjf"
      },
      "source": [
        "activations = ['relu', 'tanh','sigmoid']\n",
        "activation_results = {}\n",
        "for a in activations:\n",
        "  model = get_model(a)\n",
        "  model.compile(loss = 'binary_crossentropy', optimizer = \"sgd\",metrics = ['accuracy'])\n",
        "  h_callback = model.fit(X_train, y_train, epochs = 20, validation_data = (X_test, y_test), verbose = 0)\n",
        "  activation_results[a] = h_callback"
      ],
      "execution_count": 68,
      "outputs": []
    },
    {
      "cell_type": "code",
      "metadata": {
        "id": "zUyyhY5OczrX",
        "colab": {
          "base_uri": "https://localhost:8080/",
          "height": 298
        },
        "outputId": "2dfaf20a-5f66-48d6-b16e-10b266487b03"
      },
      "source": [
        "val_loss_per_function = {k:v.history['val_loss'] for k,v in activation_results.items()}\n",
        "val_loss_curves = pd.DataFrame(val_loss_per_function)\n",
        "val_loss_curves.plot(title = \"Loss for each Activation Function\")"
      ],
      "execution_count": 69,
      "outputs": [
        {
          "output_type": "execute_result",
          "data": {
            "text/plain": [
              "<matplotlib.axes._subplots.AxesSubplot at 0x7f8fc7d65da0>"
            ]
          },
          "metadata": {
            "tags": []
          },
          "execution_count": 69
        },
        {
          "output_type": "display_data",
          "data": {
            "image/png": "[encoded data removed]",
            "text/plain": [
              "<Figure size 432x288 with 1 Axes>"
            ]
          },
          "metadata": {
            "tags": [],
            "needs_background": "light"
          }
        }
      ]
    },
    {
      "cell_type": "code",
      "metadata": {
        "id": "hr7LD-EodUsj",
        "colab": {
          "base_uri": "https://localhost:8080/",
          "height": 298
        },
        "outputId": "50268e25-e6c0-4d9c-dc69-f208d3c1a3c6"
      },
      "source": [
        "val_acc_per_function = {k:v.history['val_accuracy'] for k,v in activation_results.items()}\n",
        "val_acc_curves = pd.DataFrame(val_acc_per_function)\n",
        "val_acc_curves.plot(title = \"Accuracy for each Activation Function\")"
      ],
      "execution_count": 70,
      "outputs": [
        {
          "output_type": "execute_result",
          "data": {
            "text/plain": [
              "<matplotlib.axes._subplots.AxesSubplot at 0x7f8fc4ec27f0>"
            ]
          },
          "metadata": {
            "tags": []
          },
          "execution_count": 70
        },
        {
          "output_type": "display_data",
          "data": {
            "image/png": "[encoded data removed]",
            "text/plain": [
              "<Figure size 432x288 with 1 Axes>"
            ]
          },
          "metadata": {
            "tags": [],
            "needs_background": "light"
          }
        }
      ]
    },
    {
      "cell_type": "markdown",
      "metadata": {
        "id": "O37kPIXdd7O0"
      },
      "source": [
        "The tanh activation function displays the lowest loss"
      ]
    },
    {
      "cell_type": "markdown",
      "metadata": {
        "id": "Js30bWYNeBuw"
      },
      "source": [
        "**Neural network model using tanh activation function"
      ]
    },
    {
      "cell_type": "code",
      "metadata": {
        "id": "rszLlJ6neFji",
        "colab": {
          "base_uri": "https://localhost:8080/"
        },
        "outputId": "f3e88acf-fd48-4111-bc2d-8a6f36a16c0f"
      },
      "source": [
        "#Starting a sequential model \n",
        "random.seed(7)\n",
        "modelT = Sequential()\n",
        "#Creating an input layer and a middle layer\n",
        "modelT.add(Dense(40, input_shape = (220,),activation = 'tanh'))\n",
        "#The final layer is an output layer with 1 neuron\n",
        "modelT.add(Dense(1, activation = 'sigmoid'))\n",
        "#We are creating a binary classification model \n",
        "modelT.compile(loss = 'binary_crossentropy', optimizer = \"sgd\",metrics = ['accuracy'])\n",
        "modelT.summary()"
      ],
      "execution_count": 71,
      "outputs": [
        {
          "output_type": "stream",
          "text": [
            "Model: \"sequential_4\"\n",
            "_________________________________________________________________\n",
            "Layer (type)                 Output Shape              Param #   \n",
            "=================================================================\n",
            "dense_8 (Dense)              (None, 40)                8840      \n",
            "_________________________________________________________________\n",
            "dense_9 (Dense)              (None, 1)                 41        \n",
            "=================================================================\n",
            "Total params: 8,881\n",
            "Trainable params: 8,881\n",
            "Non-trainable params: 0\n",
            "_________________________________________________________________\n"
          ],
          "name": "stdout"
        }
      ]
    },
    {
      "cell_type": "code",
      "metadata": {
        "id": "15GNYEKmeqnO",
        "colab": {
          "base_uri": "https://localhost:8080/"
        },
        "outputId": "a15b9583-cb7a-4189-d9fe-9af8169334d9"
      },
      "source": [
        "#Using the same train and test data that we used for Logistic Regression\n",
        "#training model for 20 epochs\n",
        "histT = modelT.fit(X_train,y_train,epochs = 20, validation_data = (X_test, y_test)) \n",
        "#Seeing how accurate the neural networks model is on the testing data set \n",
        "accuracy = modelT.evaluate(X_test,y_test)\n",
        "print(accuracy)"
      ],
      "execution_count": 72,
      "outputs": [
        {
          "output_type": "stream",
          "text": [
            "Epoch 1/20\n",
            "103/103 [==============================] - 0s 2ms/step - loss: 0.6696 - accuracy: 0.6190 - val_loss: 0.6374 - val_accuracy: 0.6639\n",
            "Epoch 2/20\n",
            "103/103 [==============================] - 0s 1ms/step - loss: 0.6149 - accuracy: 0.6767 - val_loss: 0.6069 - val_accuracy: 0.6758\n",
            "Epoch 3/20\n",
            "103/103 [==============================] - 0s 1ms/step - loss: 0.5904 - accuracy: 0.6858 - val_loss: 0.5930 - val_accuracy: 0.6803\n",
            "Epoch 4/20\n",
            "103/103 [==============================] - 0s 1ms/step - loss: 0.5770 - accuracy: 0.6922 - val_loss: 0.5845 - val_accuracy: 0.6767\n",
            "Epoch 5/20\n",
            "103/103 [==============================] - 0s 1ms/step - loss: 0.5680 - accuracy: 0.6961 - val_loss: 0.5796 - val_accuracy: 0.6849\n",
            "Epoch 6/20\n",
            "103/103 [==============================] - 0s 1ms/step - loss: 0.5616 - accuracy: 0.7019 - val_loss: 0.5770 - val_accuracy: 0.6885\n",
            "Epoch 7/20\n",
            "103/103 [==============================] - 0s 1ms/step - loss: 0.5567 - accuracy: 0.7061 - val_loss: 0.5751 - val_accuracy: 0.6913\n",
            "Epoch 8/20\n",
            "103/103 [==============================] - 0s 1ms/step - loss: 0.5526 - accuracy: 0.7128 - val_loss: 0.5737 - val_accuracy: 0.6885\n",
            "Epoch 9/20\n",
            "103/103 [==============================] - 0s 1ms/step - loss: 0.5491 - accuracy: 0.7149 - val_loss: 0.5724 - val_accuracy: 0.6885\n",
            "Epoch 10/20\n",
            "103/103 [==============================] - 0s 1ms/step - loss: 0.5460 - accuracy: 0.7186 - val_loss: 0.5717 - val_accuracy: 0.6894\n",
            "Epoch 11/20\n",
            "103/103 [==============================] - 0s 1ms/step - loss: 0.5433 - accuracy: 0.7204 - val_loss: 0.5709 - val_accuracy: 0.6894\n",
            "Epoch 12/20\n",
            "103/103 [==============================] - 0s 1ms/step - loss: 0.5408 - accuracy: 0.7192 - val_loss: 0.5702 - val_accuracy: 0.6913\n",
            "Epoch 13/20\n",
            "103/103 [==============================] - 0s 1ms/step - loss: 0.5387 - accuracy: 0.7210 - val_loss: 0.5698 - val_accuracy: 0.6931\n",
            "Epoch 14/20\n",
            "103/103 [==============================] - 0s 1ms/step - loss: 0.5365 - accuracy: 0.7234 - val_loss: 0.5696 - val_accuracy: 0.6903\n",
            "Epoch 15/20\n",
            "103/103 [==============================] - 0s 1ms/step - loss: 0.5344 - accuracy: 0.7237 - val_loss: 0.5693 - val_accuracy: 0.6903\n",
            "Epoch 16/20\n",
            "103/103 [==============================] - 0s 1ms/step - loss: 0.5326 - accuracy: 0.7247 - val_loss: 0.5690 - val_accuracy: 0.6931\n",
            "Epoch 17/20\n",
            "103/103 [==============================] - 0s 1ms/step - loss: 0.5308 - accuracy: 0.7286 - val_loss: 0.5690 - val_accuracy: 0.6931\n",
            "Epoch 18/20\n",
            "103/103 [==============================] - 0s 1ms/step - loss: 0.5291 - accuracy: 0.7307 - val_loss: 0.5690 - val_accuracy: 0.6922\n",
            "Epoch 19/20\n",
            "103/103 [==============================] - 0s 1ms/step - loss: 0.5274 - accuracy: 0.7295 - val_loss: 0.5689 - val_accuracy: 0.6940\n",
            "Epoch 20/20\n",
            "103/103 [==============================] - 0s 1ms/step - loss: 0.5259 - accuracy: 0.7313 - val_loss: 0.5690 - val_accuracy: 0.6949\n",
            "35/35 [==============================] - 0s 771us/step - loss: 0.5690 - accuracy: 0.6949\n",
            "[0.5690395832061768, 0.6948997974395752]\n"
          ],
          "name": "stdout"
        }
      ]
    },
    {
      "cell_type": "markdown",
      "metadata": {
        "id": "LWbS_cNJDaim"
      },
      "source": [
        "Graphs showing the accuracies and losses for different Epochs"
      ]
    },
    {
      "cell_type": "code",
      "metadata": {
        "id": "k4fUFRbDDKWQ",
        "colab": {
          "base_uri": "https://localhost:8080/",
          "height": 295
        },
        "outputId": "e4b65d7a-6398-4b82-acb9-89263ea9eb5d"
      },
      "source": [
        "lossT = histT.history['loss']\n",
        "valLossT = histT.history['val_loss']\n",
        "epochs = range(1,21)\n",
        "plt.plot(epochs,lossT, 'g', label = 'Training loss')\n",
        "plt.plot(epochs, valLossT, 'b', label = 'Validation Loss (validataion data is test data)')\n",
        "plt.title('Training and Validation Loss')\n",
        "plt.xlabel('Epochs')\n",
        "plt.ylabel('Loss')\n",
        "plt.legend()\n",
        "plt.show()"
      ],
      "execution_count": 73,
      "outputs": [
        {
          "output_type": "display_data",
          "data": {
            "image/png": "[encoded data removed]",
            "text/plain": [
              "<Figure size 432x288 with 1 Axes>"
            ]
          },
          "metadata": {
            "tags": [],
            "needs_background": "light"
          }
        }
      ]
    },
    {
      "cell_type": "code",
      "metadata": {
        "id": "_XT3cohSDWnG",
        "colab": {
          "base_uri": "https://localhost:8080/",
          "height": 295
        },
        "outputId": "66fdac1b-6ba5-49da-9066-d0dbdf806d22"
      },
      "source": [
        "accT = histT.history['accuracy']\n",
        "valAccT = histT.history['val_accuracy']\n",
        "epochs = range(1,21)\n",
        "plt.plot(epochs,accT, 'g', label = 'Training Accuracy')\n",
        "plt.plot(epochs,valAccT,'b', label = 'Validation Accuracy (validation data is test data)')\n",
        "plt.xlabel('Epoch')\n",
        "plt.ylabel('Accuracy')\n",
        "plt.title('Epoch vs. Accuracy for Tanh Activation Function')\n",
        "plt.legend()\n",
        "plt.show()"
      ],
      "execution_count": 74,
      "outputs": [
        {
          "output_type": "display_data",
          "data": {
            "image/png": "[encoded data removed]",
            "text/plain": [
              "<Figure size 432x288 with 1 Axes>"
            ]
          },
          "metadata": {
            "tags": [],
            "needs_background": "light"
          }
        }
      ]
    },
    {
      "cell_type": "markdown",
      "metadata": {
        "id": "Zf0IpOe24obf"
      },
      "source": [
        "# Decision Trees"
      ]
    },
    {
      "cell_type": "code",
      "metadata": {
        "id": "30pss0PDkn5A"
      },
      "source": [
        "from sklearn.tree import DecisionTreeClassifier\n",
        "from sklearn.model_selection import train_test_split\n",
        "from sklearn.metrics import accuracy_score"
      ],
      "execution_count": 75,
      "outputs": []
    },
    {
      "cell_type": "code",
      "metadata": {
        "id": "4fNRQB2AiY3w"
      },
      "source": [
        "regex = re.compile(r\"\\[|\\]|<\", re.IGNORECASE)\n",
        "\n",
        "df.columns = [regex.sub(\"_\", col) if any(x in str(col) for x in set(('[', ']', '<'))) else col for col in df.columns.values]"
      ],
      "execution_count": 76,
      "outputs": []
    },
    {
      "cell_type": "code",
      "metadata": {
        "id": "vxTl-adlixGt"
      },
      "source": [
        "#Splitting data into training and testing data\n",
        "X_train_dt, X_test_dt, y_train_dt, y_test_dt = train_test_split(X,y,test_size = 0.2, stratify = y, random_state = 99)\n",
        "\n",
        "#Instantiate dt\n",
        "dt = DecisionTreeClassifier(criterion = 'entropy', random_state=99)"
      ],
      "execution_count": 77,
      "outputs": []
    },
    {
      "cell_type": "code",
      "metadata": {
        "id": "bIKByMX_24LE"
      },
      "source": [
        "scal = preprocessing.StandardScaler()\n",
        "X_train_dt = scal.fit_transform(X_train_dt)\n",
        "X_test_dt = scal.transform(X_test_dt)"
      ],
      "execution_count": 78,
      "outputs": []
    },
    {
      "cell_type": "code",
      "metadata": {
        "id": "bDdkcLbvi2XW",
        "colab": {
          "base_uri": "https://localhost:8080/"
        },
        "outputId": "a69c4b83-8ec6-4fe9-cd72-b7a48e1468cb"
      },
      "source": [
        "#Fit dt to the training set\n",
        "dt.fit(X_train_dt, y_train_dt)"
      ],
      "execution_count": 79,
      "outputs": [
        {
          "output_type": "execute_result",
          "data": {
            "text/plain": [
              "DecisionTreeClassifier(ccp_alpha=0.0, class_weight=None, criterion='entropy',\n",
              "                       max_depth=None, max_features=None, max_leaf_nodes=None,\n",
              "                       min_impurity_decrease=0.0, min_impurity_split=None,\n",
              "                       min_samples_leaf=1, min_samples_split=2,\n",
              "                       min_weight_fraction_leaf=0.0, presort='deprecated',\n",
              "                       random_state=99, splitter='best')"
            ]
          },
          "metadata": {
            "tags": []
          },
          "execution_count": 79
        }
      ]
    },
    {
      "cell_type": "code",
      "metadata": {
        "colab": {
          "base_uri": "https://localhost:8080/"
        },
        "id": "YgbrHceI45CC",
        "outputId": "c2d82975-fb51-4897-9f75-fa8a06de9071"
      },
      "source": [
        "#The probability of classification for the test data\n",
        "y_pred_probDT = dt.predict_proba(X_test_dt)\n",
        "y_pred_probDT"
      ],
      "execution_count": 80,
      "outputs": [
        {
          "output_type": "execute_result",
          "data": {
            "text/plain": [
              "array([[0., 1.],\n",
              "       [0., 1.],\n",
              "       [1., 0.],\n",
              "       ...,\n",
              "       [0., 1.],\n",
              "       [1., 0.],\n",
              "       [1., 0.]])"
            ]
          },
          "metadata": {
            "tags": []
          },
          "execution_count": 80
        }
      ]
    },
    {
      "cell_type": "code",
      "metadata": {
        "id": "GPfZoNwOi4OV",
        "colab": {
          "base_uri": "https://localhost:8080/"
        },
        "outputId": "2d5582f0-b8e1-4f99-e5e9-76f00df4aa17"
      },
      "source": [
        "#Predict test set labels\n",
        "y_pred = dt.predict(X_test_dt)\n",
        "\n",
        "#Evaluate test-set accuracy using function\n",
        "accuracy_score(y_test_dt, y_pred)"
      ],
      "execution_count": 81,
      "outputs": [
        {
          "output_type": "execute_result",
          "data": {
            "text/plain": [
              "0.6962457337883959"
            ]
          },
          "metadata": {
            "tags": []
          },
          "execution_count": 81
        }
      ]
    },
    {
      "cell_type": "code",
      "metadata": {
        "id": "1_aYZjXYi74p",
        "colab": {
          "base_uri": "https://localhost:8080/"
        },
        "outputId": "25255d5f-0f45-4b95-bd8b-94072733c075"
      },
      "source": [
        "#Evaluate test-set accuracy by formula\n",
        "accuracy = float(np.sum(y_pred==y_test_dt))/y_test_dt.shape[0]\n",
        "accuracy"
      ],
      "execution_count": 82,
      "outputs": [
        {
          "output_type": "execute_result",
          "data": {
            "text/plain": [
              "0.6962457337883959"
            ]
          },
          "metadata": {
            "tags": []
          },
          "execution_count": 82
        }
      ]
    },
    {
      "cell_type": "code",
      "metadata": {
        "id": "BFm7hJWRi9UT",
        "colab": {
          "base_uri": "https://localhost:8080/",
          "height": 335
        },
        "outputId": "dd46a69d-a8bd-4a29-aad1-76de7fd88d88"
      },
      "source": [
        "#import tree plot package for visualization\n",
        "from sklearn import tree\n",
        "\n",
        "#plot decision tree\n",
        "fig, ax = plt.subplots(figsize=(60,15))\n",
        "dt_feature_names = X.columns\n",
        "tree.plot_tree(decision_tree=dt, feature_names = dt_feature_names, max_depth = 3, fontsize=12, node_ids = True, proportion = True, class_names = True, filled = True, rounded = True);"
      ],
      "execution_count": 83,
      "outputs": [
        {
          "output_type": "display_data",
          "data": {
            "image/png": "[encoded data removed]",
            "text/plain": [
              "<Figure size 4320x1080 with 1 Axes>"
            ]
          },
          "metadata": {
            "tags": [],
            "needs_background": "light"
          }
        }
      ]
    },
    {
      "cell_type": "code",
      "metadata": {
        "id": "DH5NQOG5i-d9",
        "colab": {
          "base_uri": "https://localhost:8080/"
        },
        "outputId": "d4a2d0b4-38ba-4016-e233-323a93a0ce95"
      },
      "source": [
        "#Randomforest Classifier\n",
        "from sklearn.ensemble import RandomForestClassifier\n",
        "rf_dt = RandomForestClassifier(n_estimators=100,\n",
        "                               random_state=11)\n",
        "\n",
        "#Randomforest Accuracy\n",
        "rf_dt.fit(X_train_dt,y_train_dt)\n",
        "rf_pred = rf_dt.predict(X_test_dt)\n",
        "accuracy = float(np.sum(rf_pred==y_test_dt))/y_test_dt.shape[0]\n",
        "print(\"accuracy: %f\" % (accuracy))"
      ],
      "execution_count": 84,
      "outputs": [
        {
          "output_type": "stream",
          "text": [
            "accuracy: 0.729238\n"
          ],
          "name": "stdout"
        }
      ]
    },
    {
      "cell_type": "code",
      "metadata": {
        "id": "seQPGVDPi_0n",
        "colab": {
          "base_uri": "https://localhost:8080/"
        },
        "outputId": "4e7aefaf-85cc-4f13-e8eb-f0aad9f5c729"
      },
      "source": [
        "fi = dict(zip(df.columns, dt.feature_importances_))\n",
        "\n",
        "indices = np.argsort(fi)[::-1]\n",
        "\n",
        "sort_fi = sorted(fi.items(), key=lambda x: x[1], reverse=True)\n",
        "\n",
        "for i in sort_fi[0:5]:\n",
        "\tprint(i[0],':', i[1])"
      ],
      "execution_count": 85,
      "outputs": [
        {
          "output_type": "stream",
          "text": [
            "Net Income - Non-Controlling int : 0.0735875669151986\n",
            "Graham Net-Net : 0.036916972571474804\n",
            "priceToFreeCashFlowsRatio : 0.02231648100016005\n",
            "Capital Expenditure : 0.018549048322659824\n",
            "Total liabilities : 0.017126570455003154\n"
          ],
          "name": "stdout"
        }
      ]
    },
    {
      "cell_type": "code",
      "metadata": {
        "id": "R1neY-dGjC8V",
        "colab": {
          "base_uri": "https://localhost:8080/"
        },
        "outputId": "e5351a8e-304d-4ffd-d2c6-a277e3ae0e36"
      },
      "source": [
        "import xgboost as xgb\n",
        "from sklearn.metrics import mean_squared_error as MSE\n",
        "\n",
        "xg_dt = xgb.XGBClassifier(objective = 'binary:logistic', max_depth=10, n_estimators=20, seed=99)\n",
        "xg_dt.fit(X_train_dt, y_train_dt)\n",
        "preds = xg_dt.predict(X_test_dt)\n",
        "accuracy = float(np.sum(rf_pred==y_test_dt))/y_test_dt.shape[0]\n",
        "print(\"accuracy: %f\" % (accuracy))"
      ],
      "execution_count": 86,
      "outputs": [
        {
          "output_type": "stream",
          "text": [
            "accuracy: 0.729238\n"
          ],
          "name": "stdout"
        }
      ]
    },
    {
      "cell_type": "code",
      "metadata": {
        "id": "s9LO0qu5jFE1",
        "colab": {
          "base_uri": "https://localhost:8080/"
        },
        "outputId": "62772226-b790-41a2-c80e-2290656e4e7f"
      },
      "source": [
        "data_dmatrix = xgb.DMatrix(data=X,label=y) \n",
        "params={\"objective\":\"binary:logistic\",\"max_depth\":4}\n",
        "cv_results = xgb.cv(dtrain=data_dmatrix, params=params, nfold=4,num_boost_round=10, metrics=\"error\", as_pandas=True) \n",
        "print(\"Accuracy: %f\" %((1-cv_results[\"test-error-mean\"]).iloc[-1]))"
      ],
      "execution_count": 87,
      "outputs": [
        {
          "output_type": "stream",
          "text": [
            "Accuracy: 0.721767\n"
          ],
          "name": "stdout"
        }
      ]
    },
    {
      "cell_type": "code",
      "metadata": {
        "id": "MBzPnMXljG72",
        "colab": {
          "base_uri": "https://localhost:8080/"
        },
        "outputId": "556b548c-6a14-4151-ff6a-dff541af03cb"
      },
      "source": [
        "from sklearn.model_selection import cross_val_score\n",
        "from sklearn.tree import DecisionTreeRegressor\n",
        "\n",
        "reg = DecisionTreeRegressor(max_depth=4, min_samples_leaf=0.14, random_state=99)\n",
        "DecisionTreeRegressor()"
      ],
      "execution_count": 88,
      "outputs": [
        {
          "output_type": "execute_result",
          "data": {
            "text/plain": [
              "DecisionTreeRegressor(ccp_alpha=0.0, criterion='mse', max_depth=None,\n",
              "                      max_features=None, max_leaf_nodes=None,\n",
              "                      min_impurity_decrease=0.0, min_impurity_split=None,\n",
              "                      min_samples_leaf=1, min_samples_split=2,\n",
              "                      min_weight_fraction_leaf=0.0, presort='deprecated',\n",
              "                      random_state=None, splitter='best')"
            ]
          },
          "metadata": {
            "tags": []
          },
          "execution_count": 88
        }
      ]
    },
    {
      "cell_type": "code",
      "metadata": {
        "id": "6I3lpkmejJY-"
      },
      "source": [
        "RMSE_CV = - cross_val_score(reg, X_train_dt, y_train_dt, scoring='neg_root_mean_squared_error', cv= 10)\n",
        "reg.fit(X_train_dt, y_train_dt)\n",
        "y_pred_test = reg.predict(X_test_dt)"
      ],
      "execution_count": 89,
      "outputs": []
    },
    {
      "cell_type": "code",
      "metadata": {
        "id": "WEAAmNEsjLu2",
        "colab": {
          "base_uri": "https://localhost:8080/"
        },
        "outputId": "48724f51-8a6e-4317-f4a2-844af6a7df4d"
      },
      "source": [
        "#  RMSE for CV\n",
        "print('CV RMSE: {:.2f}'.format(RMSE_CV.mean()))\n",
        "\n",
        "\n",
        "# Test RMSE\n",
        "print('Test RMSE: {:.2f}'.format(MSE(y_test_dt, y_pred_test, squared=False)))"
      ],
      "execution_count": 90,
      "outputs": [
        {
          "output_type": "stream",
          "text": [
            "CV RMSE: 0.44\n",
            "Test RMSE: 0.43\n"
          ],
          "name": "stdout"
        }
      ]
    },
    {
      "cell_type": "code",
      "metadata": {
        "id": "nlYTHXhjjNTV",
        "colab": {
          "base_uri": "https://localhost:8080/"
        },
        "outputId": "c29af670-2d37-4c2d-9675-7a9dcaf5d00a"
      },
      "source": [
        "class_dmatrix = xgb.DMatrix(data=X,label=y)\n",
        "params={\"objective\":\"reg:squarederror\",\"max_depth\":4, \"alpha\":1}\n",
        "cv_results = xgb.cv(dtrain=class_dmatrix, params=params,nfold=4,num_boost_round=10,metrics=\"rmse\",as_pandas=True,seed=99)\n",
        "cv_results[\"test-rmse-mean\"].tail(1).values[0]"
      ],
      "execution_count": 91,
      "outputs": [
        {
          "output_type": "execute_result",
          "data": {
            "text/plain": [
              "0.42476925"
            ]
          },
          "metadata": {
            "tags": []
          },
          "execution_count": 91
        }
      ]
    }
  ]
}