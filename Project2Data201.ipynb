{
  "nbformat": 4,
  "nbformat_minor": 0,
  "metadata": {
    "colab": {
      "name": "Project2Data201.ipynb",
      "provenance": [],
      "collapsed_sections": [],
      "toc_visible": true,
      "include_colab_link": true
    },
    "kernelspec": {
      "display_name": "Python 3",
      "name": "python3"
    }
  },
  "cells": [
    {
      "cell_type": "markdown",
      "metadata": {
        "id": "view-in-github",
        "colab_type": "text"
      },
      "source": [
        "<a href=\"https://colab.research.google.com/github/emilytong123/MachineLearningProject/blob/main/Project2Data201.ipynb\" target=\"_parent\"><img src=\"https://colab.research.google.com/assets/colab-badge.svg\" alt=\"Open In Colab\"/></a>"
      ]
    },
    {
      "cell_type": "markdown",
      "metadata": {
        "id": "Nl4jQisJ37mO"
      },
      "source": [
        "# Project 2: Classification using Machine Learning Algorithms"
      ]
    },
    {
      "cell_type": "code",
      "metadata": {
        "id": "YUC5OmtdTZSa"
      },
      "source": [
        "import pandas as pd, numpy as np, matplotlib.pyplot as plt, seaborn as sns\n",
        "import re"
      ],
      "execution_count": 502,
      "outputs": []
    },
    {
      "cell_type": "markdown",
      "metadata": {
        "id": "QjV1YVRi4OKg"
      },
      "source": [
        "**About our dataset:**\n",
        "\n",
        "The dataset we will be working on is from Kaggle: https://www.kaggle.com/cnic92/200-financial-indicators-of-us-stocks-20142018?select=2018_Financial_Data.csv\n",
        "We hope to classify the data into two categories:\n",
        "- Class 1: value of the stock will increase in 2019\n",
        "- Class 0: value of the stock will decrease in 2019\n",
        "\n",
        "**Defining important columns:**\n",
        "- 2019 PRICE VAR [%} - \n",
        "- 3Y Net Income Growth (Per Share) - Net Income of company in 3 years divided by number of shares\n",
        "- 5Y Net Income Growth (Per Share) - Net Income of company in 5 years divided by number of shares\n",
        "- 10Y Net Income Growth (Per Share) - Net Income of company in 10 years divided by number of shares\n",
        "- Sector - Sectors constitute a method of sorting publicly traded companies into 11 groups based on primary business activity.\n",
        "\n",
        "**Questions we are interested in answering:**\n",
        "\n",
        "- Which Sector experienced the most stocks that increased?\n",
        "- How do the 3yr Net Income Growth and 10yr Net Income Growth compare for each sector?\n",
        "- What are frequencies of stocks in each sector that increased or decreased?"
      ]
    },
    {
      "cell_type": "code",
      "metadata": {
        "id": "_ZfL8_8nSXAr"
      },
      "source": [
        "df = pd.read_csv('2018_Financial_Data.csv')"
      ],
      "execution_count": 503,
      "outputs": []
    },
    {
      "cell_type": "code",
      "metadata": {
        "id": "RrdPfTGiScHR",
        "colab": {
          "base_uri": "https://localhost:8080/",
          "height": 377
        },
        "outputId": "b69416cb-d3f5-42d0-c71a-a5efacde1b86"
      },
      "source": [
        "df.head()"
      ],
      "execution_count": 504,
      "outputs": [
        {
          "output_type": "execute_result",
          "data": {
            "text/html": [
              "<div>\n",
              "<style scoped>\n",
              "    .dataframe tbody tr th:only-of-type {\n",
              "        vertical-align: middle;\n",
              "    }\n",
              "\n",
              "    .dataframe tbody tr th {\n",
              "        vertical-align: top;\n",
              "    }\n",
              "\n",
              "    .dataframe thead th {\n",
              "        text-align: right;\n",
              "    }\n",
              "</style>\n",
              "<table border=\"1\" class=\"dataframe\">\n",
              "  <thead>\n",
              "    <tr style=\"text-align: right;\">\n",
              "      <th></th>\n",
              "      <th>Unnamed: 0</th>\n",
              "      <th>Revenue</th>\n",
              "      <th>Revenue Growth</th>\n",
              "      <th>Cost of Revenue</th>\n",
              "      <th>Gross Profit</th>\n",
              "      <th>R&amp;D Expenses</th>\n",
              "      <th>SG&amp;A Expense</th>\n",
              "      <th>Operating Expenses</th>\n",
              "      <th>Operating Income</th>\n",
              "      <th>Interest Expense</th>\n",
              "      <th>Earnings before Tax</th>\n",
              "      <th>Income Tax Expense</th>\n",
              "      <th>Net Income - Non-Controlling int</th>\n",
              "      <th>Net Income - Discontinued ops</th>\n",
              "      <th>Net Income</th>\n",
              "      <th>Preferred Dividends</th>\n",
              "      <th>Net Income Com</th>\n",
              "      <th>EPS</th>\n",
              "      <th>EPS Diluted</th>\n",
              "      <th>Weighted Average Shs Out</th>\n",
              "      <th>Weighted Average Shs Out (Dil)</th>\n",
              "      <th>Dividend per Share</th>\n",
              "      <th>Gross Margin</th>\n",
              "      <th>EBITDA Margin</th>\n",
              "      <th>EBIT Margin</th>\n",
              "      <th>Profit Margin</th>\n",
              "      <th>Free Cash Flow margin</th>\n",
              "      <th>EBITDA</th>\n",
              "      <th>EBIT</th>\n",
              "      <th>Consolidated Income</th>\n",
              "      <th>Earnings Before Tax Margin</th>\n",
              "      <th>Net Profit Margin</th>\n",
              "      <th>Cash and cash equivalents</th>\n",
              "      <th>Short-term investments</th>\n",
              "      <th>Cash and short-term investments</th>\n",
              "      <th>Receivables</th>\n",
              "      <th>Inventories</th>\n",
              "      <th>Total current assets</th>\n",
              "      <th>Property, Plant &amp; Equipment Net</th>\n",
              "      <th>Goodwill and Intangible Assets</th>\n",
              "      <th>...</th>\n",
              "      <th>Payables Turnover</th>\n",
              "      <th>Inventory Turnover</th>\n",
              "      <th>ROE</th>\n",
              "      <th>Capex per Share</th>\n",
              "      <th>Gross Profit Growth</th>\n",
              "      <th>EBIT Growth</th>\n",
              "      <th>Operating Income Growth</th>\n",
              "      <th>Net Income Growth</th>\n",
              "      <th>EPS Growth</th>\n",
              "      <th>EPS Diluted Growth</th>\n",
              "      <th>Weighted Average Shares Growth</th>\n",
              "      <th>Weighted Average Shares Diluted Growth</th>\n",
              "      <th>Dividends per Share Growth</th>\n",
              "      <th>Operating Cash Flow growth</th>\n",
              "      <th>Free Cash Flow growth</th>\n",
              "      <th>10Y Revenue Growth (per Share)</th>\n",
              "      <th>5Y Revenue Growth (per Share)</th>\n",
              "      <th>3Y Revenue Growth (per Share)</th>\n",
              "      <th>10Y Operating CF Growth (per Share)</th>\n",
              "      <th>5Y Operating CF Growth (per Share)</th>\n",
              "      <th>3Y Operating CF Growth (per Share)</th>\n",
              "      <th>10Y Net Income Growth (per Share)</th>\n",
              "      <th>5Y Net Income Growth (per Share)</th>\n",
              "      <th>3Y Net Income Growth (per Share)</th>\n",
              "      <th>10Y Shareholders Equity Growth (per Share)</th>\n",
              "      <th>5Y Shareholders Equity Growth (per Share)</th>\n",
              "      <th>3Y Shareholders Equity Growth (per Share)</th>\n",
              "      <th>10Y Dividend per Share Growth (per Share)</th>\n",
              "      <th>5Y Dividend per Share Growth (per Share)</th>\n",
              "      <th>3Y Dividend per Share Growth (per Share)</th>\n",
              "      <th>Receivables growth</th>\n",
              "      <th>Inventory Growth</th>\n",
              "      <th>Asset Growth</th>\n",
              "      <th>Book Value per Share Growth</th>\n",
              "      <th>Debt Growth</th>\n",
              "      <th>R&amp;D Expense Growth</th>\n",
              "      <th>SG&amp;A Expenses Growth</th>\n",
              "      <th>Sector</th>\n",
              "      <th>2019 PRICE VAR [%]</th>\n",
              "      <th>Class</th>\n",
              "    </tr>\n",
              "  </thead>\n",
              "  <tbody>\n",
              "    <tr>\n",
              "      <th>0</th>\n",
              "      <td>CMCSA</td>\n",
              "      <td>9.450700e+10</td>\n",
              "      <td>0.1115</td>\n",
              "      <td>0.000000e+00</td>\n",
              "      <td>9.450700e+10</td>\n",
              "      <td>0.000000e+00</td>\n",
              "      <td>6.482200e+10</td>\n",
              "      <td>7.549800e+10</td>\n",
              "      <td>1.900900e+10</td>\n",
              "      <td>3.542000e+09</td>\n",
              "      <td>1.511100e+10</td>\n",
              "      <td>3.380000e+09</td>\n",
              "      <td>131000000.0</td>\n",
              "      <td>0.000000e+00</td>\n",
              "      <td>1.173100e+10</td>\n",
              "      <td>0.0</td>\n",
              "      <td>1.173100e+10</td>\n",
              "      <td>2.56</td>\n",
              "      <td>2.53</td>\n",
              "      <td>4.549505e+09</td>\n",
              "      <td>4.549505e+09</td>\n",
              "      <td>0.917</td>\n",
              "      <td>1.0000</td>\n",
              "      <td>0.310</td>\n",
              "      <td>0.1974</td>\n",
              "      <td>0.124</td>\n",
              "      <td>0.1268</td>\n",
              "      <td>2.932900e+10</td>\n",
              "      <td>1.865300e+10</td>\n",
              "      <td>1.186200e+10</td>\n",
              "      <td>0.1599</td>\n",
              "      <td>0.1241</td>\n",
              "      <td>3.814000e+09</td>\n",
              "      <td>0.000000e+00</td>\n",
              "      <td>3.814000e+09</td>\n",
              "      <td>1.110400e+10</td>\n",
              "      <td>0.000000e+00</td>\n",
              "      <td>2.184800e+10</td>\n",
              "      <td>4.443700e+10</td>\n",
              "      <td>1.676230e+11</td>\n",
              "      <td>...</td>\n",
              "      <td>3.6159</td>\n",
              "      <td>0.0000</td>\n",
              "      <td>0.1638</td>\n",
              "      <td>-2.7062</td>\n",
              "      <td>0.1115</td>\n",
              "      <td>0.0220</td>\n",
              "      <td>0.0550</td>\n",
              "      <td>-0.4840</td>\n",
              "      <td>-0.4700</td>\n",
              "      <td>-0.4674</td>\n",
              "      <td>-0.0266</td>\n",
              "      <td>-0.0305</td>\n",
              "      <td>0.9387</td>\n",
              "      <td>0.1428</td>\n",
              "      <td>0.2462</td>\n",
              "      <td>0.1327</td>\n",
              "      <td>0.1094</td>\n",
              "      <td>0.1107</td>\n",
              "      <td>0.1164</td>\n",
              "      <td>0.1456</td>\n",
              "      <td>0.1044</td>\n",
              "      <td>0.1928</td>\n",
              "      <td>0.1463</td>\n",
              "      <td>0.1579</td>\n",
              "      <td>0.0841</td>\n",
              "      <td>0.1019</td>\n",
              "      <td>0.1396</td>\n",
              "      <td>0.2558</td>\n",
              "      <td>0.1865</td>\n",
              "      <td>0.2348</td>\n",
              "      <td>0.2570</td>\n",
              "      <td>0.0000</td>\n",
              "      <td>0.3426</td>\n",
              "      <td>0.0722</td>\n",
              "      <td>0.7309</td>\n",
              "      <td>0.0000</td>\n",
              "      <td>0.1308</td>\n",
              "      <td>Consumer Cyclical</td>\n",
              "      <td>32.794573</td>\n",
              "      <td>1</td>\n",
              "    </tr>\n",
              "    <tr>\n",
              "      <th>1</th>\n",
              "      <td>KMI</td>\n",
              "      <td>1.414400e+10</td>\n",
              "      <td>0.0320</td>\n",
              "      <td>7.288000e+09</td>\n",
              "      <td>6.856000e+09</td>\n",
              "      <td>0.000000e+00</td>\n",
              "      <td>6.010000e+08</td>\n",
              "      <td>3.062000e+09</td>\n",
              "      <td>3.794000e+09</td>\n",
              "      <td>1.917000e+09</td>\n",
              "      <td>2.196000e+09</td>\n",
              "      <td>5.870000e+08</td>\n",
              "      <td>310000000.0</td>\n",
              "      <td>0.000000e+00</td>\n",
              "      <td>1.609000e+09</td>\n",
              "      <td>128000000.0</td>\n",
              "      <td>1.481000e+09</td>\n",
              "      <td>0.66</td>\n",
              "      <td>0.66</td>\n",
              "      <td>2.207018e+09</td>\n",
              "      <td>2.216000e+09</td>\n",
              "      <td>0.725</td>\n",
              "      <td>0.4847</td>\n",
              "      <td>0.453</td>\n",
              "      <td>0.2908</td>\n",
              "      <td>0.105</td>\n",
              "      <td>0.1498</td>\n",
              "      <td>6.410000e+09</td>\n",
              "      <td>4.113000e+09</td>\n",
              "      <td>1.919000e+09</td>\n",
              "      <td>0.1553</td>\n",
              "      <td>0.1138</td>\n",
              "      <td>3.280000e+09</td>\n",
              "      <td>0.000000e+00</td>\n",
              "      <td>3.280000e+09</td>\n",
              "      <td>1.498000e+09</td>\n",
              "      <td>3.850000e+08</td>\n",
              "      <td>5.722000e+09</td>\n",
              "      <td>3.789700e+10</td>\n",
              "      <td>2.484500e+10</td>\n",
              "      <td>...</td>\n",
              "      <td>2.8248</td>\n",
              "      <td>34.9666</td>\n",
              "      <td>0.0478</td>\n",
              "      <td>-1.3195</td>\n",
              "      <td>0.0564</td>\n",
              "      <td>0.0405</td>\n",
              "      <td>0.0751</td>\n",
              "      <td>53.8519</td>\n",
              "      <td>65.0000</td>\n",
              "      <td>65.0000</td>\n",
              "      <td>-0.0063</td>\n",
              "      <td>-0.0063</td>\n",
              "      <td>0.4500</td>\n",
              "      <td>0.0961</td>\n",
              "      <td>0.3841</td>\n",
              "      <td>NaN</td>\n",
              "      <td>-0.1402</td>\n",
              "      <td>-0.0104</td>\n",
              "      <td>NaN</td>\n",
              "      <td>-0.1057</td>\n",
              "      <td>-0.0215</td>\n",
              "      <td>NaN</td>\n",
              "      <td>-0.0881</td>\n",
              "      <td>0.8445</td>\n",
              "      <td>NaN</td>\n",
              "      <td>0.0376</td>\n",
              "      <td>-0.0182</td>\n",
              "      <td>0.0000</td>\n",
              "      <td>-0.1421</td>\n",
              "      <td>-0.2785</td>\n",
              "      <td>0.0345</td>\n",
              "      <td>-0.0920</td>\n",
              "      <td>-0.0024</td>\n",
              "      <td>0.0076</td>\n",
              "      <td>-0.0137</td>\n",
              "      <td>0.0000</td>\n",
              "      <td>-0.1265</td>\n",
              "      <td>Energy</td>\n",
              "      <td>40.588068</td>\n",
              "      <td>1</td>\n",
              "    </tr>\n",
              "    <tr>\n",
              "      <th>2</th>\n",
              "      <td>INTC</td>\n",
              "      <td>7.084800e+10</td>\n",
              "      <td>0.1289</td>\n",
              "      <td>2.711100e+10</td>\n",
              "      <td>4.373700e+10</td>\n",
              "      <td>1.354300e+10</td>\n",
              "      <td>6.750000e+09</td>\n",
              "      <td>2.042100e+10</td>\n",
              "      <td>2.331600e+10</td>\n",
              "      <td>-1.260000e+08</td>\n",
              "      <td>2.331700e+10</td>\n",
              "      <td>2.264000e+09</td>\n",
              "      <td>0.0</td>\n",
              "      <td>0.000000e+00</td>\n",
              "      <td>2.105300e+10</td>\n",
              "      <td>0.0</td>\n",
              "      <td>2.105300e+10</td>\n",
              "      <td>4.57</td>\n",
              "      <td>4.48</td>\n",
              "      <td>4.564000e+09</td>\n",
              "      <td>4.611000e+09</td>\n",
              "      <td>1.200</td>\n",
              "      <td>0.6173</td>\n",
              "      <td>0.456</td>\n",
              "      <td>0.3273</td>\n",
              "      <td>0.297</td>\n",
              "      <td>0.2011</td>\n",
              "      <td>3.227600e+10</td>\n",
              "      <td>2.319100e+10</td>\n",
              "      <td>2.105300e+10</td>\n",
              "      <td>0.3291</td>\n",
              "      <td>0.2972</td>\n",
              "      <td>3.019000e+09</td>\n",
              "      <td>8.631000e+09</td>\n",
              "      <td>1.165000e+10</td>\n",
              "      <td>6.722000e+09</td>\n",
              "      <td>7.253000e+09</td>\n",
              "      <td>2.878700e+10</td>\n",
              "      <td>4.897600e+10</td>\n",
              "      <td>3.634900e+10</td>\n",
              "      <td>...</td>\n",
              "      <td>5.5264</td>\n",
              "      <td>9.9534</td>\n",
              "      <td>0.2824</td>\n",
              "      <td>-3.2923</td>\n",
              "      <td>0.1187</td>\n",
              "      <td>0.1203</td>\n",
              "      <td>0.2917</td>\n",
              "      <td>1.1928</td>\n",
              "      <td>1.2402</td>\n",
              "      <td>1.2513</td>\n",
              "      <td>-0.0191</td>\n",
              "      <td>-0.0277</td>\n",
              "      <td>0.1132</td>\n",
              "      <td>0.3312</td>\n",
              "      <td>0.3793</td>\n",
              "      <td>0.0876</td>\n",
              "      <td>0.0770</td>\n",
              "      <td>0.0959</td>\n",
              "      <td>0.1271</td>\n",
              "      <td>0.0883</td>\n",
              "      <td>0.1675</td>\n",
              "      <td>0.1719</td>\n",
              "      <td>0.1872</td>\n",
              "      <td>0.2377</td>\n",
              "      <td>0.0876</td>\n",
              "      <td>0.0665</td>\n",
              "      <td>0.0787</td>\n",
              "      <td>0.0815</td>\n",
              "      <td>0.0592</td>\n",
              "      <td>0.0772</td>\n",
              "      <td>0.1989</td>\n",
              "      <td>0.0387</td>\n",
              "      <td>0.0382</td>\n",
              "      <td>0.1014</td>\n",
              "      <td>-0.0169</td>\n",
              "      <td>0.0390</td>\n",
              "      <td>-0.0942</td>\n",
              "      <td>Technology</td>\n",
              "      <td>30.295514</td>\n",
              "      <td>1</td>\n",
              "    </tr>\n",
              "    <tr>\n",
              "      <th>3</th>\n",
              "      <td>MU</td>\n",
              "      <td>3.039100e+10</td>\n",
              "      <td>0.4955</td>\n",
              "      <td>1.250000e+10</td>\n",
              "      <td>1.789100e+10</td>\n",
              "      <td>2.141000e+09</td>\n",
              "      <td>8.130000e+08</td>\n",
              "      <td>2.897000e+09</td>\n",
              "      <td>1.499400e+10</td>\n",
              "      <td>3.420000e+08</td>\n",
              "      <td>1.430300e+10</td>\n",
              "      <td>1.680000e+08</td>\n",
              "      <td>3000000.0</td>\n",
              "      <td>0.000000e+00</td>\n",
              "      <td>1.413500e+10</td>\n",
              "      <td>0.0</td>\n",
              "      <td>1.413500e+10</td>\n",
              "      <td>12.27</td>\n",
              "      <td>11.51</td>\n",
              "      <td>1.159811e+09</td>\n",
              "      <td>1.152000e+09</td>\n",
              "      <td>0.000</td>\n",
              "      <td>0.5887</td>\n",
              "      <td>0.638</td>\n",
              "      <td>0.4819</td>\n",
              "      <td>0.465</td>\n",
              "      <td>0.2804</td>\n",
              "      <td>1.940400e+10</td>\n",
              "      <td>1.464500e+10</td>\n",
              "      <td>1.413800e+10</td>\n",
              "      <td>0.4706</td>\n",
              "      <td>0.4651</td>\n",
              "      <td>6.506000e+09</td>\n",
              "      <td>2.960000e+08</td>\n",
              "      <td>6.802000e+09</td>\n",
              "      <td>5.478000e+09</td>\n",
              "      <td>3.595000e+09</td>\n",
              "      <td>1.603900e+10</td>\n",
              "      <td>2.367200e+10</td>\n",
              "      <td>1.559000e+09</td>\n",
              "      <td>...</td>\n",
              "      <td>2.1000</td>\n",
              "      <td>9.0476</td>\n",
              "      <td>0.4377</td>\n",
              "      <td>-7.7075</td>\n",
              "      <td>1.1208</td>\n",
              "      <td>1.5233</td>\n",
              "      <td>1.5552</td>\n",
              "      <td>1.7776</td>\n",
              "      <td>1.6274</td>\n",
              "      <td>1.6100</td>\n",
              "      <td>0.0579</td>\n",
              "      <td>0.0650</td>\n",
              "      <td>0.0000</td>\n",
              "      <td>1.1342</td>\n",
              "      <td>1.4922</td>\n",
              "      <td>0.1331</td>\n",
              "      <td>0.2434</td>\n",
              "      <td>0.2035</td>\n",
              "      <td>0.2762</td>\n",
              "      <td>0.5351</td>\n",
              "      <td>0.4586</td>\n",
              "      <td>0.0000</td>\n",
              "      <td>0.6016</td>\n",
              "      <td>0.6545</td>\n",
              "      <td>0.1336</td>\n",
              "      <td>0.2567</td>\n",
              "      <td>0.3459</td>\n",
              "      <td>0.0000</td>\n",
              "      <td>0.0000</td>\n",
              "      <td>0.0000</td>\n",
              "      <td>0.4573</td>\n",
              "      <td>0.1511</td>\n",
              "      <td>0.2275</td>\n",
              "      <td>0.6395</td>\n",
              "      <td>-0.5841</td>\n",
              "      <td>0.1738</td>\n",
              "      <td>0.0942</td>\n",
              "      <td>Technology</td>\n",
              "      <td>64.213737</td>\n",
              "      <td>1</td>\n",
              "    </tr>\n",
              "    <tr>\n",
              "      <th>4</th>\n",
              "      <td>GE</td>\n",
              "      <td>1.216150e+11</td>\n",
              "      <td>0.0285</td>\n",
              "      <td>9.546100e+10</td>\n",
              "      <td>2.615400e+10</td>\n",
              "      <td>0.000000e+00</td>\n",
              "      <td>1.811100e+10</td>\n",
              "      <td>4.071100e+10</td>\n",
              "      <td>-1.455700e+10</td>\n",
              "      <td>5.059000e+09</td>\n",
              "      <td>-2.177200e+10</td>\n",
              "      <td>5.830000e+08</td>\n",
              "      <td>-178000000.0</td>\n",
              "      <td>1.726000e+09</td>\n",
              "      <td>-2.235500e+10</td>\n",
              "      <td>894000000.0</td>\n",
              "      <td>-2.280200e+10</td>\n",
              "      <td>-2.62</td>\n",
              "      <td>-2.62</td>\n",
              "      <td>8.698115e+09</td>\n",
              "      <td>8.698115e+09</td>\n",
              "      <td>0.370</td>\n",
              "      <td>0.2151</td>\n",
              "      <td>-0.070</td>\n",
              "      <td>-0.1374</td>\n",
              "      <td>-0.187</td>\n",
              "      <td>0.0058</td>\n",
              "      <td>-8.489000e+09</td>\n",
              "      <td>-1.671300e+10</td>\n",
              "      <td>-2.244300e+10</td>\n",
              "      <td>-0.1790</td>\n",
              "      <td>-0.1838</td>\n",
              "      <td>3.112400e+10</td>\n",
              "      <td>3.383500e+10</td>\n",
              "      <td>6.495900e+10</td>\n",
              "      <td>2.948700e+10</td>\n",
              "      <td>1.380300e+10</td>\n",
              "      <td>1.156990e+11</td>\n",
              "      <td>4.361100e+10</td>\n",
              "      <td>4.615200e+10</td>\n",
              "      <td>...</td>\n",
              "      <td>2.2616</td>\n",
              "      <td>7.3214</td>\n",
              "      <td>-0.7216</td>\n",
              "      <td>-0.4066</td>\n",
              "      <td>0.7216</td>\n",
              "      <td>-1.6844</td>\n",
              "      <td>-1.4225</td>\n",
              "      <td>-1.5563</td>\n",
              "      <td>-1.5437</td>\n",
              "      <td>-1.5437</td>\n",
              "      <td>0.0030</td>\n",
              "      <td>0.0005</td>\n",
              "      <td>-0.5595</td>\n",
              "      <td>-0.2961</td>\n",
              "      <td>-0.8162</td>\n",
              "      <td>-0.0262</td>\n",
              "      <td>0.0455</td>\n",
              "      <td>0.0639</td>\n",
              "      <td>-0.2058</td>\n",
              "      <td>-0.2957</td>\n",
              "      <td>-0.3716</td>\n",
              "      <td>0.0000</td>\n",
              "      <td>0.0000</td>\n",
              "      <td>0.0000</td>\n",
              "      <td>-0.1026</td>\n",
              "      <td>-0.2270</td>\n",
              "      <td>-0.2844</td>\n",
              "      <td>-0.1139</td>\n",
              "      <td>-0.1408</td>\n",
              "      <td>-0.2619</td>\n",
              "      <td>-0.2781</td>\n",
              "      <td>-0.2892</td>\n",
              "      <td>-0.1575</td>\n",
              "      <td>-0.4487</td>\n",
              "      <td>-0.2297</td>\n",
              "      <td>0.0000</td>\n",
              "      <td>0.0308</td>\n",
              "      <td>Industrials</td>\n",
              "      <td>44.757840</td>\n",
              "      <td>1</td>\n",
              "    </tr>\n",
              "  </tbody>\n",
              "</table>\n",
              "<p>5 rows × 225 columns</p>\n",
              "</div>"
            ],
            "text/plain": [
              "  Unnamed: 0       Revenue  ...  2019 PRICE VAR [%]  Class\n",
              "0      CMCSA  9.450700e+10  ...           32.794573      1\n",
              "1        KMI  1.414400e+10  ...           40.588068      1\n",
              "2       INTC  7.084800e+10  ...           30.295514      1\n",
              "3         MU  3.039100e+10  ...           64.213737      1\n",
              "4         GE  1.216150e+11  ...           44.757840      1\n",
              "\n",
              "[5 rows x 225 columns]"
            ]
          },
          "metadata": {
            "tags": []
          },
          "execution_count": 504
        }
      ]
    },
    {
      "cell_type": "code",
      "metadata": {
        "id": "qjU3axtHT50h",
        "colab": {
          "base_uri": "https://localhost:8080/"
        },
        "outputId": "f53149ce-ed8a-420d-dc6a-7754e5e9a3ad"
      },
      "source": [
        "df.shape"
      ],
      "execution_count": 505,
      "outputs": [
        {
          "output_type": "execute_result",
          "data": {
            "text/plain": [
              "(4392, 225)"
            ]
          },
          "metadata": {
            "tags": []
          },
          "execution_count": 505
        }
      ]
    },
    {
      "cell_type": "code",
      "metadata": {
        "id": "8pEB2Tt-QiUs",
        "colab": {
          "base_uri": "https://localhost:8080/"
        },
        "outputId": "c6a3feb3-790f-401b-8d22-769287745075"
      },
      "source": [
        "df.Class.value_counts()"
      ],
      "execution_count": 506,
      "outputs": [
        {
          "output_type": "execute_result",
          "data": {
            "text/plain": [
              "1    3046\n",
              "0    1346\n",
              "Name: Class, dtype: int64"
            ]
          },
          "metadata": {
            "tags": []
          },
          "execution_count": 506
        }
      ]
    },
    {
      "cell_type": "markdown",
      "metadata": {
        "id": "XPCA6VivQlrV"
      },
      "source": [
        "3046 of the stocks increased in value and 1346 of the stocks decreased in value"
      ]
    },
    {
      "cell_type": "code",
      "metadata": {
        "id": "koyPqwOjATBs",
        "colab": {
          "base_uri": "https://localhost:8080/",
          "height": 312
        },
        "outputId": "062dba3a-eef8-4f59-f127-e43f3e9f64a4"
      },
      "source": [
        "sns.countplot(x = df.Class)\n",
        "plt.title('Number of Stocks that Decreased in Value vs. Number of Stocks that Increased')"
      ],
      "execution_count": 507,
      "outputs": [
        {
          "output_type": "execute_result",
          "data": {
            "text/plain": [
              "Text(0.5, 1.0, 'Number of Stocks that Decreased in Value vs. Number of Stocks that Increased')"
            ]
          },
          "metadata": {
            "tags": []
          },
          "execution_count": 507
        },
        {
          "output_type": "display_data",
          "data": {
            "image/png": "[encoded data removed]",
            "text/plain": [
              "<Figure size 432x288 with 1 Axes>"
            ]
          },
          "metadata": {
            "tags": [],
            "needs_background": "light"
          }
        }
      ]
    },
    {
      "cell_type": "code",
      "metadata": {
        "id": "W2Gja1kSB3Dd",
        "colab": {
          "base_uri": "https://localhost:8080/"
        },
        "outputId": "b2ccaccb-e6e4-4b10-a884-22f2ddcf8dbd"
      },
      "source": [
        "df['2019 PRICE VAR [%]'].max()"
      ],
      "execution_count": 508,
      "outputs": [
        {
          "output_type": "execute_result",
          "data": {
            "text/plain": [
              "3756.7163446162563"
            ]
          },
          "metadata": {
            "tags": []
          },
          "execution_count": 508
        }
      ]
    },
    {
      "cell_type": "code",
      "metadata": {
        "id": "VYAJpB1cB7Ui",
        "colab": {
          "base_uri": "https://localhost:8080/"
        },
        "outputId": "03841d67-6c9d-4f62-bbcd-94eb7023c987"
      },
      "source": [
        "df['2019 PRICE VAR [%]'].min()"
      ],
      "execution_count": 509,
      "outputs": [
        {
          "output_type": "execute_result",
          "data": {
            "text/plain": [
              "-99.86477876342505"
            ]
          },
          "metadata": {
            "tags": []
          },
          "execution_count": 509
        }
      ]
    },
    {
      "cell_type": "markdown",
      "metadata": {
        "id": "vv3qEJPdVfi_"
      },
      "source": [
        "**Handling missing data**"
      ]
    },
    {
      "cell_type": "code",
      "metadata": {
        "id": "GX1xTCREUOsC",
        "colab": {
          "base_uri": "https://localhost:8080/"
        },
        "outputId": "cedd1180-9214-4f3e-dde5-6d3ec46fafcc"
      },
      "source": [
        "df.isnull().sum()"
      ],
      "execution_count": 510,
      "outputs": [
        {
          "output_type": "execute_result",
          "data": {
            "text/plain": [
              "Unnamed: 0                0\n",
              "Revenue                  46\n",
              "Revenue Growth          139\n",
              "Cost of Revenue         185\n",
              "Gross Profit             64\n",
              "                       ... \n",
              "R&D Expense Growth      259\n",
              "SG&A Expenses Growth    248\n",
              "Sector                    0\n",
              "2019 PRICE VAR [%]        0\n",
              "Class                     0\n",
              "Length: 225, dtype: int64"
            ]
          },
          "metadata": {
            "tags": []
          },
          "execution_count": 510
        }
      ]
    },
    {
      "cell_type": "code",
      "metadata": {
        "id": "GrNExGRn4fCy",
        "colab": {
          "base_uri": "https://localhost:8080/",
          "height": 723
        },
        "outputId": "a1ebf977-c7ab-44d2-b827-99e28f93b51d"
      },
      "source": [
        "plt.figure(figsize = (10,10))\n",
        "sns.boxplot(x = 'Sector', y = 'Revenue Growth', data = df)\n",
        "plt.xticks(rotation = 45)\n",
        "plt.title('Revenue Growth per Sector')"
      ],
      "execution_count": 511,
      "outputs": [
        {
          "output_type": "execute_result",
          "data": {
            "text/plain": [
              "Text(0.5, 1.0, 'Revenue Growth per Sector')"
            ]
          },
          "metadata": {
            "tags": []
          },
          "execution_count": 511
        },
        {
          "output_type": "display_data",
          "data": {
            "image/png": "[encoded data removed]",
            "text/plain": [
              "<Figure size 720x720 with 1 Axes>"
            ]
          },
          "metadata": {
            "tags": [],
            "needs_background": "light"
          }
        }
      ]
    },
    {
      "cell_type": "code",
      "metadata": {
        "id": "4ANAmMREAx6_",
        "colab": {
          "base_uri": "https://localhost:8080/",
          "height": 723
        },
        "outputId": "2441599f-93aa-4bc1-abbd-374ead1e5b02"
      },
      "source": [
        "plt.figure(figsize = (10,10))\n",
        "sns.boxplot(x = 'Sector', y = 'SG&A Expenses Growth', data = df)\n",
        "plt.xticks(rotation = 45)\n",
        "plt.title('SG&A Expenses Growth per Sector')"
      ],
      "execution_count": 512,
      "outputs": [
        {
          "output_type": "execute_result",
          "data": {
            "text/plain": [
              "Text(0.5, 1.0, 'SG&A Expenses Growth per Sector')"
            ]
          },
          "metadata": {
            "tags": []
          },
          "execution_count": 512
        },
        {
          "output_type": "display_data",
          "data": {
            "image/png": "[encoded data removed]",
            "text/plain": [
              "<Figure size 720x720 with 1 Axes>"
            ]
          },
          "metadata": {
            "tags": [],
            "needs_background": "light"
          }
        }
      ]
    },
    {
      "cell_type": "code",
      "metadata": {
        "id": "2U7bTaVV5bIj",
        "colab": {
          "base_uri": "https://localhost:8080/",
          "height": 723
        },
        "outputId": "ac0e91e1-d00a-459e-94dd-8a1be7e35776"
      },
      "source": [
        "plt.figure(figsize = (10,10))\n",
        "sns.boxplot(x = 'Sector', y = 'R&D Expense Growth', data = df)\n",
        "plt.xticks(rotation = 45)\n",
        "plt.title('R&D Expense Growth per Sector')"
      ],
      "execution_count": 513,
      "outputs": [
        {
          "output_type": "execute_result",
          "data": {
            "text/plain": [
              "Text(0.5, 1.0, 'R&D Expense Growth per Sector')"
            ]
          },
          "metadata": {
            "tags": []
          },
          "execution_count": 513
        },
        {
          "output_type": "display_data",
          "data": {
            "image/png": "[encoded data removed]",
            "text/plain": [
              "<Figure size 720x720 with 1 Axes>"
            ]
          },
          "metadata": {
            "tags": [],
            "needs_background": "light"
          }
        }
      ]
    },
    {
      "cell_type": "code",
      "metadata": {
        "id": "bLl_wmU_WHcg"
      },
      "source": [
        "#list of columns where there are missing values\n",
        "miss = [col for col in df.columns if df[col].isnull().any()]"
      ],
      "execution_count": 514,
      "outputs": []
    },
    {
      "cell_type": "code",
      "metadata": {
        "id": "4cm_zWfRWqQT"
      },
      "source": [
        "#Fill missing values with median \n",
        "for val in miss:\n",
        "  df[val] = df[val].fillna(df[val].median())"
      ],
      "execution_count": 515,
      "outputs": []
    },
    {
      "cell_type": "markdown",
      "metadata": {
        "id": "aDLXvfLS5wXU"
      },
      "source": [
        "Since there are outliers in many of the columns of this data set that have missing values, we are replacing the missing values with the median of each column instead of with the mean of each column. (The mean will be thrown off by outliers.)"
      ]
    },
    {
      "cell_type": "code",
      "metadata": {
        "id": "BVutKMHGXHRJ",
        "colab": {
          "base_uri": "https://localhost:8080/"
        },
        "outputId": "f387e1ae-c3c6-4021-f4a9-b441324e42f4"
      },
      "source": [
        "df.isnull().sum()"
      ],
      "execution_count": 516,
      "outputs": [
        {
          "output_type": "execute_result",
          "data": {
            "text/plain": [
              "Unnamed: 0              0\n",
              "Revenue                 0\n",
              "Revenue Growth          0\n",
              "Cost of Revenue         0\n",
              "Gross Profit            0\n",
              "                       ..\n",
              "R&D Expense Growth      0\n",
              "SG&A Expenses Growth    0\n",
              "Sector                  0\n",
              "2019 PRICE VAR [%]      0\n",
              "Class                   0\n",
              "Length: 225, dtype: int64"
            ]
          },
          "metadata": {
            "tags": []
          },
          "execution_count": 516
        }
      ]
    },
    {
      "cell_type": "markdown",
      "metadata": {
        "id": "GkZ_YwrfS8tr"
      },
      "source": [
        "# Exploratory Data Analysis"
      ]
    },
    {
      "cell_type": "code",
      "metadata": {
        "id": "k1_SRFrDjQF7",
        "colab": {
          "base_uri": "https://localhost:8080/",
          "height": 458
        },
        "outputId": "ae9f2268-3b18-4051-e26f-b0d5d384d9af"
      },
      "source": [
        "countryregion = sns.catplot(x='Sector', y = '2019 PRICE VAR [%]', jitter = False, data=df, height = 4, aspect = 3)\n",
        "countryregion.set_xticklabels(rotation = 90)\n",
        "plt.title('Price Change in Sectors %')"
      ],
      "execution_count": 517,
      "outputs": [
        {
          "output_type": "execute_result",
          "data": {
            "text/plain": [
              "Text(0.5, 1.0, 'Price Change in Sectors %')"
            ]
          },
          "metadata": {
            "tags": []
          },
          "execution_count": 517
        },
        {
          "output_type": "display_data",
          "data": {
            "image/png": "[encoded data removed]",
            "text/plain": [
              "<Figure size 864x288 with 1 Axes>"
            ]
          },
          "metadata": {
            "tags": [],
            "needs_background": "light"
          }
        }
      ]
    },
    {
      "cell_type": "code",
      "metadata": {
        "id": "hRA9EQpPjZgI",
        "colab": {
          "base_uri": "https://localhost:8080/",
          "height": 411
        },
        "outputId": "fa0db1c1-74f2-453f-e6c7-b968820fb2d9"
      },
      "source": [
        "sectors = df.groupby(['Sector']).mean()\n",
        "sns.barplot( x= sectors.index, y = '3Y Net Income Growth (per Share)', data = sectors)\n",
        "plt.xticks(fontsize = 10, rotation = 90)\n",
        "plt.yticks(fontsize = 10)\n",
        "plt.title('Average 3Y Net Income Growth (per Share) for each Sector', fontsize = 15)\n",
        "plt.ylabel('3Y Net Income Growth (per Share) $', fontsize = 10)\n",
        "plt.xlabel('Sector', fontsize = 10)\n",
        "plt.show()"
      ],
      "execution_count": 518,
      "outputs": [
        {
          "output_type": "display_data",
          "data": {
            "image/png": "[encoded data removed]",
            "text/plain": [
              "<Figure size 432x288 with 1 Axes>"
            ]
          },
          "metadata": {
            "tags": [],
            "needs_background": "light"
          }
        }
      ]
    },
    {
      "cell_type": "code",
      "metadata": {
        "id": "UDyNyOzEjam6",
        "colab": {
          "base_uri": "https://localhost:8080/",
          "height": 418
        },
        "outputId": "dcd99a33-83e5-4322-b4f6-659b860882f0"
      },
      "source": [
        "sectors = df.groupby(['Sector']).mean()\n",
        "sns.barplot( x= sectors.index, y = '10Y Net Income Growth (per Share)', data = sectors)\n",
        "plt.xticks(fontsize = 10, rotation = 90)\n",
        "plt.yticks(fontsize = 10)\n",
        "plt.title('Average 10Y Net Income Growth (per Share) for each Sector', fontsize = 25)\n",
        "plt.ylabel('10Y Net Income Growth (per Share) $', fontsize = 10)\n",
        "plt.xlabel('Sector', fontsize = 10)\n",
        "plt.show()"
      ],
      "execution_count": 519,
      "outputs": [
        {
          "output_type": "display_data",
          "data": {
            "image/png": "[encoded data removed]",
            "text/plain": [
              "<Figure size 432x288 with 1 Axes>"
            ]
          },
          "metadata": {
            "tags": [],
            "needs_background": "light"
          }
        }
      ]
    },
    {
      "cell_type": "code",
      "metadata": {
        "id": "_cHYnDxCjcNO",
        "colab": {
          "base_uri": "https://localhost:8080/",
          "height": 428
        },
        "outputId": "7e917fd6-5fcd-4371-864f-54224102661d"
      },
      "source": [
        "sns.countplot(x=\"Sector\", hue=\"Class\", data=df, palette=\"Set1\")\n",
        "plt.xticks(rotation = 90)"
      ],
      "execution_count": 520,
      "outputs": [
        {
          "output_type": "execute_result",
          "data": {
            "text/plain": [
              "(array([ 0,  1,  2,  3,  4,  5,  6,  7,  8,  9, 10]),\n",
              " <a list of 11 Text major ticklabel objects>)"
            ]
          },
          "metadata": {
            "tags": []
          },
          "execution_count": 520
        },
        {
          "output_type": "display_data",
          "data": {
            "image/png": "[encoded data removed]",
            "text/plain": [
              "<Figure size 432x288 with 1 Axes>"
            ]
          },
          "metadata": {
            "tags": [],
            "needs_background": "light"
          }
        }
      ]
    },
    {
      "cell_type": "markdown",
      "metadata": {
        "id": "d8sPkz514aed"
      },
      "source": [
        "# Logistic Regression"
      ]
    },
    {
      "cell_type": "code",
      "metadata": {
        "id": "7tOzAi2XNl-O"
      },
      "source": [
        "from sklearn.linear_model import LogisticRegression\n",
        "from sklearn.model_selection import train_test_split, cross_val_score, cross_val_predict\n",
        "from sklearn.metrics import classification_report, confusion_matrix\n",
        "from sklearn.metrics import roc_auc_score, roc_curve, accuracy_score\n",
        "from sklearn.metrics import precision_score, recall_score\n",
        "from sklearn import preprocessing"
      ],
      "execution_count": 521,
      "outputs": []
    },
    {
      "cell_type": "code",
      "metadata": {
        "id": "pveneyobUyzn",
        "colab": {
          "base_uri": "https://localhost:8080/"
        },
        "outputId": "33f237d8-122d-4c63-cfd6-cd479cda46d3"
      },
      "source": [
        "df.dtypes"
      ],
      "execution_count": 522,
      "outputs": [
        {
          "output_type": "execute_result",
          "data": {
            "text/plain": [
              "Unnamed: 0               object\n",
              "Revenue                 float64\n",
              "Revenue Growth          float64\n",
              "Cost of Revenue         float64\n",
              "Gross Profit            float64\n",
              "                         ...   \n",
              "R&D Expense Growth      float64\n",
              "SG&A Expenses Growth    float64\n",
              "Sector                   object\n",
              "2019 PRICE VAR [%]      float64\n",
              "Class                     int64\n",
              "Length: 225, dtype: object"
            ]
          },
          "metadata": {
            "tags": []
          },
          "execution_count": 522
        }
      ]
    },
    {
      "cell_type": "code",
      "metadata": {
        "id": "oP9b3GkrUYZl",
        "colab": {
          "base_uri": "https://localhost:8080/",
          "height": 359
        },
        "outputId": "0710ec09-d96b-44cb-be97-b88863bc8c44"
      },
      "source": [
        "#Going to exclude the first column, which says the name of the stock and the Sector of the stock for the Logistic Regression portion of this \n",
        "dfLR = df.select_dtypes(exclude = [object])\n",
        "dfLR.head()"
      ],
      "execution_count": 523,
      "outputs": [
        {
          "output_type": "execute_result",
          "data": {
            "text/html": [
              "<div>\n",
              "<style scoped>\n",
              "    .dataframe tbody tr th:only-of-type {\n",
              "        vertical-align: middle;\n",
              "    }\n",
              "\n",
              "    .dataframe tbody tr th {\n",
              "        vertical-align: top;\n",
              "    }\n",
              "\n",
              "    .dataframe thead th {\n",
              "        text-align: right;\n",
              "    }\n",
              "</style>\n",
              "<table border=\"1\" class=\"dataframe\">\n",
              "  <thead>\n",
              "    <tr style=\"text-align: right;\">\n",
              "      <th></th>\n",
              "      <th>Revenue</th>\n",
              "      <th>Revenue Growth</th>\n",
              "      <th>Cost of Revenue</th>\n",
              "      <th>Gross Profit</th>\n",
              "      <th>R&amp;D Expenses</th>\n",
              "      <th>SG&amp;A Expense</th>\n",
              "      <th>Operating Expenses</th>\n",
              "      <th>Operating Income</th>\n",
              "      <th>Interest Expense</th>\n",
              "      <th>Earnings before Tax</th>\n",
              "      <th>Income Tax Expense</th>\n",
              "      <th>Net Income - Non-Controlling int</th>\n",
              "      <th>Net Income - Discontinued ops</th>\n",
              "      <th>Net Income</th>\n",
              "      <th>Preferred Dividends</th>\n",
              "      <th>Net Income Com</th>\n",
              "      <th>EPS</th>\n",
              "      <th>EPS Diluted</th>\n",
              "      <th>Weighted Average Shs Out</th>\n",
              "      <th>Weighted Average Shs Out (Dil)</th>\n",
              "      <th>Dividend per Share</th>\n",
              "      <th>Gross Margin</th>\n",
              "      <th>EBITDA Margin</th>\n",
              "      <th>EBIT Margin</th>\n",
              "      <th>Profit Margin</th>\n",
              "      <th>Free Cash Flow margin</th>\n",
              "      <th>EBITDA</th>\n",
              "      <th>EBIT</th>\n",
              "      <th>Consolidated Income</th>\n",
              "      <th>Earnings Before Tax Margin</th>\n",
              "      <th>Net Profit Margin</th>\n",
              "      <th>Cash and cash equivalents</th>\n",
              "      <th>Short-term investments</th>\n",
              "      <th>Cash and short-term investments</th>\n",
              "      <th>Receivables</th>\n",
              "      <th>Inventories</th>\n",
              "      <th>Total current assets</th>\n",
              "      <th>Property, Plant &amp; Equipment Net</th>\n",
              "      <th>Goodwill and Intangible Assets</th>\n",
              "      <th>Long-term investments</th>\n",
              "      <th>...</th>\n",
              "      <th>Receivables Turnover</th>\n",
              "      <th>Payables Turnover</th>\n",
              "      <th>Inventory Turnover</th>\n",
              "      <th>ROE</th>\n",
              "      <th>Capex per Share</th>\n",
              "      <th>Gross Profit Growth</th>\n",
              "      <th>EBIT Growth</th>\n",
              "      <th>Operating Income Growth</th>\n",
              "      <th>Net Income Growth</th>\n",
              "      <th>EPS Growth</th>\n",
              "      <th>EPS Diluted Growth</th>\n",
              "      <th>Weighted Average Shares Growth</th>\n",
              "      <th>Weighted Average Shares Diluted Growth</th>\n",
              "      <th>Dividends per Share Growth</th>\n",
              "      <th>Operating Cash Flow growth</th>\n",
              "      <th>Free Cash Flow growth</th>\n",
              "      <th>10Y Revenue Growth (per Share)</th>\n",
              "      <th>5Y Revenue Growth (per Share)</th>\n",
              "      <th>3Y Revenue Growth (per Share)</th>\n",
              "      <th>10Y Operating CF Growth (per Share)</th>\n",
              "      <th>5Y Operating CF Growth (per Share)</th>\n",
              "      <th>3Y Operating CF Growth (per Share)</th>\n",
              "      <th>10Y Net Income Growth (per Share)</th>\n",
              "      <th>5Y Net Income Growth (per Share)</th>\n",
              "      <th>3Y Net Income Growth (per Share)</th>\n",
              "      <th>10Y Shareholders Equity Growth (per Share)</th>\n",
              "      <th>5Y Shareholders Equity Growth (per Share)</th>\n",
              "      <th>3Y Shareholders Equity Growth (per Share)</th>\n",
              "      <th>10Y Dividend per Share Growth (per Share)</th>\n",
              "      <th>5Y Dividend per Share Growth (per Share)</th>\n",
              "      <th>3Y Dividend per Share Growth (per Share)</th>\n",
              "      <th>Receivables growth</th>\n",
              "      <th>Inventory Growth</th>\n",
              "      <th>Asset Growth</th>\n",
              "      <th>Book Value per Share Growth</th>\n",
              "      <th>Debt Growth</th>\n",
              "      <th>R&amp;D Expense Growth</th>\n",
              "      <th>SG&amp;A Expenses Growth</th>\n",
              "      <th>2019 PRICE VAR [%]</th>\n",
              "      <th>Class</th>\n",
              "    </tr>\n",
              "  </thead>\n",
              "  <tbody>\n",
              "    <tr>\n",
              "      <th>0</th>\n",
              "      <td>9.450700e+10</td>\n",
              "      <td>0.1115</td>\n",
              "      <td>0.000000e+00</td>\n",
              "      <td>9.450700e+10</td>\n",
              "      <td>0.000000e+00</td>\n",
              "      <td>6.482200e+10</td>\n",
              "      <td>7.549800e+10</td>\n",
              "      <td>1.900900e+10</td>\n",
              "      <td>3.542000e+09</td>\n",
              "      <td>1.511100e+10</td>\n",
              "      <td>3.380000e+09</td>\n",
              "      <td>131000000.0</td>\n",
              "      <td>0.000000e+00</td>\n",
              "      <td>1.173100e+10</td>\n",
              "      <td>0.0</td>\n",
              "      <td>1.173100e+10</td>\n",
              "      <td>2.56</td>\n",
              "      <td>2.53</td>\n",
              "      <td>4.549505e+09</td>\n",
              "      <td>4.549505e+09</td>\n",
              "      <td>0.917</td>\n",
              "      <td>1.0000</td>\n",
              "      <td>0.310</td>\n",
              "      <td>0.1974</td>\n",
              "      <td>0.124</td>\n",
              "      <td>0.1268</td>\n",
              "      <td>2.932900e+10</td>\n",
              "      <td>1.865300e+10</td>\n",
              "      <td>1.186200e+10</td>\n",
              "      <td>0.1599</td>\n",
              "      <td>0.1241</td>\n",
              "      <td>3.814000e+09</td>\n",
              "      <td>0.000000e+00</td>\n",
              "      <td>3.814000e+09</td>\n",
              "      <td>1.110400e+10</td>\n",
              "      <td>0.000000e+00</td>\n",
              "      <td>2.184800e+10</td>\n",
              "      <td>4.443700e+10</td>\n",
              "      <td>1.676230e+11</td>\n",
              "      <td>7.883000e+09</td>\n",
              "      <td>...</td>\n",
              "      <td>9.4801</td>\n",
              "      <td>3.6159</td>\n",
              "      <td>0.0000</td>\n",
              "      <td>0.1638</td>\n",
              "      <td>-2.7062</td>\n",
              "      <td>0.1115</td>\n",
              "      <td>0.0220</td>\n",
              "      <td>0.0550</td>\n",
              "      <td>-0.4840</td>\n",
              "      <td>-0.4700</td>\n",
              "      <td>-0.4674</td>\n",
              "      <td>-0.0266</td>\n",
              "      <td>-0.0305</td>\n",
              "      <td>0.9387</td>\n",
              "      <td>0.1428</td>\n",
              "      <td>0.2462</td>\n",
              "      <td>0.1327</td>\n",
              "      <td>0.1094</td>\n",
              "      <td>0.1107</td>\n",
              "      <td>0.11640</td>\n",
              "      <td>0.1456</td>\n",
              "      <td>0.1044</td>\n",
              "      <td>0.1928</td>\n",
              "      <td>0.1463</td>\n",
              "      <td>0.1579</td>\n",
              "      <td>0.0841</td>\n",
              "      <td>0.1019</td>\n",
              "      <td>0.1396</td>\n",
              "      <td>0.2558</td>\n",
              "      <td>0.1865</td>\n",
              "      <td>0.2348</td>\n",
              "      <td>0.2570</td>\n",
              "      <td>0.0000</td>\n",
              "      <td>0.3426</td>\n",
              "      <td>0.0722</td>\n",
              "      <td>0.7309</td>\n",
              "      <td>0.0000</td>\n",
              "      <td>0.1308</td>\n",
              "      <td>32.794573</td>\n",
              "      <td>1</td>\n",
              "    </tr>\n",
              "    <tr>\n",
              "      <th>1</th>\n",
              "      <td>1.414400e+10</td>\n",
              "      <td>0.0320</td>\n",
              "      <td>7.288000e+09</td>\n",
              "      <td>6.856000e+09</td>\n",
              "      <td>0.000000e+00</td>\n",
              "      <td>6.010000e+08</td>\n",
              "      <td>3.062000e+09</td>\n",
              "      <td>3.794000e+09</td>\n",
              "      <td>1.917000e+09</td>\n",
              "      <td>2.196000e+09</td>\n",
              "      <td>5.870000e+08</td>\n",
              "      <td>310000000.0</td>\n",
              "      <td>0.000000e+00</td>\n",
              "      <td>1.609000e+09</td>\n",
              "      <td>128000000.0</td>\n",
              "      <td>1.481000e+09</td>\n",
              "      <td>0.66</td>\n",
              "      <td>0.66</td>\n",
              "      <td>2.207018e+09</td>\n",
              "      <td>2.216000e+09</td>\n",
              "      <td>0.725</td>\n",
              "      <td>0.4847</td>\n",
              "      <td>0.453</td>\n",
              "      <td>0.2908</td>\n",
              "      <td>0.105</td>\n",
              "      <td>0.1498</td>\n",
              "      <td>6.410000e+09</td>\n",
              "      <td>4.113000e+09</td>\n",
              "      <td>1.919000e+09</td>\n",
              "      <td>0.1553</td>\n",
              "      <td>0.1138</td>\n",
              "      <td>3.280000e+09</td>\n",
              "      <td>0.000000e+00</td>\n",
              "      <td>3.280000e+09</td>\n",
              "      <td>1.498000e+09</td>\n",
              "      <td>3.850000e+08</td>\n",
              "      <td>5.722000e+09</td>\n",
              "      <td>3.789700e+10</td>\n",
              "      <td>2.484500e+10</td>\n",
              "      <td>7.481000e+09</td>\n",
              "      <td>...</td>\n",
              "      <td>9.6022</td>\n",
              "      <td>2.8248</td>\n",
              "      <td>34.9666</td>\n",
              "      <td>0.0478</td>\n",
              "      <td>-1.3195</td>\n",
              "      <td>0.0564</td>\n",
              "      <td>0.0405</td>\n",
              "      <td>0.0751</td>\n",
              "      <td>53.8519</td>\n",
              "      <td>65.0000</td>\n",
              "      <td>65.0000</td>\n",
              "      <td>-0.0063</td>\n",
              "      <td>-0.0063</td>\n",
              "      <td>0.4500</td>\n",
              "      <td>0.0961</td>\n",
              "      <td>0.3841</td>\n",
              "      <td>0.0295</td>\n",
              "      <td>-0.1402</td>\n",
              "      <td>-0.0104</td>\n",
              "      <td>0.00965</td>\n",
              "      <td>-0.1057</td>\n",
              "      <td>-0.0215</td>\n",
              "      <td>0.0000</td>\n",
              "      <td>-0.0881</td>\n",
              "      <td>0.8445</td>\n",
              "      <td>0.0345</td>\n",
              "      <td>0.0376</td>\n",
              "      <td>-0.0182</td>\n",
              "      <td>0.0000</td>\n",
              "      <td>-0.1421</td>\n",
              "      <td>-0.2785</td>\n",
              "      <td>0.0345</td>\n",
              "      <td>-0.0920</td>\n",
              "      <td>-0.0024</td>\n",
              "      <td>0.0076</td>\n",
              "      <td>-0.0137</td>\n",
              "      <td>0.0000</td>\n",
              "      <td>-0.1265</td>\n",
              "      <td>40.588068</td>\n",
              "      <td>1</td>\n",
              "    </tr>\n",
              "    <tr>\n",
              "      <th>2</th>\n",
              "      <td>7.084800e+10</td>\n",
              "      <td>0.1289</td>\n",
              "      <td>2.711100e+10</td>\n",
              "      <td>4.373700e+10</td>\n",
              "      <td>1.354300e+10</td>\n",
              "      <td>6.750000e+09</td>\n",
              "      <td>2.042100e+10</td>\n",
              "      <td>2.331600e+10</td>\n",
              "      <td>-1.260000e+08</td>\n",
              "      <td>2.331700e+10</td>\n",
              "      <td>2.264000e+09</td>\n",
              "      <td>0.0</td>\n",
              "      <td>0.000000e+00</td>\n",
              "      <td>2.105300e+10</td>\n",
              "      <td>0.0</td>\n",
              "      <td>2.105300e+10</td>\n",
              "      <td>4.57</td>\n",
              "      <td>4.48</td>\n",
              "      <td>4.564000e+09</td>\n",
              "      <td>4.611000e+09</td>\n",
              "      <td>1.200</td>\n",
              "      <td>0.6173</td>\n",
              "      <td>0.456</td>\n",
              "      <td>0.3273</td>\n",
              "      <td>0.297</td>\n",
              "      <td>0.2011</td>\n",
              "      <td>3.227600e+10</td>\n",
              "      <td>2.319100e+10</td>\n",
              "      <td>2.105300e+10</td>\n",
              "      <td>0.3291</td>\n",
              "      <td>0.2972</td>\n",
              "      <td>3.019000e+09</td>\n",
              "      <td>8.631000e+09</td>\n",
              "      <td>1.165000e+10</td>\n",
              "      <td>6.722000e+09</td>\n",
              "      <td>7.253000e+09</td>\n",
              "      <td>2.878700e+10</td>\n",
              "      <td>4.897600e+10</td>\n",
              "      <td>3.634900e+10</td>\n",
              "      <td>9.430000e+09</td>\n",
              "      <td>...</td>\n",
              "      <td>11.4929</td>\n",
              "      <td>5.5264</td>\n",
              "      <td>9.9534</td>\n",
              "      <td>0.2824</td>\n",
              "      <td>-3.2923</td>\n",
              "      <td>0.1187</td>\n",
              "      <td>0.1203</td>\n",
              "      <td>0.2917</td>\n",
              "      <td>1.1928</td>\n",
              "      <td>1.2402</td>\n",
              "      <td>1.2513</td>\n",
              "      <td>-0.0191</td>\n",
              "      <td>-0.0277</td>\n",
              "      <td>0.1132</td>\n",
              "      <td>0.3312</td>\n",
              "      <td>0.3793</td>\n",
              "      <td>0.0876</td>\n",
              "      <td>0.0770</td>\n",
              "      <td>0.0959</td>\n",
              "      <td>0.12710</td>\n",
              "      <td>0.0883</td>\n",
              "      <td>0.1675</td>\n",
              "      <td>0.1719</td>\n",
              "      <td>0.1872</td>\n",
              "      <td>0.2377</td>\n",
              "      <td>0.0876</td>\n",
              "      <td>0.0665</td>\n",
              "      <td>0.0787</td>\n",
              "      <td>0.0815</td>\n",
              "      <td>0.0592</td>\n",
              "      <td>0.0772</td>\n",
              "      <td>0.1989</td>\n",
              "      <td>0.0387</td>\n",
              "      <td>0.0382</td>\n",
              "      <td>0.1014</td>\n",
              "      <td>-0.0169</td>\n",
              "      <td>0.0390</td>\n",
              "      <td>-0.0942</td>\n",
              "      <td>30.295514</td>\n",
              "      <td>1</td>\n",
              "    </tr>\n",
              "    <tr>\n",
              "      <th>3</th>\n",
              "      <td>3.039100e+10</td>\n",
              "      <td>0.4955</td>\n",
              "      <td>1.250000e+10</td>\n",
              "      <td>1.789100e+10</td>\n",
              "      <td>2.141000e+09</td>\n",
              "      <td>8.130000e+08</td>\n",
              "      <td>2.897000e+09</td>\n",
              "      <td>1.499400e+10</td>\n",
              "      <td>3.420000e+08</td>\n",
              "      <td>1.430300e+10</td>\n",
              "      <td>1.680000e+08</td>\n",
              "      <td>3000000.0</td>\n",
              "      <td>0.000000e+00</td>\n",
              "      <td>1.413500e+10</td>\n",
              "      <td>0.0</td>\n",
              "      <td>1.413500e+10</td>\n",
              "      <td>12.27</td>\n",
              "      <td>11.51</td>\n",
              "      <td>1.159811e+09</td>\n",
              "      <td>1.152000e+09</td>\n",
              "      <td>0.000</td>\n",
              "      <td>0.5887</td>\n",
              "      <td>0.638</td>\n",
              "      <td>0.4819</td>\n",
              "      <td>0.465</td>\n",
              "      <td>0.2804</td>\n",
              "      <td>1.940400e+10</td>\n",
              "      <td>1.464500e+10</td>\n",
              "      <td>1.413800e+10</td>\n",
              "      <td>0.4706</td>\n",
              "      <td>0.4651</td>\n",
              "      <td>6.506000e+09</td>\n",
              "      <td>2.960000e+08</td>\n",
              "      <td>6.802000e+09</td>\n",
              "      <td>5.478000e+09</td>\n",
              "      <td>3.595000e+09</td>\n",
              "      <td>1.603900e+10</td>\n",
              "      <td>2.367200e+10</td>\n",
              "      <td>1.559000e+09</td>\n",
              "      <td>4.730000e+08</td>\n",
              "      <td>...</td>\n",
              "      <td>6.5803</td>\n",
              "      <td>2.1000</td>\n",
              "      <td>9.0476</td>\n",
              "      <td>0.4377</td>\n",
              "      <td>-7.7075</td>\n",
              "      <td>1.1208</td>\n",
              "      <td>1.5233</td>\n",
              "      <td>1.5552</td>\n",
              "      <td>1.7776</td>\n",
              "      <td>1.6274</td>\n",
              "      <td>1.6100</td>\n",
              "      <td>0.0579</td>\n",
              "      <td>0.0650</td>\n",
              "      <td>0.0000</td>\n",
              "      <td>1.1342</td>\n",
              "      <td>1.4922</td>\n",
              "      <td>0.1331</td>\n",
              "      <td>0.2434</td>\n",
              "      <td>0.2035</td>\n",
              "      <td>0.27620</td>\n",
              "      <td>0.5351</td>\n",
              "      <td>0.4586</td>\n",
              "      <td>0.0000</td>\n",
              "      <td>0.6016</td>\n",
              "      <td>0.6545</td>\n",
              "      <td>0.1336</td>\n",
              "      <td>0.2567</td>\n",
              "      <td>0.3459</td>\n",
              "      <td>0.0000</td>\n",
              "      <td>0.0000</td>\n",
              "      <td>0.0000</td>\n",
              "      <td>0.4573</td>\n",
              "      <td>0.1511</td>\n",
              "      <td>0.2275</td>\n",
              "      <td>0.6395</td>\n",
              "      <td>-0.5841</td>\n",
              "      <td>0.1738</td>\n",
              "      <td>0.0942</td>\n",
              "      <td>64.213737</td>\n",
              "      <td>1</td>\n",
              "    </tr>\n",
              "    <tr>\n",
              "      <th>4</th>\n",
              "      <td>1.216150e+11</td>\n",
              "      <td>0.0285</td>\n",
              "      <td>9.546100e+10</td>\n",
              "      <td>2.615400e+10</td>\n",
              "      <td>0.000000e+00</td>\n",
              "      <td>1.811100e+10</td>\n",
              "      <td>4.071100e+10</td>\n",
              "      <td>-1.455700e+10</td>\n",
              "      <td>5.059000e+09</td>\n",
              "      <td>-2.177200e+10</td>\n",
              "      <td>5.830000e+08</td>\n",
              "      <td>-178000000.0</td>\n",
              "      <td>1.726000e+09</td>\n",
              "      <td>-2.235500e+10</td>\n",
              "      <td>894000000.0</td>\n",
              "      <td>-2.280200e+10</td>\n",
              "      <td>-2.62</td>\n",
              "      <td>-2.62</td>\n",
              "      <td>8.698115e+09</td>\n",
              "      <td>8.698115e+09</td>\n",
              "      <td>0.370</td>\n",
              "      <td>0.2151</td>\n",
              "      <td>-0.070</td>\n",
              "      <td>-0.1374</td>\n",
              "      <td>-0.187</td>\n",
              "      <td>0.0058</td>\n",
              "      <td>-8.489000e+09</td>\n",
              "      <td>-1.671300e+10</td>\n",
              "      <td>-2.244300e+10</td>\n",
              "      <td>-0.1790</td>\n",
              "      <td>-0.1838</td>\n",
              "      <td>3.112400e+10</td>\n",
              "      <td>3.383500e+10</td>\n",
              "      <td>6.495900e+10</td>\n",
              "      <td>2.948700e+10</td>\n",
              "      <td>1.380300e+10</td>\n",
              "      <td>1.156990e+11</td>\n",
              "      <td>4.361100e+10</td>\n",
              "      <td>4.615200e+10</td>\n",
              "      <td>3.010000e+08</td>\n",
              "      <td>...</td>\n",
              "      <td>3.4583</td>\n",
              "      <td>2.2616</td>\n",
              "      <td>7.3214</td>\n",
              "      <td>-0.7216</td>\n",
              "      <td>-0.4066</td>\n",
              "      <td>0.7216</td>\n",
              "      <td>-1.6844</td>\n",
              "      <td>-1.4225</td>\n",
              "      <td>-1.5563</td>\n",
              "      <td>-1.5437</td>\n",
              "      <td>-1.5437</td>\n",
              "      <td>0.0030</td>\n",
              "      <td>0.0005</td>\n",
              "      <td>-0.5595</td>\n",
              "      <td>-0.2961</td>\n",
              "      <td>-0.8162</td>\n",
              "      <td>-0.0262</td>\n",
              "      <td>0.0455</td>\n",
              "      <td>0.0639</td>\n",
              "      <td>-0.20580</td>\n",
              "      <td>-0.2957</td>\n",
              "      <td>-0.3716</td>\n",
              "      <td>0.0000</td>\n",
              "      <td>0.0000</td>\n",
              "      <td>0.0000</td>\n",
              "      <td>-0.1026</td>\n",
              "      <td>-0.2270</td>\n",
              "      <td>-0.2844</td>\n",
              "      <td>-0.1139</td>\n",
              "      <td>-0.1408</td>\n",
              "      <td>-0.2619</td>\n",
              "      <td>-0.2781</td>\n",
              "      <td>-0.2892</td>\n",
              "      <td>-0.1575</td>\n",
              "      <td>-0.4487</td>\n",
              "      <td>-0.2297</td>\n",
              "      <td>0.0000</td>\n",
              "      <td>0.0308</td>\n",
              "      <td>44.757840</td>\n",
              "      <td>1</td>\n",
              "    </tr>\n",
              "  </tbody>\n",
              "</table>\n",
              "<p>5 rows × 223 columns</p>\n",
              "</div>"
            ],
            "text/plain": [
              "        Revenue  Revenue Growth  ...  2019 PRICE VAR [%]  Class\n",
              "0  9.450700e+10          0.1115  ...           32.794573      1\n",
              "1  1.414400e+10          0.0320  ...           40.588068      1\n",
              "2  7.084800e+10          0.1289  ...           30.295514      1\n",
              "3  3.039100e+10          0.4955  ...           64.213737      1\n",
              "4  1.216150e+11          0.0285  ...           44.757840      1\n",
              "\n",
              "[5 rows x 223 columns]"
            ]
          },
          "metadata": {
            "tags": []
          },
          "execution_count": 523
        }
      ]
    },
    {
      "cell_type": "markdown",
      "metadata": {
        "id": "rTP3UwVcODjK"
      },
      "source": [
        "- The features of interest will be all of the columns except for the first column, which gives an abbreviation for which stock it is\n",
        "- The target will be the Class\n",
        "-Stocks classified as 0 were stocks that decreased in value (bad to buy)\n",
        "-Stocks classified as 1 were stocks that increased in value (good to buy)"
      ]
    },
    {
      "cell_type": "code",
      "metadata": {
        "id": "T_TKBxtPNztW"
      },
      "source": [
        "#X (features) contains all the rows and all the columns except for: \n",
        "#the column with the name of stock, the column with the sector names, and the class \n",
        "#also deleting the column with the price increase in percentage because that makes it too obvious (positive percentage menas increase and vice versa)\n",
        "#y (target) contains the class \n",
        "X = dfLR.iloc[:,1:221]\n",
        "y = dfLR.Class"
      ],
      "execution_count": 524,
      "outputs": []
    },
    {
      "cell_type": "code",
      "metadata": {
        "id": "v6KIXwUhYLoS",
        "colab": {
          "base_uri": "https://localhost:8080/",
          "height": 359
        },
        "outputId": "6c3e5641-9a03-4e90-855e-3a89929e6a64"
      },
      "source": [
        "X.head()"
      ],
      "execution_count": 525,
      "outputs": [
        {
          "output_type": "execute_result",
          "data": {
            "text/html": [
              "<div>\n",
              "<style scoped>\n",
              "    .dataframe tbody tr th:only-of-type {\n",
              "        vertical-align: middle;\n",
              "    }\n",
              "\n",
              "    .dataframe tbody tr th {\n",
              "        vertical-align: top;\n",
              "    }\n",
              "\n",
              "    .dataframe thead th {\n",
              "        text-align: right;\n",
              "    }\n",
              "</style>\n",
              "<table border=\"1\" class=\"dataframe\">\n",
              "  <thead>\n",
              "    <tr style=\"text-align: right;\">\n",
              "      <th></th>\n",
              "      <th>Revenue Growth</th>\n",
              "      <th>Cost of Revenue</th>\n",
              "      <th>Gross Profit</th>\n",
              "      <th>R&amp;D Expenses</th>\n",
              "      <th>SG&amp;A Expense</th>\n",
              "      <th>Operating Expenses</th>\n",
              "      <th>Operating Income</th>\n",
              "      <th>Interest Expense</th>\n",
              "      <th>Earnings before Tax</th>\n",
              "      <th>Income Tax Expense</th>\n",
              "      <th>Net Income - Non-Controlling int</th>\n",
              "      <th>Net Income - Discontinued ops</th>\n",
              "      <th>Net Income</th>\n",
              "      <th>Preferred Dividends</th>\n",
              "      <th>Net Income Com</th>\n",
              "      <th>EPS</th>\n",
              "      <th>EPS Diluted</th>\n",
              "      <th>Weighted Average Shs Out</th>\n",
              "      <th>Weighted Average Shs Out (Dil)</th>\n",
              "      <th>Dividend per Share</th>\n",
              "      <th>Gross Margin</th>\n",
              "      <th>EBITDA Margin</th>\n",
              "      <th>EBIT Margin</th>\n",
              "      <th>Profit Margin</th>\n",
              "      <th>Free Cash Flow margin</th>\n",
              "      <th>EBITDA</th>\n",
              "      <th>EBIT</th>\n",
              "      <th>Consolidated Income</th>\n",
              "      <th>Earnings Before Tax Margin</th>\n",
              "      <th>Net Profit Margin</th>\n",
              "      <th>Cash and cash equivalents</th>\n",
              "      <th>Short-term investments</th>\n",
              "      <th>Cash and short-term investments</th>\n",
              "      <th>Receivables</th>\n",
              "      <th>Inventories</th>\n",
              "      <th>Total current assets</th>\n",
              "      <th>Property, Plant &amp; Equipment Net</th>\n",
              "      <th>Goodwill and Intangible Assets</th>\n",
              "      <th>Long-term investments</th>\n",
              "      <th>Tax assets</th>\n",
              "      <th>...</th>\n",
              "      <th>Days Payables Outstanding</th>\n",
              "      <th>Days of Inventory on Hand</th>\n",
              "      <th>Receivables Turnover</th>\n",
              "      <th>Payables Turnover</th>\n",
              "      <th>Inventory Turnover</th>\n",
              "      <th>ROE</th>\n",
              "      <th>Capex per Share</th>\n",
              "      <th>Gross Profit Growth</th>\n",
              "      <th>EBIT Growth</th>\n",
              "      <th>Operating Income Growth</th>\n",
              "      <th>Net Income Growth</th>\n",
              "      <th>EPS Growth</th>\n",
              "      <th>EPS Diluted Growth</th>\n",
              "      <th>Weighted Average Shares Growth</th>\n",
              "      <th>Weighted Average Shares Diluted Growth</th>\n",
              "      <th>Dividends per Share Growth</th>\n",
              "      <th>Operating Cash Flow growth</th>\n",
              "      <th>Free Cash Flow growth</th>\n",
              "      <th>10Y Revenue Growth (per Share)</th>\n",
              "      <th>5Y Revenue Growth (per Share)</th>\n",
              "      <th>3Y Revenue Growth (per Share)</th>\n",
              "      <th>10Y Operating CF Growth (per Share)</th>\n",
              "      <th>5Y Operating CF Growth (per Share)</th>\n",
              "      <th>3Y Operating CF Growth (per Share)</th>\n",
              "      <th>10Y Net Income Growth (per Share)</th>\n",
              "      <th>5Y Net Income Growth (per Share)</th>\n",
              "      <th>3Y Net Income Growth (per Share)</th>\n",
              "      <th>10Y Shareholders Equity Growth (per Share)</th>\n",
              "      <th>5Y Shareholders Equity Growth (per Share)</th>\n",
              "      <th>3Y Shareholders Equity Growth (per Share)</th>\n",
              "      <th>10Y Dividend per Share Growth (per Share)</th>\n",
              "      <th>5Y Dividend per Share Growth (per Share)</th>\n",
              "      <th>3Y Dividend per Share Growth (per Share)</th>\n",
              "      <th>Receivables growth</th>\n",
              "      <th>Inventory Growth</th>\n",
              "      <th>Asset Growth</th>\n",
              "      <th>Book Value per Share Growth</th>\n",
              "      <th>Debt Growth</th>\n",
              "      <th>R&amp;D Expense Growth</th>\n",
              "      <th>SG&amp;A Expenses Growth</th>\n",
              "    </tr>\n",
              "  </thead>\n",
              "  <tbody>\n",
              "    <tr>\n",
              "      <th>0</th>\n",
              "      <td>0.1115</td>\n",
              "      <td>0.000000e+00</td>\n",
              "      <td>9.450700e+10</td>\n",
              "      <td>0.000000e+00</td>\n",
              "      <td>6.482200e+10</td>\n",
              "      <td>7.549800e+10</td>\n",
              "      <td>1.900900e+10</td>\n",
              "      <td>3.542000e+09</td>\n",
              "      <td>1.511100e+10</td>\n",
              "      <td>3.380000e+09</td>\n",
              "      <td>131000000.0</td>\n",
              "      <td>0.000000e+00</td>\n",
              "      <td>1.173100e+10</td>\n",
              "      <td>0.0</td>\n",
              "      <td>1.173100e+10</td>\n",
              "      <td>2.56</td>\n",
              "      <td>2.53</td>\n",
              "      <td>4.549505e+09</td>\n",
              "      <td>4.549505e+09</td>\n",
              "      <td>0.917</td>\n",
              "      <td>1.0000</td>\n",
              "      <td>0.310</td>\n",
              "      <td>0.1974</td>\n",
              "      <td>0.124</td>\n",
              "      <td>0.1268</td>\n",
              "      <td>2.932900e+10</td>\n",
              "      <td>1.865300e+10</td>\n",
              "      <td>1.186200e+10</td>\n",
              "      <td>0.1599</td>\n",
              "      <td>0.1241</td>\n",
              "      <td>3.814000e+09</td>\n",
              "      <td>0.000000e+00</td>\n",
              "      <td>3.814000e+09</td>\n",
              "      <td>1.110400e+10</td>\n",
              "      <td>0.000000e+00</td>\n",
              "      <td>2.184800e+10</td>\n",
              "      <td>4.443700e+10</td>\n",
              "      <td>1.676230e+11</td>\n",
              "      <td>7.883000e+09</td>\n",
              "      <td>0.000000e+00</td>\n",
              "      <td>...</td>\n",
              "      <td>32.8051</td>\n",
              "      <td>0.0000</td>\n",
              "      <td>9.4801</td>\n",
              "      <td>3.6159</td>\n",
              "      <td>0.0000</td>\n",
              "      <td>0.1638</td>\n",
              "      <td>-2.7062</td>\n",
              "      <td>0.1115</td>\n",
              "      <td>0.0220</td>\n",
              "      <td>0.0550</td>\n",
              "      <td>-0.4840</td>\n",
              "      <td>-0.4700</td>\n",
              "      <td>-0.4674</td>\n",
              "      <td>-0.0266</td>\n",
              "      <td>-0.0305</td>\n",
              "      <td>0.9387</td>\n",
              "      <td>0.1428</td>\n",
              "      <td>0.2462</td>\n",
              "      <td>0.1327</td>\n",
              "      <td>0.1094</td>\n",
              "      <td>0.1107</td>\n",
              "      <td>0.11640</td>\n",
              "      <td>0.1456</td>\n",
              "      <td>0.1044</td>\n",
              "      <td>0.1928</td>\n",
              "      <td>0.1463</td>\n",
              "      <td>0.1579</td>\n",
              "      <td>0.0841</td>\n",
              "      <td>0.1019</td>\n",
              "      <td>0.1396</td>\n",
              "      <td>0.2558</td>\n",
              "      <td>0.1865</td>\n",
              "      <td>0.2348</td>\n",
              "      <td>0.2570</td>\n",
              "      <td>0.0000</td>\n",
              "      <td>0.3426</td>\n",
              "      <td>0.0722</td>\n",
              "      <td>0.7309</td>\n",
              "      <td>0.0000</td>\n",
              "      <td>0.1308</td>\n",
              "    </tr>\n",
              "    <tr>\n",
              "      <th>1</th>\n",
              "      <td>0.0320</td>\n",
              "      <td>7.288000e+09</td>\n",
              "      <td>6.856000e+09</td>\n",
              "      <td>0.000000e+00</td>\n",
              "      <td>6.010000e+08</td>\n",
              "      <td>3.062000e+09</td>\n",
              "      <td>3.794000e+09</td>\n",
              "      <td>1.917000e+09</td>\n",
              "      <td>2.196000e+09</td>\n",
              "      <td>5.870000e+08</td>\n",
              "      <td>310000000.0</td>\n",
              "      <td>0.000000e+00</td>\n",
              "      <td>1.609000e+09</td>\n",
              "      <td>128000000.0</td>\n",
              "      <td>1.481000e+09</td>\n",
              "      <td>0.66</td>\n",
              "      <td>0.66</td>\n",
              "      <td>2.207018e+09</td>\n",
              "      <td>2.216000e+09</td>\n",
              "      <td>0.725</td>\n",
              "      <td>0.4847</td>\n",
              "      <td>0.453</td>\n",
              "      <td>0.2908</td>\n",
              "      <td>0.105</td>\n",
              "      <td>0.1498</td>\n",
              "      <td>6.410000e+09</td>\n",
              "      <td>4.113000e+09</td>\n",
              "      <td>1.919000e+09</td>\n",
              "      <td>0.1553</td>\n",
              "      <td>0.1138</td>\n",
              "      <td>3.280000e+09</td>\n",
              "      <td>0.000000e+00</td>\n",
              "      <td>3.280000e+09</td>\n",
              "      <td>1.498000e+09</td>\n",
              "      <td>3.850000e+08</td>\n",
              "      <td>5.722000e+09</td>\n",
              "      <td>3.789700e+10</td>\n",
              "      <td>2.484500e+10</td>\n",
              "      <td>7.481000e+09</td>\n",
              "      <td>1.566000e+09</td>\n",
              "      <td>...</td>\n",
              "      <td>34.5026</td>\n",
              "      <td>-19.2817</td>\n",
              "      <td>9.6022</td>\n",
              "      <td>2.8248</td>\n",
              "      <td>34.9666</td>\n",
              "      <td>0.0478</td>\n",
              "      <td>-1.3195</td>\n",
              "      <td>0.0564</td>\n",
              "      <td>0.0405</td>\n",
              "      <td>0.0751</td>\n",
              "      <td>53.8519</td>\n",
              "      <td>65.0000</td>\n",
              "      <td>65.0000</td>\n",
              "      <td>-0.0063</td>\n",
              "      <td>-0.0063</td>\n",
              "      <td>0.4500</td>\n",
              "      <td>0.0961</td>\n",
              "      <td>0.3841</td>\n",
              "      <td>0.0295</td>\n",
              "      <td>-0.1402</td>\n",
              "      <td>-0.0104</td>\n",
              "      <td>0.00965</td>\n",
              "      <td>-0.1057</td>\n",
              "      <td>-0.0215</td>\n",
              "      <td>0.0000</td>\n",
              "      <td>-0.0881</td>\n",
              "      <td>0.8445</td>\n",
              "      <td>0.0345</td>\n",
              "      <td>0.0376</td>\n",
              "      <td>-0.0182</td>\n",
              "      <td>0.0000</td>\n",
              "      <td>-0.1421</td>\n",
              "      <td>-0.2785</td>\n",
              "      <td>0.0345</td>\n",
              "      <td>-0.0920</td>\n",
              "      <td>-0.0024</td>\n",
              "      <td>0.0076</td>\n",
              "      <td>-0.0137</td>\n",
              "      <td>0.0000</td>\n",
              "      <td>-0.1265</td>\n",
              "    </tr>\n",
              "    <tr>\n",
              "      <th>2</th>\n",
              "      <td>0.1289</td>\n",
              "      <td>2.711100e+10</td>\n",
              "      <td>4.373700e+10</td>\n",
              "      <td>1.354300e+10</td>\n",
              "      <td>6.750000e+09</td>\n",
              "      <td>2.042100e+10</td>\n",
              "      <td>2.331600e+10</td>\n",
              "      <td>-1.260000e+08</td>\n",
              "      <td>2.331700e+10</td>\n",
              "      <td>2.264000e+09</td>\n",
              "      <td>0.0</td>\n",
              "      <td>0.000000e+00</td>\n",
              "      <td>2.105300e+10</td>\n",
              "      <td>0.0</td>\n",
              "      <td>2.105300e+10</td>\n",
              "      <td>4.57</td>\n",
              "      <td>4.48</td>\n",
              "      <td>4.564000e+09</td>\n",
              "      <td>4.611000e+09</td>\n",
              "      <td>1.200</td>\n",
              "      <td>0.6173</td>\n",
              "      <td>0.456</td>\n",
              "      <td>0.3273</td>\n",
              "      <td>0.297</td>\n",
              "      <td>0.2011</td>\n",
              "      <td>3.227600e+10</td>\n",
              "      <td>2.319100e+10</td>\n",
              "      <td>2.105300e+10</td>\n",
              "      <td>0.3291</td>\n",
              "      <td>0.2972</td>\n",
              "      <td>3.019000e+09</td>\n",
              "      <td>8.631000e+09</td>\n",
              "      <td>1.165000e+10</td>\n",
              "      <td>6.722000e+09</td>\n",
              "      <td>7.253000e+09</td>\n",
              "      <td>2.878700e+10</td>\n",
              "      <td>4.897600e+10</td>\n",
              "      <td>3.634900e+10</td>\n",
              "      <td>9.430000e+09</td>\n",
              "      <td>0.000000e+00</td>\n",
              "      <td>...</td>\n",
              "      <td>19.7008</td>\n",
              "      <td>-97.6484</td>\n",
              "      <td>11.4929</td>\n",
              "      <td>5.5264</td>\n",
              "      <td>9.9534</td>\n",
              "      <td>0.2824</td>\n",
              "      <td>-3.2923</td>\n",
              "      <td>0.1187</td>\n",
              "      <td>0.1203</td>\n",
              "      <td>0.2917</td>\n",
              "      <td>1.1928</td>\n",
              "      <td>1.2402</td>\n",
              "      <td>1.2513</td>\n",
              "      <td>-0.0191</td>\n",
              "      <td>-0.0277</td>\n",
              "      <td>0.1132</td>\n",
              "      <td>0.3312</td>\n",
              "      <td>0.3793</td>\n",
              "      <td>0.0876</td>\n",
              "      <td>0.0770</td>\n",
              "      <td>0.0959</td>\n",
              "      <td>0.12710</td>\n",
              "      <td>0.0883</td>\n",
              "      <td>0.1675</td>\n",
              "      <td>0.1719</td>\n",
              "      <td>0.1872</td>\n",
              "      <td>0.2377</td>\n",
              "      <td>0.0876</td>\n",
              "      <td>0.0665</td>\n",
              "      <td>0.0787</td>\n",
              "      <td>0.0815</td>\n",
              "      <td>0.0592</td>\n",
              "      <td>0.0772</td>\n",
              "      <td>0.1989</td>\n",
              "      <td>0.0387</td>\n",
              "      <td>0.0382</td>\n",
              "      <td>0.1014</td>\n",
              "      <td>-0.0169</td>\n",
              "      <td>0.0390</td>\n",
              "      <td>-0.0942</td>\n",
              "    </tr>\n",
              "    <tr>\n",
              "      <th>3</th>\n",
              "      <td>0.4955</td>\n",
              "      <td>1.250000e+10</td>\n",
              "      <td>1.789100e+10</td>\n",
              "      <td>2.141000e+09</td>\n",
              "      <td>8.130000e+08</td>\n",
              "      <td>2.897000e+09</td>\n",
              "      <td>1.499400e+10</td>\n",
              "      <td>3.420000e+08</td>\n",
              "      <td>1.430300e+10</td>\n",
              "      <td>1.680000e+08</td>\n",
              "      <td>3000000.0</td>\n",
              "      <td>0.000000e+00</td>\n",
              "      <td>1.413500e+10</td>\n",
              "      <td>0.0</td>\n",
              "      <td>1.413500e+10</td>\n",
              "      <td>12.27</td>\n",
              "      <td>11.51</td>\n",
              "      <td>1.159811e+09</td>\n",
              "      <td>1.152000e+09</td>\n",
              "      <td>0.000</td>\n",
              "      <td>0.5887</td>\n",
              "      <td>0.638</td>\n",
              "      <td>0.4819</td>\n",
              "      <td>0.465</td>\n",
              "      <td>0.2804</td>\n",
              "      <td>1.940400e+10</td>\n",
              "      <td>1.464500e+10</td>\n",
              "      <td>1.413800e+10</td>\n",
              "      <td>0.4706</td>\n",
              "      <td>0.4651</td>\n",
              "      <td>6.506000e+09</td>\n",
              "      <td>2.960000e+08</td>\n",
              "      <td>6.802000e+09</td>\n",
              "      <td>5.478000e+09</td>\n",
              "      <td>3.595000e+09</td>\n",
              "      <td>1.603900e+10</td>\n",
              "      <td>2.367200e+10</td>\n",
              "      <td>1.559000e+09</td>\n",
              "      <td>4.730000e+08</td>\n",
              "      <td>1.022000e+09</td>\n",
              "      <td>...</td>\n",
              "      <td>52.5323</td>\n",
              "      <td>-104.9740</td>\n",
              "      <td>6.5803</td>\n",
              "      <td>2.1000</td>\n",
              "      <td>9.0476</td>\n",
              "      <td>0.4377</td>\n",
              "      <td>-7.7075</td>\n",
              "      <td>1.1208</td>\n",
              "      <td>1.5233</td>\n",
              "      <td>1.5552</td>\n",
              "      <td>1.7776</td>\n",
              "      <td>1.6274</td>\n",
              "      <td>1.6100</td>\n",
              "      <td>0.0579</td>\n",
              "      <td>0.0650</td>\n",
              "      <td>0.0000</td>\n",
              "      <td>1.1342</td>\n",
              "      <td>1.4922</td>\n",
              "      <td>0.1331</td>\n",
              "      <td>0.2434</td>\n",
              "      <td>0.2035</td>\n",
              "      <td>0.27620</td>\n",
              "      <td>0.5351</td>\n",
              "      <td>0.4586</td>\n",
              "      <td>0.0000</td>\n",
              "      <td>0.6016</td>\n",
              "      <td>0.6545</td>\n",
              "      <td>0.1336</td>\n",
              "      <td>0.2567</td>\n",
              "      <td>0.3459</td>\n",
              "      <td>0.0000</td>\n",
              "      <td>0.0000</td>\n",
              "      <td>0.0000</td>\n",
              "      <td>0.4573</td>\n",
              "      <td>0.1511</td>\n",
              "      <td>0.2275</td>\n",
              "      <td>0.6395</td>\n",
              "      <td>-0.5841</td>\n",
              "      <td>0.1738</td>\n",
              "      <td>0.0942</td>\n",
              "    </tr>\n",
              "    <tr>\n",
              "      <th>4</th>\n",
              "      <td>0.0285</td>\n",
              "      <td>9.546100e+10</td>\n",
              "      <td>2.615400e+10</td>\n",
              "      <td>0.000000e+00</td>\n",
              "      <td>1.811100e+10</td>\n",
              "      <td>4.071100e+10</td>\n",
              "      <td>-1.455700e+10</td>\n",
              "      <td>5.059000e+09</td>\n",
              "      <td>-2.177200e+10</td>\n",
              "      <td>5.830000e+08</td>\n",
              "      <td>-178000000.0</td>\n",
              "      <td>1.726000e+09</td>\n",
              "      <td>-2.235500e+10</td>\n",
              "      <td>894000000.0</td>\n",
              "      <td>-2.280200e+10</td>\n",
              "      <td>-2.62</td>\n",
              "      <td>-2.62</td>\n",
              "      <td>8.698115e+09</td>\n",
              "      <td>8.698115e+09</td>\n",
              "      <td>0.370</td>\n",
              "      <td>0.2151</td>\n",
              "      <td>-0.070</td>\n",
              "      <td>-0.1374</td>\n",
              "      <td>-0.187</td>\n",
              "      <td>0.0058</td>\n",
              "      <td>-8.489000e+09</td>\n",
              "      <td>-1.671300e+10</td>\n",
              "      <td>-2.244300e+10</td>\n",
              "      <td>-0.1790</td>\n",
              "      <td>-0.1838</td>\n",
              "      <td>3.112400e+10</td>\n",
              "      <td>3.383500e+10</td>\n",
              "      <td>6.495900e+10</td>\n",
              "      <td>2.948700e+10</td>\n",
              "      <td>1.380300e+10</td>\n",
              "      <td>1.156990e+11</td>\n",
              "      <td>4.361100e+10</td>\n",
              "      <td>4.615200e+10</td>\n",
              "      <td>3.010000e+08</td>\n",
              "      <td>1.211700e+10</td>\n",
              "      <td>...</td>\n",
              "      <td>42.7892</td>\n",
              "      <td>-52.7765</td>\n",
              "      <td>3.4583</td>\n",
              "      <td>2.2616</td>\n",
              "      <td>7.3214</td>\n",
              "      <td>-0.7216</td>\n",
              "      <td>-0.4066</td>\n",
              "      <td>0.7216</td>\n",
              "      <td>-1.6844</td>\n",
              "      <td>-1.4225</td>\n",
              "      <td>-1.5563</td>\n",
              "      <td>-1.5437</td>\n",
              "      <td>-1.5437</td>\n",
              "      <td>0.0030</td>\n",
              "      <td>0.0005</td>\n",
              "      <td>-0.5595</td>\n",
              "      <td>-0.2961</td>\n",
              "      <td>-0.8162</td>\n",
              "      <td>-0.0262</td>\n",
              "      <td>0.0455</td>\n",
              "      <td>0.0639</td>\n",
              "      <td>-0.20580</td>\n",
              "      <td>-0.2957</td>\n",
              "      <td>-0.3716</td>\n",
              "      <td>0.0000</td>\n",
              "      <td>0.0000</td>\n",
              "      <td>0.0000</td>\n",
              "      <td>-0.1026</td>\n",
              "      <td>-0.2270</td>\n",
              "      <td>-0.2844</td>\n",
              "      <td>-0.1139</td>\n",
              "      <td>-0.1408</td>\n",
              "      <td>-0.2619</td>\n",
              "      <td>-0.2781</td>\n",
              "      <td>-0.2892</td>\n",
              "      <td>-0.1575</td>\n",
              "      <td>-0.4487</td>\n",
              "      <td>-0.2297</td>\n",
              "      <td>0.0000</td>\n",
              "      <td>0.0308</td>\n",
              "    </tr>\n",
              "  </tbody>\n",
              "</table>\n",
              "<p>5 rows × 220 columns</p>\n",
              "</div>"
            ],
            "text/plain": [
              "   Revenue Growth  Cost of Revenue  ...  R&D Expense Growth  SG&A Expenses Growth\n",
              "0          0.1115     0.000000e+00  ...              0.0000                0.1308\n",
              "1          0.0320     7.288000e+09  ...              0.0000               -0.1265\n",
              "2          0.1289     2.711100e+10  ...              0.0390               -0.0942\n",
              "3          0.4955     1.250000e+10  ...              0.1738                0.0942\n",
              "4          0.0285     9.546100e+10  ...              0.0000                0.0308\n",
              "\n",
              "[5 rows x 220 columns]"
            ]
          },
          "metadata": {
            "tags": []
          },
          "execution_count": 525
        }
      ]
    },
    {
      "cell_type": "code",
      "metadata": {
        "id": "ZiATTsjgYmaB",
        "colab": {
          "base_uri": "https://localhost:8080/"
        },
        "outputId": "29fc7706-a03a-4b07-8c47-6ef4a9196db9"
      },
      "source": [
        "y.head()"
      ],
      "execution_count": 526,
      "outputs": [
        {
          "output_type": "execute_result",
          "data": {
            "text/plain": [
              "0    1\n",
              "1    1\n",
              "2    1\n",
              "3    1\n",
              "4    1\n",
              "Name: Class, dtype: int64"
            ]
          },
          "metadata": {
            "tags": []
          },
          "execution_count": 526
        }
      ]
    },
    {
      "cell_type": "code",
      "metadata": {
        "id": "XcqoCoLgQwmd"
      },
      "source": [
        "#splitting data into training and testing data\n",
        "X_train, X_test, y_train, y_test = train_test_split(X,y,test_size = 0.25, random_state = 42)"
      ],
      "execution_count": 527,
      "outputs": []
    },
    {
      "cell_type": "code",
      "metadata": {
        "id": "hm83R5N0RMkv"
      },
      "source": [
        "#Instantiate\n",
        "LogReg = LogisticRegression()"
      ],
      "execution_count": 528,
      "outputs": []
    },
    {
      "cell_type": "code",
      "metadata": {
        "id": "Dv3dzgKsRR8d"
      },
      "source": [
        "#Preprocessing using standard scalar\n",
        "scal = preprocessing.StandardScaler()\n",
        "X_train = scal.fit_transform(X_train)\n",
        "X_test = scal.transform(X_test)"
      ],
      "execution_count": 529,
      "outputs": []
    },
    {
      "cell_type": "code",
      "metadata": {
        "id": "HrcMBnplRcOc",
        "colab": {
          "base_uri": "https://localhost:8080/"
        },
        "outputId": "fa83071b-940d-4d12-f703-2a38ceeba8ec"
      },
      "source": [
        "#fitting to the training data\n",
        "LogReg.fit(X_train,y_train)"
      ],
      "execution_count": 530,
      "outputs": [
        {
          "output_type": "stream",
          "text": [
            "/usr/local/lib/python3.6/dist-packages/sklearn/linear_model/_logistic.py:940: ConvergenceWarning: lbfgs failed to converge (status=1):\n",
            "STOP: TOTAL NO. of ITERATIONS REACHED LIMIT.\n",
            "\n",
            "Increase the number of iterations (max_iter) or scale the data as shown in:\n",
            "    https://scikit-learn.org/stable/modules/preprocessing.html\n",
            "Please also refer to the documentation for alternative solver options:\n",
            "    https://scikit-learn.org/stable/modules/linear_model.html#logistic-regression\n",
            "  extra_warning_msg=_LOGISTIC_SOLVER_CONVERGENCE_MSG)\n"
          ],
          "name": "stderr"
        },
        {
          "output_type": "execute_result",
          "data": {
            "text/plain": [
              "LogisticRegression(C=1.0, class_weight=None, dual=False, fit_intercept=True,\n",
              "                   intercept_scaling=1, l1_ratio=None, max_iter=100,\n",
              "                   multi_class='auto', n_jobs=None, penalty='l2',\n",
              "                   random_state=None, solver='lbfgs', tol=0.0001, verbose=0,\n",
              "                   warm_start=False)"
            ]
          },
          "metadata": {
            "tags": []
          },
          "execution_count": 530
        }
      ]
    },
    {
      "cell_type": "markdown",
      "metadata": {
        "id": "HIv0a-cExIdR"
      },
      "source": [
        "# Predicting Using the Logistic Regression Model"
      ]
    },
    {
      "cell_type": "code",
      "metadata": {
        "id": "1CoqoEPJRpiQ"
      },
      "source": [
        "#making prediction on X_test\n",
        "y_pred = LogReg.predict(X_test)"
      ],
      "execution_count": 531,
      "outputs": []
    },
    {
      "cell_type": "code",
      "metadata": {
        "id": "Py09EiWPb8PP",
        "colab": {
          "base_uri": "https://localhost:8080/"
        },
        "outputId": "ab121085-22a0-412a-f2d2-616427d2c571"
      },
      "source": [
        "y_pred_proba = LogReg.predict_proba(X_test)\n",
        "y_pred_proba"
      ],
      "execution_count": 532,
      "outputs": [
        {
          "output_type": "execute_result",
          "data": {
            "text/plain": [
              "array([[0.50230175, 0.49769825],\n",
              "       [0.40411751, 0.59588249],\n",
              "       [0.32787311, 0.67212689],\n",
              "       ...,\n",
              "       [0.1397891 , 0.8602109 ],\n",
              "       [0.32675054, 0.67324946],\n",
              "       [0.35021927, 0.64978073]])"
            ]
          },
          "metadata": {
            "tags": []
          },
          "execution_count": 532
        }
      ]
    },
    {
      "cell_type": "code",
      "metadata": {
        "id": "9VC97-Ddnbrm",
        "colab": {
          "base_uri": "https://localhost:8080/"
        },
        "outputId": "bfd25d66-5d73-44b5-8802-ca434cc67292"
      },
      "source": [
        "#For the first instance/first stock in the X_test data, the logistic regression model\n",
        "#predicts that there is a 50% chance it will decrease and a 49.8% chance it will increase\n",
        "y_pred_proba[0]"
      ],
      "execution_count": 533,
      "outputs": [
        {
          "output_type": "execute_result",
          "data": {
            "text/plain": [
              "array([0.50230175, 0.49769825])"
            ]
          },
          "metadata": {
            "tags": []
          },
          "execution_count": 533
        }
      ]
    },
    {
      "cell_type": "code",
      "metadata": {
        "id": "er7oeycavw1d",
        "colab": {
          "base_uri": "https://localhost:8080/"
        },
        "outputId": "2bbbd7c8-ec5d-4db4-ee41-1f8806446a26"
      },
      "source": [
        "X_test[0] "
      ],
      "execution_count": 534,
      "outputs": [
        {
          "output_type": "execute_result",
          "data": {
            "text/plain": [
              "array([-1.98262962e-02, -2.05147620e-01, -2.43368188e-01, -1.17076483e-01,\n",
              "       -2.19591081e-01, -2.27345563e-01, -2.10925279e-01, -2.50109645e-01,\n",
              "       -2.02493860e-01, -1.52863560e-01, -9.33701340e-02,  2.55160291e-02,\n",
              "       -2.00350627e-01, -8.95012975e-02, -2.01487784e-01, -9.73659644e-03,\n",
              "       -9.18782588e-03, -1.23015419e-01, -1.22338770e-01,  4.45391442e-01,\n",
              "        4.83042684e-01,  4.60636524e-02,  6.30368854e-02,  4.64447950e-02,\n",
              "        6.50420588e-02, -2.41344054e-01, -2.29409542e-01, -2.04573867e-01,\n",
              "        6.27988330e-02,  6.22548735e-02, -7.91811151e-02, -7.62081657e-02,\n",
              "       -9.30829934e-02, -1.89195819e-01, -4.31721813e-02, -1.17843884e-01,\n",
              "       -2.22706697e-01, -1.94481136e-01, -8.28238740e-02, -1.45363236e-01,\n",
              "       -2.40016909e-01, -1.66190780e-01, -1.38793377e-01, -1.03540066e-01,\n",
              "       -1.00047840e-01, -1.57988277e-01, -1.84570908e-01, -1.01302252e-01,\n",
              "       -1.71994521e-01, -8.25597813e-02, -2.39570444e-01, -1.44095516e-01,\n",
              "        8.53325777e-02, -1.71885075e-01, -2.53979333e-01, -1.05260308e-01,\n",
              "       -6.16494343e-02, -5.11647039e-02, -8.78552953e-02, -2.15299339e-01,\n",
              "       -1.21074282e-01, -8.16875520e-02,  2.14427357e-01,  9.20689445e-02,\n",
              "        6.33548923e-02,  1.87038971e-01,  1.53676855e-03,  9.96932882e-02,\n",
              "        2.17090147e-01,  2.30071622e-02,  2.48229585e-02, -1.02197561e-02,\n",
              "       -1.67133133e-01,  1.84442851e-01, -1.74425933e-02, -1.74286363e-02,\n",
              "       -8.52998404e-02, -2.13889309e-01, -1.54235343e-01, -2.34461591e-01,\n",
              "       -3.93573879e-02, -8.59656931e-02, -7.98198893e-02, -2.51860492e-02,\n",
              "       -1.10925915e-02, -1.74457675e-02,  6.37202284e-02,  9.29121382e-02,\n",
              "       -2.99119355e+00,  1.89759696e-01,  0.00000000e+00,  6.73303872e-02,\n",
              "        6.41512086e-02,  2.99261027e+00, -4.29088700e-02, -1.73715110e-02,\n",
              "        6.84809802e-02, -2.99119355e+00,  9.29121382e-02,  6.37202284e-02,\n",
              "       -3.37877449e-02, -5.73726978e-02, -1.96341689e-02,  2.88799286e+00,\n",
              "       -4.66652921e-02, -4.68171546e-02, -1.54692091e-01,  1.88644756e-02,\n",
              "       -3.11890107e-02, -7.57868220e-03, -5.81780977e-02,  1.54627056e-02,\n",
              "       -4.57163103e-01, -4.79151043e-02, -4.15806003e-01, -6.48299860e-01,\n",
              "        4.82250717e-03, -9.74075476e-04, -1.75087098e-02, -1.31901250e-02,\n",
              "       -1.06429634e-02, -2.84019087e-02, -2.51709493e-01, -3.53112229e-03,\n",
              "        8.90825566e-02, -9.74075476e-04, -4.92163303e-02,  7.94604077e-02,\n",
              "        8.90206076e-02, -4.50877949e-02, -3.90570118e-02, -3.39176669e-02,\n",
              "       -1.31901250e-02, -1.06429634e-02, -2.84019087e-02, -1.02444837e-01,\n",
              "       -9.69236744e-02, -3.77511030e-02, -3.67646353e-02, -2.72867961e-02,\n",
              "       -2.02998147e-01, -2.13889309e-01, -8.52998404e-02, -2.34461591e-01,\n",
              "       -1.54235343e-01, -1.74425933e-02, -1.74286363e-02, -8.28260155e-02,\n",
              "       -5.14351022e-02, -2.35512938e-01, -6.89763554e-02, -2.26645027e-03,\n",
              "        7.03388266e-03, -4.79151043e-02, -4.57163103e-01, -3.75105681e-02,\n",
              "       -3.51473170e-01,  4.82250717e-03, -4.22211998e-02,  3.78137546e-01,\n",
              "       -2.51709493e-01, -6.29676466e-02, -6.05638849e-02, -7.42219926e-01,\n",
              "       -8.01396878e-02, -2.84261763e-02,  3.35533118e-02, -5.50886051e-02,\n",
              "       -3.36729669e-01,  6.84809802e-02, -4.29088700e-02,  2.45574517e-01,\n",
              "       -2.38778629e-02, -1.44917061e-01,  1.37261529e-01, -1.49540787e-01,\n",
              "       -1.82344802e-01, -7.27115256e-02, -6.27426291e-02, -3.12151614e-02,\n",
              "       -5.81780977e-02,  1.88644756e-02,  2.77485230e+00, -3.37877449e-02,\n",
              "       -5.73726978e-02, -1.73715110e-02,  3.94396649e-02, -1.92510103e-02,\n",
              "        9.73787622e-03, -8.76899873e-02, -4.16181143e-02, -1.38558284e-01,\n",
              "       -1.74287797e-02, -1.75755819e-02, -4.95930447e-02,  5.27724109e-01,\n",
              "        7.03144762e-03, -4.54599518e-02, -6.26630876e-01, -9.45949738e-02,\n",
              "       -9.87672069e-02, -2.80991570e-01, -2.11898671e-01, -2.14993815e-01,\n",
              "       -2.68343765e-01, -2.46735685e-01, -2.11286800e-01, -1.16436318e+00,\n",
              "       -1.44165320e-02, -3.31264402e-01, -1.89720215e-01,  5.48663283e-02,\n",
              "       -1.62774433e-02, -1.03881845e-01,  2.09773145e-01, -4.25116059e-02,\n",
              "       -1.90835058e-01, -2.90085406e-02, -1.01512811e-01, -2.22557020e-01])"
            ]
          },
          "metadata": {
            "tags": []
          },
          "execution_count": 534
        }
      ]
    },
    {
      "cell_type": "code",
      "metadata": {
        "id": "R5jsqIr3n60h",
        "colab": {
          "base_uri": "https://localhost:8080/"
        },
        "outputId": "5f2e33aa-89af-4e39-93d7-ce5d12ae5b26"
      },
      "source": [
        "#Array that the gives the probability that the stock will decrease\n",
        "y_pred_proba[:,0]"
      ],
      "execution_count": 535,
      "outputs": [
        {
          "output_type": "execute_result",
          "data": {
            "text/plain": [
              "array([0.50230175, 0.40411751, 0.32787311, ..., 0.1397891 , 0.32675054,\n",
              "       0.35021927])"
            ]
          },
          "metadata": {
            "tags": []
          },
          "execution_count": 535
        }
      ]
    },
    {
      "cell_type": "code",
      "metadata": {
        "id": "9mKPRT5RoQiS",
        "colab": {
          "base_uri": "https://localhost:8080/"
        },
        "outputId": "c4d4bd52-18f5-41e0-8c76-d87052741b1c"
      },
      "source": [
        "#Array that gives the probability that the stock will increase\n",
        "probInc = y_pred_proba[:,1]\n",
        "probInc"
      ],
      "execution_count": 536,
      "outputs": [
        {
          "output_type": "execute_result",
          "data": {
            "text/plain": [
              "array([0.49769825, 0.59588249, 0.67212689, ..., 0.8602109 , 0.67324946,\n",
              "       0.64978073])"
            ]
          },
          "metadata": {
            "tags": []
          },
          "execution_count": 536
        }
      ]
    },
    {
      "cell_type": "code",
      "metadata": {
        "id": "5Pd9yDDPoYvg",
        "colab": {
          "base_uri": "https://localhost:8080/"
        },
        "outputId": "f1df5da4-5db3-4c5d-dd8b-8954db5164bf"
      },
      "source": [
        "#Array with the predicted class of each instance of the Test data \n",
        "predClasses = (y_pred_proba[:,1]>0.5).astype(np.int64)\n",
        "predClasses"
      ],
      "execution_count": 537,
      "outputs": [
        {
          "output_type": "execute_result",
          "data": {
            "text/plain": [
              "array([0, 1, 1, ..., 1, 1, 1])"
            ]
          },
          "metadata": {
            "tags": []
          },
          "execution_count": 537
        }
      ]
    },
    {
      "cell_type": "code",
      "metadata": {
        "id": "GZ1LQSsuv_1z",
        "colab": {
          "base_uri": "https://localhost:8080/"
        },
        "outputId": "91a5ab80-1881-4fe0-d285-4eafb5f5b898"
      },
      "source": [
        "X_test[250]"
      ],
      "execution_count": 538,
      "outputs": [
        {
          "output_type": "execute_result",
          "data": {
            "text/plain": [
              "array([ 3.98309047e-02, -2.07575909e-01, -2.60460788e-01, -2.38983247e-02,\n",
              "       -2.22244864e-01, -2.26058808e-01, -2.56509145e-01, -2.50001974e-01,\n",
              "       -2.53673983e-01, -1.54656927e-01, -9.33701340e-02,  2.55160291e-02,\n",
              "       -2.64679998e-01, -8.95012975e-02, -2.66319161e-01, -1.09981419e-02,\n",
              "       -1.05212855e-02, -1.07072103e-01, -1.06803390e-01, -3.92435298e-01,\n",
              "        7.96425780e-01, -1.75406079e-01, -5.92193037e-01, -1.78098696e-01,\n",
              "       -5.95811101e-01, -2.76476808e-01, -2.78355403e-01, -2.68095445e-01,\n",
              "       -5.94164955e-01, -6.09582571e-01, -7.73692611e-02, -6.89916927e-02,\n",
              "       -8.84673085e-02, -1.83148891e-01, -4.39564929e-02, -1.14184154e-01,\n",
              "       -2.22056000e-01, -1.94481136e-01, -8.30175094e-02, -1.48188317e-01,\n",
              "       -2.40085658e-01, -1.64634065e-01, -1.40661379e-01, -1.03665084e-01,\n",
              "       -1.00068677e-01, -1.58032344e-01, -1.84652734e-01, -6.76354472e-02,\n",
              "       -1.73276150e-01, -8.25597813e-02, -2.35577904e-01, -1.43636176e-01,\n",
              "        8.31999452e-02, -2.25771644e-01, -2.45141914e-01, -1.04014953e-01,\n",
              "       -6.89849735e-02, -5.12237920e-02, -8.77247331e-02, -2.15531922e-01,\n",
              "       -7.14103640e-02, -9.15780990e-02,  2.12577950e-01,  9.20689445e-02,\n",
              "        3.44228519e-02,  1.55823328e-01,  1.81012707e-03,  1.07392613e-01,\n",
              "        2.20742040e-01,  2.43426404e-02,  2.50050354e-02, -1.48841482e-02,\n",
              "       -2.05613994e-01,  1.45043156e-01, -1.74408696e-02, -1.74269126e-02,\n",
              "        9.03990870e-01, -2.13889309e-01, -1.54235343e-01, -4.19060597e-02,\n",
              "       -3.93573879e-02, -8.59656931e-02,  8.94479272e-01, -3.46369982e-02,\n",
              "       -3.10496524e-02, -1.74438642e-02, -5.91711528e-01,  6.68131135e-02,\n",
              "       -2.98287574e-02,  3.08971376e-01,  0.00000000e+00, -5.99231816e-01,\n",
              "       -6.10733618e-01,  3.36196102e-02, -1.25733208e-01, -1.73757642e-02,\n",
              "       -8.43681555e-01, -2.98287574e-02,  6.68131135e-02, -5.91711528e-01,\n",
              "       -5.01899963e-02, -1.64972448e-01, -3.09729052e-02, -8.72706285e-01,\n",
              "        4.72302515e-02,  5.59182878e-02,  2.67168787e-01,  2.03550663e-02,\n",
              "        4.07557060e-01, -7.57868220e-03,  1.55535151e-01,  1.54627056e-02,\n",
              "       -5.10435404e-01, -5.29073983e-02, -4.61196228e-01, -7.73797298e-01,\n",
              "       -4.43167064e-01, -3.39825710e-04, -1.75146316e-02, -1.31929632e-02,\n",
              "       -1.06738483e-02, -2.84038665e-02, -7.98306180e-02, -9.63134517e-03,\n",
              "        8.90825566e-02, -3.39825710e-04, -4.64638343e-02,  3.44752274e-02,\n",
              "        4.34997927e-02, -4.50877949e-02, -3.90838758e-02, -3.39219818e-02,\n",
              "       -1.31929632e-02, -1.06738483e-02, -2.84038665e-02, -1.89014136e-01,\n",
              "       -1.43420727e-01, -3.77521748e-02, -3.67646957e-02, -2.63854549e-02,\n",
              "       -1.88835388e-01, -2.13889309e-01,  9.03990870e-01, -4.19060597e-02,\n",
              "       -1.54235343e-01, -1.74408696e-02, -1.74269126e-02,  1.21524207e+00,\n",
              "       -1.07214851e-01, -5.57275357e-02, -5.51995969e-02, -2.67285474e-03,\n",
              "       -2.92803508e-02, -5.29073983e-02, -5.10435404e-01, -1.59810350e-02,\n",
              "        8.21546517e-01, -4.43167064e-01, -2.05883649e-02, -1.79575349e-01,\n",
              "       -7.98306180e-02,  5.59167031e-01,  6.23421775e-01, -7.42219926e-01,\n",
              "       -8.01396878e-02,  1.72499035e-01, -1.11599704e-01,  3.67766300e-01,\n",
              "       -3.36729669e-01, -8.43681555e-01, -1.25733208e-01,  2.53906359e-01,\n",
              "       -2.29192715e-02, -1.43320766e-01,  1.39349527e-01, -1.48482142e-01,\n",
              "       -1.79219098e-01, -7.33795523e-02, -6.40555784e-02,  4.07530863e-01,\n",
              "        1.55535151e-01,  2.03550663e-02, -6.64736346e-02, -5.01899963e-02,\n",
              "       -1.64972448e-01, -1.73757642e-02,  3.94425248e-02,  4.03971842e-02,\n",
              "        1.26700411e-02, -4.87393769e-02, -2.75659158e-02, -4.00760638e-02,\n",
              "       -1.74268474e-02, -1.75078079e-02, -2.75593755e-02, -5.55327587e-02,\n",
              "        2.01961945e-02, -2.86908134e-02,  6.96495365e-02, -1.89412213e+00,\n",
              "        2.15803261e+00, -1.80936320e-01, -2.11898671e-01, -2.14993815e-01,\n",
              "       -2.68343765e-01, -2.46735685e-01, -2.11286800e-01,  2.69201118e-02,\n",
              "       -1.38369826e-01, -6.64396362e-01,  1.08680990e-01,  5.48663283e-02,\n",
              "       -1.62774433e-02,  4.14746941e+01, -9.28685494e-02, -4.39389994e-02,\n",
              "       -2.77494684e-01, -3.25929337e-02,  6.52223913e-02,  5.62302195e-01])"
            ]
          },
          "metadata": {
            "tags": []
          },
          "execution_count": 538
        }
      ]
    },
    {
      "cell_type": "code",
      "metadata": {
        "id": "E-JYsqzgwDKT",
        "colab": {
          "base_uri": "https://localhost:8080/"
        },
        "outputId": "47afca37-6896-46e5-a33d-f56ca10bee49"
      },
      "source": [
        "y_pred_proba[250]"
      ],
      "execution_count": 539,
      "outputs": [
        {
          "output_type": "execute_result",
          "data": {
            "text/plain": [
              "array([0.14339749, 0.85660251])"
            ]
          },
          "metadata": {
            "tags": []
          },
          "execution_count": 539
        }
      ]
    },
    {
      "cell_type": "code",
      "metadata": {
        "id": "nYGE_KfLwqsw",
        "colab": {
          "base_uri": "https://localhost:8080/"
        },
        "outputId": "054ac939-6a52-4aa9-abcc-5bfb0a55abf7"
      },
      "source": [
        "probInc[250]"
      ],
      "execution_count": 540,
      "outputs": [
        {
          "output_type": "execute_result",
          "data": {
            "text/plain": [
              "0.8566025094310588"
            ]
          },
          "metadata": {
            "tags": []
          },
          "execution_count": 540
        }
      ]
    },
    {
      "cell_type": "code",
      "metadata": {
        "id": "ZE4VOzYfwmZ2",
        "colab": {
          "base_uri": "https://localhost:8080/"
        },
        "outputId": "701c8762-2ec2-4e7f-e0c6-6042096ea6af"
      },
      "source": [
        "predClasses[250]"
      ],
      "execution_count": 541,
      "outputs": [
        {
          "output_type": "execute_result",
          "data": {
            "text/plain": [
              "1"
            ]
          },
          "metadata": {
            "tags": []
          },
          "execution_count": 541
        }
      ]
    },
    {
      "cell_type": "markdown",
      "metadata": {
        "id": "Ra5_Fc3swVb8"
      },
      "source": [
        "For the 250th stock in the X_test data, the Logistic Regression Model predicts that there is a 14% chance the stock will decrease and a 86% chance the stock will increase. The model classifies this stock as Class 1, increase."
      ]
    },
    {
      "cell_type": "markdown",
      "metadata": {
        "id": "N35BCozqximm"
      },
      "source": [
        "# **Interpreting Results of the Logistic Regression Prediction**"
      ]
    },
    {
      "cell_type": "code",
      "metadata": {
        "id": "jUYzK_BYTH78",
        "colab": {
          "base_uri": "https://localhost:8080/"
        },
        "outputId": "e05670c0-8bac-4869-e5c2-00e872389978"
      },
      "source": [
        "#Accuracy Predicting on the Test Data\n",
        "print('Accuracy: ', LogReg.score(X_test,y_test))"
      ],
      "execution_count": 542,
      "outputs": [
        {
          "output_type": "stream",
          "text": [
            "Accuracy:  0.6967213114754098\n"
          ],
          "name": "stdout"
        }
      ]
    },
    {
      "cell_type": "markdown",
      "metadata": {
        "id": "OdZC8HIFo8rF"
      },
      "source": [
        "This Logistic Regression Model has an Accuracy of about 70%"
      ]
    },
    {
      "cell_type": "code",
      "metadata": {
        "id": "iZp8TOhCX9mn",
        "colab": {
          "base_uri": "https://localhost:8080/"
        },
        "outputId": "471f1b86-cd35-449a-c0d1-b26ebc107e94"
      },
      "source": [
        "#Classification Report\n",
        "print(classification_report(y_test, y_pred))"
      ],
      "execution_count": 543,
      "outputs": [
        {
          "output_type": "stream",
          "text": [
            "              precision    recall  f1-score   support\n",
            "\n",
            "           0       0.53      0.18      0.27       339\n",
            "           1       0.72      0.93      0.81       759\n",
            "\n",
            "    accuracy                           0.70      1098\n",
            "   macro avg       0.62      0.55      0.54      1098\n",
            "weighted avg       0.66      0.70      0.64      1098\n",
            "\n"
          ],
          "name": "stdout"
        }
      ]
    },
    {
      "cell_type": "code",
      "metadata": {
        "id": "Wc0cpFmYzPRx"
      },
      "source": [
        "from sklearn.metrics import precision_recall_curve, plot_precision_recall_curve\n",
        "from sklearn.metrics import f1_score"
      ],
      "execution_count": 544,
      "outputs": []
    },
    {
      "cell_type": "code",
      "metadata": {
        "id": "C8UjkHlp1H8Q",
        "colab": {
          "base_uri": "https://localhost:8080/",
          "height": 279
        },
        "outputId": "6d1e1654-0df3-4ab3-a9b5-cde05ddf34e1"
      },
      "source": [
        "PRC = plot_precision_recall_curve(LogReg,X_test,y_test)"
      ],
      "execution_count": 545,
      "outputs": [
        {
          "output_type": "display_data",
          "data": {
            "image/png": "[encoded data removed]",
            "text/plain": [
              "<Figure size 432x288 with 1 Axes>"
            ]
          },
          "metadata": {
            "tags": [],
            "needs_background": "light"
          }
        }
      ]
    },
    {
      "cell_type": "markdown",
      "metadata": {
        "id": "tYDBhlYY5j9Z"
      },
      "source": [
        "**Interpretation of Precision and Recall Scores**"
      ]
    },
    {
      "cell_type": "markdown",
      "metadata": {
        "id": "SvqCtF0k_BfS"
      },
      "source": [
        "The precision is the ratio of the correctly predicted positive values (class 0) to all of the values that were predicted positive.\n",
        "- Precision = TP/ TP + FP\n",
        "- With our precision score of about 71%, we know that 71% of the times the model predicted a stock would decrease, it actually decreased. \n"
      ]
    },
    {
      "cell_type": "code",
      "metadata": {
        "id": "qXxAK-O5gPht",
        "colab": {
          "base_uri": "https://localhost:8080/"
        },
        "outputId": "d6254de8-a955-468b-dcb4-407627f82462"
      },
      "source": [
        "print(precision_score(y_test,y_pred))"
      ],
      "execution_count": 546,
      "outputs": [
        {
          "output_type": "stream",
          "text": [
            "0.7173469387755103\n"
          ],
          "name": "stdout"
        }
      ]
    },
    {
      "cell_type": "markdown",
      "metadata": {
        "id": "puys_ujNA5IL"
      },
      "source": [
        "The recall is the ratio of correctly predicted positive values (class 0) to all of the values that were actually positive (whether or not they were predicted positive).\n",
        "- Recall = TP/TP+FN\n",
        "- With our recall score of about 92%, we know that about 92% of the stocks that decreased (class 0) were correctly predicted to decrease."
      ]
    },
    {
      "cell_type": "code",
      "metadata": {
        "id": "0tfhm4aHgXde",
        "colab": {
          "base_uri": "https://localhost:8080/"
        },
        "outputId": "438ea352-6237-4f8e-a1c8-c4475741fd4c"
      },
      "source": [
        "print(recall_score(y_test,y_pred))"
      ],
      "execution_count": 547,
      "outputs": [
        {
          "output_type": "stream",
          "text": [
            "0.9262187088274044\n"
          ],
          "name": "stdout"
        }
      ]
    },
    {
      "cell_type": "code",
      "metadata": {
        "id": "ht3p9R7-Yw03",
        "colab": {
          "base_uri": "https://localhost:8080/",
          "height": 312
        },
        "outputId": "b58fa032-9acb-449e-bbed-b0995c29132d"
      },
      "source": [
        "#Confusion Matrix \n",
        "#TP FP\n",
        "#FN TN\n",
        "\n",
        "CM = confusion_matrix(y_test, y_pred)\n",
        "categories = [0,1]\n",
        "sns.heatmap(pd.DataFrame(CM), annot = True)\n",
        "plt.title('Confusion Matrix')\n",
        "plt.ylabel('Actual')\n",
        "plt.xlabel('Predicted')"
      ],
      "execution_count": 548,
      "outputs": [
        {
          "output_type": "execute_result",
          "data": {
            "text/plain": [
              "Text(0.5, 15.0, 'Predicted')"
            ]
          },
          "metadata": {
            "tags": []
          },
          "execution_count": 548
        },
        {
          "output_type": "display_data",
          "data": {
            "image/png": "[encoded data removed]",
            "text/plain": [
              "<Figure size 432x288 with 2 Axes>"
            ]
          },
          "metadata": {
            "tags": [],
            "needs_background": "light"
          }
        }
      ]
    },
    {
      "cell_type": "markdown",
      "metadata": {
        "id": "WwqBHxrBgqmY"
      },
      "source": [
        "Reminder: 0 represents Class 0 (stocks that dec in value); 1 represents Class 1 (stocks that inc in value)\n",
        "- 1101 stocks that are part of the test data (25% of full data set)\n",
        "- 62 True Positives (predicted Class 0 , is Class 0 )\n",
        "- 700 True Negatives (predicted Class 1, is Class 1)\n",
        "- 280 False Positives (predicted Class 1, is Class 0)\n",
        "- 56 False Negatives (predicted Class 0, is Class 1)\n",
        "\n",
        "Since 700 of the stocks in the test set were true negatives, we can predict that there is a 64% chance any stock will be increasing.\n",
        "700/1100 = 64%"
      ]
    },
    {
      "cell_type": "code",
      "metadata": {
        "id": "IVpnW3GgznuS",
        "colab": {
          "base_uri": "https://localhost:8080/",
          "height": 367
        },
        "outputId": "e9c31d20-719a-4c18-ca8f-f8be7c6fe1c7"
      },
      "source": [
        "plt.figure(figsize = (20,5))\n",
        "plt.scatter(x= X_test[:,19], y = y_test)\n",
        "plt.title('Graph for Actual Classes')\n",
        "plt.xlabel('Dividends per Share')\n",
        "plt.ylabel('Class')"
      ],
      "execution_count": 549,
      "outputs": [
        {
          "output_type": "execute_result",
          "data": {
            "text/plain": [
              "Text(0, 0.5, 'Class')"
            ]
          },
          "metadata": {
            "tags": []
          },
          "execution_count": 549
        },
        {
          "output_type": "display_data",
          "data": {
            "image/png": "[encoded data removed]",
            "text/plain": [
              "<Figure size 1440x360 with 1 Axes>"
            ]
          },
          "metadata": {
            "tags": [],
            "needs_background": "light"
          }
        }
      ]
    },
    {
      "cell_type": "code",
      "metadata": {
        "id": "iSfX6b1o1EaT",
        "colab": {
          "base_uri": "https://localhost:8080/",
          "height": 367
        },
        "outputId": "2290c951-e6f3-43d3-f6ec-5cc5b53d3d00"
      },
      "source": [
        "plt.figure(figsize = (20,5))\n",
        "plt.scatter(x= X_test[:,19], y = y_pred)\n",
        "plt.title('Graph for Predicted Classes')\n",
        "plt.xlabel('Dividends per Share')\n",
        "plt.ylabel('Class')"
      ],
      "execution_count": 550,
      "outputs": [
        {
          "output_type": "execute_result",
          "data": {
            "text/plain": [
              "Text(0, 0.5, 'Class')"
            ]
          },
          "metadata": {
            "tags": []
          },
          "execution_count": 550
        },
        {
          "output_type": "display_data",
          "data": {
            "image/png": "[encoded data removed]",
            "text/plain": [
              "<Figure size 1440x360 with 1 Axes>"
            ]
          },
          "metadata": {
            "tags": [],
            "needs_background": "light"
          }
        }
      ]
    },
    {
      "cell_type": "markdown",
      "metadata": {
        "id": "HzlmntGq2tVX"
      },
      "source": [
        "After looking at the confusion matrix of our logistic regression model as well as these graphs, we have come to this interpretation of the Logistic Regression Model: \n",
        "- In terms of incorrectly predicting, the model encounters more false positives. The model thinks that the stock will increase when it really does not.\n",
        "-This is shown in the graphs above as well as the confusion matrix. If you look at the bottom of the graphs,there are more points in Class 0 for the actual test class graph on top than the predicted test class graph on the bottom."
      ]
    },
    {
      "cell_type": "markdown",
      "metadata": {
        "id": "4b0ordnA4w68"
      },
      "source": [
        "# Neural Networks"
      ]
    },
    {
      "cell_type": "code",
      "metadata": {
        "id": "F14BJOhAC2Zw"
      },
      "source": [
        "from keras.models import Sequential, load_model \n",
        "from keras.layers import Dense, BatchNormalization\n",
        "from numpy import random\n",
        "from keras.callbacks import EarlyStopping, ModelCheckpoint"
      ],
      "execution_count": 551,
      "outputs": []
    },
    {
      "cell_type": "code",
      "metadata": {
        "id": "vI5Y7Z6-DFK0",
        "colab": {
          "base_uri": "https://localhost:8080/"
        },
        "outputId": "6fb7c611-9ec1-45f7-f7dd-a42d91b652af"
      },
      "source": [
        "#Starting a sequential model \n",
        "random.seed(11)\n",
        "nnmodel = Sequential()\n",
        "#Creating an input layer and a middle layer\n",
        "nnmodel.add(Dense(40, input_shape = (220,),activation = 'relu'))\n",
        "#For some reason this model is very inconsistent (sometimes when I run it the accuracy is about 70%, sometimes 30%, a few times near 94%)\n",
        "#adding batch normalization to see if that will help\n",
        "nnmodel.add(BatchNormalization())\n",
        "#The final layer is an output layer with 1 neuron\n",
        "nnmodel.add(Dense(1, activation = 'sigmoid'))\n",
        "#We are creating a binary classification model \n",
        "nnmodel.compile(loss = 'binary_crossentropy', optimizer = \"sgd\",metrics = ['accuracy'])\n",
        "nnmodel.summary()"
      ],
      "execution_count": 552,
      "outputs": [
        {
          "output_type": "stream",
          "text": [
            "Model: \"sequential_25\"\n",
            "_________________________________________________________________\n",
            "Layer (type)                 Output Shape              Param #   \n",
            "=================================================================\n",
            "dense_50 (Dense)             (None, 40)                8840      \n",
            "_________________________________________________________________\n",
            "batch_normalization_5 (Batch (None, 40)                160       \n",
            "_________________________________________________________________\n",
            "dense_51 (Dense)             (None, 1)                 41        \n",
            "=================================================================\n",
            "Total params: 9,041\n",
            "Trainable params: 8,961\n",
            "Non-trainable params: 80\n",
            "_________________________________________________________________\n"
          ],
          "name": "stdout"
        }
      ]
    },
    {
      "cell_type": "code",
      "metadata": {
        "id": "JFVQ70UHDqOs",
        "colab": {
          "base_uri": "https://localhost:8080/"
        },
        "outputId": "cb8cab31-5f0b-4f92-e026-781108f8e463"
      },
      "source": [
        "#Using the same train and test data that we used for Logistic Regression\n",
        "#training model for 20 epochs\n",
        "hist1 = nnmodel.fit(X_train,y_train,epochs = 20, validation_data = (X_test, y_test))\n",
        "#Seeing how accurate the neural networks model is on the testing data set \n",
        "accuracy = nnmodel.evaluate(X_test,y_test)\n",
        "print(accuracy)"
      ],
      "execution_count": 553,
      "outputs": [
        {
          "output_type": "stream",
          "text": [
            "Epoch 1/20\n",
            "103/103 [==============================] - 0s 2ms/step - loss: 0.7268 - accuracy: 0.6053 - val_loss: 2.2845 - val_accuracy: 0.6776\n",
            "Epoch 2/20\n",
            "103/103 [==============================] - 0s 1ms/step - loss: 0.6347 - accuracy: 0.6718 - val_loss: 2.5484 - val_accuracy: 0.6894\n",
            "Epoch 3/20\n",
            "103/103 [==============================] - 0s 1ms/step - loss: 0.6019 - accuracy: 0.6946 - val_loss: 2.3774 - val_accuracy: 0.6867\n",
            "Epoch 4/20\n",
            "103/103 [==============================] - 0s 1ms/step - loss: 0.5784 - accuracy: 0.7077 - val_loss: 2.5718 - val_accuracy: 0.6876\n",
            "Epoch 5/20\n",
            "103/103 [==============================] - 0s 1ms/step - loss: 0.5693 - accuracy: 0.7058 - val_loss: 2.4498 - val_accuracy: 0.6922\n",
            "Epoch 6/20\n",
            "103/103 [==============================] - 0s 1ms/step - loss: 0.5521 - accuracy: 0.7162 - val_loss: 2.4945 - val_accuracy: 0.6894\n",
            "Epoch 7/20\n",
            "103/103 [==============================] - 0s 1ms/step - loss: 0.5564 - accuracy: 0.7165 - val_loss: 2.3630 - val_accuracy: 0.6894\n",
            "Epoch 8/20\n",
            "103/103 [==============================] - 0s 1ms/step - loss: 0.5410 - accuracy: 0.7240 - val_loss: 2.3646 - val_accuracy: 0.6903\n",
            "Epoch 9/20\n",
            "103/103 [==============================] - 0s 1ms/step - loss: 0.5402 - accuracy: 0.7204 - val_loss: 2.1587 - val_accuracy: 0.6913\n",
            "Epoch 10/20\n",
            "103/103 [==============================] - 0s 1ms/step - loss: 0.5401 - accuracy: 0.7195 - val_loss: 2.1239 - val_accuracy: 0.6913\n",
            "Epoch 11/20\n",
            "103/103 [==============================] - 0s 1ms/step - loss: 0.5348 - accuracy: 0.7280 - val_loss: 1.9781 - val_accuracy: 0.6922\n",
            "Epoch 12/20\n",
            "103/103 [==============================] - 0s 1ms/step - loss: 0.5309 - accuracy: 0.7280 - val_loss: 1.7802 - val_accuracy: 0.6922\n",
            "Epoch 13/20\n",
            "103/103 [==============================] - 0s 1ms/step - loss: 0.5275 - accuracy: 0.7298 - val_loss: 1.7330 - val_accuracy: 0.6940\n",
            "Epoch 14/20\n",
            "103/103 [==============================] - 0s 1ms/step - loss: 0.5252 - accuracy: 0.7322 - val_loss: 1.6459 - val_accuracy: 0.6922\n",
            "Epoch 15/20\n",
            "103/103 [==============================] - 0s 2ms/step - loss: 0.5245 - accuracy: 0.7325 - val_loss: 1.5778 - val_accuracy: 0.6922\n",
            "Epoch 16/20\n",
            "103/103 [==============================] - 0s 1ms/step - loss: 0.5218 - accuracy: 0.7310 - val_loss: 1.6068 - val_accuracy: 0.6922\n",
            "Epoch 17/20\n",
            "103/103 [==============================] - 0s 1ms/step - loss: 0.5170 - accuracy: 0.7362 - val_loss: 1.4940 - val_accuracy: 0.6903\n",
            "Epoch 18/20\n",
            "103/103 [==============================] - 0s 1ms/step - loss: 0.5183 - accuracy: 0.7413 - val_loss: 1.3669 - val_accuracy: 0.6903\n",
            "Epoch 19/20\n",
            "103/103 [==============================] - 0s 1ms/step - loss: 0.5124 - accuracy: 0.7401 - val_loss: 1.1356 - val_accuracy: 0.6903\n",
            "Epoch 20/20\n",
            "103/103 [==============================] - 0s 1ms/step - loss: 0.5074 - accuracy: 0.7410 - val_loss: 1.2380 - val_accuracy: 0.6903\n",
            " 1/35 [..............................] - ETA: 0s - loss: 0.4390 - accuracy: 0.8438WARNING:tensorflow:Callbacks method `on_test_batch_end` is slow compared to the batch time (batch time: 0.0007s vs `on_test_batch_end` time: 0.0016s). Check your callbacks.\n",
            "35/35 [==============================] - 0s 1ms/step - loss: 1.2380 - accuracy: 0.6903\n",
            "[1.2379589080810547, 0.6903460621833801]\n"
          ],
          "name": "stdout"
        }
      ]
    },
    {
      "cell_type": "markdown",
      "metadata": {
        "id": "biaLk-tYpW7B"
      },
      "source": [
        "The model's accuracy varies every time to due an element of randomization in the initial weights, but the highest training accuracy is about 75% and the highest testing accuracy is about 69%"
      ]
    },
    {
      "cell_type": "code",
      "metadata": {
        "id": "tT4_Jl6tjRn-",
        "colab": {
          "base_uri": "https://localhost:8080/",
          "height": 295
        },
        "outputId": "cd7e76b6-b135-49cb-eef8-42fb516f4494"
      },
      "source": [
        "#graphing accuracy for this \n",
        "accTrain1 = hist1.history['accuracy']\n",
        "accVal1 = hist1.history['val_accuracy']\n",
        "epochs = range(1,21)\n",
        "plt.plot(epochs,accTrain1, 'g', label = 'accuracy on train data')\n",
        "plt.plot(epochs,accVal1, 'b', label = 'accuracy on test data')\n",
        "plt.title('Epoch vs. Accuracy (relu activation + sigmoid activation)')\n",
        "plt.xlabel('Epoch')\n",
        "plt.ylabel('Accuracy')\n",
        "plt.legend()\n",
        "plt.show()"
      ],
      "execution_count": 554,
      "outputs": [
        {
          "output_type": "display_data",
          "data": {
            "image/png": "[encoded data removed]",
            "text/plain": [
              "<Figure size 432x288 with 1 Axes>"
            ]
          },
          "metadata": {
            "tags": [],
            "needs_background": "light"
          }
        }
      ]
    },
    {
      "cell_type": "code",
      "metadata": {
        "id": "bfNx0_n1DwNJ",
        "colab": {
          "base_uri": "https://localhost:8080/"
        },
        "outputId": "11329646-45c1-45a2-810f-ee9e24ecc615"
      },
      "source": [
        "#Doing it again with the EarlyStopping and ModelCheckpoint callbacks \n",
        "monitor_val_acc = EarlyStopping(monitor = 'val_acc', patience = 3)\n",
        "modelCheckpoint = ModelCheckpoint('best_NN_Model.hdf5', save_best_only = True)\n",
        "histCB = nnmodel.fit(X_train,y_train, epochs = 100, callbacks = [monitor_val_acc, modelCheckpoint], validation_data = (X_test, y_test))\n",
        "accuracy2 = nnmodel.evaluate(X_test, y_test)"
      ],
      "execution_count": 555,
      "outputs": [
        {
          "output_type": "stream",
          "text": [
            "Epoch 1/100\n",
            " 95/103 [==========================>...] - ETA: 0s - loss: 0.5083 - accuracy: 0.7424WARNING:tensorflow:Early stopping conditioned on metric `val_acc` which is not available. Available metrics are: loss,accuracy,val_loss,val_accuracy\n",
            "103/103 [==============================] - 0s 2ms/step - loss: 0.5095 - accuracy: 0.7423 - val_loss: 1.0395 - val_accuracy: 0.6894\n",
            "Epoch 2/100\n",
            "103/103 [==============================] - ETA: 0s - loss: 0.5029 - accuracy: 0.7502WARNING:tensorflow:Early stopping conditioned on metric `val_acc` which is not available. Available metrics are: loss,accuracy,val_loss,val_accuracy\n",
            "103/103 [==============================] - 0s 1ms/step - loss: 0.5029 - accuracy: 0.7502 - val_loss: 0.9783 - val_accuracy: 0.6922\n",
            "Epoch 3/100\n",
            " 96/103 [==========================>...] - ETA: 0s - loss: 0.5068 - accuracy: 0.7389WARNING:tensorflow:Early stopping conditioned on metric `val_acc` which is not available. Available metrics are: loss,accuracy,val_loss,val_accuracy\n",
            "103/103 [==============================] - 0s 2ms/step - loss: 0.5063 - accuracy: 0.7398 - val_loss: 0.8572 - val_accuracy: 0.6931\n",
            "Epoch 4/100\n",
            " 97/103 [===========================>..] - ETA: 0s - loss: 0.5017 - accuracy: 0.7510WARNING:tensorflow:Early stopping conditioned on metric `val_acc` which is not available. Available metrics are: loss,accuracy,val_loss,val_accuracy\n",
            "103/103 [==============================] - 0s 2ms/step - loss: 0.4998 - accuracy: 0.7517 - val_loss: 0.6936 - val_accuracy: 0.6894\n",
            "Epoch 5/100\n",
            " 95/103 [==========================>...] - ETA: 0s - loss: 0.4994 - accuracy: 0.7497WARNING:tensorflow:Early stopping conditioned on metric `val_acc` which is not available. Available metrics are: loss,accuracy,val_loss,val_accuracy\n",
            "103/103 [==============================] - 0s 2ms/step - loss: 0.5004 - accuracy: 0.7486 - val_loss: 0.6312 - val_accuracy: 0.6958\n",
            "Epoch 6/100\n",
            " 91/103 [=========================>....] - ETA: 0s - loss: 0.4997 - accuracy: 0.7435WARNING:tensorflow:Early stopping conditioned on metric `val_acc` which is not available. Available metrics are: loss,accuracy,val_loss,val_accuracy\n",
            "103/103 [==============================] - 0s 1ms/step - loss: 0.4987 - accuracy: 0.7480 - val_loss: 0.6316 - val_accuracy: 0.6922\n",
            "Epoch 7/100\n",
            " 96/103 [==========================>...] - ETA: 0s - loss: 0.5019 - accuracy: 0.7507WARNING:tensorflow:Early stopping conditioned on metric `val_acc` which is not available. Available metrics are: loss,accuracy,val_loss,val_accuracy\n",
            "103/103 [==============================] - 0s 1ms/step - loss: 0.4975 - accuracy: 0.7541 - val_loss: 0.6356 - val_accuracy: 0.6940\n",
            "Epoch 8/100\n",
            " 91/103 [=========================>....] - ETA: 0s - loss: 0.4987 - accuracy: 0.7497WARNING:tensorflow:Early stopping conditioned on metric `val_acc` which is not available. Available metrics are: loss,accuracy,val_loss,val_accuracy\n",
            "103/103 [==============================] - 0s 1ms/step - loss: 0.4965 - accuracy: 0.7511 - val_loss: 0.6330 - val_accuracy: 0.6922\n",
            "Epoch 9/100\n",
            " 95/103 [==========================>...] - ETA: 0s - loss: 0.4973 - accuracy: 0.7530WARNING:tensorflow:Early stopping conditioned on metric `val_acc` which is not available. Available metrics are: loss,accuracy,val_loss,val_accuracy\n",
            "103/103 [==============================] - 0s 1ms/step - loss: 0.4936 - accuracy: 0.7571 - val_loss: 0.6350 - val_accuracy: 0.6913\n",
            "Epoch 10/100\n",
            " 98/103 [===========================>..] - ETA: 0s - loss: 0.4916 - accuracy: 0.7481WARNING:tensorflow:Early stopping conditioned on metric `val_acc` which is not available. Available metrics are: loss,accuracy,val_loss,val_accuracy\n",
            "103/103 [==============================] - 0s 1ms/step - loss: 0.4920 - accuracy: 0.7486 - val_loss: 0.6362 - val_accuracy: 0.6876\n",
            "Epoch 11/100\n",
            " 99/103 [===========================>..] - ETA: 0s - loss: 0.4865 - accuracy: 0.7566WARNING:tensorflow:Early stopping conditioned on metric `val_acc` which is not available. Available metrics are: loss,accuracy,val_loss,val_accuracy\n",
            "103/103 [==============================] - 0s 1ms/step - loss: 0.4860 - accuracy: 0.7565 - val_loss: 0.6356 - val_accuracy: 0.6903\n",
            "Epoch 12/100\n",
            "102/103 [============================>.] - ETA: 0s - loss: 0.4884 - accuracy: 0.7525WARNING:tensorflow:Early stopping conditioned on metric `val_acc` which is not available. Available metrics are: loss,accuracy,val_loss,val_accuracy\n",
            "103/103 [==============================] - 0s 1ms/step - loss: 0.4882 - accuracy: 0.7523 - val_loss: 0.6361 - val_accuracy: 0.6885\n",
            "Epoch 13/100\n",
            " 95/103 [==========================>...] - ETA: 0s - loss: 0.4959 - accuracy: 0.7467WARNING:tensorflow:Early stopping conditioned on metric `val_acc` which is not available. Available metrics are: loss,accuracy,val_loss,val_accuracy\n",
            "103/103 [==============================] - 0s 1ms/step - loss: 0.4954 - accuracy: 0.7492 - val_loss: 0.6399 - val_accuracy: 0.6876\n",
            "Epoch 14/100\n",
            " 92/103 [=========================>....] - ETA: 0s - loss: 0.4858 - accuracy: 0.7534WARNING:tensorflow:Early stopping conditioned on metric `val_acc` which is not available. Available metrics are: loss,accuracy,val_loss,val_accuracy\n",
            "103/103 [==============================] - 0s 1ms/step - loss: 0.4855 - accuracy: 0.7547 - val_loss: 0.6416 - val_accuracy: 0.6894\n",
            "Epoch 15/100\n",
            " 93/103 [==========================>...] - ETA: 0s - loss: 0.4832 - accuracy: 0.7560WARNING:tensorflow:Early stopping conditioned on metric `val_acc` which is not available. Available metrics are: loss,accuracy,val_loss,val_accuracy\n",
            "103/103 [==============================] - 0s 1ms/step - loss: 0.4861 - accuracy: 0.7550 - val_loss: 0.6644 - val_accuracy: 0.6903\n",
            "Epoch 16/100\n",
            " 94/103 [==========================>...] - ETA: 0s - loss: 0.4788 - accuracy: 0.7600WARNING:tensorflow:Early stopping conditioned on metric `val_acc` which is not available. Available metrics are: loss,accuracy,val_loss,val_accuracy\n",
            "103/103 [==============================] - 0s 1ms/step - loss: 0.4827 - accuracy: 0.7562 - val_loss: 0.6545 - val_accuracy: 0.6876\n",
            "Epoch 17/100\n",
            " 88/103 [========================>.....] - ETA: 0s - loss: 0.4718 - accuracy: 0.7674WARNING:tensorflow:Early stopping conditioned on metric `val_acc` which is not available. Available metrics are: loss,accuracy,val_loss,val_accuracy\n",
            "103/103 [==============================] - 0s 2ms/step - loss: 0.4796 - accuracy: 0.7641 - val_loss: 0.6883 - val_accuracy: 0.6867\n",
            "Epoch 18/100\n",
            "100/103 [============================>.] - ETA: 0s - loss: 0.4794 - accuracy: 0.7566WARNING:tensorflow:Early stopping conditioned on metric `val_acc` which is not available. Available metrics are: loss,accuracy,val_loss,val_accuracy\n",
            "103/103 [==============================] - 0s 1ms/step - loss: 0.4813 - accuracy: 0.7538 - val_loss: 0.7364 - val_accuracy: 0.6867\n",
            "Epoch 19/100\n",
            " 99/103 [===========================>..] - ETA: 0s - loss: 0.4859 - accuracy: 0.7579WARNING:tensorflow:Early stopping conditioned on metric `val_acc` which is not available. Available metrics are: loss,accuracy,val_loss,val_accuracy\n",
            "103/103 [==============================] - 0s 1ms/step - loss: 0.4873 - accuracy: 0.7577 - val_loss: 0.7099 - val_accuracy: 0.6885\n",
            "Epoch 20/100\n",
            "102/103 [============================>.] - ETA: 0s - loss: 0.4734 - accuracy: 0.7632WARNING:tensorflow:Early stopping conditioned on metric `val_acc` which is not available. Available metrics are: loss,accuracy,val_loss,val_accuracy\n",
            "103/103 [==============================] - 0s 1ms/step - loss: 0.4751 - accuracy: 0.7617 - val_loss: 0.6482 - val_accuracy: 0.6867\n",
            "Epoch 21/100\n",
            "102/103 [============================>.] - ETA: 0s - loss: 0.4775 - accuracy: 0.7656WARNING:tensorflow:Early stopping conditioned on metric `val_acc` which is not available. Available metrics are: loss,accuracy,val_loss,val_accuracy\n",
            "103/103 [==============================] - 0s 1ms/step - loss: 0.4787 - accuracy: 0.7647 - val_loss: 0.6377 - val_accuracy: 0.6876\n",
            "Epoch 22/100\n",
            " 85/103 [=======================>......] - ETA: 0s - loss: 0.4779 - accuracy: 0.7566WARNING:tensorflow:Early stopping conditioned on metric `val_acc` which is not available. Available metrics are: loss,accuracy,val_loss,val_accuracy\n",
            "103/103 [==============================] - 0s 2ms/step - loss: 0.4836 - accuracy: 0.7550 - val_loss: 0.6465 - val_accuracy: 0.6858\n",
            "Epoch 23/100\n",
            "101/103 [============================>.] - ETA: 0s - loss: 0.4783 - accuracy: 0.7618WARNING:tensorflow:Early stopping conditioned on metric `val_acc` which is not available. Available metrics are: loss,accuracy,val_loss,val_accuracy\n",
            "103/103 [==============================] - 0s 1ms/step - loss: 0.4784 - accuracy: 0.7605 - val_loss: 0.6421 - val_accuracy: 0.6867\n",
            "Epoch 24/100\n",
            "101/103 [============================>.] - ETA: 0s - loss: 0.4787 - accuracy: 0.7676WARNING:tensorflow:Early stopping conditioned on metric `val_acc` which is not available. Available metrics are: loss,accuracy,val_loss,val_accuracy\n",
            "103/103 [==============================] - 0s 1ms/step - loss: 0.4775 - accuracy: 0.7681 - val_loss: 0.6409 - val_accuracy: 0.6876\n",
            "Epoch 25/100\n",
            " 98/103 [===========================>..] - ETA: 0s - loss: 0.4700 - accuracy: 0.7624WARNING:tensorflow:Early stopping conditioned on metric `val_acc` which is not available. Available metrics are: loss,accuracy,val_loss,val_accuracy\n",
            "103/103 [==============================] - 0s 2ms/step - loss: 0.4717 - accuracy: 0.7605 - val_loss: 0.6419 - val_accuracy: 0.6885\n",
            "Epoch 26/100\n",
            "100/103 [============================>.] - ETA: 0s - loss: 0.4684 - accuracy: 0.7609WARNING:tensorflow:Early stopping conditioned on metric `val_acc` which is not available. Available metrics are: loss,accuracy,val_loss,val_accuracy\n",
            "103/103 [==============================] - 0s 1ms/step - loss: 0.4677 - accuracy: 0.7614 - val_loss: 0.6710 - val_accuracy: 0.6812\n",
            "Epoch 27/100\n",
            " 94/103 [==========================>...] - ETA: 0s - loss: 0.4698 - accuracy: 0.7673WARNING:tensorflow:Early stopping conditioned on metric `val_acc` which is not available. Available metrics are: loss,accuracy,val_loss,val_accuracy\n",
            "103/103 [==============================] - 0s 2ms/step - loss: 0.4696 - accuracy: 0.7668 - val_loss: 0.6499 - val_accuracy: 0.6885\n",
            "Epoch 28/100\n",
            "100/103 [============================>.] - ETA: 0s - loss: 0.4702 - accuracy: 0.7666WARNING:tensorflow:Early stopping conditioned on metric `val_acc` which is not available. Available metrics are: loss,accuracy,val_loss,val_accuracy\n",
            "103/103 [==============================] - 0s 1ms/step - loss: 0.4700 - accuracy: 0.7665 - val_loss: 0.7081 - val_accuracy: 0.6849\n",
            "Epoch 29/100\n",
            " 86/103 [========================>.....] - ETA: 0s - loss: 0.4652 - accuracy: 0.7678WARNING:tensorflow:Early stopping conditioned on metric `val_acc` which is not available. Available metrics are: loss,accuracy,val_loss,val_accuracy\n",
            "103/103 [==============================] - 0s 2ms/step - loss: 0.4661 - accuracy: 0.7684 - val_loss: 0.7171 - val_accuracy: 0.6849\n",
            "Epoch 30/100\n",
            " 86/103 [========================>.....] - ETA: 0s - loss: 0.4640 - accuracy: 0.7733WARNING:tensorflow:Early stopping conditioned on metric `val_acc` which is not available. Available metrics are: loss,accuracy,val_loss,val_accuracy\n",
            "103/103 [==============================] - 0s 2ms/step - loss: 0.4646 - accuracy: 0.7747 - val_loss: 0.6478 - val_accuracy: 0.6867\n",
            "Epoch 31/100\n",
            "100/103 [============================>.] - ETA: 0s - loss: 0.4678 - accuracy: 0.7713WARNING:tensorflow:Early stopping conditioned on metric `val_acc` which is not available. Available metrics are: loss,accuracy,val_loss,val_accuracy\n",
            "103/103 [==============================] - 0s 1ms/step - loss: 0.4688 - accuracy: 0.7714 - val_loss: 0.6851 - val_accuracy: 0.6867\n",
            "Epoch 32/100\n",
            " 92/103 [=========================>....] - ETA: 0s - loss: 0.4636 - accuracy: 0.7721WARNING:tensorflow:Early stopping conditioned on metric `val_acc` which is not available. Available metrics are: loss,accuracy,val_loss,val_accuracy\n",
            "103/103 [==============================] - 0s 1ms/step - loss: 0.4668 - accuracy: 0.7705 - val_loss: 0.6542 - val_accuracy: 0.6849\n",
            "Epoch 33/100\n",
            "101/103 [============================>.] - ETA: 0s - loss: 0.4622 - accuracy: 0.7707WARNING:tensorflow:Early stopping conditioned on metric `val_acc` which is not available. Available metrics are: loss,accuracy,val_loss,val_accuracy\n",
            "103/103 [==============================] - 0s 1ms/step - loss: 0.4620 - accuracy: 0.7711 - val_loss: 0.7591 - val_accuracy: 0.6894\n",
            "Epoch 34/100\n",
            " 95/103 [==========================>...] - ETA: 0s - loss: 0.4719 - accuracy: 0.7615WARNING:tensorflow:Early stopping conditioned on metric `val_acc` which is not available. Available metrics are: loss,accuracy,val_loss,val_accuracy\n",
            "103/103 [==============================] - 0s 1ms/step - loss: 0.4687 - accuracy: 0.7638 - val_loss: 0.7096 - val_accuracy: 0.6858\n",
            "Epoch 35/100\n",
            " 93/103 [==========================>...] - ETA: 0s - loss: 0.4637 - accuracy: 0.7786WARNING:tensorflow:Early stopping conditioned on metric `val_acc` which is not available. Available metrics are: loss,accuracy,val_loss,val_accuracy\n",
            "103/103 [==============================] - 0s 1ms/step - loss: 0.4667 - accuracy: 0.7760 - val_loss: 0.6570 - val_accuracy: 0.6858\n",
            "Epoch 36/100\n",
            " 94/103 [==========================>...] - ETA: 0s - loss: 0.4657 - accuracy: 0.7743WARNING:tensorflow:Early stopping conditioned on metric `val_acc` which is not available. Available metrics are: loss,accuracy,val_loss,val_accuracy\n",
            "103/103 [==============================] - 0s 2ms/step - loss: 0.4688 - accuracy: 0.7708 - val_loss: 0.6570 - val_accuracy: 0.6858\n",
            "Epoch 37/100\n",
            "100/103 [============================>.] - ETA: 0s - loss: 0.4587 - accuracy: 0.7750WARNING:tensorflow:Early stopping conditioned on metric `val_acc` which is not available. Available metrics are: loss,accuracy,val_loss,val_accuracy\n",
            "103/103 [==============================] - 0s 1ms/step - loss: 0.4590 - accuracy: 0.7766 - val_loss: 0.6548 - val_accuracy: 0.6849\n",
            "Epoch 38/100\n",
            " 99/103 [===========================>..] - ETA: 0s - loss: 0.4636 - accuracy: 0.7803WARNING:tensorflow:Early stopping conditioned on metric `val_acc` which is not available. Available metrics are: loss,accuracy,val_loss,val_accuracy\n",
            "103/103 [==============================] - 0s 1ms/step - loss: 0.4623 - accuracy: 0.7808 - val_loss: 0.6532 - val_accuracy: 0.6858\n",
            "Epoch 39/100\n",
            "100/103 [============================>.] - ETA: 0s - loss: 0.4604 - accuracy: 0.7741WARNING:tensorflow:Early stopping conditioned on metric `val_acc` which is not available. Available metrics are: loss,accuracy,val_loss,val_accuracy\n",
            "103/103 [==============================] - 0s 1ms/step - loss: 0.4602 - accuracy: 0.7732 - val_loss: 0.6540 - val_accuracy: 0.6876\n",
            "Epoch 40/100\n",
            " 94/103 [==========================>...] - ETA: 0s - loss: 0.4591 - accuracy: 0.7706WARNING:tensorflow:Early stopping conditioned on metric `val_acc` which is not available. Available metrics are: loss,accuracy,val_loss,val_accuracy\n",
            "103/103 [==============================] - 0s 1ms/step - loss: 0.4594 - accuracy: 0.7705 - val_loss: 0.6566 - val_accuracy: 0.6849\n",
            "Epoch 41/100\n",
            " 94/103 [==========================>...] - ETA: 0s - loss: 0.4578 - accuracy: 0.7776WARNING:tensorflow:Early stopping conditioned on metric `val_acc` which is not available. Available metrics are: loss,accuracy,val_loss,val_accuracy\n",
            "103/103 [==============================] - 0s 2ms/step - loss: 0.4586 - accuracy: 0.7760 - val_loss: 0.6591 - val_accuracy: 0.6867\n",
            "Epoch 42/100\n",
            " 97/103 [===========================>..] - ETA: 0s - loss: 0.4577 - accuracy: 0.7735WARNING:tensorflow:Early stopping conditioned on metric `val_acc` which is not available. Available metrics are: loss,accuracy,val_loss,val_accuracy\n",
            "103/103 [==============================] - 0s 1ms/step - loss: 0.4599 - accuracy: 0.7699 - val_loss: 0.6571 - val_accuracy: 0.6840\n",
            "Epoch 43/100\n",
            " 88/103 [========================>.....] - ETA: 0s - loss: 0.4573 - accuracy: 0.7781WARNING:tensorflow:Early stopping conditioned on metric `val_acc` which is not available. Available metrics are: loss,accuracy,val_loss,val_accuracy\n",
            "103/103 [==============================] - 0s 2ms/step - loss: 0.4550 - accuracy: 0.7817 - val_loss: 0.6599 - val_accuracy: 0.6840\n",
            "Epoch 44/100\n",
            " 90/103 [=========================>....] - ETA: 0s - loss: 0.4535 - accuracy: 0.7806WARNING:tensorflow:Early stopping conditioned on metric `val_acc` which is not available. Available metrics are: loss,accuracy,val_loss,val_accuracy\n",
            "103/103 [==============================] - 0s 2ms/step - loss: 0.4556 - accuracy: 0.7787 - val_loss: 0.6563 - val_accuracy: 0.6849\n",
            "Epoch 45/100\n",
            " 94/103 [==========================>...] - ETA: 0s - loss: 0.4437 - accuracy: 0.7982WARNING:tensorflow:Early stopping conditioned on metric `val_acc` which is not available. Available metrics are: loss,accuracy,val_loss,val_accuracy\n",
            "103/103 [==============================] - 0s 1ms/step - loss: 0.4430 - accuracy: 0.7975 - val_loss: 0.6553 - val_accuracy: 0.6858\n",
            "Epoch 46/100\n",
            " 98/103 [===========================>..] - ETA: 0s - loss: 0.4477 - accuracy: 0.7828WARNING:tensorflow:Early stopping conditioned on metric `val_acc` which is not available. Available metrics are: loss,accuracy,val_loss,val_accuracy\n",
            "103/103 [==============================] - 0s 1ms/step - loss: 0.4505 - accuracy: 0.7817 - val_loss: 0.6522 - val_accuracy: 0.6849\n",
            "Epoch 47/100\n",
            " 85/103 [=======================>......] - ETA: 0s - loss: 0.4481 - accuracy: 0.7835WARNING:tensorflow:Early stopping conditioned on metric `val_acc` which is not available. Available metrics are: loss,accuracy,val_loss,val_accuracy\n",
            "103/103 [==============================] - 0s 2ms/step - loss: 0.4516 - accuracy: 0.7796 - val_loss: 0.6549 - val_accuracy: 0.6849\n",
            "Epoch 48/100\n",
            " 98/103 [===========================>..] - ETA: 0s - loss: 0.4524 - accuracy: 0.7787WARNING:tensorflow:Early stopping conditioned on metric `val_acc` which is not available. Available metrics are: loss,accuracy,val_loss,val_accuracy\n",
            "103/103 [==============================] - 0s 1ms/step - loss: 0.4516 - accuracy: 0.7793 - val_loss: 0.6582 - val_accuracy: 0.6885\n",
            "Epoch 49/100\n",
            " 93/103 [==========================>...] - ETA: 0s - loss: 0.4446 - accuracy: 0.7893WARNING:tensorflow:Early stopping conditioned on metric `val_acc` which is not available. Available metrics are: loss,accuracy,val_loss,val_accuracy\n",
            "103/103 [==============================] - 0s 1ms/step - loss: 0.4460 - accuracy: 0.7857 - val_loss: 0.6625 - val_accuracy: 0.6840\n",
            "Epoch 50/100\n",
            " 90/103 [=========================>....] - ETA: 0s - loss: 0.4527 - accuracy: 0.7788WARNING:tensorflow:Early stopping conditioned on metric `val_acc` which is not available. Available metrics are: loss,accuracy,val_loss,val_accuracy\n",
            "103/103 [==============================] - 0s 2ms/step - loss: 0.4525 - accuracy: 0.7772 - val_loss: 0.6590 - val_accuracy: 0.6894\n",
            "Epoch 51/100\n",
            " 91/103 [=========================>....] - ETA: 0s - loss: 0.4476 - accuracy: 0.7775WARNING:tensorflow:Early stopping conditioned on metric `val_acc` which is not available. Available metrics are: loss,accuracy,val_loss,val_accuracy\n",
            "103/103 [==============================] - 0s 2ms/step - loss: 0.4479 - accuracy: 0.7796 - val_loss: 0.6635 - val_accuracy: 0.6858\n",
            "Epoch 52/100\n",
            " 95/103 [==========================>...] - ETA: 0s - loss: 0.4461 - accuracy: 0.7878WARNING:tensorflow:Early stopping conditioned on metric `val_acc` which is not available. Available metrics are: loss,accuracy,val_loss,val_accuracy\n",
            "103/103 [==============================] - 0s 1ms/step - loss: 0.4468 - accuracy: 0.7860 - val_loss: 0.6615 - val_accuracy: 0.6876\n",
            "Epoch 53/100\n",
            " 88/103 [========================>.....] - ETA: 0s - loss: 0.4330 - accuracy: 0.7873WARNING:tensorflow:Early stopping conditioned on metric `val_acc` which is not available. Available metrics are: loss,accuracy,val_loss,val_accuracy\n",
            "103/103 [==============================] - 0s 2ms/step - loss: 0.4383 - accuracy: 0.7863 - val_loss: 0.6570 - val_accuracy: 0.6867\n",
            "Epoch 54/100\n",
            " 88/103 [========================>.....] - ETA: 0s - loss: 0.4515 - accuracy: 0.7759WARNING:tensorflow:Early stopping conditioned on metric `val_acc` which is not available. Available metrics are: loss,accuracy,val_loss,val_accuracy\n",
            "103/103 [==============================] - 0s 2ms/step - loss: 0.4520 - accuracy: 0.7738 - val_loss: 0.6541 - val_accuracy: 0.6885\n",
            "Epoch 55/100\n",
            " 83/103 [=======================>......] - ETA: 0s - loss: 0.4353 - accuracy: 0.7880WARNING:tensorflow:Early stopping conditioned on metric `val_acc` which is not available. Available metrics are: loss,accuracy,val_loss,val_accuracy\n",
            "103/103 [==============================] - 0s 2ms/step - loss: 0.4412 - accuracy: 0.7838 - val_loss: 0.6581 - val_accuracy: 0.6885\n",
            "Epoch 56/100\n",
            " 91/103 [=========================>....] - ETA: 0s - loss: 0.4442 - accuracy: 0.7819WARNING:tensorflow:Early stopping conditioned on metric `val_acc` which is not available. Available metrics are: loss,accuracy,val_loss,val_accuracy\n",
            "103/103 [==============================] - 0s 2ms/step - loss: 0.4406 - accuracy: 0.7851 - val_loss: 0.6617 - val_accuracy: 0.6885\n",
            "Epoch 57/100\n",
            "101/103 [============================>.] - ETA: 0s - loss: 0.4443 - accuracy: 0.7868WARNING:tensorflow:Early stopping conditioned on metric `val_acc` which is not available. Available metrics are: loss,accuracy,val_loss,val_accuracy\n",
            "103/103 [==============================] - 0s 1ms/step - loss: 0.4444 - accuracy: 0.7875 - val_loss: 0.6651 - val_accuracy: 0.6803\n",
            "Epoch 58/100\n",
            " 84/103 [=======================>......] - ETA: 0s - loss: 0.4356 - accuracy: 0.7913WARNING:tensorflow:Early stopping conditioned on metric `val_acc` which is not available. Available metrics are: loss,accuracy,val_loss,val_accuracy\n",
            "103/103 [==============================] - 0s 2ms/step - loss: 0.4403 - accuracy: 0.7902 - val_loss: 0.6729 - val_accuracy: 0.6931\n",
            "Epoch 59/100\n",
            " 96/103 [==========================>...] - ETA: 0s - loss: 0.4424 - accuracy: 0.7852WARNING:tensorflow:Early stopping conditioned on metric `val_acc` which is not available. Available metrics are: loss,accuracy,val_loss,val_accuracy\n",
            "103/103 [==============================] - 0s 1ms/step - loss: 0.4428 - accuracy: 0.7860 - val_loss: 0.6635 - val_accuracy: 0.6931\n",
            "Epoch 60/100\n",
            " 89/103 [========================>.....] - ETA: 0s - loss: 0.4384 - accuracy: 0.7858WARNING:tensorflow:Early stopping conditioned on metric `val_acc` which is not available. Available metrics are: loss,accuracy,val_loss,val_accuracy\n",
            "103/103 [==============================] - 0s 2ms/step - loss: 0.4393 - accuracy: 0.7881 - val_loss: 0.6806 - val_accuracy: 0.6876\n",
            "Epoch 61/100\n",
            " 96/103 [==========================>...] - ETA: 0s - loss: 0.4285 - accuracy: 0.7972WARNING:tensorflow:Early stopping conditioned on metric `val_acc` which is not available. Available metrics are: loss,accuracy,val_loss,val_accuracy\n",
            "103/103 [==============================] - 0s 1ms/step - loss: 0.4328 - accuracy: 0.7936 - val_loss: 0.7298 - val_accuracy: 0.6922\n",
            "Epoch 62/100\n",
            " 99/103 [===========================>..] - ETA: 0s - loss: 0.4323 - accuracy: 0.7869WARNING:tensorflow:Early stopping conditioned on metric `val_acc` which is not available. Available metrics are: loss,accuracy,val_loss,val_accuracy\n",
            "103/103 [==============================] - 0s 2ms/step - loss: 0.4355 - accuracy: 0.7845 - val_loss: 0.6618 - val_accuracy: 0.6931\n",
            "Epoch 63/100\n",
            " 94/103 [==========================>...] - ETA: 0s - loss: 0.4407 - accuracy: 0.7906WARNING:tensorflow:Early stopping conditioned on metric `val_acc` which is not available. Available metrics are: loss,accuracy,val_loss,val_accuracy\n",
            "103/103 [==============================] - 0s 2ms/step - loss: 0.4391 - accuracy: 0.7908 - val_loss: 0.6671 - val_accuracy: 0.6913\n",
            "Epoch 64/100\n",
            " 97/103 [===========================>..] - ETA: 0s - loss: 0.4386 - accuracy: 0.7825WARNING:tensorflow:Early stopping conditioned on metric `val_acc` which is not available. Available metrics are: loss,accuracy,val_loss,val_accuracy\n",
            "103/103 [==============================] - 0s 2ms/step - loss: 0.4382 - accuracy: 0.7829 - val_loss: 0.6960 - val_accuracy: 0.6922\n",
            "Epoch 65/100\n",
            " 94/103 [==========================>...] - ETA: 0s - loss: 0.4261 - accuracy: 0.7972WARNING:tensorflow:Early stopping conditioned on metric `val_acc` which is not available. Available metrics are: loss,accuracy,val_loss,val_accuracy\n",
            "103/103 [==============================] - 0s 1ms/step - loss: 0.4293 - accuracy: 0.7975 - val_loss: 0.7629 - val_accuracy: 0.6858\n",
            "Epoch 66/100\n",
            " 88/103 [========================>.....] - ETA: 0s - loss: 0.4227 - accuracy: 0.7969WARNING:tensorflow:Early stopping conditioned on metric `val_acc` which is not available. Available metrics are: loss,accuracy,val_loss,val_accuracy\n",
            "103/103 [==============================] - 0s 2ms/step - loss: 0.4277 - accuracy: 0.7939 - val_loss: 0.6646 - val_accuracy: 0.6876\n",
            "Epoch 67/100\n",
            " 89/103 [========================>.....] - ETA: 0s - loss: 0.4333 - accuracy: 0.7830WARNING:tensorflow:Early stopping conditioned on metric `val_acc` which is not available. Available metrics are: loss,accuracy,val_loss,val_accuracy\n",
            "103/103 [==============================] - 0s 2ms/step - loss: 0.4290 - accuracy: 0.7851 - val_loss: 0.6673 - val_accuracy: 0.6894\n",
            "Epoch 68/100\n",
            "101/103 [============================>.] - ETA: 0s - loss: 0.4213 - accuracy: 0.7967WARNING:tensorflow:Early stopping conditioned on metric `val_acc` which is not available. Available metrics are: loss,accuracy,val_loss,val_accuracy\n",
            "103/103 [==============================] - 0s 1ms/step - loss: 0.4214 - accuracy: 0.7972 - val_loss: 0.6627 - val_accuracy: 0.6867\n",
            "Epoch 69/100\n",
            " 92/103 [=========================>....] - ETA: 0s - loss: 0.4366 - accuracy: 0.7914WARNING:tensorflow:Early stopping conditioned on metric `val_acc` which is not available. Available metrics are: loss,accuracy,val_loss,val_accuracy\n",
            "103/103 [==============================] - 0s 1ms/step - loss: 0.4351 - accuracy: 0.7933 - val_loss: 0.6608 - val_accuracy: 0.6913\n",
            "Epoch 70/100\n",
            " 92/103 [=========================>....] - ETA: 0s - loss: 0.4222 - accuracy: 0.8057WARNING:tensorflow:Early stopping conditioned on metric `val_acc` which is not available. Available metrics are: loss,accuracy,val_loss,val_accuracy\n",
            "103/103 [==============================] - 0s 2ms/step - loss: 0.4235 - accuracy: 0.8021 - val_loss: 0.6707 - val_accuracy: 0.6913\n",
            "Epoch 71/100\n",
            " 94/103 [==========================>...] - ETA: 0s - loss: 0.4221 - accuracy: 0.7955WARNING:tensorflow:Early stopping conditioned on metric `val_acc` which is not available. Available metrics are: loss,accuracy,val_loss,val_accuracy\n",
            "103/103 [==============================] - 0s 1ms/step - loss: 0.4262 - accuracy: 0.7945 - val_loss: 0.6736 - val_accuracy: 0.6867\n",
            "Epoch 72/100\n",
            " 87/103 [========================>.....] - ETA: 0s - loss: 0.4230 - accuracy: 0.7996WARNING:tensorflow:Early stopping conditioned on metric `val_acc` which is not available. Available metrics are: loss,accuracy,val_loss,val_accuracy\n",
            "103/103 [==============================] - 0s 2ms/step - loss: 0.4305 - accuracy: 0.7936 - val_loss: 0.6685 - val_accuracy: 0.6858\n",
            "Epoch 73/100\n",
            " 93/103 [==========================>...] - ETA: 0s - loss: 0.4240 - accuracy: 0.7981WARNING:tensorflow:Early stopping conditioned on metric `val_acc` which is not available. Available metrics are: loss,accuracy,val_loss,val_accuracy\n",
            "103/103 [==============================] - 0s 1ms/step - loss: 0.4255 - accuracy: 0.7972 - val_loss: 0.6668 - val_accuracy: 0.6894\n",
            "Epoch 74/100\n",
            " 84/103 [=======================>......] - ETA: 0s - loss: 0.4247 - accuracy: 0.7991WARNING:tensorflow:Early stopping conditioned on metric `val_acc` which is not available. Available metrics are: loss,accuracy,val_loss,val_accuracy\n",
            "103/103 [==============================] - 0s 2ms/step - loss: 0.4212 - accuracy: 0.8009 - val_loss: 0.6584 - val_accuracy: 0.6903\n",
            "Epoch 75/100\n",
            " 82/103 [======================>.......] - ETA: 0s - loss: 0.4231 - accuracy: 0.7984WARNING:tensorflow:Early stopping conditioned on metric `val_acc` which is not available. Available metrics are: loss,accuracy,val_loss,val_accuracy\n",
            "103/103 [==============================] - 0s 2ms/step - loss: 0.4246 - accuracy: 0.7981 - val_loss: 0.6621 - val_accuracy: 0.6903\n",
            "Epoch 76/100\n",
            " 85/103 [=======================>......] - ETA: 0s - loss: 0.4197 - accuracy: 0.7985WARNING:tensorflow:Early stopping conditioned on metric `val_acc` which is not available. Available metrics are: loss,accuracy,val_loss,val_accuracy\n",
            "103/103 [==============================] - 0s 2ms/step - loss: 0.4209 - accuracy: 0.7936 - val_loss: 0.6703 - val_accuracy: 0.6840\n",
            "Epoch 77/100\n",
            " 98/103 [===========================>..] - ETA: 0s - loss: 0.4241 - accuracy: 0.7997WARNING:tensorflow:Early stopping conditioned on metric `val_acc` which is not available. Available metrics are: loss,accuracy,val_loss,val_accuracy\n",
            "103/103 [==============================] - 0s 1ms/step - loss: 0.4291 - accuracy: 0.7972 - val_loss: 0.6651 - val_accuracy: 0.6858\n",
            "Epoch 78/100\n",
            " 86/103 [========================>.....] - ETA: 0s - loss: 0.4209 - accuracy: 0.8041WARNING:tensorflow:Early stopping conditioned on metric `val_acc` which is not available. Available metrics are: loss,accuracy,val_loss,val_accuracy\n",
            "103/103 [==============================] - 0s 2ms/step - loss: 0.4245 - accuracy: 0.8027 - val_loss: 0.6701 - val_accuracy: 0.6876\n",
            "Epoch 79/100\n",
            " 95/103 [==========================>...] - ETA: 0s - loss: 0.4166 - accuracy: 0.7964WARNING:tensorflow:Early stopping conditioned on metric `val_acc` which is not available. Available metrics are: loss,accuracy,val_loss,val_accuracy\n",
            "103/103 [==============================] - 0s 2ms/step - loss: 0.4209 - accuracy: 0.7954 - val_loss: 0.6618 - val_accuracy: 0.6849\n",
            "Epoch 80/100\n",
            " 92/103 [=========================>....] - ETA: 0s - loss: 0.4154 - accuracy: 0.8023WARNING:tensorflow:Early stopping conditioned on metric `val_acc` which is not available. Available metrics are: loss,accuracy,val_loss,val_accuracy\n",
            "103/103 [==============================] - 0s 1ms/step - loss: 0.4109 - accuracy: 0.8054 - val_loss: 0.6647 - val_accuracy: 0.6876\n",
            "Epoch 81/100\n",
            " 90/103 [=========================>....] - ETA: 0s - loss: 0.4159 - accuracy: 0.8049WARNING:tensorflow:Early stopping conditioned on metric `val_acc` which is not available. Available metrics are: loss,accuracy,val_loss,val_accuracy\n",
            "103/103 [==============================] - 0s 2ms/step - loss: 0.4190 - accuracy: 0.8015 - val_loss: 0.6720 - val_accuracy: 0.6913\n",
            "Epoch 82/100\n",
            " 99/103 [===========================>..] - ETA: 0s - loss: 0.4118 - accuracy: 0.8078WARNING:tensorflow:Early stopping conditioned on metric `val_acc` which is not available. Available metrics are: loss,accuracy,val_loss,val_accuracy\n",
            "103/103 [==============================] - 0s 1ms/step - loss: 0.4095 - accuracy: 0.8090 - val_loss: 0.6729 - val_accuracy: 0.6803\n",
            "Epoch 83/100\n",
            " 83/103 [=======================>......] - ETA: 0s - loss: 0.4122 - accuracy: 0.8057WARNING:tensorflow:Early stopping conditioned on metric `val_acc` which is not available. Available metrics are: loss,accuracy,val_loss,val_accuracy\n",
            "103/103 [==============================] - 0s 2ms/step - loss: 0.4144 - accuracy: 0.8057 - val_loss: 0.6674 - val_accuracy: 0.6894\n",
            "Epoch 84/100\n",
            " 93/103 [==========================>...] - ETA: 0s - loss: 0.4145 - accuracy: 0.8044WARNING:tensorflow:Early stopping conditioned on metric `val_acc` which is not available. Available metrics are: loss,accuracy,val_loss,val_accuracy\n",
            "103/103 [==============================] - 0s 2ms/step - loss: 0.4103 - accuracy: 0.8087 - val_loss: 0.6707 - val_accuracy: 0.6803\n",
            "Epoch 85/100\n",
            " 91/103 [=========================>....] - ETA: 0s - loss: 0.4212 - accuracy: 0.7953WARNING:tensorflow:Early stopping conditioned on metric `val_acc` which is not available. Available metrics are: loss,accuracy,val_loss,val_accuracy\n",
            "103/103 [==============================] - 0s 2ms/step - loss: 0.4185 - accuracy: 0.7966 - val_loss: 0.6745 - val_accuracy: 0.6894\n",
            "Epoch 86/100\n",
            " 91/103 [=========================>....] - ETA: 0s - loss: 0.4140 - accuracy: 0.8025WARNING:tensorflow:Early stopping conditioned on metric `val_acc` which is not available. Available metrics are: loss,accuracy,val_loss,val_accuracy\n",
            "103/103 [==============================] - 0s 2ms/step - loss: 0.4172 - accuracy: 0.8012 - val_loss: 0.6821 - val_accuracy: 0.6840\n",
            "Epoch 87/100\n",
            " 93/103 [==========================>...] - ETA: 0s - loss: 0.4072 - accuracy: 0.8048WARNING:tensorflow:Early stopping conditioned on metric `val_acc` which is not available. Available metrics are: loss,accuracy,val_loss,val_accuracy\n",
            "103/103 [==============================] - 0s 2ms/step - loss: 0.4101 - accuracy: 0.8021 - val_loss: 0.6765 - val_accuracy: 0.6876\n",
            "Epoch 88/100\n",
            " 84/103 [=======================>......] - ETA: 0s - loss: 0.4206 - accuracy: 0.7961WARNING:tensorflow:Early stopping conditioned on metric `val_acc` which is not available. Available metrics are: loss,accuracy,val_loss,val_accuracy\n",
            "103/103 [==============================] - 0s 2ms/step - loss: 0.4159 - accuracy: 0.7972 - val_loss: 0.6689 - val_accuracy: 0.6903\n",
            "Epoch 89/100\n",
            " 84/103 [=======================>......] - ETA: 0s - loss: 0.4090 - accuracy: 0.8106WARNING:tensorflow:Early stopping conditioned on metric `val_acc` which is not available. Available metrics are: loss,accuracy,val_loss,val_accuracy\n",
            "103/103 [==============================] - 0s 2ms/step - loss: 0.4114 - accuracy: 0.8106 - val_loss: 0.6753 - val_accuracy: 0.6885\n",
            "Epoch 90/100\n",
            " 86/103 [========================>.....] - ETA: 0s - loss: 0.4082 - accuracy: 0.8041WARNING:tensorflow:Early stopping conditioned on metric `val_acc` which is not available. Available metrics are: loss,accuracy,val_loss,val_accuracy\n",
            "103/103 [==============================] - 0s 2ms/step - loss: 0.4115 - accuracy: 0.8021 - val_loss: 0.6852 - val_accuracy: 0.6849\n",
            "Epoch 91/100\n",
            " 98/103 [===========================>..] - ETA: 0s - loss: 0.4122 - accuracy: 0.8071WARNING:tensorflow:Early stopping conditioned on metric `val_acc` which is not available. Available metrics are: loss,accuracy,val_loss,val_accuracy\n",
            "103/103 [==============================] - 0s 2ms/step - loss: 0.4124 - accuracy: 0.8057 - val_loss: 0.6797 - val_accuracy: 0.6821\n",
            "Epoch 92/100\n",
            " 91/103 [=========================>....] - ETA: 0s - loss: 0.4104 - accuracy: 0.8098WARNING:tensorflow:Early stopping conditioned on metric `val_acc` which is not available. Available metrics are: loss,accuracy,val_loss,val_accuracy\n",
            "103/103 [==============================] - 0s 2ms/step - loss: 0.4148 - accuracy: 0.8057 - val_loss: 0.6709 - val_accuracy: 0.6803\n",
            "Epoch 93/100\n",
            " 86/103 [========================>.....] - ETA: 0s - loss: 0.4191 - accuracy: 0.8012WARNING:tensorflow:Early stopping conditioned on metric `val_acc` which is not available. Available metrics are: loss,accuracy,val_loss,val_accuracy\n",
            "103/103 [==============================] - 0s 2ms/step - loss: 0.4179 - accuracy: 0.7999 - val_loss: 0.6746 - val_accuracy: 0.6867\n",
            "Epoch 94/100\n",
            " 86/103 [========================>.....] - ETA: 0s - loss: 0.4057 - accuracy: 0.8031WARNING:tensorflow:Early stopping conditioned on metric `val_acc` which is not available. Available metrics are: loss,accuracy,val_loss,val_accuracy\n",
            "103/103 [==============================] - 0s 2ms/step - loss: 0.4107 - accuracy: 0.8005 - val_loss: 0.6756 - val_accuracy: 0.6858\n",
            "Epoch 95/100\n",
            " 94/103 [==========================>...] - ETA: 0s - loss: 0.4119 - accuracy: 0.8072WARNING:tensorflow:Early stopping conditioned on metric `val_acc` which is not available. Available metrics are: loss,accuracy,val_loss,val_accuracy\n",
            "103/103 [==============================] - 0s 2ms/step - loss: 0.4123 - accuracy: 0.8063 - val_loss: 0.6797 - val_accuracy: 0.6858\n",
            "Epoch 96/100\n",
            " 90/103 [=========================>....] - ETA: 0s - loss: 0.4063 - accuracy: 0.8090WARNING:tensorflow:Early stopping conditioned on metric `val_acc` which is not available. Available metrics are: loss,accuracy,val_loss,val_accuracy\n",
            "103/103 [==============================] - 0s 2ms/step - loss: 0.4082 - accuracy: 0.8069 - val_loss: 0.6815 - val_accuracy: 0.6876\n",
            "Epoch 97/100\n",
            " 91/103 [=========================>....] - ETA: 0s - loss: 0.3996 - accuracy: 0.8084WARNING:tensorflow:Early stopping conditioned on metric `val_acc` which is not available. Available metrics are: loss,accuracy,val_loss,val_accuracy\n",
            "103/103 [==============================] - 0s 2ms/step - loss: 0.4029 - accuracy: 0.8060 - val_loss: 0.7233 - val_accuracy: 0.6812\n",
            "Epoch 98/100\n",
            " 86/103 [========================>.....] - ETA: 0s - loss: 0.3977 - accuracy: 0.8085WARNING:tensorflow:Early stopping conditioned on metric `val_acc` which is not available. Available metrics are: loss,accuracy,val_loss,val_accuracy\n",
            "103/103 [==============================] - 0s 2ms/step - loss: 0.3985 - accuracy: 0.8075 - val_loss: 0.7273 - val_accuracy: 0.6876\n",
            "Epoch 99/100\n",
            " 89/103 [========================>.....] - ETA: 0s - loss: 0.4084 - accuracy: 0.8100WARNING:tensorflow:Early stopping conditioned on metric `val_acc` which is not available. Available metrics are: loss,accuracy,val_loss,val_accuracy\n",
            "103/103 [==============================] - 0s 2ms/step - loss: 0.4079 - accuracy: 0.8090 - val_loss: 0.6764 - val_accuracy: 0.6894\n",
            "Epoch 100/100\n",
            " 89/103 [========================>.....] - ETA: 0s - loss: 0.4053 - accuracy: 0.8125WARNING:tensorflow:Early stopping conditioned on metric `val_acc` which is not available. Available metrics are: loss,accuracy,val_loss,val_accuracy\n",
            "103/103 [==============================] - 0s 2ms/step - loss: 0.4071 - accuracy: 0.8094 - val_loss: 0.6742 - val_accuracy: 0.6913\n",
            "35/35 [==============================] - 0s 942us/step - loss: 0.6742 - accuracy: 0.6913\n"
          ],
          "name": "stdout"
        }
      ]
    },
    {
      "cell_type": "code",
      "metadata": {
        "id": "2tdEFnMaE7vA",
        "colab": {
          "base_uri": "https://localhost:8080/",
          "height": 295
        },
        "outputId": "8caea5fb-6d17-429c-85d9-466a993b7f45"
      },
      "source": [
        "plt.figure()\n",
        "plt.plot(histCB.history['accuracy'])\n",
        "plt.plot(histCB.history['val_accuracy'])\n",
        "plt.title('Accuracy of the Neural Networks Model')\n",
        "plt.ylabel('Accuracy')\n",
        "plt.xlabel('Epoch')\n",
        "plt.legend(['Train', 'Test'])\n",
        "plt.show()\n",
        "#this represents a model that is starting to overfit as the training accuracy is going up while the test accuracy is not improving"
      ],
      "execution_count": 556,
      "outputs": [
        {
          "output_type": "display_data",
          "data": {
            "image/png": "[encoded data removed]",
            "text/plain": [
              "<Figure size 432x288 with 1 Axes>"
            ]
          },
          "metadata": {
            "tags": [],
            "needs_background": "light"
          }
        }
      ]
    },
    {
      "cell_type": "code",
      "metadata": {
        "id": "GLnBpv6Eqo2L"
      },
      "source": [
        "from keras.models import load_model"
      ],
      "execution_count": 557,
      "outputs": []
    },
    {
      "cell_type": "code",
      "metadata": {
        "id": "Yawiy-Mzp8O_",
        "colab": {
          "base_uri": "https://localhost:8080/"
        },
        "outputId": "ee083713-f093-4164-daf3-4d1568ca9282"
      },
      "source": [
        "#Using the model that was saved from the modelCheckpoint Callback\n",
        "best_model = load_model('best_NN_Model.hdf5')\n",
        "best_model.evaluate(X_test, y_test)"
      ],
      "execution_count": 558,
      "outputs": [
        {
          "output_type": "stream",
          "text": [
            "35/35 [==============================] - 0s 879us/step - loss: 0.6312 - accuracy: 0.6958\n"
          ],
          "name": "stdout"
        },
        {
          "output_type": "execute_result",
          "data": {
            "text/plain": [
              "[0.6311718821525574, 0.6958105564117432]"
            ]
          },
          "metadata": {
            "tags": []
          },
          "execution_count": 558
        }
      ]
    },
    {
      "cell_type": "markdown",
      "metadata": {
        "id": "kFyPmHl3q7xs"
      },
      "source": [
        "Highest validation accuracy (accuracy predicting on test set) is about 70%"
      ]
    },
    {
      "cell_type": "markdown",
      "metadata": {
        "id": "VnCTZ6PjamHR"
      },
      "source": [
        "**Comparing loss and accuracy of different activation functions **"
      ]
    },
    {
      "cell_type": "code",
      "metadata": {
        "id": "Z6MZFT3WauFV"
      },
      "source": [
        "np.random.seed(21)\n",
        "def get_model(act_function):\n",
        "  model = Sequential()\n",
        "  model.add(Dense(40, input_shape = (220,), activation = act_function))\n",
        "  model.add(Dense(1, activation = 'sigmoid'))\n",
        "  return model "
      ],
      "execution_count": 559,
      "outputs": []
    },
    {
      "cell_type": "code",
      "metadata": {
        "id": "gKmrIPsbbFjf"
      },
      "source": [
        "activations = ['relu', 'tanh','sigmoid']\n",
        "activation_results = {}\n",
        "for a in activations:\n",
        "  model = get_model(a)\n",
        "  model.compile(loss = 'binary_crossentropy', optimizer = \"sgd\",metrics = ['accuracy'])\n",
        "  h_callback = model.fit(X_train, y_train, epochs = 20, validation_data = (X_test, y_test), verbose = 0)\n",
        "  activation_results[a] = h_callback"
      ],
      "execution_count": 560,
      "outputs": []
    },
    {
      "cell_type": "code",
      "metadata": {
        "id": "zUyyhY5OczrX",
        "colab": {
          "base_uri": "https://localhost:8080/",
          "height": 298
        },
        "outputId": "5489d132-555a-41ae-9e63-83e5640cda58"
      },
      "source": [
        "val_loss_per_function = {k:v.history['val_loss'] for k,v in activation_results.items()}\n",
        "val_loss_curves = pd.DataFrame(val_loss_per_function)\n",
        "val_loss_curves.plot(title = \"Loss for each Activation Function\")"
      ],
      "execution_count": 561,
      "outputs": [
        {
          "output_type": "execute_result",
          "data": {
            "text/plain": [
              "<matplotlib.axes._subplots.AxesSubplot at 0x7f187548a780>"
            ]
          },
          "metadata": {
            "tags": []
          },
          "execution_count": 561
        },
        {
          "output_type": "display_data",
          "data": {
            "image/png": "[encoded data removed]",
            "text/plain": [
              "<Figure size 432x288 with 1 Axes>"
            ]
          },
          "metadata": {
            "tags": [],
            "needs_background": "light"
          }
        }
      ]
    },
    {
      "cell_type": "code",
      "metadata": {
        "id": "hr7LD-EodUsj",
        "colab": {
          "base_uri": "https://localhost:8080/",
          "height": 298
        },
        "outputId": "bbeb3252-ce40-4fab-d784-c2d05c06e0d6"
      },
      "source": [
        "val_acc_per_function = {k:v.history['val_accuracy'] for k,v in activation_results.items()}\n",
        "val_acc_curves = pd.DataFrame(val_acc_per_function)\n",
        "val_acc_curves.plot(title = \"Accuracy for each Activation Function\")"
      ],
      "execution_count": 562,
      "outputs": [
        {
          "output_type": "execute_result",
          "data": {
            "text/plain": [
              "<matplotlib.axes._subplots.AxesSubplot at 0x7f18752ee240>"
            ]
          },
          "metadata": {
            "tags": []
          },
          "execution_count": 562
        },
        {
          "output_type": "display_data",
          "data": {
            "image/png": "[encoded data removed]",
            "text/plain": [
              "<Figure size 432x288 with 1 Axes>"
            ]
          },
          "metadata": {
            "tags": [],
            "needs_background": "light"
          }
        }
      ]
    },
    {
      "cell_type": "markdown",
      "metadata": {
        "id": "O37kPIXdd7O0"
      },
      "source": [
        "The tanh activation function displays the lowest loss"
      ]
    },
    {
      "cell_type": "markdown",
      "metadata": {
        "id": "Js30bWYNeBuw"
      },
      "source": [
        "**Neural network model using tanh activation function"
      ]
    },
    {
      "cell_type": "code",
      "metadata": {
        "id": "rszLlJ6neFji",
        "colab": {
          "base_uri": "https://localhost:8080/"
        },
        "outputId": "f52568f5-565b-4b94-aab4-70511edd2e49"
      },
      "source": [
        "#Starting a sequential model \n",
        "random.seed(7)\n",
        "modelT = Sequential()\n",
        "#Creating an input layer and a middle layer\n",
        "modelT.add(Dense(40, input_shape = (220,),activation = 'tanh'))\n",
        "#The final layer is an output layer with 1 neuron\n",
        "modelT.add(Dense(1, activation = 'sigmoid'))\n",
        "#We are creating a binary classification model \n",
        "modelT.compile(loss = 'binary_crossentropy', optimizer = \"sgd\",metrics = ['accuracy'])\n",
        "modelT.summary()"
      ],
      "execution_count": 563,
      "outputs": [
        {
          "output_type": "stream",
          "text": [
            "Model: \"sequential_29\"\n",
            "_________________________________________________________________\n",
            "Layer (type)                 Output Shape              Param #   \n",
            "=================================================================\n",
            "dense_58 (Dense)             (None, 40)                8840      \n",
            "_________________________________________________________________\n",
            "dense_59 (Dense)             (None, 1)                 41        \n",
            "=================================================================\n",
            "Total params: 8,881\n",
            "Trainable params: 8,881\n",
            "Non-trainable params: 0\n",
            "_________________________________________________________________\n"
          ],
          "name": "stdout"
        }
      ]
    },
    {
      "cell_type": "code",
      "metadata": {
        "id": "15GNYEKmeqnO",
        "colab": {
          "base_uri": "https://localhost:8080/"
        },
        "outputId": "435da4a8-8d46-481d-8372-9aa6c99289a1"
      },
      "source": [
        "#Using the same train and test data that we used for Logistic Regression\n",
        "#training model for 20 epochs\n",
        "histT = modelT.fit(X_train,y_train,epochs = 20, validation_data = (X_test, y_test)) \n",
        "#Seeing how accurate the neural networks model is on the testing data set \n",
        "accuracy = modelT.evaluate(X_test,y_test)\n",
        "print(accuracy)"
      ],
      "execution_count": 564,
      "outputs": [
        {
          "output_type": "stream",
          "text": [
            "Epoch 1/20\n",
            "103/103 [==============================] - 0s 2ms/step - loss: 0.6851 - accuracy: 0.6032 - val_loss: 0.6436 - val_accuracy: 0.6612\n",
            "Epoch 2/20\n",
            "103/103 [==============================] - 0s 1ms/step - loss: 0.6258 - accuracy: 0.6667 - val_loss: 0.6110 - val_accuracy: 0.6812\n",
            "Epoch 3/20\n",
            "103/103 [==============================] - 0s 1ms/step - loss: 0.5979 - accuracy: 0.6937 - val_loss: 0.5957 - val_accuracy: 0.6849\n",
            "Epoch 4/20\n",
            "103/103 [==============================] - 0s 1ms/step - loss: 0.5822 - accuracy: 0.7001 - val_loss: 0.5869 - val_accuracy: 0.6858\n",
            "Epoch 5/20\n",
            "103/103 [==============================] - 0s 1ms/step - loss: 0.5722 - accuracy: 0.7001 - val_loss: 0.5814 - val_accuracy: 0.6894\n",
            "Epoch 6/20\n",
            "103/103 [==============================] - 0s 1ms/step - loss: 0.5652 - accuracy: 0.7037 - val_loss: 0.5780 - val_accuracy: 0.6940\n",
            "Epoch 7/20\n",
            "103/103 [==============================] - 0s 1ms/step - loss: 0.5599 - accuracy: 0.7061 - val_loss: 0.5757 - val_accuracy: 0.6922\n",
            "Epoch 8/20\n",
            "103/103 [==============================] - 0s 1ms/step - loss: 0.5557 - accuracy: 0.7089 - val_loss: 0.5739 - val_accuracy: 0.6931\n",
            "Epoch 9/20\n",
            "103/103 [==============================] - 0s 1ms/step - loss: 0.5522 - accuracy: 0.7064 - val_loss: 0.5724 - val_accuracy: 0.6903\n",
            "Epoch 10/20\n",
            "103/103 [==============================] - 0s 1ms/step - loss: 0.5491 - accuracy: 0.7146 - val_loss: 0.5716 - val_accuracy: 0.6913\n",
            "Epoch 11/20\n",
            "103/103 [==============================] - 0s 1ms/step - loss: 0.5466 - accuracy: 0.7152 - val_loss: 0.5706 - val_accuracy: 0.6903\n",
            "Epoch 12/20\n",
            "103/103 [==============================] - 0s 1ms/step - loss: 0.5441 - accuracy: 0.7192 - val_loss: 0.5699 - val_accuracy: 0.6903\n",
            "Epoch 13/20\n",
            "103/103 [==============================] - 0s 1ms/step - loss: 0.5420 - accuracy: 0.7213 - val_loss: 0.5692 - val_accuracy: 0.6885\n",
            "Epoch 14/20\n",
            "103/103 [==============================] - 0s 1ms/step - loss: 0.5399 - accuracy: 0.7237 - val_loss: 0.5688 - val_accuracy: 0.6885\n",
            "Epoch 15/20\n",
            "103/103 [==============================] - 0s 1ms/step - loss: 0.5379 - accuracy: 0.7225 - val_loss: 0.5683 - val_accuracy: 0.6903\n",
            "Epoch 16/20\n",
            "103/103 [==============================] - 0s 1ms/step - loss: 0.5361 - accuracy: 0.7250 - val_loss: 0.5679 - val_accuracy: 0.6940\n",
            "Epoch 17/20\n",
            "103/103 [==============================] - 0s 1ms/step - loss: 0.5344 - accuracy: 0.7277 - val_loss: 0.5676 - val_accuracy: 0.6940\n",
            "Epoch 18/20\n",
            "103/103 [==============================] - 0s 1ms/step - loss: 0.5328 - accuracy: 0.7237 - val_loss: 0.5677 - val_accuracy: 0.6931\n",
            "Epoch 19/20\n",
            "103/103 [==============================] - 0s 1ms/step - loss: 0.5312 - accuracy: 0.7268 - val_loss: 0.5676 - val_accuracy: 0.6913\n",
            "Epoch 20/20\n",
            "103/103 [==============================] - 0s 1ms/step - loss: 0.5297 - accuracy: 0.7277 - val_loss: 0.5675 - val_accuracy: 0.6903\n",
            "35/35 [==============================] - 0s 813us/step - loss: 0.5675 - accuracy: 0.6903\n",
            "[0.5674672722816467, 0.6903460621833801]\n"
          ],
          "name": "stdout"
        }
      ]
    },
    {
      "cell_type": "markdown",
      "metadata": {
        "id": "LWbS_cNJDaim"
      },
      "source": [
        "Graphs showing the accuracies and losses for different Epochs"
      ]
    },
    {
      "cell_type": "code",
      "metadata": {
        "id": "k4fUFRbDDKWQ",
        "colab": {
          "base_uri": "https://localhost:8080/",
          "height": 295
        },
        "outputId": "72e8027c-37f8-4d0f-a32a-565b841e017f"
      },
      "source": [
        "lossT = histT.history['loss']\n",
        "valLossT = histT.history['val_loss']\n",
        "epochs = range(1,21)\n",
        "plt.plot(epochs,lossT, 'g', label = 'Training loss')\n",
        "plt.plot(epochs, valLossT, 'b', label = 'Validation Loss (validataion data is test data)')\n",
        "plt.title('Training and Validation Loss')\n",
        "plt.xlabel('Epochs')\n",
        "plt.ylabel('Loss')\n",
        "plt.legend()\n",
        "plt.show()"
      ],
      "execution_count": 565,
      "outputs": [
        {
          "output_type": "display_data",
          "data": {
            "image/png": "[encoded data removed]",
            "text/plain": [
              "<Figure size 432x288 with 1 Axes>"
            ]
          },
          "metadata": {
            "tags": [],
            "needs_background": "light"
          }
        }
      ]
    },
    {
      "cell_type": "code",
      "metadata": {
        "id": "_XT3cohSDWnG",
        "colab": {
          "base_uri": "https://localhost:8080/",
          "height": 295
        },
        "outputId": "ab95708c-dd66-40da-8e6a-bc5894b9f486"
      },
      "source": [
        "accT = histT.history['accuracy']\n",
        "valAccT = histT.history['val_accuracy']\n",
        "epochs = range(1,21)\n",
        "plt.plot(epochs,accT, 'g', label = 'Training Accuracy')\n",
        "plt.plot(epochs,valAccT,'b', label = 'Validation Accuracy (validation data is test data)')\n",
        "plt.xlabel('Epoch')\n",
        "plt.ylabel('Accuracy')\n",
        "plt.title('Epoch vs. Accuracy for Tanh Activation Function')\n",
        "plt.legend()\n",
        "plt.show()"
      ],
      "execution_count": 566,
      "outputs": [
        {
          "output_type": "display_data",
          "data": {
            "image/png": "[encoded data removed]",
            "text/plain": [
              "<Figure size 432x288 with 1 Axes>"
            ]
          },
          "metadata": {
            "tags": [],
            "needs_background": "light"
          }
        }
      ]
    },
    {
      "cell_type": "markdown",
      "metadata": {
        "id": "Zf0IpOe24obf"
      },
      "source": [
        "# Decision Trees"
      ]
    },
    {
      "cell_type": "code",
      "metadata": {
        "id": "30pss0PDkn5A"
      },
      "source": [
        "from sklearn.tree import DecisionTreeClassifier\n",
        "from sklearn.model_selection import train_test_split\n",
        "from sklearn.metrics import accuracy_score"
      ],
      "execution_count": 567,
      "outputs": []
    },
    {
      "cell_type": "code",
      "metadata": {
        "id": "4fNRQB2AiY3w"
      },
      "source": [
        "regex = re.compile(r\"\\[|\\]|<\", re.IGNORECASE)\n",
        "\n",
        "df.columns = [regex.sub(\"_\", col) if any(x in str(col) for x in set(('[', ']', '<'))) else col for col in df.columns.values]"
      ],
      "execution_count": 568,
      "outputs": []
    },
    {
      "cell_type": "code",
      "metadata": {
        "id": "vxTl-adlixGt"
      },
      "source": [
        "#Splitting data into training and testing data\n",
        "X_train_dt, X_test_dt, y_train_dt, y_test_dt = train_test_split(X,y,test_size = 0.2, stratify = y, random_state = 99)\n",
        "\n",
        "#Instantiate dt\n",
        "dt = DecisionTreeClassifier(criterion = 'entropy', random_state=99)"
      ],
      "execution_count": 569,
      "outputs": []
    },
    {
      "cell_type": "code",
      "metadata": {
        "id": "bIKByMX_24LE"
      },
      "source": [
        "scal = preprocessing.StandardScaler()\n",
        "X_train_dt = scal.fit_transform(X_train_dt)\n",
        "X_test_dt = scal.transform(X_test_dt)"
      ],
      "execution_count": 570,
      "outputs": []
    },
    {
      "cell_type": "code",
      "metadata": {
        "id": "bDdkcLbvi2XW",
        "colab": {
          "base_uri": "https://localhost:8080/"
        },
        "outputId": "9b0518f6-c15e-4c7b-faf6-a86f1a69ddc4"
      },
      "source": [
        "#Fit dt to the training set\n",
        "dt.fit(X_train_dt, y_train_dt)"
      ],
      "execution_count": 571,
      "outputs": [
        {
          "output_type": "execute_result",
          "data": {
            "text/plain": [
              "DecisionTreeClassifier(ccp_alpha=0.0, class_weight=None, criterion='entropy',\n",
              "                       max_depth=None, max_features=None, max_leaf_nodes=None,\n",
              "                       min_impurity_decrease=0.0, min_impurity_split=None,\n",
              "                       min_samples_leaf=1, min_samples_split=2,\n",
              "                       min_weight_fraction_leaf=0.0, presort='deprecated',\n",
              "                       random_state=99, splitter='best')"
            ]
          },
          "metadata": {
            "tags": []
          },
          "execution_count": 571
        }
      ]
    },
    {
      "cell_type": "code",
      "metadata": {
        "colab": {
          "base_uri": "https://localhost:8080/"
        },
        "id": "YgbrHceI45CC",
        "outputId": "fb2dbca1-4e4b-4cea-f00b-cd4d1ee063d5"
      },
      "source": [
        "#The probability of classification for the test data\n",
        "y_pred_probDT = dt.predict_proba(X_test_dt)\n",
        "y_pred_probDT"
      ],
      "execution_count": 572,
      "outputs": [
        {
          "output_type": "execute_result",
          "data": {
            "text/plain": [
              "array([[0., 1.],\n",
              "       [0., 1.],\n",
              "       [1., 0.],\n",
              "       ...,\n",
              "       [0., 1.],\n",
              "       [1., 0.],\n",
              "       [1., 0.]])"
            ]
          },
          "metadata": {
            "tags": []
          },
          "execution_count": 572
        }
      ]
    },
    {
      "cell_type": "code",
      "metadata": {
        "id": "GPfZoNwOi4OV",
        "colab": {
          "base_uri": "https://localhost:8080/"
        },
        "outputId": "d4ddb105-e987-43ca-d423-db287fbd7c06"
      },
      "source": [
        "#Predict test set labels\n",
        "y_pred = dt.predict(X_test_dt)\n",
        "\n",
        "#Evaluate test-set accuracy using function\n",
        "accuracy_score(y_test_dt, y_pred)"
      ],
      "execution_count": 573,
      "outputs": [
        {
          "output_type": "execute_result",
          "data": {
            "text/plain": [
              "0.6962457337883959"
            ]
          },
          "metadata": {
            "tags": []
          },
          "execution_count": 573
        }
      ]
    },
    {
      "cell_type": "code",
      "metadata": {
        "id": "1_aYZjXYi74p",
        "colab": {
          "base_uri": "https://localhost:8080/"
        },
        "outputId": "fdb50274-7f39-4509-aa17-3f3314a5aac1"
      },
      "source": [
        "#Evaluate test-set accuracy by formula\n",
        "accuracy = float(np.sum(y_pred==y_test_dt))/y_test_dt.shape[0]\n",
        "accuracy"
      ],
      "execution_count": 574,
      "outputs": [
        {
          "output_type": "execute_result",
          "data": {
            "text/plain": [
              "0.6962457337883959"
            ]
          },
          "metadata": {
            "tags": []
          },
          "execution_count": 574
        }
      ]
    },
    {
      "cell_type": "code",
      "metadata": {
        "id": "BFm7hJWRi9UT",
        "colab": {
          "base_uri": "https://localhost:8080/",
          "height": 335
        },
        "outputId": "9f8e4c41-66c6-4544-b4ac-e3295ca46d31"
      },
      "source": [
        "#import tree plot package for visualization\n",
        "from sklearn import tree\n",
        "\n",
        "#plot decision tree\n",
        "fig, ax = plt.subplots(figsize=(60,15))\n",
        "dt_feature_names = X.columns\n",
        "tree.plot_tree(decision_tree=dt, feature_names = dt_feature_names, max_depth = 3, fontsize=12, node_ids = True, proportion = True, class_names = True, filled = True, rounded = True);"
      ],
      "execution_count": 575,
      "outputs": [
        {
          "output_type": "display_data",
          "data": {
            "image/png": "[encoded data removed]",
            "text/plain": [
              "<Figure size 4320x1080 with 1 Axes>"
            ]
          },
          "metadata": {
            "tags": [],
            "needs_background": "light"
          }
        }
      ]
    },
    {
      "cell_type": "code",
      "metadata": {
        "id": "DH5NQOG5i-d9",
        "colab": {
          "base_uri": "https://localhost:8080/"
        },
        "outputId": "a1b4edd8-3918-4c64-874d-229a175f9f84"
      },
      "source": [
        "#Randomforest Classifier\n",
        "from sklearn.ensemble import RandomForestClassifier\n",
        "rf_dt = RandomForestClassifier(n_estimators=100,\n",
        "                               random_state=11)\n",
        "\n",
        "#Randomforest Accuracy\n",
        "rf_dt.fit(X_train_dt,y_train_dt)\n",
        "rf_pred = rf_dt.predict(X_test_dt)\n",
        "accuracy = float(np.sum(rf_pred==y_test_dt))/y_test_dt.shape[0]\n",
        "print(\"accuracy: %f\" % (accuracy))"
      ],
      "execution_count": 576,
      "outputs": [
        {
          "output_type": "stream",
          "text": [
            "accuracy: 0.729238\n"
          ],
          "name": "stdout"
        }
      ]
    },
    {
      "cell_type": "code",
      "metadata": {
        "id": "seQPGVDPi_0n",
        "colab": {
          "base_uri": "https://localhost:8080/"
        },
        "outputId": "0abb5aa8-266d-4de8-a4f6-281f738c4285"
      },
      "source": [
        "fi = dict(zip(df.columns, dt.feature_importances_))\n",
        "\n",
        "indices = np.argsort(fi)[::-1]\n",
        "\n",
        "sort_fi = sorted(fi.items(), key=lambda x: x[1], reverse=True)\n",
        "\n",
        "for i in sort_fi[0:5]:\n",
        "\tprint(i[0],':', i[1])"
      ],
      "execution_count": 577,
      "outputs": [
        {
          "output_type": "stream",
          "text": [
            "Net Income - Non-Controlling int : 0.0735875669151986\n",
            "Graham Net-Net : 0.036916972571474804\n",
            "priceToFreeCashFlowsRatio : 0.02231648100016005\n",
            "Capital Expenditure : 0.018549048322659824\n",
            "Total liabilities : 0.017126570455003154\n"
          ],
          "name": "stdout"
        }
      ]
    },
    {
      "cell_type": "code",
      "metadata": {
        "id": "R1neY-dGjC8V",
        "colab": {
          "base_uri": "https://localhost:8080/"
        },
        "outputId": "f2b64893-fa9f-4cc3-a38c-197001cf6942"
      },
      "source": [
        "import xgboost as xgb\n",
        "from sklearn.metrics import mean_squared_error as MSE\n",
        "\n",
        "xg_dt = xgb.XGBClassifier(objective = 'binary:logistic', max_depth=10, n_estimators=20, seed=99)\n",
        "xg_dt.fit(X_train_dt, y_train_dt)\n",
        "preds = xg_dt.predict(X_test_dt)\n",
        "accuracy = float(np.sum(rf_pred==y_test_dt))/y_test_dt.shape[0]\n",
        "print(\"accuracy: %f\" % (accuracy))"
      ],
      "execution_count": 578,
      "outputs": [
        {
          "output_type": "stream",
          "text": [
            "accuracy: 0.729238\n"
          ],
          "name": "stdout"
        }
      ]
    },
    {
      "cell_type": "code",
      "metadata": {
        "id": "s9LO0qu5jFE1",
        "colab": {
          "base_uri": "https://localhost:8080/"
        },
        "outputId": "8f23b8f5-ce33-47ce-cc31-6f36dbf264b9"
      },
      "source": [
        "data_dmatrix = xgb.DMatrix(data=X,label=y) \n",
        "params={\"objective\":\"binary:logistic\",\"max_depth\":4}\n",
        "cv_results = xgb.cv(dtrain=data_dmatrix, params=params, nfold=4,num_boost_round=10, metrics=\"error\", as_pandas=True) \n",
        "print(\"Accuracy: %f\" %((1-cv_results[\"test-error-mean\"]).iloc[-1]))"
      ],
      "execution_count": 579,
      "outputs": [
        {
          "output_type": "stream",
          "text": [
            "Accuracy: 0.721767\n"
          ],
          "name": "stdout"
        }
      ]
    },
    {
      "cell_type": "code",
      "metadata": {
        "id": "MBzPnMXljG72",
        "colab": {
          "base_uri": "https://localhost:8080/"
        },
        "outputId": "c4cdd558-355d-4005-f153-b700741b04c6"
      },
      "source": [
        "from sklearn.model_selection import cross_val_score\n",
        "from sklearn.tree import DecisionTreeRegressor\n",
        "\n",
        "reg = DecisionTreeRegressor(max_depth=4, min_samples_leaf=0.14, random_state=99)\n",
        "DecisionTreeRegressor()"
      ],
      "execution_count": 580,
      "outputs": [
        {
          "output_type": "execute_result",
          "data": {
            "text/plain": [
              "DecisionTreeRegressor(ccp_alpha=0.0, criterion='mse', max_depth=None,\n",
              "                      max_features=None, max_leaf_nodes=None,\n",
              "                      min_impurity_decrease=0.0, min_impurity_split=None,\n",
              "                      min_samples_leaf=1, min_samples_split=2,\n",
              "                      min_weight_fraction_leaf=0.0, presort='deprecated',\n",
              "                      random_state=None, splitter='best')"
            ]
          },
          "metadata": {
            "tags": []
          },
          "execution_count": 580
        }
      ]
    },
    {
      "cell_type": "code",
      "metadata": {
        "id": "6I3lpkmejJY-"
      },
      "source": [
        "RMSE_CV = - cross_val_score(reg, X_train_dt, y_train_dt, scoring='neg_root_mean_squared_error', cv= 10)\n",
        "reg.fit(X_train_dt, y_train_dt)\n",
        "y_pred_test = reg.predict(X_test_dt)"
      ],
      "execution_count": 581,
      "outputs": []
    },
    {
      "cell_type": "code",
      "metadata": {
        "id": "WEAAmNEsjLu2",
        "colab": {
          "base_uri": "https://localhost:8080/"
        },
        "outputId": "e2decf2f-e42f-4f67-a542-d1e3a42828b9"
      },
      "source": [
        "#  RMSE for CV\n",
        "print('CV RMSE: {:.2f}'.format(RMSE_CV.mean()))\n",
        "\n",
        "\n",
        "# Test RMSE\n",
        "print('Test RMSE: {:.2f}'.format(MSE(y_test_dt, y_pred_test, squared=False)))"
      ],
      "execution_count": 582,
      "outputs": [
        {
          "output_type": "stream",
          "text": [
            "CV RMSE: 0.44\n",
            "Test RMSE: 0.43\n"
          ],
          "name": "stdout"
        }
      ]
    },
    {
      "cell_type": "code",
      "metadata": {
        "id": "nlYTHXhjjNTV",
        "colab": {
          "base_uri": "https://localhost:8080/"
        },
        "outputId": "461542a2-430a-4c3b-c71c-2772bd36c126"
      },
      "source": [
        "class_dmatrix = xgb.DMatrix(data=X,label=y)\n",
        "params={\"objective\":\"reg:squarederror\",\"max_depth\":4, \"alpha\":1}\n",
        "cv_results = xgb.cv(dtrain=class_dmatrix, params=params,nfold=4,num_boost_round=10,metrics=\"rmse\",as_pandas=True,seed=99)\n",
        "cv_results[\"test-rmse-mean\"].tail(1).values[0]"
      ],
      "execution_count": 583,
      "outputs": [
        {
          "output_type": "execute_result",
          "data": {
            "text/plain": [
              "0.42476925"
            ]
          },
          "metadata": {
            "tags": []
          },
          "execution_count": 583
        }
      ]
    }
  ]
}